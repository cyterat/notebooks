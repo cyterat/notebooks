{
 "cells": [
  {
   "cell_type": "markdown",
   "id": "20cd487e-5b05-4487-82f0-172679fee968",
   "metadata": {},
   "source": [
    "<span style=\"color:#333333; font-size:24px; font-weight:bold\"> Compiled by <a href=https://github.com/cyterat style=\"color:#00b2b7;\">cyterat</a></span>"
   ]
  },
  {
   "cell_type": "markdown",
   "id": "5fde3621-9733-4a64-b8c4-be6ad6a9f9db",
   "metadata": {},
   "source": [
    "# Practical considerations:\n",
    "\n",
    "- __Appropriate sample size__: varies by test, but generally larger is better.\n",
    "\n",
    "- __Data quality__: minimal measurement errors and no missing data unless appropriately handled.\n",
    "\n",
    "- __Adherence to test assumptions__: normality, homogeneity of variances.\n",
    "\n",
    "- __Sampling__: Random sampling from the population of interest.\n",
    "\n",
    "- __Level of measurement__: Appropriate level of measurement for the chosen test, e.g. nominal, ordinal, interval, or ratio ."
   ]
  },
  {
   "cell_type": "markdown",
   "id": "d64c3dc0-6866-41a7-9097-48f1eaa0371e",
   "metadata": {},
   "source": [
    "# 1. T-Test (Independent and Paired)\n",
    "    Requirements:\n",
    "       - Continuous dependent variable\n",
    "       - Independent variable with two categories (for independent t-test)\n",
    "       - Normally distributed data in each group\n",
    "       - Homogeneity of variances (for independent t-test)\n",
    "       - Random sampling\n",
    "       - For paired t-test: matched pairs of observations\n",
    "\n",
    "__Use case__: Comparing the effectiveness of two different reconnaissance strategies."
   ]
  },
  {
   "cell_type": "code",
   "execution_count": 1,
   "id": "d082a7a6-088b-4a54-8061-82788cf5f47c",
   "metadata": {},
   "outputs": [
    {
     "name": "stdout",
     "output_type": "stream",
     "text": [
      "Independent t-test: t-statistic = 2.2185657299942867, p-value = 0.046558358187157776\n",
      "Paired t-test: t-statistic = -18.622566955175646, p-value = 1.5470608732321173e-06\n"
     ]
    }
   ],
   "source": [
    "import scipy.stats as stats\n",
    "import numpy as np\n",
    "\n",
    "strategy_a = np.array([15, 12, 18, 20, 14, 16, 19])  # targets identified per mission\n",
    "strategy_b = np.array([10, 14, 12, 15, 13, 11, 17])\n",
    "\n",
    "t_stat, p_value = stats.ttest_ind(strategy_a, strategy_b)\n",
    "print(f\"Independent t-test: t-statistic = {t_stat}, p-value = {p_value}\")\n",
    "\n",
    "# For paired test (same units before and after training)\n",
    "before_training = np.array([10, 12, 8, 15, 11, 14, 13])\n",
    "after_training = np.array([15, 18, 12, 20, 16, 19, 17])\n",
    "\n",
    "t_stat, p_value = stats.ttest_rel(before_training, after_training)\n",
    "print(f\"Paired t-test: t-statistic = {t_stat}, p-value = {p_value}\")"
   ]
  },
  {
   "cell_type": "markdown",
   "id": "e9647b74-b16f-4e24-9a62-456a28ef663f",
   "metadata": {},
   "source": [
    "# 2. ANOVA (Analysis of Variance)\n",
    "\n",
    "    Requirements:\n",
    "       - Continuous dependent variable\n",
    "       - Categorical independent variable with two or more groups\n",
    "       - Independence of observations\n",
    "       - Normal distribution of residuals\n",
    "       - Homogeneity of variances across groups\n",
    "       - Random sampling\n",
    "\n",
    "__Use case__: Comparing performance of multiple units in a field exercise."
   ]
  },
  {
   "cell_type": "code",
   "execution_count": 2,
   "id": "d949aa6b-2976-461d-a5c5-c0c91ab61bc2",
   "metadata": {},
   "outputs": [
    {
     "name": "stdout",
     "output_type": "stream",
     "text": [
      "One-way ANOVA: F-statistic = 39.303703703703746, p-value = 5.3964139070098445e-06\n",
      "              sum_sq    df          F    PR(>F)\n",
      "C(unit)   353.733333   2.0  39.303704  0.000005\n",
      "Residual   54.000000  12.0        NaN       NaN\n"
     ]
    }
   ],
   "source": [
    "import scipy.stats as stats\n",
    "import statsmodels.api as sm\n",
    "from statsmodels.formula.api import ols\n",
    "import pandas as pd\n",
    "\n",
    "unit_a = [85, 88, 90, 87, 92]\n",
    "unit_b = [79, 82, 81, 80, 84]\n",
    "unit_c = [91, 94, 93, 92, 95]\n",
    "\n",
    "f_stat, p_value = stats.f_oneway(unit_a, unit_b, unit_c)\n",
    "print(f\"One-way ANOVA: F-statistic = {f_stat}, p-value = {p_value}\")\n",
    "\n",
    "# Using statsmodels for more detailed output\n",
    "data = pd.DataFrame({\n",
    "    'performance': unit_a + unit_b + unit_c,\n",
    "    'unit': ['A']*5 + ['B']*5 + ['C']*5\n",
    "})\n",
    "model = ols('performance ~ C(unit)', data=data).fit()\n",
    "anova_table = sm.stats.anova_lm(model, typ=2)\n",
    "print(anova_table)"
   ]
  },
  {
   "cell_type": "markdown",
   "id": "dc64188f-bf37-427f-9a1e-8d8622f5d4a9",
   "metadata": {},
   "source": [
    "# 3. Chi-Square Test of Independence\n",
    "\n",
    "    Requirements:\n",
    "       - Categorical variables\n",
    "       - Expected frequencies in each cell should be at least 5\n",
    "       - Independence of observations\n",
    "       - Random sampling\n",
    "\n",
    "__Use case__: Analyzing the relationship between types of security incidents and locations."
   ]
  },
  {
   "cell_type": "code",
   "execution_count": 3,
   "id": "1c1d5eea-a3f6-44a2-a04b-21f88932110d",
   "metadata": {},
   "outputs": [
    {
     "name": "stdout",
     "output_type": "stream",
     "text": [
      "Chi-square statistic = 2.205104669887279, p-value = 0.6980948266695272\n"
     ]
    }
   ],
   "source": [
    "import scipy.stats as stats\n",
    "import numpy as np\n",
    "\n",
    "# Contingency table: rows are incident types, columns are locations\n",
    "contingency_table = np.array([\n",
    "    [10, 5, 8],   # Type A incidents\n",
    "    [15, 12, 7],  # Type B incidents\n",
    "    [20, 15, 10]  # Type C incidents\n",
    "])\n",
    "\n",
    "chi2, p_value, dof, expected = stats.chi2_contingency(contingency_table)\n",
    "print(f\"Chi-square statistic = {chi2}, p-value = {p_value}\")"
   ]
  },
  {
   "cell_type": "markdown",
   "id": "a7a0c15f-79de-42b9-a29b-8a7570bd0b6e",
   "metadata": {},
   "source": [
    "# 4. Kolmogorov-Smirnov Test\n",
    "    \n",
    "    Requirements:\n",
    "       - Continuous data\n",
    "       - For two-sample test: independent samples\n",
    "       - For one-sample test: fully specified theoretical distribution\n",
    "\n",
    "__Use case__: Comparing the distribution of enemy movement patterns to a theoretical distribution."
   ]
  },
  {
   "cell_type": "code",
   "execution_count": 4,
   "id": "a3ba3d47-dd44-4900-9ee5-0c966580b331",
   "metadata": {},
   "outputs": [
    {
     "name": "stdout",
     "output_type": "stream",
     "text": [
      "KS test statistic = 0.10318376480352165, p-value = 0.22162534200209028\n"
     ]
    }
   ],
   "source": [
    "import scipy.stats as stats\n",
    "import numpy as np\n",
    "\n",
    "observed_movements = np.random.normal(loc=50, scale=10, size=100)\n",
    "theoretical_distribution = stats.norm(loc=50, scale=10)\n",
    "\n",
    "ks_statistic, p_value = stats.kstest(observed_movements, theoretical_distribution.cdf)\n",
    "print(f\"KS test statistic = {ks_statistic}, p-value = {p_value}\")"
   ]
  },
  {
   "cell_type": "markdown",
   "id": "2b789c9c-1f6a-4c3a-998d-2ab03220f0ba",
   "metadata": {},
   "source": [
    "# 5. Mann-Whitney U Test\n",
    "\n",
    "    Requirements:\n",
    "       - Ordinal or continuous dependent variable\n",
    "       - Categorical independent variable with two groups\n",
    "       - Independence of observations\n",
    "       - Similar shape of distributions in both groups (if comparing medians)\n",
    "\n",
    "__Use case__: Comparing effectiveness of two different camouflage techniques."
   ]
  },
  {
   "cell_type": "code",
   "execution_count": 5,
   "id": "39a45b0b-8f2f-4fab-a625-de5ba2fe7d76",
   "metadata": {},
   "outputs": [
    {
     "name": "stdout",
     "output_type": "stream",
     "text": [
      "Mann-Whitney U statistic = 4.0, p-value = 0.010432890182919985\n"
     ]
    }
   ],
   "source": [
    "import scipy.stats as stats\n",
    "\n",
    "technique_a = [12, 15, 10, 18, 20, 14, 16]  # detection time in seconds\n",
    "technique_b = [18, 22, 17, 25, 23, 20, 21]\n",
    "\n",
    "statistic, p_value = stats.mannwhitneyu(technique_a, technique_b)\n",
    "print(f\"Mann-Whitney U statistic = {statistic}, p-value = {p_value}\")"
   ]
  },
  {
   "cell_type": "markdown",
   "id": "5460ec74-7446-45ae-9004-3667fd2d83be",
   "metadata": {},
   "source": [
    "# 6. Wilcoxon Signed-Rank Test\n",
    "    \n",
    "    Requirements:\n",
    "       - Paired observations\n",
    "       - Ordinal or continuous dependent variable\n",
    "       - Symmetrical distribution of differences between pairs\n",
    "\n",
    "__Use case__: Comparing mission success rates before and after a new tactical training."
   ]
  },
  {
   "cell_type": "code",
   "execution_count": 6,
   "id": "ec97f9b2-a17c-4799-a084-3f573b1552a6",
   "metadata": {},
   "outputs": [
    {
     "name": "stdout",
     "output_type": "stream",
     "text": [
      "Wilcoxon signed-rank test statistic = 0.0, p-value = 0.015625\n"
     ]
    }
   ],
   "source": [
    "import scipy.stats as stats\n",
    "\n",
    "before_training = [0.7, 0.65, 0.8, 0.75, 0.72, 0.68, 0.77]\n",
    "after_training = [0.8, 0.75, 0.85, 0.82, 0.79, 0.76, 0.83]\n",
    "\n",
    "statistic, p_value = stats.wilcoxon(before_training, after_training)\n",
    "print(f\"Wilcoxon signed-rank test statistic = {statistic}, p-value = {p_value}\")"
   ]
  },
  {
   "cell_type": "markdown",
   "id": "b920c573-d777-430e-bdb3-a0a792d163bd",
   "metadata": {},
   "source": [
    "# 7. Shapiro-Wilk Test\n",
    "    \n",
    "    Requirements:\n",
    "       - Continuous data\n",
    "       - Sample size between 3 and 5000\n",
    "\n",
    "__Use case__: Testing if the distribution of mission durations is normal."
   ]
  },
  {
   "cell_type": "code",
   "execution_count": 7,
   "id": "c087eb0a-c029-485f-9a76-f08c2aee827a",
   "metadata": {},
   "outputs": [
    {
     "name": "stdout",
     "output_type": "stream",
     "text": [
      "Shapiro-Wilk test statistic = 0.9689416723658181, p-value = 0.8808628454457482\n"
     ]
    }
   ],
   "source": [
    "import scipy.stats as stats\n",
    "\n",
    "mission_durations = [120, 135, 110, 140, 125, 130, 115, 145, 120, 135]\n",
    "\n",
    "statistic, p_value = stats.shapiro(mission_durations)\n",
    "print(f\"Shapiro-Wilk test statistic = {statistic}, p-value = {p_value}\")"
   ]
  },
  {
   "cell_type": "markdown",
   "id": "16f70b1b-adce-46b8-8049-70efc6360f8b",
   "metadata": {},
   "source": [
    "# 8. F-Test\n",
    "    \n",
    "    Requirements:\n",
    "       - Continuous dependent variable\n",
    "       - Normally distributed data in each group\n",
    "       - Independent observations\n",
    "\n",
    "__Use case__: Comparing the variability in accuracy between two different weapon systems."
   ]
  },
  {
   "cell_type": "code",
   "execution_count": 8,
   "id": "5ac906c8-0237-4f6f-86f4-bf0c9064099c",
   "metadata": {},
   "outputs": [
    {
     "name": "stdout",
     "output_type": "stream",
     "text": [
      "F-test statistic = 0.999999999999996, p-value = 0.5000000000000021\n"
     ]
    }
   ],
   "source": [
    "import scipy.stats as stats\n",
    "import numpy as np\n",
    "\n",
    "system_a = np.array([0.95, 0.92, 0.98, 0.94, 0.96, 0.93, 0.97])\n",
    "system_b = np.array([0.88, 0.91, 0.85, 0.89, 0.87, 0.90, 0.86])\n",
    "\n",
    "f_statistic = np.var(system_a, ddof=1) / np.var(system_b, ddof=1)\n",
    "df1, df2 = len(system_a) - 1, len(system_b) - 1\n",
    "p_value = 1 - stats.f.cdf(f_statistic, df1, df2)\n",
    "\n",
    "print(f\"F-test statistic = {f_statistic}, p-value = {p_value}\")"
   ]
  },
  {
   "cell_type": "markdown",
   "id": "eb2e860e-c80b-4786-beef-feaa5c8a6527",
   "metadata": {},
   "source": [
    "# 9. Z-Test\n",
    "    \n",
    "    Requirements:\n",
    "       - Large sample size (n > 30)\n",
    "       - Known population standard deviation\n",
    "       - Normally distributed population (or large sample size)\n",
    "\n",
    "__Use case__: Testing if the proportion of successful missions meets a target"
   ]
  },
  {
   "cell_type": "code",
   "execution_count": 9,
   "id": "45b031bf-65d4-4e50-b2ed-314e4db2496d",
   "metadata": {},
   "outputs": [
    {
     "name": "stdout",
     "output_type": "stream",
     "text": [
      "Z-test statistic = -1.0050378152592119, p-value = 0.31487864133641996\n"
     ]
    }
   ],
   "source": [
    "import statsmodels.stats.proportion as proportions\n",
    "\n",
    "successes = 45\n",
    "total_missions = 100\n",
    "target_proportion = 0.5\n",
    "\n",
    "z_statistic, p_value = proportions.proportions_ztest(count=successes, nobs=total_missions, value=target_proportion)\n",
    "print(f\"Z-test statistic = {z_statistic}, p-value = {p_value}\")"
   ]
  },
  {
   "cell_type": "markdown",
   "id": "fc8302da-55cf-4c95-b5de-f495899f3f00",
   "metadata": {},
   "source": [
    "# 10. Kruskal-Wallis H-Test\n",
    "    \n",
    "    Requirements:\n",
    "        - Ordinal or continuous dependent variable\n",
    "        - Categorical independent variable with two or more groups\n",
    "        - Independence of observations\n",
    "        - Similar shape of distributions across groups\n",
    "\n",
    "__Use case__: Comparing effectiveness of multiple communication protocols."
   ]
  },
  {
   "cell_type": "code",
   "execution_count": 10,
   "id": "a1541d33-663f-4364-a118-502723363256",
   "metadata": {},
   "outputs": [
    {
     "name": "stdout",
     "output_type": "stream",
     "text": [
      "Kruskal-Wallis H-test statistic = 11.816100178890885, p-value = 0.0027174805686494947\n"
     ]
    }
   ],
   "source": [
    "import scipy.stats as stats\n",
    "\n",
    "protocol_a = [85, 88, 90, 87, 92]\n",
    "protocol_b = [79, 82, 81, 80, 84]\n",
    "protocol_c = [91, 94, 93, 92, 95]\n",
    "\n",
    "h_statistic, p_value = stats.kruskal(protocol_a, protocol_b, protocol_c)\n",
    "print(f\"Kruskal-Wallis H-test statistic = {h_statistic}, p-value = {p_value}\")"
   ]
  },
  {
   "cell_type": "markdown",
   "id": "16cefc7f-cc1a-4917-9374-0f13767d682b",
   "metadata": {},
   "source": [
    "# 11. Pearson Correlation Test\n",
    "    \n",
    "    Requirements:\n",
    "        - Two continuous variables\n",
    "        - Linear relationship between variables\n",
    "        - No significant outliers\n",
    "        - Normally distributed variables (for inferential statistics)\n",
    "\n",
    "__Use case__: Testing for linear correlation between patrol frequency and incident occurrences."
   ]
  },
  {
   "cell_type": "code",
   "execution_count": 11,
   "id": "3e09f87a-a5d7-497d-b321-6082c66138ad",
   "metadata": {},
   "outputs": [
    {
     "name": "stdout",
     "output_type": "stream",
     "text": [
      "Pearson correlation coefficient = -0.9922858194799438, p-value = 9.997264988456582e-06\n"
     ]
    }
   ],
   "source": [
    "import scipy.stats as stats\n",
    "\n",
    "patrol_frequency = [2, 3, 4, 5, 6, 7, 8]\n",
    "incident_count = [10, 8, 7, 6, 5, 4, 3]\n",
    "\n",
    "correlation, p_value = stats.pearsonr(patrol_frequency, incident_count)\n",
    "print(f\"Pearson correlation coefficient = {correlation}, p-value = {p_value}\")"
   ]
  },
  {
   "cell_type": "markdown",
   "id": "1cb383d6-52a3-42be-994d-af3d5d71f23e",
   "metadata": {},
   "source": [
    "# 12. Spearman Rank Correlation\n",
    "    \n",
    "    Requirements:\n",
    "        - Two ordinal or continuous variables\n",
    "        - Monotonic relationship between variables\n",
    "\n",
    "__Use case__: Testing for monotonic relationship between training hours and mission success rates."
   ]
  },
  {
   "cell_type": "code",
   "execution_count": 12,
   "id": "ee7ee70e-2ac4-4503-bdb0-b1855c8dd735",
   "metadata": {},
   "outputs": [
    {
     "name": "stdout",
     "output_type": "stream",
     "text": [
      "Spearman rank correlation coefficient = 1.0, p-value = 0.0\n"
     ]
    }
   ],
   "source": [
    "import scipy.stats as stats\n",
    "\n",
    "training_hours = [20, 25, 30, 35, 40, 45, 50]\n",
    "success_rates = [0.7, 0.75, 0.8, 0.82, 0.85, 0.88, 0.9]\n",
    "\n",
    "correlation, p_value = stats.spearmanr(training_hours, success_rates)\n",
    "print(f\"Spearman rank correlation coefficient = {correlation}, p-value = {p_value}\")"
   ]
  },
  {
   "cell_type": "markdown",
   "id": "0610dcc5-16d8-492d-b882-6e2963d33fa8",
   "metadata": {},
   "source": [
    "# 13. Granger Causality Test\n",
    "    \n",
    "    Requirements:\n",
    "        - Time series data\n",
    "        - Stationary time series\n",
    "        - Sufficient number of observations (typically > 30)\n",
    "\n",
    "__Use case__: Testing if changes in enemy movement patterns can predict future engagement frequencies."
   ]
  },
  {
   "cell_type": "code",
   "execution_count": 13,
   "id": "ec4eb11f-3acf-431c-9f82-935660ad8c61",
   "metadata": {},
   "outputs": [
    {
     "name": "stdout",
     "output_type": "stream",
     "text": [
      "\n",
      "Granger Causality\n",
      "number of lags (no zero) 1\n",
      "ssr based F test:         F=0.7730  , p=0.3815  , df_denom=96, df_num=1\n",
      "ssr based chi2 test:   chi2=0.7971  , p=0.3720  , df=1\n",
      "likelihood ratio test: chi2=0.7939  , p=0.3729  , df=1\n",
      "parameter F test:         F=0.7730  , p=0.3815  , df_denom=96, df_num=1\n",
      "\n",
      "Granger Causality\n",
      "number of lags (no zero) 2\n",
      "ssr based F test:         F=4.1012  , p=0.0196  , df_denom=93, df_num=2\n",
      "ssr based chi2 test:   chi2=8.6434  , p=0.0133  , df=2\n",
      "likelihood ratio test: chi2=8.2833  , p=0.0159  , df=2\n",
      "parameter F test:         F=4.1012  , p=0.0196  , df_denom=93, df_num=2\n"
     ]
    }
   ],
   "source": [
    "import numpy as np\n",
    "import pandas as pd\n",
    "from statsmodels.tsa.stattools import grangercausalitytests\n",
    "\n",
    "np.random.seed(1)\n",
    "enemy_movements = np.random.normal(0, 1, 100)\n",
    "engagements = np.roll(enemy_movements, 1) + np.random.normal(0, 0.5, 100)\n",
    "\n",
    "data = pd.DataFrame({'movements': enemy_movements, 'engagements': engagements})\n",
    "granger_test = grangercausalitytests(data[['movements', 'engagements']], maxlag=2)"
   ]
  },
  {
   "cell_type": "markdown",
   "id": "78766877-4aea-4393-a19e-d2c2fa36f54c",
   "metadata": {},
   "source": [
    "# 14. Durbin-Watson Test\n",
    "    \n",
    "    Requirements:\n",
    "        - Residuals from a linear regression model\n",
    "        - Time series or ordered data\n",
    "\n",
    "__Use case__: Testing for autocorrelation in the residuals of a regression analysis of factors influencing mission success."
   ]
  },
  {
   "cell_type": "code",
   "execution_count": 14,
   "id": "1de01f0a-69c2-40fd-a3be-d23af2658541",
   "metadata": {},
   "outputs": [
    {
     "name": "stdout",
     "output_type": "stream",
     "text": [
      "Durbin-Watson statistic = 2.203879412891881\n"
     ]
    }
   ],
   "source": [
    "import numpy as np\n",
    "from statsmodels.stats.stattools import durbin_watson\n",
    "\n",
    "# Assuming you've performed a regression and have the residuals\n",
    "residuals = np.random.normal(0, 1, 100)  # Replace with actual residuals\n",
    "\n",
    "dw_statistic = durbin_watson(residuals)\n",
    "print(f\"Durbin-Watson statistic = {dw_statistic}\")"
   ]
  },
  {
   "cell_type": "markdown",
   "id": "09ed7e8b-3cbd-431a-8316-8d120de22a57",
   "metadata": {},
   "source": [
    "# 15. Augmented Dickey-Fuller Test\n",
    "    \n",
    "    Requirements:\n",
    "        - Time series data\n",
    "        - Sufficient number of observations (typically > 50)\n",
    "\n",
    "__Use case__: Testing for stationarity in a time series of daily security incident counts."
   ]
  },
  {
   "cell_type": "code",
   "execution_count": 15,
   "id": "bac6e042-f594-49c4-948f-6dbf87d421e8",
   "metadata": {},
   "outputs": [
    {
     "name": "stdout",
     "output_type": "stream",
     "text": [
      "ADF Statistic: -1.5626438117096204\n",
      "p-value: 0.502326582629831\n"
     ]
    }
   ],
   "source": [
    "from statsmodels.tsa.stattools import adfuller\n",
    "import numpy as np\n",
    "\n",
    "# Generate a non-stationary time series\n",
    "incident_counts = np.cumsum(np.random.normal(0, 1, 100)) + 50\n",
    "\n",
    "result = adfuller(incident_counts)\n",
    "print(f'ADF Statistic: {result[0]}')\n",
    "print(f'p-value: {result[1]}')"
   ]
  },
  {
   "cell_type": "code",
   "execution_count": null,
   "id": "1174e393-08c9-4323-afa6-860e283d9329",
   "metadata": {},
   "outputs": [],
   "source": []
  }
 ],
 "metadata": {
  "kernelspec": {
   "display_name": "Python 3 (ipykernel)",
   "language": "python",
   "name": "python3"
  },
  "language_info": {
   "codemirror_mode": {
    "name": "ipython",
    "version": 3
   },
   "file_extension": ".py",
   "mimetype": "text/x-python",
   "name": "python",
   "nbconvert_exporter": "python",
   "pygments_lexer": "ipython3",
   "version": "3.12.3"
  }
 },
 "nbformat": 4,
 "nbformat_minor": 5
}
