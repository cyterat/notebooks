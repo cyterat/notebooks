{
 "cells": [
  {
   "cell_type": "markdown",
   "id": "6566e16d-0cb6-44ea-8acf-815882f13c5e",
   "metadata": {},
   "source": [
    "<span style=\"color:#333333; font-size:24px; font-weight:bold\"> Compiled by <a href=https://github.com/cyterat style=\"color:#00b2b7;\">cyterat</a></span>"
   ]
  },
  {
   "cell_type": "markdown",
   "id": "b48f0efb-5303-4442-888b-afb216dd9c55",
   "metadata": {},
   "source": [
    "# 1. Estimating a Proportion (e.g., conversion rate, click rate)\n",
    "__Use case:__ Estimate the proportion of users who click a button, convert, churn, etc. Determine how many users to survey to estimate satisfaction rate within a margin of error.\n",
    "\n",
    "__Technique:__ Use the normal approximation for binomial proportion.\n",
    "\n",
    "__Formula:__\n",
    "\n",
    "## $n = \\frac{{Z^2 \\cdot p \\cdot (1 - p)}}{e^2}$\n",
    "\n",
    "__Where:__\n",
    "\n",
    "- 𝑛 = required sample size\n",
    "\n",
    "- 𝑍 = Z-score for desired confidence level (e.g., 1.96 for 95%)\n",
    "\n",
    "- 𝑝 = estimated proportion (use 0.5 if unknown for most conservative estimate)\n",
    "\n",
    "- 𝑒 = desired margin of error\n",
    "\n"
   ]
  },
  {
   "cell_type": "code",
   "execution_count": null,
   "id": "a1dab391-c170-42d3-909e-0497e6ded39f",
   "metadata": {},
   "outputs": [],
   "source": [
    "from scipy.stats import norm\n",
    "\n",
    "def sample_size_proportion(p=0.5, margin_error=0.05, confidence_level=0.95):\n",
    "    z = norm.ppf(1 - (1 - confidence_level) / 2)\n",
    "    return int((z**2 * p * (1 - p)) / margin_error**2)"
   ]
  },
  {
   "cell_type": "markdown",
   "id": "4d40f664-728c-486d-9f88-b6275271d5d5",
   "metadata": {},
   "source": [
    "# 2. Estimating a Mean (e.g., time on site, revenue)\n",
    "__Use case:__ Estimate average user session duration, revenue, or retention time with desired precision.\n",
    "\n",
    "__Technique:__ Use the normal approximation of the mean.\n",
    "\n",
    "__Formula:__\n",
    "\n",
    "## $n = \\left( \\frac{{Z \\cdot \\sigma}}{e} \\right)^2$\n",
    "\n",
    "__Where:__\n",
    "\n",
    "- 𝜎 = estimated standard deviation (from past data or pilot)\n",
    "\n",
    "- 𝑒 = margin of error\n"
   ]
  },
  {
   "cell_type": "code",
   "execution_count": null,
   "id": "e19e2ac7-9b41-45c7-85eb-74adbe175d14",
   "metadata": {},
   "outputs": [],
   "source": [
    "def sample_size_mean(std_dev, margin_error=1.0, confidence_level=0.95):\n",
    "    z = norm.ppf(1 - (1 - confidence_level) / 2)\n",
    "    return int((z * std_dev / margin_error) ** 2)"
   ]
  },
  {
   "cell_type": "markdown",
   "id": "8198d37a-3aaf-4900-81e5-d7eb8871f09c",
   "metadata": {},
   "source": [
    "# 3. A/B Testing – Difference in Proportions (Binary Outcomes)\n",
    "__Use case:__ Detect a difference in conversion rates between two variants. Measure impact of a feature on click-through or signup rate.\n",
    "\n",
    "__Technique:__ Two-sample Z-test for proportions, assuming equal sample size per group.\n",
    "\n",
    "__Formula:__\n",
    "\n",
    "## $n = \\frac{2 \\cdot (Z_{1-\\alpha/2} + Z_{1-\\beta})^2 \\cdot p(1 - p)}{d^2}$\n",
    "\n",
    "__Where:__\n",
    "\n",
    "- 𝑝 = pooled baseline rate (or average of p₁ and p₂)\n",
    "\n",
    "- 𝑑 = minimum detectable effect (𝑝₂−𝑝₁)\n",
    "\n",
    "- α = Type I error (e.g., 0.05)\n",
    "\n",
    "- β = Type II error (e.g., 0.2 for 80% power)\n"
   ]
  },
  {
   "cell_type": "code",
   "execution_count": null,
   "id": "1a6c3d8f-8932-4702-8d19-be2b36ee799d",
   "metadata": {},
   "outputs": [],
   "source": [
    "from statsmodels.stats.power import NormalIndPower\n",
    "\n",
    "def sample_size_ab_test(p1, p2, alpha=0.05, power=0.8):\n",
    "    effect_size = NormalIndPower()._effect_size_proportions(p1, p2)\n",
    "    analysis = NormalIndPower()\n",
    "    return int(analysis.solve_power(effect_size, power=power, alpha=alpha, alternative='two-sided'))\n"
   ]
  },
  {
   "cell_type": "markdown",
   "id": "964810fc-c243-4313-bddc-f33b3bb66717",
   "metadata": {},
   "source": [
    "# 4. A/B Testing – Difference in Means (e.g., revenue, time)\n",
    "__Use case:__ Detect difference in average purchase value, engagement time, or retention days.\n",
    "\n",
    "__Technique:__ Two-sample t-test for means (Welch’s t-test, unequal variance allowed).\n",
    "\n",
    "__Effect size definition (Cohen’s d):__\n",
    "\n",
    "## $d = \\frac{\\mu_1 - \\mu_2}{s_{\\text{pooled}}}$"
   ]
  },
  {
   "cell_type": "code",
   "execution_count": null,
   "id": "50837559-04cd-4555-8cb0-07cf6ebc26bf",
   "metadata": {},
   "outputs": [],
   "source": [
    "from statsmodels.stats.power import TTestIndPower\n",
    "\n",
    "def sample_size_diff_means(effect_size, alpha=0.05, power=0.8):\n",
    "    analysis = TTestIndPower()\n",
    "    return int(analysis.solve_power(effect_size=effect_size, power=power, alpha=alpha, alternative='two-sided'))"
   ]
  },
  {
   "cell_type": "markdown",
   "id": "7ed19338-2d27-43dd-adf4-7b599e7f644a",
   "metadata": {},
   "source": [
    "# 5. Finite Population Correction (Optional Adjustment)\n",
    "__Use case:__ Your population is relatively small (e.g., sampling from 10,000 users). You want more accurate estimates with reduced sample size.\n",
    "\n",
    "__Formula:__\n",
    "\n",
    "## $n_{\\text{adj}} = \\frac{n}{1 + \\left(\\frac{n - 1}{N}\\right)}$\n",
    "\n",
    "__Where:__ \n",
    "𝑁 = population size."
   ]
  },
  {
   "cell_type": "code",
   "execution_count": null,
   "id": "2355d7b7-bfa4-41a6-a25b-84c2818c2e07",
   "metadata": {},
   "outputs": [],
   "source": [
    "def finite_population_correction(n, population_size):\n",
    "    return int(n / (1 + (n - 1) / population_size))"
   ]
  }
 ],
 "metadata": {
  "kernelspec": {
   "display_name": "Python 3 (ipykernel)",
   "language": "python",
   "name": "python3"
  },
  "language_info": {
   "codemirror_mode": {
    "name": "ipython",
    "version": 3
   },
   "file_extension": ".py",
   "mimetype": "text/x-python",
   "name": "python",
   "nbconvert_exporter": "python",
   "pygments_lexer": "ipython3",
   "version": "3.12.3"
  }
 },
 "nbformat": 4,
 "nbformat_minor": 5
}
