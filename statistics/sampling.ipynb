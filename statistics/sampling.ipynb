{
 "cells": [
  {
   "cell_type": "markdown",
   "id": "60f3668c-3e63-4cc8-84ef-4feb8e1f87ec",
   "metadata": {},
   "source": [
    "<span style=\"color:#333333; font-size:24px; font-weight:bold\"> Compiled by <a href=https://github.com/cyterat style=\"color:#00b2b7;\">cyterat</a></span>"
   ]
  },
  {
   "cell_type": "markdown",
   "id": "c57346e9-f842-44a5-8429-7de1d7bd150a",
   "metadata": {},
   "source": [
    "# Practical considerations:\n",
    "\n",
    "- __Data Preparation__: Ensure your data is clean and properly formatted before sampling.\n",
    "\n",
    "- __Sample Size__: Determine an appropriate sample size based on statistical power calculations or practical constraints.\n",
    "\n",
    "- __Randomization__: Use numpy's random number generator for consistency and reproducibility.\n",
    "\n",
    "- __Documentation__: Always document your sampling method and parameters for reproducibility.\n",
    "\n",
    "- __Validation__: Check if your sample is representative of the population using descriptive statistics."
   ]
  },
  {
   "cell_type": "code",
   "execution_count": null,
   "id": "b4cf0dc3-5ff4-486c-9dfa-a882cfaf0376",
   "metadata": {},
   "outputs": [],
   "source": [
    "import numpy as np\n",
    "import pandas as pd"
   ]
  },
  {
   "cell_type": "markdown",
   "id": "bb3cd134-803a-4d4b-9224-b6b55688ae2d",
   "metadata": {},
   "source": [
    "# 1. Simple Random Sampling\n",
    "__Use case__: When you need an unbiased representation of the entire population."
   ]
  },
  {
   "cell_type": "code",
   "execution_count": null,
   "id": "065da19f-f130-45ec-96a0-e4deb6b486b1",
   "metadata": {},
   "outputs": [],
   "source": [
    "# Assuming you have a DataFrame 'data'\n",
    "sample_size = 100\n",
    "simple_random_sample = data.sample(n=sample_size, random_state=42)"
   ]
  },
  {
   "cell_type": "markdown",
   "id": "11b03169-6439-435c-b3a7-6254a79e8025",
   "metadata": {},
   "source": [
    "# 2. Stratified Sampling\n",
    "__Use case__: When you want to ensure representation from different subgroups in the population."
   ]
  },
  {
   "cell_type": "code",
   "execution_count": null,
   "id": "707d077f-f35a-4507-b29e-1831b4d2dd6b",
   "metadata": {},
   "outputs": [],
   "source": [
    "def stratified_sample(data, strata, size):\n",
    "    return data.groupby(strata).apply(lambda x: x.sample(min(len(x), size)))\n",
    "\n",
    "# Assuming 'data' is your DataFrame and 'group' is the column for stratification\n",
    "stratified_sample = stratified_sample(data, 'group', size=50)"
   ]
  },
  {
   "cell_type": "markdown",
   "id": "37b71400-ced9-417b-b0dc-875c7bab00b3",
   "metadata": {},
   "source": [
    "# 3. Cluster Sampling\n",
    "__Use case__: When the population is spread over a wide geographic area, and you can identify natural clusters."
   ]
  },
  {
   "cell_type": "code",
   "execution_count": null,
   "id": "6a476ffa-35f5-4b91-9139-eb3f9dfa820a",
   "metadata": {},
   "outputs": [],
   "source": [
    "def cluster_sample(data, cluster_col, n_clusters):\n",
    "    clusters = data[cluster_col].unique()\n",
    "    selected_clusters = np.random.choice(clusters, n_clusters, replace=False)\n",
    "    return data[data[cluster_col].isin(selected_clusters)]\n",
    "\n",
    "# Assuming 'data' is your DataFrame and 'region' is the cluster column\n",
    "cluster_sample = cluster_sample(data, 'region', n_clusters=5)"
   ]
  },
  {
   "cell_type": "markdown",
   "id": "2a23348d-b5c5-43c8-aa0a-347285ed93c9",
   "metadata": {},
   "source": [
    "# 4. Systematic Sampling\n",
    "__Use case__: When you have an ordered list and want to select items at regular intervals."
   ]
  },
  {
   "cell_type": "code",
   "execution_count": null,
   "id": "d525813c-3832-417a-9cc7-299c9cb3ddb0",
   "metadata": {},
   "outputs": [],
   "source": [
    "def systematic_sample(data, step):\n",
    "    return data.iloc[::step, :]\n",
    "\n",
    "# Assuming 'data' is your DataFrame\n",
    "systematic_sample = systematic_sample(data, step=10)"
   ]
  },
  {
   "cell_type": "markdown",
   "id": "40f3e0d4-a9dc-4042-8fed-cb1ab9a416f5",
   "metadata": {},
   "source": [
    "# 5. Convenience Sampling\n",
    "__Use case__: When you need to quickly collect data and representativeness is not crucial."
   ]
  },
  {
   "cell_type": "code",
   "execution_count": null,
   "id": "cde9eb39-4ab9-46a4-8acf-2e3060f5dcbc",
   "metadata": {},
   "outputs": [],
   "source": [
    "# In practice, this might involve selecting easily accessible data points\n",
    "# For simulation:\n",
    "convenience_sample = data.head(100)  # First 100 rows"
   ]
  },
  {
   "cell_type": "markdown",
   "id": "88b0e2fa-d4ce-40f6-81ef-6dbcc6fbfe10",
   "metadata": {},
   "source": [
    "# 6. Quota Sampling\n",
    "__Use case__: When you need to ensure specific proportions of different subgroups in your sample."
   ]
  },
  {
   "cell_type": "code",
   "execution_count": null,
   "id": "6fc5941d-311f-4ec5-bcf6-2990b92a6cdc",
   "metadata": {},
   "outputs": [],
   "source": [
    "def quota_sample(data, group_col, quotas):\n",
    "    sample = pd.DataFrame()\n",
    "    for group, quota in quotas.items():\n",
    "        group_data = data[data[group_col] == group]\n",
    "        sample = pd.concat([sample, group_data.sample(n=min(len(group_data), quota))])\n",
    "    return sample\n",
    "\n",
    "# Assuming 'data' is your DataFrame and 'category' is the group column\n",
    "quotas = {'A': 50, 'B': 30, 'C': 20}\n",
    "quota_sample = quota_sample(data, 'category', quotas)"
   ]
  },
  {
   "cell_type": "markdown",
   "id": "4ac6673e-4efb-4017-bb4c-f27fcad09954",
   "metadata": {},
   "source": [
    "# 7. Weighted Sampling\n",
    "__Use case__: When certain observations are more important and should have a higher chance of selection."
   ]
  },
  {
   "cell_type": "code",
   "execution_count": null,
   "id": "fde94803-aa69-441e-bf61-a207043a33f0",
   "metadata": {},
   "outputs": [],
   "source": [
    "def weighted_sample(data, weights, n):\n",
    "    return data.sample(n=n, weights=weights, replace=True)\n",
    "\n",
    "# Assuming 'data' is your DataFrame and 'importance' is a column of weights\n",
    "weighted_sample = weighted_sample(data, weights=data['importance'], n=100)"
   ]
  },
  {
   "cell_type": "markdown",
   "id": "51b22ccd-7d82-4a4e-9a7d-a9991dc3cb71",
   "metadata": {},
   "source": [
    "# 8. Time-based Sampling\n",
    "__Use case__: When dealing with time series data and you want to sample based on time intervals."
   ]
  },
  {
   "cell_type": "code",
   "execution_count": null,
   "id": "e3240d62-613f-4378-b781-670462395bd4",
   "metadata": {},
   "outputs": [],
   "source": [
    "def time_based_sample(data, freq):\n",
    "    return data.resample(freq).first().dropna()\n",
    "\n",
    "# Assuming 'data' is a time-indexed DataFrame\n",
    "time_sample = time_based_sample(data, freq='1D')  # Daily sample"
   ]
  },
  {
   "cell_type": "markdown",
   "id": "955edbca-a584-4c25-8146-4bc80198e43c",
   "metadata": {},
   "source": [
    "# 9. Reservoir Sampling\n",
    "__Use case__: When you need to sample from a large or streaming dataset of unknown size."
   ]
  },
  {
   "cell_type": "code",
   "execution_count": null,
   "id": "d7f271f8-f6d1-4641-9718-8a66a3cc94d5",
   "metadata": {},
   "outputs": [],
   "source": [
    "def reservoir_sample(iterator, k):\n",
    "    reservoir = []\n",
    "    for i, item in enumerate(iterator):\n",
    "        if i < k:\n",
    "            reservoir.append(item)\n",
    "        else:\n",
    "            j = np.random.randint(0, i+1)\n",
    "            if j < k:\n",
    "                reservoir[j] = item\n",
    "    return reservoir\n",
    "\n",
    "# Usage example with a large list\n",
    "large_dataset = range(1000000)\n",
    "reservoir_sample = reservoir_sample(large_dataset, 100)"
   ]
  }
 ],
 "metadata": {
  "kernelspec": {
   "display_name": "Python 3 (ipykernel)",
   "language": "python",
   "name": "python3"
  },
  "language_info": {
   "codemirror_mode": {
    "name": "ipython",
    "version": 3
   },
   "file_extension": ".py",
   "mimetype": "text/x-python",
   "name": "python",
   "nbconvert_exporter": "python",
   "pygments_lexer": "ipython3",
   "version": "3.12.3"
  }
 },
 "nbformat": 4,
 "nbformat_minor": 5
}
