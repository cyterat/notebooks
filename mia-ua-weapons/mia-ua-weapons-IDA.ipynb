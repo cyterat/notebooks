{
 "cells": [
  {
   "cell_type": "markdown",
   "id": "cd99f833",
   "metadata": {},
   "source": [
    "# MIA (*Ministry of Internal Affairs*) of Ukraine dataset of stolen / lost weapons (including weapon parts)\n",
    "***"
   ]
  },
  {
   "cell_type": "markdown",
   "id": "4d61f05f",
   "metadata": {},
   "source": [
    "## Main purposes of IDA:\n",
    "1. Inspect dataset structure.\n",
    "2. Decide which variables may be useful in further analysis / visualiztion.\n",
    "3. Proceed with data cleaning and feature engineering.\n",
    "4. Export data into a suitable format for its further use during EDA.\n",
    "***"
   ]
  },
  {
   "cell_type": "markdown",
   "id": "a02394cf-1988-44a4-9962-65682c02f4e8",
   "metadata": {
    "tags": []
   },
   "source": [
    "## Libraries"
   ]
  },
  {
   "cell_type": "code",
   "execution_count": 1,
   "id": "f1b92237",
   "metadata": {
    "code_folding": [
     0
    ],
    "tags": []
   },
   "outputs": [],
   "source": [
    "# Basic libraries\n",
    "import pandas as pd\n",
    "import numpy as np\n",
    "#pyarrow module is mandatory for parquet export"
   ]
  },
  {
   "cell_type": "code",
   "execution_count": 2,
   "id": "ff5cb22b-6037-400c-a69d-bde14b680443",
   "metadata": {},
   "outputs": [],
   "source": [
    "# Viz\n",
    "import matplotlib.pyplot as plt"
   ]
  },
  {
   "cell_type": "code",
   "execution_count": 3,
   "id": "1ebaad0c",
   "metadata": {
    "code_folding": [
     0
    ]
   },
   "outputs": [],
   "source": [
    "# Pandas display configurations\n",
    "pd.options.display.max_rows = None\n",
    "pd.options.display.max_columns = None\n",
    "pd.options.display.max_colwidth = None"
   ]
  },
  {
   "cell_type": "markdown",
   "id": "eda972e6",
   "metadata": {
    "tags": []
   },
   "source": [
    "## Importing dataset"
   ]
  },
  {
   "cell_type": "code",
   "execution_count": 4,
   "id": "4befa8cf",
   "metadata": {
    "code_folding": [
     0
    ]
   },
   "outputs": [],
   "source": [
    "# Flie object\n",
    "file = 'https://data.gov.ua/dataset/d0af9ba0-08b3-4bca-8508-02cffeaae8fd/resource/1fcab772-0b3c-4938-8f72-e60db343cbe5/download/weaponswanted.json'"
   ]
  },
  {
   "cell_type": "code",
   "execution_count": 5,
   "id": "ef1a2489",
   "metadata": {
    "code_folding": [
     0
    ],
    "scrolled": true
   },
   "outputs": [
    {
     "data": {
      "text/html": [
       "<div>\n",
       "<style scoped>\n",
       "    .dataframe tbody tr th:only-of-type {\n",
       "        vertical-align: middle;\n",
       "    }\n",
       "\n",
       "    .dataframe tbody tr th {\n",
       "        vertical-align: top;\n",
       "    }\n",
       "\n",
       "    .dataframe thead th {\n",
       "        text-align: right;\n",
       "    }\n",
       "</style>\n",
       "<table border=\"1\" class=\"dataframe\">\n",
       "  <thead>\n",
       "    <tr style=\"text-align: right;\">\n",
       "      <th></th>\n",
       "      <th>brandmodel</th>\n",
       "      <th>producer</th>\n",
       "      <th>weapontype</th>\n",
       "      <th>weaponkind</th>\n",
       "      <th>weaponseries</th>\n",
       "      <th>weaponnumber</th>\n",
       "      <th>weaponcaliber</th>\n",
       "      <th>trunks</th>\n",
       "      <th>graduationyear</th>\n",
       "      <th>organunit</th>\n",
       "      <th>reasonsearch</th>\n",
       "      <th>insertdate</th>\n",
       "      <th>theftdate</th>\n",
       "    </tr>\n",
       "  </thead>\n",
       "  <tbody>\n",
       "    <tr>\n",
       "      <th>0</th>\n",
       "      <td>НАГАН</td>\n",
       "      <td>ВІТЧИЗНЯНЕ</td>\n",
       "      <td>НАРІЗНА</td>\n",
       "      <td>РЕВОЛЬВЕР</td>\n",
       "      <td>ЛЯ</td>\n",
       "      <td>36</td>\n",
       "      <td>7.62</td>\n",
       "      <td></td>\n",
       "      <td></td>\n",
       "      <td>МАНГУШСЬКЕ ВІДДІЛЕННЯ ПОЛІЦІЇ ЦЕНТРАЛЬНОГО ВІДДІЛУ ГУНП В ДОНЕЦЬКІЙ ОБЛ.</td>\n",
       "      <td>ВИКРАДЕННЯ</td>\n",
       "      <td>1978-03-09T00:00:00</td>\n",
       "      <td>1978-03-09T00:00:00</td>\n",
       "    </tr>\n",
       "    <tr>\n",
       "      <th>1</th>\n",
       "      <td>НАГАН</td>\n",
       "      <td>ВІТЧИЗНЯНЕ</td>\n",
       "      <td>НАРІЗНА</td>\n",
       "      <td>РЕВОЛЬВЕР</td>\n",
       "      <td></td>\n",
       "      <td>31263</td>\n",
       "      <td>7.62</td>\n",
       "      <td>1</td>\n",
       "      <td></td>\n",
       "      <td>МАКІЇВСЬКЕ МУ ГУМВСУ В ДОНЕЦЬКІЙ ОБЛ.</td>\n",
       "      <td>ВТРАТА</td>\n",
       "      <td>1973-02-14T00:00:00</td>\n",
       "      <td>1973-02-14T00:00:00</td>\n",
       "    </tr>\n",
       "    <tr>\n",
       "      <th>2</th>\n",
       "      <td>ТОЗ8М</td>\n",
       "      <td>ВІТЧИЗНЯНЕ</td>\n",
       "      <td>НАРІЗНА</td>\n",
       "      <td>ГВИНТІВКА</td>\n",
       "      <td></td>\n",
       "      <td>531178</td>\n",
       "      <td>5.6</td>\n",
       "      <td></td>\n",
       "      <td></td>\n",
       "      <td>КІРОВСЬКИЙ РВ МАКІЇВСЬКОГО МУ ГУМВСУ В ДОНЕЦЬКІЙ ОБЛ.</td>\n",
       "      <td>ВИКРАДЕННЯ</td>\n",
       "      <td>1969-10-10T00:00:00</td>\n",
       "      <td>1969-10-10T00:00:00</td>\n",
       "    </tr>\n",
       "    <tr>\n",
       "      <th>3</th>\n",
       "      <td>ИЖ22</td>\n",
       "      <td>ВІТЧИЗНЯНЕ</td>\n",
       "      <td>ПНЕВМАТИЧНА</td>\n",
       "      <td>ГВИНТІВКА ПНЕВМАТИЧНА</td>\n",
       "      <td></td>\n",
       "      <td>36774</td>\n",
       "      <td>4.5</td>\n",
       "      <td></td>\n",
       "      <td></td>\n",
       "      <td>КАЛІНІНСЬКИЙ РВ ДОНЕЦЬКОГО МУ ГУМВСУ В ДОНЕЦЬКІЙ ОБЛ.</td>\n",
       "      <td>ВИКРАДЕННЯ</td>\n",
       "      <td>1982-01-17T00:00:00</td>\n",
       "      <td>1982-01-17T00:00:00</td>\n",
       "    </tr>\n",
       "    <tr>\n",
       "      <th>4</th>\n",
       "      <td>ИЖ22</td>\n",
       "      <td>ВІТЧИЗНЯНЕ</td>\n",
       "      <td>ПНЕВМАТИЧНА</td>\n",
       "      <td>ГВИНТІВКА ПНЕВМАТИЧНА</td>\n",
       "      <td></td>\n",
       "      <td>40560</td>\n",
       "      <td>4.5</td>\n",
       "      <td></td>\n",
       "      <td></td>\n",
       "      <td>КАЛІНІНСЬКИЙ РВ ДОНЕЦЬКОГО МУ ГУМВСУ В ДОНЕЦЬКІЙ ОБЛ.</td>\n",
       "      <td>ВИКРАДЕННЯ</td>\n",
       "      <td>1982-01-17T00:00:00</td>\n",
       "      <td>1982-01-17T00:00:00</td>\n",
       "    </tr>\n",
       "  </tbody>\n",
       "</table>\n",
       "</div>"
      ],
      "text/plain": [
       "  brandmodel    producer   weapontype             weaponkind weaponseries  \\\n",
       "0      НАГАН  ВІТЧИЗНЯНЕ      НАРІЗНА              РЕВОЛЬВЕР           ЛЯ   \n",
       "1      НАГАН  ВІТЧИЗНЯНЕ      НАРІЗНА              РЕВОЛЬВЕР                \n",
       "2      ТОЗ8М  ВІТЧИЗНЯНЕ      НАРІЗНА              ГВИНТІВКА                \n",
       "3       ИЖ22  ВІТЧИЗНЯНЕ  ПНЕВМАТИЧНА  ГВИНТІВКА ПНЕВМАТИЧНА                \n",
       "4       ИЖ22  ВІТЧИЗНЯНЕ  ПНЕВМАТИЧНА  ГВИНТІВКА ПНЕВМАТИЧНА                \n",
       "\n",
       "  weaponnumber weaponcaliber trunks graduationyear  \\\n",
       "0           36          7.62                         \n",
       "1        31263          7.62      1                  \n",
       "2       531178           5.6                         \n",
       "3        36774           4.5                         \n",
       "4        40560           4.5                         \n",
       "\n",
       "                                                                  organunit  \\\n",
       "0  МАНГУШСЬКЕ ВІДДІЛЕННЯ ПОЛІЦІЇ ЦЕНТРАЛЬНОГО ВІДДІЛУ ГУНП В ДОНЕЦЬКІЙ ОБЛ.   \n",
       "1                                     МАКІЇВСЬКЕ МУ ГУМВСУ В ДОНЕЦЬКІЙ ОБЛ.   \n",
       "2                     КІРОВСЬКИЙ РВ МАКІЇВСЬКОГО МУ ГУМВСУ В ДОНЕЦЬКІЙ ОБЛ.   \n",
       "3                     КАЛІНІНСЬКИЙ РВ ДОНЕЦЬКОГО МУ ГУМВСУ В ДОНЕЦЬКІЙ ОБЛ.   \n",
       "4                     КАЛІНІНСЬКИЙ РВ ДОНЕЦЬКОГО МУ ГУМВСУ В ДОНЕЦЬКІЙ ОБЛ.   \n",
       "\n",
       "  reasonsearch           insertdate            theftdate  \n",
       "0   ВИКРАДЕННЯ  1978-03-09T00:00:00  1978-03-09T00:00:00  \n",
       "1       ВТРАТА  1973-02-14T00:00:00  1973-02-14T00:00:00  \n",
       "2   ВИКРАДЕННЯ  1969-10-10T00:00:00  1969-10-10T00:00:00  \n",
       "3   ВИКРАДЕННЯ  1982-01-17T00:00:00  1982-01-17T00:00:00  \n",
       "4   ВИКРАДЕННЯ  1982-01-17T00:00:00  1982-01-17T00:00:00  "
      ]
     },
     "execution_count": 5,
     "metadata": {},
     "output_type": "execute_result"
    }
   ],
   "source": [
    "# Reading json output into DataFrame\n",
    "parsed = pd.read_json(file, orient='records')\n",
    "parsed.head()"
   ]
  },
  {
   "cell_type": "markdown",
   "id": "e2b46388",
   "metadata": {},
   "source": [
    "## Variables description (assumptions):\n",
    "- __brandmodel__ -- _item model_**\n",
    "\n",
    "- __producer__ -- _manufacturer of an item_**\n",
    "\n",
    "- __weapontype__ -- _rifling or action type of a weapon_**\n",
    "\n",
    "- __weaponkind__ -- _general description of an item_\n",
    "\n",
    "- __weaponseries__ -- _weapon series_**\n",
    "\n",
    "- __weaponnumber__ -- _serial number of a stolen/lost item_**\n",
    "\n",
    "- __weaponcaliber__ -- _internal diameter of a gun barrel bore_**\n",
    "\n",
    "- __trunks__ -- _number of barrels_* **\n",
    "\n",
    "- __graduationyear__ -- _year an item was manufactured in_* **\n",
    "\n",
    "- __organunit__ -- _(regional) department or institution of the Ministry of Internal Affairs of Ukraine a report was submited to_\n",
    "\n",
    "- __reasonsearch__ -- _report type: Theft (__ВИКРАДЕННЯ__) or Loss (__ВТРАТА__)_\n",
    "\n",
    "- __insertdate__ -- _date and time a record first appeared in the database_\n",
    "\n",
    "- __theftdate__ -- _estimated date and time of a theft/loss_\n",
    "> \\** -- may be not applicable to some items, _e.g. caliber of a sword_\n",
    ">\n",
    "> \\* -- assumption (since no variables specific explanations were provided)"
   ]
  },
  {
   "cell_type": "code",
   "execution_count": 6,
   "id": "d80512cf",
   "metadata": {
    "scrolled": true,
    "tags": []
   },
   "outputs": [
    {
     "name": "stdout",
     "output_type": "stream",
     "text": [
      "<class 'pandas.core.frame.DataFrame'>\n",
      "RangeIndex: 496748 entries, 0 to 496747\n",
      "Data columns (total 13 columns):\n",
      " #   Column          Non-Null Count   Dtype \n",
      "---  ------          --------------   ----- \n",
      " 0   brandmodel      496748 non-null  object\n",
      " 1   producer        496748 non-null  object\n",
      " 2   weapontype      496748 non-null  object\n",
      " 3   weaponkind      496748 non-null  object\n",
      " 4   weaponseries    496748 non-null  object\n",
      " 5   weaponnumber    496748 non-null  object\n",
      " 6   weaponcaliber   496748 non-null  object\n",
      " 7   trunks          496748 non-null  object\n",
      " 8   graduationyear  496748 non-null  object\n",
      " 9   organunit       496748 non-null  object\n",
      " 10  reasonsearch    496748 non-null  object\n",
      " 11  insertdate      496748 non-null  object\n",
      " 12  theftdate       496748 non-null  object\n",
      "dtypes: object(13)\n",
      "memory usage: 546.6 MB\n"
     ]
    }
   ],
   "source": [
    "parsed.info(memory_usage='deep', show_counts=True)"
   ]
  },
  {
   "cell_type": "code",
   "execution_count": 7,
   "id": "fb54a6cc-d1f7-461b-8752-71ec05ed9c80",
   "metadata": {},
   "outputs": [
    {
     "data": {
      "text/plain": [
       "Index               0.000128\n",
       "brandmodel         43.058500\n",
       "producer           46.727064\n",
       "weapontype         49.866588\n",
       "weaponkind         53.856305\n",
       "weaponseries       31.922169\n",
       "weaponnumber       31.096776\n",
       "weaponcaliber      29.482814\n",
       "trunks             28.774473\n",
       "graduationyear     29.963927\n",
       "organunit         105.314619\n",
       "reasonsearch       47.590608\n",
       "insertdate         37.752848\n",
       "theftdate          37.752848\n",
       "dtype: float64"
      ]
     },
     "execution_count": 7,
     "metadata": {},
     "output_type": "execute_result"
    }
   ],
   "source": [
    "parsed.memory_usage(deep=True)/1000000"
   ]
  },
  {
   "cell_type": "code",
   "execution_count": 8,
   "id": "ea1243ed-6956-46cc-be43-5739e737e82b",
   "metadata": {},
   "outputs": [
    {
     "data": {
      "text/html": [
       "<div>\n",
       "<style scoped>\n",
       "    .dataframe tbody tr th:only-of-type {\n",
       "        vertical-align: middle;\n",
       "    }\n",
       "\n",
       "    .dataframe tbody tr th {\n",
       "        vertical-align: top;\n",
       "    }\n",
       "\n",
       "    .dataframe thead th {\n",
       "        text-align: right;\n",
       "    }\n",
       "</style>\n",
       "<table border=\"1\" class=\"dataframe\">\n",
       "  <thead>\n",
       "    <tr style=\"text-align: right;\">\n",
       "      <th></th>\n",
       "      <th>brandmodel</th>\n",
       "      <th>producer</th>\n",
       "      <th>weapontype</th>\n",
       "      <th>weaponkind</th>\n",
       "      <th>weaponseries</th>\n",
       "      <th>weaponnumber</th>\n",
       "      <th>weaponcaliber</th>\n",
       "      <th>trunks</th>\n",
       "      <th>graduationyear</th>\n",
       "      <th>organunit</th>\n",
       "      <th>reasonsearch</th>\n",
       "      <th>insertdate</th>\n",
       "      <th>theftdate</th>\n",
       "    </tr>\n",
       "  </thead>\n",
       "  <tbody>\n",
       "    <tr>\n",
       "      <th>count</th>\n",
       "      <td>496748</td>\n",
       "      <td>496748</td>\n",
       "      <td>496748</td>\n",
       "      <td>496748</td>\n",
       "      <td>496748</td>\n",
       "      <td>496748</td>\n",
       "      <td>496748</td>\n",
       "      <td>496748</td>\n",
       "      <td>496748</td>\n",
       "      <td>496748</td>\n",
       "      <td>496748</td>\n",
       "      <td>496748</td>\n",
       "      <td>496748</td>\n",
       "    </tr>\n",
       "    <tr>\n",
       "      <th>unique</th>\n",
       "      <td>3297</td>\n",
       "      <td>3</td>\n",
       "      <td>13</td>\n",
       "      <td>79</td>\n",
       "      <td>4308</td>\n",
       "      <td>274873</td>\n",
       "      <td>983</td>\n",
       "      <td>24</td>\n",
       "      <td>294</td>\n",
       "      <td>878</td>\n",
       "      <td>2</td>\n",
       "      <td>8053</td>\n",
       "      <td>12326</td>\n",
       "    </tr>\n",
       "    <tr>\n",
       "      <th>top</th>\n",
       "      <td>ПМ</td>\n",
       "      <td>ІНОЗЕМНЕ</td>\n",
       "      <td>НАРІЗНА</td>\n",
       "      <td>РУШНИЦЯ МИСЛИВСЬКА</td>\n",
       "      <td></td>\n",
       "      <td>387</td>\n",
       "      <td>9</td>\n",
       "      <td>1</td>\n",
       "      <td></td>\n",
       "      <td>ГОЛОВНЕ УПРАВЛІННЯ НАЦІОНАЛЬНОЇ ПОЛІЦІЇ В АВТОНОМНІЙ РЕСПУБЛІЦІ КРИМ ТА М. СЕВАСТОПОЛІ</td>\n",
       "      <td>ВТРАТА</td>\n",
       "      <td>2022-09-18T00:00:00</td>\n",
       "      <td>2014-05-31T00:00:00</td>\n",
       "    </tr>\n",
       "    <tr>\n",
       "      <th>freq</th>\n",
       "      <td>73403</td>\n",
       "      <td>348963</td>\n",
       "      <td>231360</td>\n",
       "      <td>128244</td>\n",
       "      <td>224420</td>\n",
       "      <td>49</td>\n",
       "      <td>178687</td>\n",
       "      <td>381034</td>\n",
       "      <td>84313</td>\n",
       "      <td>122191</td>\n",
       "      <td>384711</td>\n",
       "      <td>17239</td>\n",
       "      <td>99453</td>\n",
       "    </tr>\n",
       "  </tbody>\n",
       "</table>\n",
       "</div>"
      ],
      "text/plain": [
       "       brandmodel  producer weapontype          weaponkind weaponseries  \\\n",
       "count      496748    496748     496748              496748       496748   \n",
       "unique       3297         3         13                  79         4308   \n",
       "top            ПМ  ІНОЗЕМНЕ    НАРІЗНА  РУШНИЦЯ МИСЛИВСЬКА                \n",
       "freq        73403    348963     231360              128244       224420   \n",
       "\n",
       "       weaponnumber weaponcaliber  trunks graduationyear  \\\n",
       "count        496748        496748  496748         496748   \n",
       "unique       274873           983      24            294   \n",
       "top             387             9       1                  \n",
       "freq             49        178687  381034          84313   \n",
       "\n",
       "                                                                                     organunit  \\\n",
       "count                                                                                   496748   \n",
       "unique                                                                                     878   \n",
       "top     ГОЛОВНЕ УПРАВЛІННЯ НАЦІОНАЛЬНОЇ ПОЛІЦІЇ В АВТОНОМНІЙ РЕСПУБЛІЦІ КРИМ ТА М. СЕВАСТОПОЛІ   \n",
       "freq                                                                                    122191   \n",
       "\n",
       "       reasonsearch           insertdate            theftdate  \n",
       "count        496748               496748               496748  \n",
       "unique            2                 8053                12326  \n",
       "top          ВТРАТА  2022-09-18T00:00:00  2014-05-31T00:00:00  \n",
       "freq         384711                17239                99453  "
      ]
     },
     "execution_count": 8,
     "metadata": {},
     "output_type": "execute_result"
    }
   ],
   "source": [
    "parsed.describe()"
   ]
  },
  {
   "cell_type": "code",
   "execution_count": 9,
   "id": "b54e7f5d",
   "metadata": {},
   "outputs": [
    {
     "data": {
      "text/plain": [
       "brandmodel        0\n",
       "producer          0\n",
       "weapontype        0\n",
       "weaponkind        0\n",
       "weaponseries      0\n",
       "weaponnumber      0\n",
       "weaponcaliber     0\n",
       "trunks            0\n",
       "graduationyear    0\n",
       "organunit         0\n",
       "reasonsearch      0\n",
       "insertdate        0\n",
       "theftdate         0\n",
       "dtype: int64"
      ]
     },
     "execution_count": 9,
     "metadata": {},
     "output_type": "execute_result"
    }
   ],
   "source": [
    "parsed.isna().sum()"
   ]
  },
  {
   "cell_type": "code",
   "execution_count": 10,
   "id": "77d15e5c",
   "metadata": {
    "code_folding": [
     0
    ],
    "scrolled": true
   },
   "outputs": [
    {
     "data": {
      "text/plain": [
       "brandmodel          1083\n",
       "producer           56564\n",
       "weapontype          5687\n",
       "weaponkind             1\n",
       "weaponseries      224420\n",
       "weaponnumber           1\n",
       "weaponcaliber       4631\n",
       "trunks             37084\n",
       "graduationyear     84313\n",
       "organunit              4\n",
       "reasonsearch           0\n",
       "insertdate             0\n",
       "theftdate              0\n",
       "dtype: int64"
      ]
     },
     "execution_count": 10,
     "metadata": {},
     "output_type": "execute_result"
    }
   ],
   "source": [
    "# Number of empty records in each column\n",
    "parsed[parsed == ''].count()"
   ]
  },
  {
   "cell_type": "code",
   "execution_count": 11,
   "id": "04b890a8",
   "metadata": {
    "code_folding": [
     0
    ],
    "scrolled": true
   },
   "outputs": [
    {
     "data": {
      "text/html": [
       "<div>\n",
       "<style scoped>\n",
       "    .dataframe tbody tr th:only-of-type {\n",
       "        vertical-align: middle;\n",
       "    }\n",
       "\n",
       "    .dataframe tbody tr th {\n",
       "        vertical-align: top;\n",
       "    }\n",
       "\n",
       "    .dataframe thead th {\n",
       "        text-align: right;\n",
       "    }\n",
       "</style>\n",
       "<table border=\"1\" class=\"dataframe\">\n",
       "  <thead>\n",
       "    <tr style=\"text-align: right;\">\n",
       "      <th></th>\n",
       "      <th>index</th>\n",
       "      <th>weaponseries</th>\n",
       "    </tr>\n",
       "  </thead>\n",
       "  <tbody>\n",
       "    <tr>\n",
       "      <th>0</th>\n",
       "      <td></td>\n",
       "      <td>0.451778</td>\n",
       "    </tr>\n",
       "    <tr>\n",
       "      <th>1</th>\n",
       "      <td>KO</td>\n",
       "      <td>0.032155</td>\n",
       "    </tr>\n",
       "    <tr>\n",
       "      <th>2</th>\n",
       "      <td>BI</td>\n",
       "      <td>0.025560</td>\n",
       "    </tr>\n",
       "    <tr>\n",
       "      <th>3</th>\n",
       "      <td>XK</td>\n",
       "      <td>0.016789</td>\n",
       "    </tr>\n",
       "    <tr>\n",
       "      <th>4</th>\n",
       "      <td>A</td>\n",
       "      <td>0.012717</td>\n",
       "    </tr>\n",
       "  </tbody>\n",
       "</table>\n",
       "</div>"
      ],
      "text/plain": [
       "  index  weaponseries\n",
       "0            0.451778\n",
       "1    KO      0.032155\n",
       "2    BI      0.025560\n",
       "3    XK      0.016789\n",
       "4     A      0.012717"
      ]
     },
     "execution_count": 11,
     "metadata": {},
     "output_type": "execute_result"
    }
   ],
   "source": [
    "# Percentage of missing values in \"weaponseries\" column is >40%!\n",
    "parsed['weaponseries'].value_counts(dropna=False,normalize=True).reset_index().head()"
   ]
  },
  {
   "cell_type": "code",
   "execution_count": 12,
   "id": "a1f8ae0d-0478-43ab-8a1c-79a1364dc436",
   "metadata": {},
   "outputs": [
    {
     "data": {
      "text/plain": [
       "698"
      ]
     },
     "execution_count": 12,
     "metadata": {},
     "output_type": "execute_result"
    }
   ],
   "source": [
    "# Checking for duplicate records\n",
    "parsed[parsed.duplicated()].count()[0]"
   ]
  },
  {
   "cell_type": "code",
   "execution_count": 13,
   "id": "6cc656f2",
   "metadata": {
    "code_folding": [
     0
    ]
   },
   "outputs": [
    {
     "data": {
      "text/plain": [
       "59845"
      ]
     },
     "execution_count": 13,
     "metadata": {},
     "output_type": "execute_result"
    }
   ],
   "source": [
    "# Number of records where \"insert\" and \"theft/loss\" dates coincide\n",
    "parsed[parsed['insertdate'] == parsed['theftdate']].count()[0]"
   ]
  },
  {
   "cell_type": "code",
   "execution_count": 14,
   "id": "5b9bce64",
   "metadata": {
    "code_folding": [
     0
    ]
   },
   "outputs": [
    {
     "data": {
      "text/html": [
       "<div>\n",
       "<style scoped>\n",
       "    .dataframe tbody tr th:only-of-type {\n",
       "        vertical-align: middle;\n",
       "    }\n",
       "\n",
       "    .dataframe tbody tr th {\n",
       "        vertical-align: top;\n",
       "    }\n",
       "\n",
       "    .dataframe thead th {\n",
       "        text-align: right;\n",
       "    }\n",
       "</style>\n",
       "<table border=\"1\" class=\"dataframe\">\n",
       "  <thead>\n",
       "    <tr style=\"text-align: right;\">\n",
       "      <th></th>\n",
       "      <th>brandmodel</th>\n",
       "      <th>producer</th>\n",
       "      <th>weapontype</th>\n",
       "      <th>weaponkind</th>\n",
       "      <th>weaponseries</th>\n",
       "      <th>weaponnumber</th>\n",
       "      <th>weaponcaliber</th>\n",
       "      <th>trunks</th>\n",
       "      <th>graduationyear</th>\n",
       "      <th>organunit</th>\n",
       "      <th>reasonsearch</th>\n",
       "      <th>insertdate</th>\n",
       "      <th>theftdate</th>\n",
       "    </tr>\n",
       "  </thead>\n",
       "  <tbody>\n",
       "    <tr>\n",
       "      <th>496735</th>\n",
       "      <td>АКС74У</td>\n",
       "      <td>ВІТЧИЗНЯНЕ</td>\n",
       "      <td>НАРІЗНА</td>\n",
       "      <td>АВТОМАТ</td>\n",
       "      <td></td>\n",
       "      <td>254903</td>\n",
       "      <td>5.45</td>\n",
       "      <td>1</td>\n",
       "      <td>1986</td>\n",
       "      <td>ЦЕНТРАЛЬНИЙ ВІДДІЛ ПОЛІЦІЇ ГУНП В ДОНЕЦЬКІЙ ОБЛ.</td>\n",
       "      <td>ВТРАТА</td>\n",
       "      <td>2022-10-20T00:00:00</td>\n",
       "      <td>2022-09-28T00:00:00</td>\n",
       "    </tr>\n",
       "    <tr>\n",
       "      <th>496736</th>\n",
       "      <td>АКС74У</td>\n",
       "      <td>ВІТЧИЗНЯНЕ</td>\n",
       "      <td>НАРІЗНА</td>\n",
       "      <td>АВТОМАТ</td>\n",
       "      <td></td>\n",
       "      <td>271684</td>\n",
       "      <td>5.45</td>\n",
       "      <td>1</td>\n",
       "      <td>1988</td>\n",
       "      <td>ЦЕНТРАЛЬНИЙ ВІДДІЛ ПОЛІЦІЇ ГУНП В ДОНЕЦЬКІЙ ОБЛ.</td>\n",
       "      <td>ВТРАТА</td>\n",
       "      <td>2022-10-20T00:00:00</td>\n",
       "      <td>2022-09-28T00:00:00</td>\n",
       "    </tr>\n",
       "    <tr>\n",
       "      <th>496737</th>\n",
       "      <td>АКС74У</td>\n",
       "      <td>ВІТЧИЗНЯНЕ</td>\n",
       "      <td>НАРІЗНА</td>\n",
       "      <td>АВТОМАТ</td>\n",
       "      <td></td>\n",
       "      <td>273871</td>\n",
       "      <td>5.45</td>\n",
       "      <td>1</td>\n",
       "      <td>1976</td>\n",
       "      <td>ЦЕНТРАЛЬНИЙ ВІДДІЛ ПОЛІЦІЇ ГУНП В ДОНЕЦЬКІЙ ОБЛ.</td>\n",
       "      <td>ВТРАТА</td>\n",
       "      <td>2022-10-20T00:00:00</td>\n",
       "      <td>2022-09-28T00:00:00</td>\n",
       "    </tr>\n",
       "    <tr>\n",
       "      <th>496746</th>\n",
       "      <td>АК74</td>\n",
       "      <td></td>\n",
       "      <td>НАРІЗНА</td>\n",
       "      <td>АВТОМАТ</td>\n",
       "      <td></td>\n",
       "      <td>1692425</td>\n",
       "      <td>5,45</td>\n",
       "      <td>1</td>\n",
       "      <td></td>\n",
       "      <td>СУМСЬКИЙ ВІДДІЛ ПОЛІЦІЇ ГУНП В СУМСЬКІЙ ОБЛАСТІ</td>\n",
       "      <td>ВТРАТА</td>\n",
       "      <td>2022-10-25T00:00:00</td>\n",
       "      <td>2022-10-24T00:00:00</td>\n",
       "    </tr>\n",
       "    <tr>\n",
       "      <th>496747</th>\n",
       "      <td>АК74</td>\n",
       "      <td></td>\n",
       "      <td>НАРІЗНА</td>\n",
       "      <td>АВТОМАТ</td>\n",
       "      <td></td>\n",
       "      <td>4429144</td>\n",
       "      <td>5,45</td>\n",
       "      <td>1</td>\n",
       "      <td></td>\n",
       "      <td>СУМСЬКИЙ ВІДДІЛ ПОЛІЦІЇ ГУНП В СУМСЬКІЙ ОБЛАСТІ</td>\n",
       "      <td>ВТРАТА</td>\n",
       "      <td>2022-10-25T00:00:00</td>\n",
       "      <td>2022-10-24T00:00:00</td>\n",
       "    </tr>\n",
       "  </tbody>\n",
       "</table>\n",
       "</div>"
      ],
      "text/plain": [
       "       brandmodel    producer weapontype weaponkind weaponseries weaponnumber  \\\n",
       "496735     АКС74У  ВІТЧИЗНЯНЕ    НАРІЗНА    АВТОМАТ                    254903   \n",
       "496736     АКС74У  ВІТЧИЗНЯНЕ    НАРІЗНА    АВТОМАТ                    271684   \n",
       "496737     АКС74У  ВІТЧИЗНЯНЕ    НАРІЗНА    АВТОМАТ                    273871   \n",
       "496746       АК74                НАРІЗНА    АВТОМАТ                   1692425   \n",
       "496747       АК74                НАРІЗНА    АВТОМАТ                   4429144   \n",
       "\n",
       "       weaponcaliber trunks graduationyear  \\\n",
       "496735          5.45      1           1986   \n",
       "496736          5.45      1           1988   \n",
       "496737          5.45      1           1976   \n",
       "496746          5,45      1                  \n",
       "496747          5,45      1                  \n",
       "\n",
       "                                               organunit reasonsearch  \\\n",
       "496735  ЦЕНТРАЛЬНИЙ ВІДДІЛ ПОЛІЦІЇ ГУНП В ДОНЕЦЬКІЙ ОБЛ.       ВТРАТА   \n",
       "496736  ЦЕНТРАЛЬНИЙ ВІДДІЛ ПОЛІЦІЇ ГУНП В ДОНЕЦЬКІЙ ОБЛ.       ВТРАТА   \n",
       "496737  ЦЕНТРАЛЬНИЙ ВІДДІЛ ПОЛІЦІЇ ГУНП В ДОНЕЦЬКІЙ ОБЛ.       ВТРАТА   \n",
       "496746   СУМСЬКИЙ ВІДДІЛ ПОЛІЦІЇ ГУНП В СУМСЬКІЙ ОБЛАСТІ       ВТРАТА   \n",
       "496747   СУМСЬКИЙ ВІДДІЛ ПОЛІЦІЇ ГУНП В СУМСЬКІЙ ОБЛАСТІ       ВТРАТА   \n",
       "\n",
       "                 insertdate            theftdate  \n",
       "496735  2022-10-20T00:00:00  2022-09-28T00:00:00  \n",
       "496736  2022-10-20T00:00:00  2022-09-28T00:00:00  \n",
       "496737  2022-10-20T00:00:00  2022-09-28T00:00:00  \n",
       "496746  2022-10-25T00:00:00  2022-10-24T00:00:00  \n",
       "496747  2022-10-25T00:00:00  2022-10-24T00:00:00  "
      ]
     },
     "execution_count": 14,
     "metadata": {},
     "output_type": "execute_result"
    }
   ],
   "source": [
    "# Records where insertdate is different from theft/loss date\n",
    "parsed[parsed['insertdate'] != parsed['theftdate']].tail()"
   ]
  },
  {
   "cell_type": "code",
   "execution_count": 15,
   "id": "24063081",
   "metadata": {
    "code_folding": [
     0
    ]
   },
   "outputs": [
    {
     "data": {
      "text/plain": [
       "1     381034\n",
       "2      78172\n",
       "       37084\n",
       "0        262\n",
       "3         99\n",
       "9         25\n",
       "02        21\n",
       "01        18\n",
       "4         10\n",
       "8          4\n",
       "5          3\n",
       "-          2\n",
       "6          2\n",
       "7          2\n",
       "Ё          1\n",
       "Т          1\n",
       "Й          1\n",
       "В          1\n",
       "12         1\n",
       "Ї          1\n",
       ",          1\n",
       "14         1\n",
       "23         1\n",
       "1`         1\n",
       "Name: trunks, dtype: int64"
      ]
     },
     "execution_count": 15,
     "metadata": {},
     "output_type": "execute_result"
    }
   ],
   "source": [
    "# Checking frequency of occurences of each value in \"trunks\" column\n",
    "# \"trunks\" column probably contains some information about the number of barrels a weapon had\n",
    "parsed['trunks'].value_counts() "
   ]
  },
  {
   "cell_type": "code",
   "execution_count": 16,
   "id": "e4b48602",
   "metadata": {
    "code_folding": [
     0
    ],
    "scrolled": true
   },
   "outputs": [
    {
     "data": {
      "text/html": [
       "<div>\n",
       "<style scoped>\n",
       "    .dataframe tbody tr th:only-of-type {\n",
       "        vertical-align: middle;\n",
       "    }\n",
       "\n",
       "    .dataframe tbody tr th {\n",
       "        vertical-align: top;\n",
       "    }\n",
       "\n",
       "    .dataframe thead th {\n",
       "        text-align: right;\n",
       "    }\n",
       "</style>\n",
       "<table border=\"1\" class=\"dataframe\">\n",
       "  <thead>\n",
       "    <tr style=\"text-align: right;\">\n",
       "      <th></th>\n",
       "      <th>brandmodel</th>\n",
       "      <th>producer</th>\n",
       "      <th>weapontype</th>\n",
       "      <th>weaponkind</th>\n",
       "      <th>weaponseries</th>\n",
       "      <th>weaponnumber</th>\n",
       "      <th>weaponcaliber</th>\n",
       "      <th>trunks</th>\n",
       "      <th>graduationyear</th>\n",
       "      <th>organunit</th>\n",
       "      <th>reasonsearch</th>\n",
       "      <th>insertdate</th>\n",
       "      <th>theftdate</th>\n",
       "    </tr>\n",
       "  </thead>\n",
       "  <tbody>\n",
       "    <tr>\n",
       "      <th>10908</th>\n",
       "      <td>ME9PARA</td>\n",
       "      <td></td>\n",
       "      <td>ГАЗОВА</td>\n",
       "      <td>ПІСТОЛЕТ ГАЗОВИЙ</td>\n",
       "      <td></td>\n",
       "      <td>00287</td>\n",
       "      <td>8</td>\n",
       "      <td>9</td>\n",
       "      <td></td>\n",
       "      <td>ДНІПРОВСЬКЕ УПРАВЛІННЯ ПОЛІЦІЇ ГУНП В М. КИЄВІ</td>\n",
       "      <td>ВТРАТА</td>\n",
       "      <td>2008-10-01T00:00:00</td>\n",
       "      <td>1994-12-28T00:00:00</td>\n",
       "    </tr>\n",
       "    <tr>\n",
       "      <th>38913</th>\n",
       "      <td>ИЖ49</td>\n",
       "      <td>ІНОЗЕМНЕ</td>\n",
       "      <td>ГЛАДКОСТВОЛЬНА</td>\n",
       "      <td>РУШНИЦЯ МИСЛИВСЬКА</td>\n",
       "      <td></td>\n",
       "      <td>1168</td>\n",
       "      <td>12</td>\n",
       "      <td>23</td>\n",
       "      <td></td>\n",
       "      <td>ЗАРІЧНИЙ ОМ СМВ УМВС СУМСЬКОЇ ОБЛАСТІ</td>\n",
       "      <td>ВТРАТА</td>\n",
       "      <td>2008-02-02T00:00:00</td>\n",
       "      <td>2007-11-10T00:00:00</td>\n",
       "    </tr>\n",
       "    <tr>\n",
       "      <th>43150</th>\n",
       "      <td>ИЖ38</td>\n",
       "      <td>ІНОЗЕМНЕ</td>\n",
       "      <td>ПНЕВМАТИЧНА</td>\n",
       "      <td>ГВИНТІВКА ПНЕВМАТИЧНА</td>\n",
       "      <td>Б</td>\n",
       "      <td>15873</td>\n",
       "      <td>4.5</td>\n",
       "      <td>9</td>\n",
       "      <td>1986</td>\n",
       "      <td>КИЇВСЬКИЙ ВІДДІЛ ПОЛІЦІЇ В МІСТІ ОДЕСІ ГУНП В ОДЕСЬКІЙ ОБЛАСТІ</td>\n",
       "      <td>ВИКРАДЕННЯ</td>\n",
       "      <td>2009-02-09T00:00:00</td>\n",
       "      <td>1988-05-06T00:00:00</td>\n",
       "    </tr>\n",
       "    <tr>\n",
       "      <th>55728</th>\n",
       "      <td>ПМ</td>\n",
       "      <td>ІНОЗЕМНЕ</td>\n",
       "      <td>НАРІЗНА</td>\n",
       "      <td>ПІСТОЛЕТ</td>\n",
       "      <td>BБ</td>\n",
       "      <td>2161</td>\n",
       "      <td>9</td>\n",
       "      <td>9</td>\n",
       "      <td>1963</td>\n",
       "      <td>ГОЛОВНЕ УПРАВЛІННЯ НАЦІОНАЛЬНОЇ ПОЛІЦІЇ В ІВАНО-ФРАНКІВСЬКІЙ ОБЛАСТІ</td>\n",
       "      <td>ВИКРАДЕННЯ</td>\n",
       "      <td>2014-03-29T00:00:00</td>\n",
       "      <td>2014-02-19T00:00:00</td>\n",
       "    </tr>\n",
       "    <tr>\n",
       "      <th>61893</th>\n",
       "      <td>МКМ072СБ</td>\n",
       "      <td>ВІТЧИЗНЯНЕ</td>\n",
       "      <td>НАРІЗНА</td>\n",
       "      <td>КАРАБІН</td>\n",
       "      <td>KI/M</td>\n",
       "      <td>03814</td>\n",
       "      <td>7,62</td>\n",
       "      <td>9</td>\n",
       "      <td></td>\n",
       "      <td>ВОРОШИЛОВСЬКИЙ РВ ДОНЕЦЬКОГО МУ ГУМВСУ В ДОНЕЦЬКІЙ ОБЛ.</td>\n",
       "      <td>ВИКРАДЕННЯ</td>\n",
       "      <td>2014-05-04T00:00:00</td>\n",
       "      <td>2014-05-04T00:00:00</td>\n",
       "    </tr>\n",
       "  </tbody>\n",
       "</table>\n",
       "</div>"
      ],
      "text/plain": [
       "      brandmodel    producer      weapontype             weaponkind  \\\n",
       "10908    ME9PARA                      ГАЗОВА       ПІСТОЛЕТ ГАЗОВИЙ   \n",
       "38913       ИЖ49    ІНОЗЕМНЕ  ГЛАДКОСТВОЛЬНА     РУШНИЦЯ МИСЛИВСЬКА   \n",
       "43150       ИЖ38    ІНОЗЕМНЕ     ПНЕВМАТИЧНА  ГВИНТІВКА ПНЕВМАТИЧНА   \n",
       "55728         ПМ    ІНОЗЕМНЕ         НАРІЗНА               ПІСТОЛЕТ   \n",
       "61893   МКМ072СБ  ВІТЧИЗНЯНЕ         НАРІЗНА                КАРАБІН   \n",
       "\n",
       "      weaponseries weaponnumber weaponcaliber trunks graduationyear  \\\n",
       "10908                     00287             8      9                  \n",
       "38913                      1168            12     23                  \n",
       "43150            Б        15873           4.5      9           1986   \n",
       "55728           BБ         2161             9      9           1963   \n",
       "61893         KI/M        03814          7,62      9                  \n",
       "\n",
       "                                                                  organunit  \\\n",
       "10908                        ДНІПРОВСЬКЕ УПРАВЛІННЯ ПОЛІЦІЇ ГУНП В М. КИЄВІ   \n",
       "38913                                 ЗАРІЧНИЙ ОМ СМВ УМВС СУМСЬКОЇ ОБЛАСТІ   \n",
       "43150        КИЇВСЬКИЙ ВІДДІЛ ПОЛІЦІЇ В МІСТІ ОДЕСІ ГУНП В ОДЕСЬКІЙ ОБЛАСТІ   \n",
       "55728  ГОЛОВНЕ УПРАВЛІННЯ НАЦІОНАЛЬНОЇ ПОЛІЦІЇ В ІВАНО-ФРАНКІВСЬКІЙ ОБЛАСТІ   \n",
       "61893               ВОРОШИЛОВСЬКИЙ РВ ДОНЕЦЬКОГО МУ ГУМВСУ В ДОНЕЦЬКІЙ ОБЛ.   \n",
       "\n",
       "      reasonsearch           insertdate            theftdate  \n",
       "10908       ВТРАТА  2008-10-01T00:00:00  1994-12-28T00:00:00  \n",
       "38913       ВТРАТА  2008-02-02T00:00:00  2007-11-10T00:00:00  \n",
       "43150   ВИКРАДЕННЯ  2009-02-09T00:00:00  1988-05-06T00:00:00  \n",
       "55728   ВИКРАДЕННЯ  2014-03-29T00:00:00  2014-02-19T00:00:00  \n",
       "61893   ВИКРАДЕННЯ  2014-05-04T00:00:00  2014-05-04T00:00:00  "
      ]
     },
     "execution_count": 16,
     "metadata": {},
     "output_type": "execute_result"
    }
   ],
   "source": [
    "# Some (supposedly) incorrect entries\n",
    "parsed[\n",
    "    (parsed['trunks'] == '9')|\n",
    "    (parsed['trunks'] == '23')\n",
    "].head()"
   ]
  },
  {
   "cell_type": "markdown",
   "id": "d9e40774",
   "metadata": {},
   "source": [
    "***\n",
    "## Pre DataFrame"
   ]
  },
  {
   "cell_type": "markdown",
   "id": "7ae12a4e",
   "metadata": {},
   "source": [
    "Several columns (_\"producer\"_, _\"weaponeries\"_, _\"weaponcaliber\"_, _\"trunks\"_, _\"graduationyear\"_, _\"brandmodel\"_) do not provide any information needed in further analysis."
   ]
  },
  {
   "cell_type": "code",
   "execution_count": 17,
   "id": "f84ce73d",
   "metadata": {
    "code_folding": [
     0
    ],
    "tags": []
   },
   "outputs": [
    {
     "data": {
      "text/html": [
       "<div>\n",
       "<style scoped>\n",
       "    .dataframe tbody tr th:only-of-type {\n",
       "        vertical-align: middle;\n",
       "    }\n",
       "\n",
       "    .dataframe tbody tr th {\n",
       "        vertical-align: top;\n",
       "    }\n",
       "\n",
       "    .dataframe thead th {\n",
       "        text-align: right;\n",
       "    }\n",
       "</style>\n",
       "<table border=\"1\" class=\"dataframe\">\n",
       "  <thead>\n",
       "    <tr style=\"text-align: right;\">\n",
       "      <th></th>\n",
       "      <th>weaponnumber</th>\n",
       "      <th>weaponkind</th>\n",
       "      <th>organunit</th>\n",
       "      <th>reasonsearch</th>\n",
       "      <th>insertdate</th>\n",
       "      <th>theftdate</th>\n",
       "    </tr>\n",
       "  </thead>\n",
       "  <tbody>\n",
       "    <tr>\n",
       "      <th>0</th>\n",
       "      <td>36</td>\n",
       "      <td>РЕВОЛЬВЕР</td>\n",
       "      <td>МАНГУШСЬКЕ ВІДДІЛЕННЯ ПОЛІЦІЇ ЦЕНТРАЛЬНОГО ВІДДІЛУ ГУНП В ДОНЕЦЬКІЙ ОБЛ.</td>\n",
       "      <td>ВИКРАДЕННЯ</td>\n",
       "      <td>1978-03-09T00:00:00</td>\n",
       "      <td>1978-03-09T00:00:00</td>\n",
       "    </tr>\n",
       "    <tr>\n",
       "      <th>1</th>\n",
       "      <td>31263</td>\n",
       "      <td>РЕВОЛЬВЕР</td>\n",
       "      <td>МАКІЇВСЬКЕ МУ ГУМВСУ В ДОНЕЦЬКІЙ ОБЛ.</td>\n",
       "      <td>ВТРАТА</td>\n",
       "      <td>1973-02-14T00:00:00</td>\n",
       "      <td>1973-02-14T00:00:00</td>\n",
       "    </tr>\n",
       "    <tr>\n",
       "      <th>2</th>\n",
       "      <td>531178</td>\n",
       "      <td>ГВИНТІВКА</td>\n",
       "      <td>КІРОВСЬКИЙ РВ МАКІЇВСЬКОГО МУ ГУМВСУ В ДОНЕЦЬКІЙ ОБЛ.</td>\n",
       "      <td>ВИКРАДЕННЯ</td>\n",
       "      <td>1969-10-10T00:00:00</td>\n",
       "      <td>1969-10-10T00:00:00</td>\n",
       "    </tr>\n",
       "    <tr>\n",
       "      <th>3</th>\n",
       "      <td>36774</td>\n",
       "      <td>ГВИНТІВКА ПНЕВМАТИЧНА</td>\n",
       "      <td>КАЛІНІНСЬКИЙ РВ ДОНЕЦЬКОГО МУ ГУМВСУ В ДОНЕЦЬКІЙ ОБЛ.</td>\n",
       "      <td>ВИКРАДЕННЯ</td>\n",
       "      <td>1982-01-17T00:00:00</td>\n",
       "      <td>1982-01-17T00:00:00</td>\n",
       "    </tr>\n",
       "    <tr>\n",
       "      <th>4</th>\n",
       "      <td>40560</td>\n",
       "      <td>ГВИНТІВКА ПНЕВМАТИЧНА</td>\n",
       "      <td>КАЛІНІНСЬКИЙ РВ ДОНЕЦЬКОГО МУ ГУМВСУ В ДОНЕЦЬКІЙ ОБЛ.</td>\n",
       "      <td>ВИКРАДЕННЯ</td>\n",
       "      <td>1982-01-17T00:00:00</td>\n",
       "      <td>1982-01-17T00:00:00</td>\n",
       "    </tr>\n",
       "  </tbody>\n",
       "</table>\n",
       "</div>"
      ],
      "text/plain": [
       "  weaponnumber             weaponkind  \\\n",
       "0           36              РЕВОЛЬВЕР   \n",
       "1        31263              РЕВОЛЬВЕР   \n",
       "2       531178              ГВИНТІВКА   \n",
       "3        36774  ГВИНТІВКА ПНЕВМАТИЧНА   \n",
       "4        40560  ГВИНТІВКА ПНЕВМАТИЧНА   \n",
       "\n",
       "                                                                  organunit  \\\n",
       "0  МАНГУШСЬКЕ ВІДДІЛЕННЯ ПОЛІЦІЇ ЦЕНТРАЛЬНОГО ВІДДІЛУ ГУНП В ДОНЕЦЬКІЙ ОБЛ.   \n",
       "1                                     МАКІЇВСЬКЕ МУ ГУМВСУ В ДОНЕЦЬКІЙ ОБЛ.   \n",
       "2                     КІРОВСЬКИЙ РВ МАКІЇВСЬКОГО МУ ГУМВСУ В ДОНЕЦЬКІЙ ОБЛ.   \n",
       "3                     КАЛІНІНСЬКИЙ РВ ДОНЕЦЬКОГО МУ ГУМВСУ В ДОНЕЦЬКІЙ ОБЛ.   \n",
       "4                     КАЛІНІНСЬКИЙ РВ ДОНЕЦЬКОГО МУ ГУМВСУ В ДОНЕЦЬКІЙ ОБЛ.   \n",
       "\n",
       "  reasonsearch           insertdate            theftdate  \n",
       "0   ВИКРАДЕННЯ  1978-03-09T00:00:00  1978-03-09T00:00:00  \n",
       "1       ВТРАТА  1973-02-14T00:00:00  1973-02-14T00:00:00  \n",
       "2   ВИКРАДЕННЯ  1969-10-10T00:00:00  1969-10-10T00:00:00  \n",
       "3   ВИКРАДЕННЯ  1982-01-17T00:00:00  1982-01-17T00:00:00  \n",
       "4   ВИКРАДЕННЯ  1982-01-17T00:00:00  1982-01-17T00:00:00  "
      ]
     },
     "execution_count": 17,
     "metadata": {},
     "output_type": "execute_result"
    }
   ],
   "source": [
    "# Choosing columns for the new DataFrame\n",
    "pre_df = parsed.loc[:,['weaponnumber', 'weaponkind', 'organunit', 'reasonsearch', 'insertdate', 'theftdate']].copy()\n",
    "pre_df.head()"
   ]
  },
  {
   "cell_type": "code",
   "execution_count": 18,
   "id": "68f7ed2d",
   "metadata": {
    "code_folding": [
     0
    ]
   },
   "outputs": [],
   "source": [
    "# Removing duplicates\n",
    "pre_df.drop_duplicates(inplace=True)"
   ]
  },
  {
   "cell_type": "code",
   "execution_count": 19,
   "id": "cbf02af8",
   "metadata": {
    "code_folding": [
     0
    ]
   },
   "outputs": [
    {
     "name": "stdout",
     "output_type": "stream",
     "text": [
      "<class 'pandas.core.frame.DataFrame'>\n",
      "Int64Index: 487931 entries, 0 to 496747\n",
      "Data columns (total 6 columns):\n",
      " #   Column        Non-Null Count   Dtype         \n",
      "---  ------        --------------   -----         \n",
      " 0   weaponnumber  487931 non-null  category      \n",
      " 1   weaponkind    487931 non-null  category      \n",
      " 2   organunit     487931 non-null  category      \n",
      " 3   reasonsearch  487931 non-null  category      \n",
      " 4   insertdate    487931 non-null  datetime64[ns]\n",
      " 5   theftdate     487331 non-null  datetime64[ns]\n",
      "dtypes: category(4), datetime64[ns](2)\n",
      "memory usage: 40.0 MB\n"
     ]
    }
   ],
   "source": [
    "# Reducing DataFrame size by converting variables to lighter and more flexible data types\n",
    "for c in pre_df.columns:\n",
    "    if c in ['insertdate', 'theftdate']:\n",
    "        pre_df[c] = pd.to_datetime(pre_df[c], utc=True, format='%Y-%m-%d', errors = 'coerce').dt.date\n",
    "        pre_df[c] = pre_df[c].astype('datetime64')\n",
    "    else:\n",
    "        pre_df[c] = pre_df[c].astype('category')\n",
    "\n",
    "pre_df.info(memory_usage='deep', show_counts=True)"
   ]
  },
  {
   "cell_type": "markdown",
   "id": "819d85d5",
   "metadata": {
    "tags": []
   },
   "source": [
    "***\n",
    "## Data Cleaning & Feature Engineering"
   ]
  },
  {
   "cell_type": "code",
   "execution_count": 20,
   "id": "9896c25e-4187-4965-bd41-e5a1b5140ff0",
   "metadata": {},
   "outputs": [],
   "source": [
    "df = pre_df.copy()"
   ]
  },
  {
   "cell_type": "code",
   "execution_count": 21,
   "id": "6e984a9c-37d1-45a3-a30a-58ad1333408b",
   "metadata": {},
   "outputs": [
    {
     "data": {
      "text/html": [
       "<div>\n",
       "<style scoped>\n",
       "    .dataframe tbody tr th:only-of-type {\n",
       "        vertical-align: middle;\n",
       "    }\n",
       "\n",
       "    .dataframe tbody tr th {\n",
       "        vertical-align: top;\n",
       "    }\n",
       "\n",
       "    .dataframe thead th {\n",
       "        text-align: right;\n",
       "    }\n",
       "</style>\n",
       "<table border=\"1\" class=\"dataframe\">\n",
       "  <thead>\n",
       "    <tr style=\"text-align: right;\">\n",
       "      <th></th>\n",
       "      <th>insertdate</th>\n",
       "      <th>theftdate</th>\n",
       "    </tr>\n",
       "  </thead>\n",
       "  <tbody>\n",
       "    <tr>\n",
       "      <th>count</th>\n",
       "      <td>487931</td>\n",
       "      <td>487331</td>\n",
       "    </tr>\n",
       "    <tr>\n",
       "      <th>mean</th>\n",
       "      <td>2017-10-24 19:53:08.272932352</td>\n",
       "      <td>2016-03-20 06:10:38.828229376</td>\n",
       "    </tr>\n",
       "    <tr>\n",
       "      <th>min</th>\n",
       "      <td>1920-12-31 00:00:00</td>\n",
       "      <td>1919-02-15 00:00:00</td>\n",
       "    </tr>\n",
       "    <tr>\n",
       "      <th>25%</th>\n",
       "      <td>2017-03-15 00:00:00</td>\n",
       "      <td>2014-05-31 00:00:00</td>\n",
       "    </tr>\n",
       "    <tr>\n",
       "      <th>50%</th>\n",
       "      <td>2018-02-14 00:00:00</td>\n",
       "      <td>2017-02-21 00:00:00</td>\n",
       "    </tr>\n",
       "    <tr>\n",
       "      <th>75%</th>\n",
       "      <td>2020-07-03 00:00:00</td>\n",
       "      <td>2020-06-17 00:00:00</td>\n",
       "    </tr>\n",
       "    <tr>\n",
       "      <th>max</th>\n",
       "      <td>2022-11-29 00:00:00</td>\n",
       "      <td>2022-11-28 00:00:00</td>\n",
       "    </tr>\n",
       "  </tbody>\n",
       "</table>\n",
       "</div>"
      ],
      "text/plain": [
       "                          insertdate                      theftdate\n",
       "count                         487931                         487331\n",
       "mean   2017-10-24 19:53:08.272932352  2016-03-20 06:10:38.828229376\n",
       "min              1920-12-31 00:00:00            1919-02-15 00:00:00\n",
       "25%              2017-03-15 00:00:00            2014-05-31 00:00:00\n",
       "50%              2018-02-14 00:00:00            2017-02-21 00:00:00\n",
       "75%              2020-07-03 00:00:00            2020-06-17 00:00:00\n",
       "max              2022-11-29 00:00:00            2022-11-28 00:00:00"
      ]
     },
     "execution_count": 21,
     "metadata": {},
     "output_type": "execute_result"
    }
   ],
   "source": [
    "df.describe(datetime_is_numeric=True)"
   ]
  },
  {
   "cell_type": "markdown",
   "id": "db79b0b1",
   "metadata": {},
   "source": [
    "***\n",
    "### reasonsearch"
   ]
  },
  {
   "cell_type": "code",
   "execution_count": 22,
   "id": "d65362d0",
   "metadata": {
    "code_folding": [
     0
    ]
   },
   "outputs": [
    {
     "data": {
      "text/plain": [
       "ВТРАТА        380842\n",
       "ВИКРАДЕННЯ    107089\n",
       "Name: reasonsearch, dtype: int64"
      ]
     },
     "execution_count": 22,
     "metadata": {},
     "output_type": "execute_result"
    }
   ],
   "source": [
    "# Counting number of occurences of values in the \"reasonsearch\" column\n",
    "df['reasonsearch'].value_counts()"
   ]
  },
  {
   "cell_type": "markdown",
   "id": "fe7e0c0c",
   "metadata": {},
   "source": [
    "In some cases converting values of dichotomous variables into 0s and 1s would be a correct\n",
    "approach. However, in this case it is easier to leave format as it is. Mainly because it is more intuitive to interpret 1 and 0 as lost and found, or stolen and returned, rather than stolen and lost."
   ]
  },
  {
   "cell_type": "code",
   "execution_count": 23,
   "id": "ff21c627",
   "metadata": {
    "code_folding": [
     0
    ]
   },
   "outputs": [],
   "source": [
    "# Changing words case from \"uppercase\" to \"title case\"\n",
    "df['reasonsearch'] = df['reasonsearch'].str.title()"
   ]
  },
  {
   "cell_type": "code",
   "execution_count": 24,
   "id": "ea316729",
   "metadata": {},
   "outputs": [
    {
     "data": {
      "text/html": [
       "<div>\n",
       "<style scoped>\n",
       "    .dataframe tbody tr th:only-of-type {\n",
       "        vertical-align: middle;\n",
       "    }\n",
       "\n",
       "    .dataframe tbody tr th {\n",
       "        vertical-align: top;\n",
       "    }\n",
       "\n",
       "    .dataframe thead th {\n",
       "        text-align: right;\n",
       "    }\n",
       "</style>\n",
       "<table border=\"1\" class=\"dataframe\">\n",
       "  <thead>\n",
       "    <tr style=\"text-align: right;\">\n",
       "      <th></th>\n",
       "      <th>weaponnumber</th>\n",
       "      <th>weaponkind</th>\n",
       "      <th>organunit</th>\n",
       "      <th>reasonsearch</th>\n",
       "      <th>insertdate</th>\n",
       "      <th>theftdate</th>\n",
       "    </tr>\n",
       "  </thead>\n",
       "  <tbody>\n",
       "    <tr>\n",
       "      <th>0</th>\n",
       "      <td>36</td>\n",
       "      <td>РЕВОЛЬВЕР</td>\n",
       "      <td>МАНГУШСЬКЕ ВІДДІЛЕННЯ ПОЛІЦІЇ ЦЕНТРАЛЬНОГО ВІДДІЛУ ГУНП В ДОНЕЦЬКІЙ ОБЛ.</td>\n",
       "      <td>Викрадення</td>\n",
       "      <td>1978-03-09</td>\n",
       "      <td>1978-03-09</td>\n",
       "    </tr>\n",
       "  </tbody>\n",
       "</table>\n",
       "</div>"
      ],
      "text/plain": [
       "  weaponnumber weaponkind  \\\n",
       "0           36  РЕВОЛЬВЕР   \n",
       "\n",
       "                                                                  organunit  \\\n",
       "0  МАНГУШСЬКЕ ВІДДІЛЕННЯ ПОЛІЦІЇ ЦЕНТРАЛЬНОГО ВІДДІЛУ ГУНП В ДОНЕЦЬКІЙ ОБЛ.   \n",
       "\n",
       "  reasonsearch insertdate  theftdate  \n",
       "0   Викрадення 1978-03-09 1978-03-09  "
      ]
     },
     "execution_count": 24,
     "metadata": {},
     "output_type": "execute_result"
    }
   ],
   "source": [
    "df.head(1)"
   ]
  },
  {
   "cell_type": "code",
   "execution_count": 25,
   "id": "6ecf52cb",
   "metadata": {
    "code_folding": [
     0
    ]
   },
   "outputs": [],
   "source": [
    "# Optional (translating values into English)\n",
    "df['reasonsearch'].replace('Викрадення','Theft',inplace=True)\n",
    "df['reasonsearch'].replace('Втрата','Loss',inplace=True)"
   ]
  },
  {
   "cell_type": "code",
   "execution_count": 26,
   "id": "f713664f",
   "metadata": {
    "code_folding": [
     0
    ]
   },
   "outputs": [
    {
     "data": {
      "text/plain": [
       "CategoricalDtype(categories=['Loss', 'Theft'], ordered=False)"
      ]
     },
     "execution_count": 26,
     "metadata": {},
     "output_type": "execute_result"
    }
   ],
   "source": [
    "# Casting values to category data type\n",
    "df['reasonsearch'] = df['reasonsearch'].astype('category')\n",
    "df['reasonsearch'].dtype"
   ]
  },
  {
   "cell_type": "code",
   "execution_count": 27,
   "id": "0ae57a7e",
   "metadata": {
    "code_folding": [
     0
    ]
   },
   "outputs": [],
   "source": [
    "# Renaming reasonserach to \"report\"\n",
    "df.rename(columns={'reasonsearch':'report'}, inplace=True)"
   ]
  },
  {
   "cell_type": "markdown",
   "id": "c305b1fd",
   "metadata": {},
   "source": [
    "***\n",
    "### organunit"
   ]
  },
  {
   "cell_type": "code",
   "execution_count": 28,
   "id": "f491326a",
   "metadata": {
    "code_folding": [
     0
    ],
    "scrolled": true
   },
   "outputs": [
    {
     "data": {
      "text/plain": [
       "ГОЛОВНЕ УПРАВЛІННЯ НАЦІОНАЛЬНОЇ ПОЛІЦІЇ В АВТОНОМНІЙ РЕСПУБЛІЦІ КРИМ ТА М. СЕВАСТОПОЛІ                                                                     119491\n",
       "ГОЛОВНЕ УПРАВЛІННЯ НАЦІОНАЛЬНОЇ ПОЛІЦІЇ В ДОНЕЦЬКІЙ ОБЛАСТІ.                                                                                                68785\n",
       "ГОЛОВНЕ УПРАВЛІННЯ НАЦІОНАЛЬНОЇ ПОЛІЦІЇ В ЗАПОРІЗЬКІЙ ОБЛАСТІ                                                                                               18882\n",
       "ГОЛОВНЕ УПРАВЛІННЯ НАЦІОНАЛЬНОЇ ПОЛІЦІЇ В ЛУГАНСЬКІЙ ОБЛАСТІ                                                                                                16864\n",
       "ОХТИРСЬКИЙ ВІДДІЛ ПОЛІЦІЇ ГУНП В СУМСЬКІЙ ОБЛАСТІ                                                                                                            7134\n",
       "БІЛОКУРАКИНСЬКИЙ ВІДДІЛ ПОЛІЦІЇ ГУНП В ЛУГАНСЬКІЙ ОБЛАСТІ                                                                                                    5777\n",
       "СТАРОБІЛЬСЬКИЙ ВІДДІЛ ПОЛІЦІЇ ГУНП В ЛУГАНСЬКІЙ ОБЛАСТІ                                                                                                      4683\n",
       "СОЛОМ’ЯНСЬКЕ УПРАВЛІННЯ ПОЛІЦІЇ ГУНП В М. КИЄВІ                                                                                                              4479\n",
       "ШЕВЧЕНКІВСЬКЕ УПРАВЛІННЯ ПОЛІЦІЇ ГУНП В М. КИЄВІ                                                                                                             4370\n",
       "ДНІПРОВСЬКЕ УПРАВЛІННЯ ПОЛІЦІЇ ГУНП В М. КИЄВІ                                                                                                               4309\n",
       "ТРОЇЦЬКИЙ ВІДДІЛ ПОЛІЦІЇ ГУНП В ЛУГАНСЬКІЙ ОБЛАСТІ                                                                                                           4092\n",
       "СВАТІВСЬКИЙ ВІДДІЛ ПОЛІЦІЇ ГУНП В ЛУГАНСЬКІЙ ОБЛАСТІ                                                                                                         3924\n",
       "ШЕВЧЕНКІВСЬКИЙ  ВІДДІЛ ПОЛІЦІЇ ГУНП В ХАРКІВСЬКІЙ ОБЛАСТІ                                                                                                    3875\n",
       "ДАРНИЦЬКЕ УПРАВЛІННЯ ПОЛІЦІЇ ГУНП В М. КИЄВІ                                                                                                                 3567\n",
       "ЛИСИЧАНСЬКИЙ ВІДДІЛ ПОЛІЦІЇ ГУНП В ЛУГАНСЬКІЙ ОБЛАСТІ                                                                                                        3514\n",
       "МОСКОВСЬКИЙ ВІДДІЛ ПОЛІЦІЇ ГУНП В ХАРКІВСЬКІЙ ОБЛАСТІ                                                                                                        3500\n",
       "ДНІПРОВСЬКЕ ВІДДІЛЕННЯ ПОЛІЦІЇ ХЕРСОНСЬКОГО ВІДДІЛУ ГУ НП В ХЕРСОНСЬКІЙ ОБЛАСТІ                                                                              3428\n",
       "ДЕСНЯНСЬКЕ УПРАВЛІННЯ ПОЛІЦІЇ ГУНП В М. КИЄВІ                                                                                                                3322\n",
       "ХЕРСОНСЬКИЙ ВІДДІЛ ПОЛІЦІЇ ГУНП В ХЕРСОНСЬКІЙ ОБЛАСТІ                                                                                                        3237\n",
       "КИЄВО-СВЯТОШИНСЬКИЙ ВІДДІЛ ПОЛІЦІЇ ГУНП В КИЇВСЬКІЙ ОБЛАСТІ                                                                                                  3007\n",
       "ПОКРОВСЬКИЙ ВІДДІЛ ПОЛІЦІЇ ГУНП В ДОНЕЦЬКІЙ ОБЛ.                                                                                                             2973\n",
       "СВЯТОШИНСЬКЕ УПРАВЛІННЯ ПОЛІЦІЇ ГУНП В М. КИЄВІ                                                                                                              2963\n",
       "ПЕЧЕРСЬКЕ УПРАВЛІННЯ ПОЛІЦІЇ ГУНП В М. КИЄВІ                                                                                                                 2946\n",
       "СУМСЬКИЙ ВІДДІЛ ПОЛІЦІЇ ГУНП В СУМСЬКІЙ ОБЛАСТІ                                                                                                              2906\n",
       "НОВОМОСКОВСЬКИЙ ВІДДІЛ ПОЛІЦІЇ ГУНП В ДНІПРОПЕТРОВСЬКІЙ ОБЛ.                                                                                                 2833\n",
       "ЛУГАНСЬКЕ МУ ГУМВСУ У ЛУГАНСЬКІЙ ОБЛ.                                                                                                                        2787\n",
       "ОБОЛОНСЬКЕ УПРАВЛІННЯ ПОЛІЦІЇ ГУНП В М. КИЄВІ                                                                                                                2688\n",
       "КИЇВСЬКИЙ ВІДДІЛ ПОЛІЦІЇ В МІСТІ ОДЕСІ ГУНП В ОДЕСЬКІЙ ОБЛАСТІ                                                                                               2590\n",
       "ГОЛОВНЕ УПРАВЛІННЯ НАЦІОНАЛЬНОЇ ПОЛІЦІЇ В ЧЕРНІГІВСЬКІЙ ОБЛАСТІ.                                                                                             2552\n",
       "КИЇВСЬКИЙ ВІДДІЛ ПОЛІЦІЇ ГУНП В ХАРКІВСЬКІЙ ОБЛАСТІ                                                                                                          2539\n",
       "СЄВЄРОДОНЕЦЬКИЙ ВІДДІЛ ПОЛІЦІЇ ГУНП В ЛУГАНСЬКІЙ ОБЛАСТІ                                                                                                     2483\n",
       "БАХМУТСЬКИЙ ВІДДІЛ ПОЛІЦІЇ ГУНП В ДОНЕЦЬКІЙ ОБЛ.                                                                                                             2464\n",
       "ДНІПРОВСЬКИЙ ВІДДІЛ ПОЛІЦІЇ ГУНП В ЗАПОРІЗЬКІЙ ОБЛАСТІ                                                                                                       2325\n",
       "БРОВАРСЬКИЙ ВІДДІЛ ПОЛІЦІЇ ГУНП В КИЇВСЬКІЙ ОБЛАСТІ                                                                                                          2275\n",
       "ЦЕНТРАЛЬНИЙ ВІДДІЛ ПОЛІЦІЇ ГУНП В ДОНЕЦЬКІЙ ОБЛ.                                                                                                             2265\n",
       "ГОЛОСІЇВСЬКЕ УПРАВЛІННЯ ПОЛІЦІЇ ГУНП В М. КИЄВІ                                                                                                              2211\n",
       "МАЛИНОВСЬКИЙ ВІДДІЛ ПОЛІЦІЇ В МІСТІ ОДЕСІ ГУНП В ОДЕСЬКІЙ ОБЛАСТІ                                                                                            2172\n",
       "НОВОПСКОВСЬКИЙ ВІДДІЛ ПОЛІЦІЇ ГУНП В ЛУГАНСЬКІЙ ОБЛАСТІ                                                                                                      2156\n",
       "БІЛОЦЕРКІВСЬКИЙ ВІДДІЛ ПОЛІЦІЇ ГУНП В КИЇВСЬКІЙ ОБЛАСТІ                                                                                                      2151\n",
       "ОЛЕКСАНДРІВСЬКЕ ВІДДІЛЕННЯ ПОЛІЦІЇ ДНІПРОВСЬКОГО ВІДДІЛУ ГУНП В ЗАПОРІЗЬКІЙ ОБЛАСТІ                                                                          2127\n",
       "ВОЛОДИМИР-ВОЛИНСЬКИЙ ВІДДІЛ ПОЛІЦІЇ ГУНП У ВОЛИНСЬКІЙ ОБЛАСТІ                                                                                                2112\n",
       "ВІННИЦЬКИЙ ВІДДІЛ ПОЛІЦІЇ ГУНП У ВІННИЦЬКІЙ ОБЛАСТІ                                                                                                          2054\n",
       "КРАМАТОРСЬКИЙ ВІДДІЛ ПОЛІЦІЇ ГУНП В ДОНЕЦЬКІЙ ОБЛ.                                                                                                           1895\n",
       "ГОЛОВНЕ УПРАВЛІННЯ НАЦІОНАЛЬНОЇ ПОЛІЦІЇ В М. КИЄВІ                                                                                                           1877\n",
       "ВИШГОРОДСЬКИЙ ВІДДІЛ ПОЛІЦІЇ ГУНП В КИЇВСЬКІЙ ОБЛАСТІ                                                                                                        1815\n",
       "СВЕРДЛОВСЬКИЙ МВ ГУМВСУ У ЛУГАНСЬКІЙ ОБЛ.                                                                                                                    1812\n",
       "ПОПАСНЯНСЬКИЙ ВІДДІЛ ПОЛІЦІЇ ГУНП В ЛУГАНСЬКІЙ ОБЛАСТІ                                                                                                       1794\n",
       "ЦЕНТРАЛЬНИЙ ВІДДІЛ ПОЛІЦІЇ ГУНП В МИКОЛАЇВСЬКІЙ ОБЛАСТІ                                                                                                      1778\n",
       "ПОДІЛЬСЬКЕ УПРАВЛІННЯ ПОЛІЦІЇ ГУНП В М. КИЄВІ                                                                                                                1736\n",
       "ГОЛОВНЕ УПРАВЛІННЯ НАЦІОНАЛЬНОЇ ПОЛІЦІЇ В КИЇВСЬКІЙ ОБЛАСТІ                                                                                                  1724\n",
       "ЧЕРКАСЬКИЙ ВІДДІЛ ПОЛІЦІЇ ГУНП В ЧЕРКАСЬКІЙ ОБЛАСТІ.                                                                                                         1697\n",
       "ІРПІНСЬКИЙ ВІДДІЛ ПОЛІЦІЇ ГУНП В КИЇВСЬКІЙ ОБЛАСТІ                                                                                                           1688\n",
       "ШЕВЧЕНКІВСЬКЕ ВІДДІЛЕННЯ ПОЛІЦІЇ ПРИМОРСЬКОГО ВІДДІЛУ ПОЛІЦІЇ В МІСТІ ОДЕСІ ГУНП В ОДЕСЬКІЙ ОБЛАСТІ                                                          1678\n",
       "ГОЛОВНЕ УПРАВЛІННЯ НАЦІОНАЛЬНОЇ ПОЛІЦІЇ В ІВАНО-ФРАНКІВСЬКІЙ ОБЛАСТІ                                                                                         1631\n",
       "ТЕРНОПІЛЬСЬКИЙ ВІДДІЛ ПОЛІЦІЇ ГУНП В ТЕРНОПІЛЬСЬКІЙ ОБЛАСТІ                                                                                                  1616\n",
       "РОВЕНЬКІВСЬКИЙ МВ ГУМВСУ У ЛУГАНСЬКІЙ ОБЛ.                                                                                                                   1568\n",
       "МУКАЧІВСЬКИЙ ВІДДІЛ ПОЛІЦІЇ ГУНП В ЗАКАРПАТСЬКІЙ ОБЛАСТІ                                                                                                     1526\n",
       "СЛОВ’ЯНСЬКИЙ ВІДДІЛ ПОЛІЦІЇ ГУНП В ДОНЕЦЬКІЙ ОБЛ.                                                                                                            1513\n",
       "ЛУЦЬКИЙ ВІДДІЛ ПОЛІЦІЇ ГУНП У ВОЛИНСЬКІЙ ОБЛАСТІ                                                                                                             1467\n",
       "ЧЕРНІГІВСЬКИЙ ВІДДІЛ ПОЛІЦІЇ ГУНП В ЧЕРНІГІВСЬКІЙ ОБЛАСТІ.                                                                                                   1426\n",
       "ЗАВОДСЬКИЙ ВІДДІЛ ПОЛІЦІЇ ГУНП В МИКОЛАЇВСЬКІЙ ОБЛАСТІ                                                                                                       1400\n",
       "НОВОГРАД-ВОЛИНСЬКИЙ ВІДДІЛ ПОЛІЦІЇ ГУНП В ЖИТОМИРСЬКІЙ ОБЛАСТІ                                                                                               1391\n",
       "МАР’ЇНСЬКЕ ВІДДІЛЕННЯ ПОЛІЦІЇ ВОЛНОВАСЬКОГО ВІДДІЛУ ГУНП В ДОНЕЦЬКІЙ ОБЛ.                                                                                    1359\n",
       "СУВОРОВСЬКИЙ ВІДДІЛ ПОЛІЦІЇ В МІСТІ ОДЕСІ ГУНП В ОДЕСЬКІЙ ОБЛАСТІ                                                                                            1352\n",
       "БОРИСПІЛЬСЬКИЙ ВІДДІЛ ПОЛІЦІЇ ГУНП В КИЇВСЬКІЙ ОБЛАСТІ                                                                                                       1350\n",
       "РУБІЖАНСЬКИЙ ВІДДІЛ ПОЛІЦІЇ ГУНП В ЛУГАНСЬКІЙ ОБЛАСТІ                                                                                                        1347\n",
       "БІЛЯЇВСЬКИЙ ВІДДІЛ ПОЛІЦІЇ ГУНП В ОДЕСЬКІЙ ОБЛАСТІ                                                                                                           1219\n",
       "КРЕМІНСЬКИЙ ВІДДІЛ ПОЛІЦІЇ ГУНП В ЛУГАНСЬКІЙ ОБЛАСТІ                                                                                                         1208\n",
       "РІВНЕНСЬКИЙ ВІДДІЛ ПОЛІЦІЇ ГУНП В РІВНЕНСЬКІЙ ОБЛ.                                                                                                           1179\n",
       "ВІДДІЛ ПОЛІЦІЇ ЗОНИ ЧОРНОБИЛЬСЬКОЇ АЕС ГУНП В КИЇВСЬКІЙ ОБЛАСТІ                                                                                              1179\n",
       "ВОЛНОВАСЬКИЙ ВІДДІЛ ПОЛІЦІЇ ГУНП В ДОНЕЦЬКІЙ ОБЛ.                                                                                                            1152\n",
       "ПРИМОРСЬКИЙ ВІДДІЛ ПОЛІЦІЇ В МІСТІ ОДЕСІ ГУНП В ОДЕСЬКІЙ ОБЛАСТІ                                                                                             1138\n",
       "ЯВОРІВСЬКИЙ ВІДДІЛ ПОЛІЦІЇ ГУНП У ЛЬВІВСЬКІЙ ОБЛАСТІ                                                                                                         1129\n",
       "ЧУГУЇВСЬКИЙ ВІДДІЛ ПОЛІЦІЇ ГУНП В ХАРКІВСЬКІЙ ОБЛАСТІ                                                                                                        1105\n",
       "ІВАНО-ФРАНКІВСЬКИЙ ВІДДІЛ ПОЛІЦІЇ ГУНП В ІВАНО-ФРАНКІВСЬКІЙ ОБЛАСТІ                                                                                          1047\n",
       "ОЧАКІВСЬКИЙ ВІДДІЛ ПОЛІЦІЇ ГУНП В МИКОЛАЇВСЬКІЙ ОБЛАСТІ                                                                                                      1030\n",
       "БІЛОВОДСЬКИЙ ВІДДІЛ ПОЛІЦІЇ ГУНП В ЛУГАНСЬКІЙ ОБЛАСТІ                                                                                                        1010\n",
       "ГОЛОВНЕ УПРАВЛІННЯ НАЦІОНАЛЬНОЇ ПОЛІЦІЇ У ЛЬВІВСЬКІЙ ОБЛАСТІ                                                                                                  986\n",
       "(ВИКЛЮЧЕНО) ЦЕНТРАЛЬНО-МІСЬКЕ ВП КРИВОРІЗЬКОГО ВІДДІЛУ ГУНП В ДНІПРОПЕТРОВСЬКІЙ ОБЛ.                                                                          981\n",
       "ВЕЛИКОНОВОСІЛКІВСЬКЕ ВІДДІЛЕННЯ ПОЛІЦІЇ ВОЛНОВАСЬКОГО ВІДДІЛУ ГУНП В ДОНЕЦЬКІЙ ОБЛ.                                                                           964\n",
       "КРИВОРІЗЬКИЙ ВІДДІЛ ПОЛІЦІЇ ГУНП В ДНІПРОПЕТРОВСЬКІЙ ОБЛ.                                                                                                     957\n",
       "МАРКІВСЬКИЙ ВІДДІЛ ПОЛІЦІЇ ГУНП В ЛУГАНСЬКІЙ ОБЛАСТІ                                                                                                          927\n",
       "НОВОБАВАРСЬКИЙ ВІДДІЛ ПОЛІЦІЇ ГУНП В ХАРКІВСЬКІЙ ОБЛАСТІ                                                                                                      916\n",
       "КАЛІНІНСЬКИЙ РВ ДОНЕЦЬКОГО МУ ГУМВСУ В ДОНЕЦЬКІЙ ОБЛ.                                                                                                         906\n",
       "МИРГОРОДСЬКИЙ ВІДДІЛ ПОЛІЦІЇ ГУНП В ПОЛТАВСЬКІЙ ОБЛАСТІ                                                                                                       868\n",
       "ВОЗНЕСЕНСЬКИЙ ВІДДІЛ ПОЛІЦІЇ ГУНП В МИКОЛАЇВСЬКІЙ ОБЛАСТІ                                                                                                     860\n",
       "ЧЕРНІГІВСЬКЕ РАЙОННЕ ВІДДІЛЕННЯ ПОЛІЦІЇ ЧЕРНІГІВСЬКОГО ВІДДІЛУ ГУНП В ЧЕРНІГІВСЬКІЙ ОБЛАСТІ.                                                                  848\n",
       "КОМУНАРСЬКЕ ВІДДІЛЕННЯ ПОЛІЦІЇ ДНІПРОВСЬКОГО ВІДДІЛУ ГУНП В ЗАПОРІЗЬКІЙ ОБЛАСТІ                                                                               744\n",
       "ОСНОВ’ЯНСЬКИЙ ВІДДІЛ ПОЛІЦІЇ ГУНП В ХАРКІВСЬКІЙ ОБЛАСТІ                                                                                                       741\n",
       "ЧОРТКІВСЬКИЙ ВІДДІЛ ПОЛІЦІЇ ГУНП В ТЕРНОПІЛЬСЬКІЙ ОБЛАСТІ                                                                                                     732\n",
       "ЖИТОМИРСЬКИЙ ВІДДІЛ ПОЛІЦІЇ ГУНП В ЖИТОМИРСЬКІЙ ОБЛАСТІ                                                                                                       731\n",
       "НІЖИНСЬКИЙ ВІДДІЛ ПОЛІЦІЇ ГУНП В ЧЕРНІГІВСЬКІЙ ОБЛАСТІ.                                                                                                       699\n",
       "ШЕВЧЕНКІВСЬКЕ ВІДДІЛЕННЯ ПОЛІЦІЇ ДНІПРОВСЬКОГО ВІДДІЛУ ГУНП В ДНІПРОПЕТРОВСЬКІЙ ОБЛ.                                                                          693\n",
       "ПОЛТАВСЬКИЙ ВІДДІЛ ПОЛІЦІЇ ГУНП В ПОЛТАВСЬКІЙ ОБЛАСТІ                                                                                                         680\n",
       "СТАНИЧНО-ЛУГАНСЬКИЙ ВІДДІЛ ПОЛІЦІЇ ГУНП В ЛУГАНСЬКІЙ ОБЛАСТІ                                                                                                  663\n",
       "БІЛГОРОД-ДНІСТРОВСЬКИЙ ВІДДІЛ ПОЛІЦІЇ ГУНП В ОДЕСЬКІЙ ОБЛАСТІ                                                                                                 661\n",
       "ТОРЕЦЬКЕ ВІДДІЛЕННЯ ПОЛІЦІЇ БАХМУТСЬКОГО ВІДДІЛУ ГУНП В ДОНЕЦЬКІЙ ОБЛ.                                                                                        653\n",
       "СОБОРНЕ ВІДДІЛЕННЯ ПОЛІЦІЇ ДНІПРОВСЬКОГО ВІДДІЛУ ГУНП В ДНІПРОПЕТРОВСЬКІЙ ОБЛ.                                                                                634\n",
       "СЛОБІДСЬКИЙ ВІДДІЛ ПОЛІЦІЇ ГУНП В ХАРКІВСЬКІЙ ОБЛАСТІ                                                                                                         633\n",
       "ШЕВЧЕНКІВСЬКЕ ВІДДІЛЕННЯ ПОЛІЦІЇ ДНІПРОВСЬКОГО ВІДДІЛУ ГУНП В ЗАПОРІЗЬКІЙ ОБЛАСТІ                                                                             630\n",
       "ІНГУЛЬСЬКИЙ ВІДДІЛ ПОЛІЦІЇ ГУНП В МИКОЛАЇВСЬКІЙ ОБЛАСТІ                                                                                                       629\n",
       "ХОЛОДНОГІРСЬКИЙ ВІДДІЛ ПОЛІЦІЇ ГУНП В ХАРКІВСЬКІЙ ОБЛАСТІ                                                                                                     617\n",
       "ВІДДІЛЕННЯ ПОЛІЦІЇ №1 ПОЛТАВСЬКОГО ВІДДІЛУ ГУНП В ПОЛТАВСЬКІЙ ОБЛАСТІ                                                                                         613\n",
       "ВАСИЛЬКІВСЬКИЙ ВІДДІЛ ПОЛІЦІЇ ГУНП В КИЇВСЬКІЙ ОБЛАСТІ                                                                                                        611\n",
       "АМУР-НИЖНЬОДНІПРОВСЬКЕ ВІДДІЛЕННЯ ПОЛІЦІЇ ДНІПРОВСЬКОГО ВІДДІЛУ ГУНП В ДНІПРОПЕТРОВСЬКІЙ ОБЛ.                                                                 607\n",
       "ФРАНКІВСЬКИЙ ВІДДІЛ ПОЛІЦІЇ ГУНП У ЛЬВІВСЬКІЙ ОБЛАСТІ                                                                                                         604\n",
       "МІЛОВСЬКИЙ ВІДДІЛ ПОЛІЦІЇ ГУНП В ЛУГАНСЬКІЙ ОБЛАСТІ                                                                                                           598\n",
       "ІЗЮМСЬКИЙ ВІДДІЛ ПОЛІЦІЇ ГУНП В ХАРКІВСЬКІЙ ОБЛАСТІ                                                                                                           577\n",
       "ОВІДІОПОЛЬСЬКИЙ ВІДДІЛ ПОЛІЦІЇ ГУНП В ОДЕСЬКІЙ ОБЛАСТІ                                                                                                        576\n",
       "ГОЛОВНЕ УПРАВЛІННЯ НАЦІОНАЛЬНОЇ ПОЛІЦІЇ В КІРОВОГРАДСЬКІЙ ОБЛАСТІ                                                                                             570\n",
       "КУП’ЯНСЬКИЙ ВІДДІЛ ПОЛІЦІЇ ГУНП В ХАРКІВСЬКІЙ ОБЛАСТІ                                                                                                         570\n",
       "ЯГОТИНСЬКЕ ВІДДІЛЕННЯ ПОЛІЦІЇ ПЕРЕЯСЛАВ-ХМЕЛЬНИЦЬКОГО ВІДДІЛУ ГУНП В КИЇВСЬКІЙ ОБЛАСТІ                                                                        566\n",
       "НОВОКОДАЦЬКЕ ВІДДІЛЕННЯ ПОЛІЦІЇ ДНІПРОВСЬКОГО ВІДДІЛУ ГУНП В ДНІПРОПЕТРОВСЬКІЙ ОБЛ.                                                                           557\n",
       "НЕМИШЛЯНСЬКИЙ  ВІДДІЛ ПОЛІЦІЇ ГУНП В ХАРКІВСЬКІЙ ОБЛАСТІ                                                                                                      542\n",
       "КРЕМЕНЧУЦЬКИЙ ВІДДІЛ ПОЛІЦІЇ ГУНП В ПОЛТАВСЬКІЙ ОБЛАСТІ                                                                                                       541\n",
       "КРОПИВНИЦЬКИЙ ВІДДІЛ ПОЛІЦІЇ ГУНП В КІРОВОГРАДСЬКІЙ ОБЛАСТІ                                                                                                   528\n",
       "ГОЛОВНЕ УПРАВЛІННЯ НАЦІОНАЛЬНОЇ ПОЛІЦІЇ В ДНІПРОПЕТРОВСЬКІЙ ОБЛАСТІ                                                                                           505\n",
       "ЧЕЧЕЛІВСЬКЕ ВІДДІЛЕННЯ ПОЛІЦІЇ ДНІПРОВСЬКОГО ВІДДІЛУ ГУНП В ДНІПРОПЕТРОВСЬКІЙ ОБЛ.                                                                            504\n",
       "ГОЛОВНЕ УПРАВЛІННЯ НАЦІОНАЛЬНОЇ ПОЛІЦІЇ В ЗАКАРПАТСЬКІЙ ОБЛАСТІ                                                                                               502\n",
       "ЧОРНОМОРСЬКЕ ВІДДІЛЕННЯ ПОЛІЦІЇ ОВІДІОПОЛЬСЬКОГО ВІДДІЛУ ГУНП В ОДЕСЬКІЙ ОБЛАСТІ                                                                              497\n",
       "ДРУЖКІВСЬКЕ ВІДДІЛЕННЯ ПОЛІЦІЇ КРАМАТОРСЬКОГО  ВІДДІЛУ ГУНП В ДОНЕЦЬКІЙ ОБЛ.                                                                                  493\n",
       "ЛЕНІНСЬКИЙ РВВС М. ВІННИЦІ ВІННИЦЬКОЇ ОБЛАСТІ                                                                                                                 486\n",
       "ВОЗНЕСЕНІВСЬКЕ ВІДДІЛЕННЯ ПОЛІЦІЇ ДНІПРОВСЬКОГО ВІДДІЛУ ГУНП В ЗАПОРІЗЬКІЙ ОБЛАСТІ                                                                            466\n",
       "БАРИШІВСЬКЕ ВІДДІЛЕННЯ ПОЛІЦІЇ ПЕРЕЯСЛАВ-ХМЕЛЬНИЦЬКОГО ВІДДІЛУ ГУНП В КИЇВСЬКІЙ ОБЛАСТІ                                                                       466\n",
       "НАЦІОНАЛЬНА ПОЛІЦІЯ УКРАЇНИ                                                                                                                                   464\n",
       "ІНДУСТРІАЛЬНИЙ ВІДДІЛ ПОЛІЦІЇ ГУНП В ХАРКІВСЬКІЙ ОБЛАСТІ                                                                                                      461\n",
       "ГАЛИЦЬКИЙ ВІДДІЛ ПОЛІЦІЇ ГУНП У ЛЬВІВСЬКІЙ ОБЛАСТІ                                                                                                            458\n",
       "ХМЕЛЬНИЦЬКИЙ ВІДДІЛ ПОЛІЦІЇ ГУНП В ХМЕЛЬНИЦЬКІЙ ОБЛАСТІ                                                                                                       455\n",
       "ЗАЛІЗНИЧНИЙ ВІДДІЛ ПОЛІЦІЇ ГУНП У ЛЬВІВСЬКІЙ ОБЛАСТІ                                                                                                          452\n",
       "ПЕРВОМАЙСЬКИЙ ВІДДІЛ ПОЛІЦІЇ ГУНП В МИКОЛАЇВСЬКІЙ ОБЛАСТІ                                                                                                     451\n",
       "ЛИМАНСЬКЕ ВІДДІЛЕННЯ ПОЛІЦІЇ СЛОВ’ЯНСЬКОГО ВІДДІЛУ ГУНП В ДОНЕЦЬКІЙ ОБЛ.                                                                                      444\n",
       "КОВЕЛЬСЬКИЙ ВІДДІЛ ПОЛІЦІЇ ГУНП У ВОЛИНСЬКІЙ ОБЛАСТІ                                                                                                          418\n",
       "ДНІПРОВСЬКИЙ ВІДДІЛ ПОЛІЦІЇ ГУНП В ДНІПРОПЕТРОВСЬКІЙ ОБЛ.                                                                                                     415\n",
       "ЛІВОБЕРЕЖНЕ ВІДДІЛЕННЯ ПОЛІЦІЇ ЦЕНТРАЛЬНОГО ВІДДІЛУ ГУНП В ДОНЕЦЬКІЙ ОБЛ.                                                                                     413\n",
       "СОКАЛЬСЬКЕ ВІДДІЛЕННЯ ПОЛІЦІЇ ЧЕРВОНОГРАДСЬКОГО ВІДДІЛУ ГУНП У ЛЬВІВСЬКІЙ ОБЛАСТІ                                                                             398\n",
       "КАЛЬМІУСЬКЕ ВІДДІЛЕННЯ ПОЛІЦІЇ ЦЕНТРАЛЬНОГО ВІДДІЛУ ГУНП В ДОНЕЦЬКІЙ ОБЛ.                                                                                     387\n",
       "МАКАРІВСЬКЕ ВІДДІЛЕННЯ ПОЛІЦІЇ ІРПІНСЬКОГО ВІДДІЛУ ГУНП В КИЇВСЬКІЙ ОБЛАСТІ                                                                                   387\n",
       "НОВОАЙДАРСЬКИЙ ВІДДІЛ ПОЛІЦІЇ ГУНП В ЛУГАНСЬКІЙ ОБЛАСТІ                                                                                                       387\n",
       "АВДІЇВСЬКЕ ВІДДІЛЕННЯ ПОЛІЦІЇ ПОКРОВСЬКОГО ВІДДІЛУ ПОЛІЦІЇ ГУНП В ДОНЕЦЬКІЙ ОБЛ.                                                                              386\n",
       "ПРИЛУЦЬКИЙ ВІДДІЛ ПОЛІЦІЇ ГУНП В ЧЕРНІГІВСЬКІЙ ОБЛАСТІ.                                                                                                       381\n",
       "БОРОДЯНСЬКЕ ВІДДІЛЕННЯ ПОЛІЦІЇ ІРПІНСЬКОГО ВІДДІЛУ ГУНП В КИЇВСЬКІЙ ОБЛАСТІ                                                                                   374\n",
       "ПРИМОРСЬКЕ ВІДДІЛЕННЯ ПОЛІЦІЇ ЦЕНТРАЛЬНОГО ВІДДІЛУ ГУНП В ДОНЕЦЬКІЙ ОБЛ.                                                                                      369\n",
       "КОСТЯНТИНІВСЬКЕ ВІДДІЛЕННЯ ПОЛІЦІЇ БАХМУТСЬКОГО ВІДДІЛУ ГУНП В ДОНЕЦЬКІЙ ОБЛ.                                                                                 368\n",
       "ЛОЗІВСЬКИЙ ВІДДІЛ ПОЛІЦІЇ ГУНП В ХАРКІВСЬКІЙ ОБЛАСТІ                                                                                                          350\n",
       "ОБУХІВСЬКИЙ ВІДДІЛ ПОЛІЦІЇ ГУНП В КИЇВСЬКІЙ ОБЛАСТІ                                                                                                           347\n",
       "ГОЛОВНЕ УПРАВЛІННЯ НАЦІОНАЛЬНОЇ ПОЛІЦІЇ В ЖИТОМИРСЬКІЙ ОБЛАСТІ                                                                                                347\n",
       "БАЛАКЛІЙСЬКИЙ ВІДДІЛ ПОЛІЦІЇ ГУНП В ХАРКІВСЬКІЙ ОБЛАСТІ                                                                                                       341\n",
       "САКСАГАНСЬКЕ ВІДДІЛЕННЯ ПОЛІЦІЇ КРИВОРІЗЬКОГО ВІДДІЛУ ГУНП В ДНІПРОПЕТРОВСЬКІЙ ОБЛ.                                                                           336\n",
       "ЛИМАНСЬКИЙ ВІДДІЛ ПОЛІЦІЇ ГУНП В ОДЕСЬКІЙ ОБЛАСТІ                                                                                                             331\n",
       "ЧЕРНІВЕЦЬКИЙ ВІДДІЛ ПОЛІЦІЇ ГУНП В ЧЕРНІВЕЦЬКІЙ ОБЛАСТІ                                                                                                       331\n",
       "ІНДУСТРІАЛЬНЕ ВІДДІЛЕННЯ ПОЛІЦІЇ ДНІПРОВСЬКОГО ВІДДІЛУ ГУНП В ДНІПРОПЕТРОВСЬКІЙ ОБЛ.                                                                          331\n",
       "ДНІПРОВСЬКЕ РАЙОННЕ ВІДДІЛЕННЯ ПОЛІЦІЇ ДНІПРОВСЬКОГО ВІДДІЛУ ГУНП В ДНІПРОПЕТРОВСЬКІЙ ОБЛ.                                                                    328\n",
       "КРАСНОГРАДСЬКИЙ ВІДДІЛ ПОЛІЦІЇ ГУНП В ХАРКІВСЬКІЙ ОБЛАСТІ                                                                                                     327\n",
       "ГОЛОВНЕ УПРАВЛІННЯ НАЦІОНАЛЬНОЇ ПОЛІЦІЇ В ОДЕСЬКІЙ ОБЛАСТІ                                                                                                    324\n",
       "ЗАМОСТЯНСЬКИЙ РВВС М. ВІННИЦІ ВІННИЦЬКОЇ ОБЛАСТІ                                                                                                              321\n",
       "ЗАВОДСЬКЕ ВІДДІЛЕННЯ ПОЛІЦІЇ ДНІПРОВСЬКОГО ВІДДІЛУ ГУНП В ЗАПОРІЗЬКІЙ ОБЛАСТІ                                                                                 320\n",
       "ГОЛОВНЕ УПРАВЛІННЯ НАЦІОНАЛЬНОЇ ПОЛІЦІЇ В СУМСЬКІЙ ОБЛАСТІ                                                                                                    320\n",
       "САМАРСЬКЕ ВІДДІЛЕННЯ ПОЛІЦІЇ ДНІПРОВСЬКОГО ВІДДІЛУ ГУНП В ДНІПРОПЕТРОВСЬКІЙ ОБЛ.                                                                              318\n",
       "ЛЕНІНСЬКИЙ РВ ЛУГАНСЬКОГО МУ ГУМВСУ У ЛУГАНСЬКІЙ ОБЛ.                                                                                                         318\n",
       "АВТОЗАВОДСЬКИЙ РВВС М.КРЕМЕНЧУКА ПОЛТАВСЬКОЇ ОБЛ.                                                                                                             304\n",
       "ШЕВЧЕНКІВСЬКИЙ ВІДДІЛ ПОЛІЦІЇ ГУНП У ЛЬВІВСЬКІЙ ОБЛАСТІ                                                                                                       303\n",
       "ІЗМАЇЛЬСЬКИЙ ВІДДІЛ ПОЛІЦІЇ ГУНП В ОДЕСЬКІЙ ОБЛАСТІ                                                                                                           303\n",
       "УВС М. СЕВАСТОПОЛЬ                                                                                                                                            301\n",
       "ВІДДІЛЕННЯ ПОЛІЦІЇ №1 КРЕМЕНЧУЦЬКОГО ВІДДІЛУ ГУНП В ПОЛТАВСЬКІЙ ОБЛАСТІ                                                                                       299\n",
       "ГЛУХІВСЬКИЙ ВІДДІЛ ПОЛІЦІЇ ГУНП В СУМСЬКІЙ ОБЛАСТІ                                                                                                            294\n",
       "ІВАНКІВСЬКЕ ВІДДІЛЕННЯ ПОЛІЦІЇ ВИШГОРОДСЬКОГО ВІДДІЛУ ГУНП В КИЇВСЬКІЙ ОБЛАСТІ                                                                                291\n",
       "ПЕРЕЯСЛАВ-ХМЕЛЬНИЦЬКИЙ ВІДДІЛ ПОЛІЦІЇ ГУНП В КИЇВСЬКІЙ ОБЛАСТІ                                                                                                291\n",
       "ВОВЧАНСЬКИЙ ВІДДІЛ ПОЛІЦІЇ ГУНП В ХАРКІВСЬКІЙ ОБЛАСТІ                                                                                                         290\n",
       "УМАНСЬКИЙ ВІДДІЛ ПОЛІЦІЇ ГУНП В ЧЕРКАСЬКІЙ ОБЛАСТІ.                                                                                                           288\n",
       "МЕЛІТОПОЛЬСЬКИЙ ВІДДІЛ ПОЛІЦІЇ ГУНП В ЗАПОРІЗЬКІЙ ОБЛАСТІ                                                                                                     286\n",
       "ВОРОШИЛОВСЬКИЙ РВ ДОНЕЦЬКОГО МУ ГУМВСУ В ДОНЕЦЬКІЙ ОБЛ.                                                                                                       282\n",
       "УЖГОРОДСЬКИЙ ВІДДІЛ ПОЛІЦІЇ ГУНП В ЗАКАРПАТСЬКІЙ ОБЛАСТІ                                                                                                      280\n",
       "ПЕРШОТРАВНЕВИЙ РВ В М.ЧЕРНІВЦІ УМВСУ В ЧЕРНІВЕЦЬКІЙ ОБЛ.                                                                                                      276\n",
       "ЛОХВИЦЬКИЙ ВІДДІЛ ПОЛІЦІЇ ГУНП В ПОЛТАВСЬКІЙ ОБЛАСТІ                                                                                                          275\n",
       "КОЗЕЛЕЦЬКЕ ВІДДІЛЕННЯ ПОЛІЦІЇ НІЖИНСЬКОГО ВІДДІЛУ ГУНП В ЧЕРНІГІВСЬКІЙ ОБЛАСТІ.                                                                               273\n",
       "ДОБРОПІЛЬСЬКЕ ВІДДІЛЕННЯ ПОЛІЦІЇ ПОКРОВСЬКОГО ВІДДІЛУ ГУНП В ДОНЕЦЬКІЙ ОБЛ.                                                                                   271\n",
       "КОРАБЕЛЬНЕ ВІДДІЛЕННЯ ПОЛІЦІЇ ХЕРСОНСЬКОГО ВІДДІЛУ ГУ НП В ХЕРСОНСЬКІЙ ОБЛАСТІ                                                                                267\n",
       "КИЇВСЬКИЙ РВ ДОНЕЦЬКОГО МУ ГУМВСУ В ДОНЕЦЬКІЙ ОБЛ.                                                                                                            264\n",
       "СУВОРОВСЬКИЙ РВ МУ УМВСУ В ХЕРСОНСЬКІЙ ОБЛ.                                                                                                                   264\n",
       "ГОЛОВНЕ УПРАВЛІННЯ НАЦІОНАЛЬНОЇ ПОЛІЦІЇ В ЧЕРКАСЬКІЙ ОБЛАСТІ.                                                                                                 260\n",
       "ВАЛКІВСЬКИЙ ВІДДІЛ ПОЛІЦІЇ ГУНП В ХАРКІВСЬКІЙ ОБЛАСТІ                                                                                                         260\n",
       "ЗНАМ’ЯНСЬКИЙ ВІДДІЛ ПОЛІЦІЇ ГУНП В КІРОВОГРАДСЬКІЙ ОБЛАСТІ                                                                                                    256\n",
       "ХОРТИЦЬКЕ ВІДДІЛЕННЯ ПОЛІЦІЇ ДНІПРОВСЬКОГО ВІДДІЛУ ГУНП В ЗАПОРІЗЬКІЙ ОБЛАСТІ                                                                                 256\n",
       "КОВПАКОВСЬКИЙ ОМ СМВ УМВС СУМСЬКОЇ ОБЛАСТІ                                                                                                                    248\n",
       "ЛИЧАКІВСЬКИЙ ВІДДІЛ ПОЛІЦІЇ ГУНП У ЛЬВІВСЬКІЙ ОБЛАСТІ                                                                                                         245\n",
       "ГОЛОВНЕ УПРАВЛІННЯ НАЦІОНАЛЬНОЇ ПОЛІЦІЇ В ТЕРНОПІЛЬСЬКІЙ ОБЛАСТІ                                                                                              243\n",
       "ВІДДІЛЕННЯ  ПОЛІЦІЇ №2 КРЕМЕНЧУЦЬКОГО ВІДДІЛУ ГУНП В ПОЛТАВСЬКІЙ ОБЛАСТІ                                                                                      241\n",
       "ПОЛТАВСЬКЕ РАЙОННЕ ВІДДІЛЕННЯ ПОЛІЦІЇ ПОЛТАВСЬКОГО ВІДДІЛУ ГУНП В ПОЛТАВСЬКІЙ ОБЛАСТІ                                                                         240\n",
       "НЕМИРІВСЬКИЙ ВІДДІЛ ПОЛІЦІЇ ГУНП У ВІННИЦЬКІЙ ОБЛАСТІ                                                                                                         237\n",
       "ЗАРІЧНИЙ ОМ СМВ УМВС СУМСЬКОЇ ОБЛАСТІ                                                                                                                         235\n",
       "ЛИПЕЦЬКЕ ВІДДІЛЕННЯ ПОЛІЦІЇ ХАРКІВСЬКОГО ВІДДІЛУ ГУНП В ХАРКІВСЬКІЙ ОБЛАСТІ                                                                                   233\n",
       "СЕЛИДІВСЬКЕ ВІДДІЛЕННЯ ПОЛІЦІЇ ПОКРОВСЬКОГО ВІДДІЛУ ГУНП В ДОНЕЦЬКІЙ ОБЛ.                                                                                     227\n",
       "ПРИДНІПРОВСЬКИЙ РВ В М.ЧЕРКАСИ УМВСУ В ЧЕРКАСЬКІЙ ОБЛАСТІ.                                                                                                    226\n",
       "ПОДІЛЬСЬКИЙ ВІДДІЛ ПОЛІЦІЇ ГУНП В ОДЕСЬКІЙ ОБЛАСТІ                                                                                                            226\n",
       "ДРОГОБИЦЬКИЙ ВІДДІЛ ПОЛІЦІЇ ГУНП У ЛЬВІВСЬКІЙ ОБЛАСТІ                                                                                                         224\n",
       "ОЛЕКСАНДРІЙСЬКИЙ ВІДДІЛ ПОЛІЦІЇ ГУНП В КІРОВОГРАДСЬКІЙ ОБЛАСТІ                                                                                                223\n",
       "ЄВПАТОРІЙСЬКЕ МВ ГУ МВС УКРАЇНИ В АР КРИМ                                                                                                                     220\n",
       "БОБРОВИЦЬКЕ ВІДДІЛЕННЯ ПОЛІЦІЇ НІЖИНСЬКОГО ВІДДІЛУ ГУНП В ЧЕРНІГІВСЬКІЙ ОБЛАСТІ.                                                                              218\n",
       "БЕРДИЧІВСЬКИЙ ВІДДІЛ ПОЛІЦІЇ ГУНП В ЖИТОМИРСЬКІЙ ОБЛАСТІ                                                                                                      217\n",
       "КИЇВСЬКИЙ РВ СІМФЕРОПОЛЬСЬКОГО МВ ГУМВС УКРАЇНИ В АР КРИМ                                                                                                     216\n",
       "БОГУНСЬКИЙ РВВС М. ЖИТОМИР ЖИТОМИРСЬКОЇ ОБЛАСТІ                                                                                                               216\n",
       "ШОСТКИНСЬКИЙ ВІДДІЛ ПОЛІЦІЇ ГУНП В СУМСЬКІЙ ОБЛАСТІ                                                                                                           215\n",
       "ЛУБЕНСЬКИЙ ВІДДІЛ ПОЛІЦІЇ ГУНП В ПОЛТАВСЬКІЙ ОБЛАСТІ                                                                                                          214\n",
       "СОСНІВСЬКИЙ РВ В М.ЧЕРКАСИ УМВСУ В ЧЕРКАСЬКІЙ ОБЛАСТІ.                                                                                                        212\n",
       "ВІДДІЛЕННЯ ПОЛІЦІЇ №2 ПОЛТАВСЬКОГО ВІДДІЛУ ГУНП В ПОЛТАВСЬКІЙ ОБЛАСТІ                                                                                         210\n",
       "МОГИЛІВ-ПОДІЛЬСЬКИЙ ВІДДІЛ ПОЛІЦІЇ ГУНП У ВІННИЦЬКІЙ ОБЛАСТІ                                                                                                  209\n",
       "ХМІЛЬНИЦЬКЕ ВІДДІЛЕННЯ ПОЛІЦІЇ КАЛИНІВСЬКОГО ВІДДІЛУ ГУНП У ВІННИЦЬКІЙ ОБЛАСТІ                                                                                209\n",
       "БЕРШАДСЬКИЙ ВІДДІЛ ПОЛІЦІЇ ГУНП У ВІННИЦЬКІЙ ОБЛАСТІ                                                                                                          208\n",
       "ПОРТОФРАНКІВСЬКЕ ВІДДІЛЕННЯ ПОЛІЦІЇ ПРИМОРСЬКОГО ВІДДІЛУ ПОЛІЦІЇ В МІСТІ ОДЕСІ ГУНП В ОДЕСЬКІЙ ОБЛАСТІ                                                        204\n",
       "ГОЛОВНЕ УПРАВЛІННЯ НАЦІОНАЛЬНОЇ ПОЛІЦІЇ В ХАРКІВСЬКІЙ ОБЛАСТІ                                                                                                 203\n",
       "НОВОСАНЖАРСЬКЕ ВІДДІЛЕННЯ ПОЛІЦІЇ КОБЕЛЯЦЬКОГО ВІДДІЛУ ГУНП В ПОЛТАВСЬКІЙ ОБЛАСТІ                                                                             202\n",
       "ЖОВТНЕВИЙ РВ ЛУГАНСЬКОГО МУ ГУМВСУ У ЛУГАНСЬКІЙ ОБЛ.                                                                                                          201\n",
       "ГОЛОВНЕ УПРАВЛІННЯ НАЦІОНАЛЬНОЇ ПОЛІЦІЇ У ВОЛИНСЬКІЙ ОБЛАСТІ                                                                                                  198\n",
       "ЗАПОРІЗЬКЕ РАЙОННЕ ВІДДІЛЕННЯ ПОЛІЦІЇ ДНІПРОВСЬКОГО ВІДДІЛУ ГУНП В ЗАПОРІЗЬКІЙ ОБЛАСТІ                                                                        195\n",
       "КОРАБЕЛЬНИЙ ВІДДІЛ ПОЛІЦІЇ ГУНП В МИКОЛАЇВСЬКІЙ ОБЛАСТІ                                                                                                       194\n",
       "НІКОЛЬСЬКЕ ВІДДІЛЕННЯ ПОЛІЦІЇ ВОЛНОВАСЬКОГО ВІДДІЛУ ГУНП В ДОНЕЦЬКІЙ ОБЛ.                                                                                     194\n",
       "ХАРКІВСЬКИЙ ВІДДІЛ ПОЛІЦІЇ ГУНП В ХАРКІВСЬКІЙ ОБЛАСТІ                                                                                                         192\n",
       "ЛЕНІНСЬКИЙ РВ СЕВАСТОПОЛЬСЬКОГО МУ                                                                                                                            191\n",
       "ЛЕНІНСЬКИЙ РВ ДОНЕЦЬКОГО МУ ГУМВСУ В ДОНЕЦЬКІЙ ОБЛ.                                                                                                           188\n",
       "ГЕНІЧЕСЬКИЙ ВІДДІЛ ПОЛІЦІЇ ГУ НП В ХЕРСОНСЬКІЙ ОБЛАСТІ                                                                                                        187\n",
       "ШЕВЧЕНКІВСЬКИЙ ТВМ №1 М. КИЄВА                                                                                                                                187\n",
       "БУЧАНСЬКЕ ВІДДІЛЕННЯ ПОЛІЦІЇ ІРПІНСЬКОГО ВІДДІЛУ ГУНП В КИЇВСЬКІЙ ОБЛАСТІ                                                                                     186\n",
       "ГЛОБИНСЬКИЙ ВІДДІЛ ПОЛІЦІЇ ГУНП В ПОЛТАВСЬКІЙ ОБЛАСТІ                                                                                                         185\n",
       "СКВИРСЬКИЙ ВІДДІЛ ПОЛІЦІЇ ГУНП В КИЇВСЬКІЙ ОБЛАСТІ                                                                                                            183\n",
       "ВІННИЦЬКЕ РАЙОННЕ ВІДДІЛЕННЯ ПОЛІЦІЇ ВІННИЦЬКОГО ВІДДІЛУ ГУНП У ВІННИЦЬКІЙ ОБЛАСТІ                                                                            180\n",
       "КАМ’ЯНЕЦЬ-ПОДІЛЬСЬКИЙ ВІДДІЛ ПОЛІЦІЇ ГУНП В ХМЕЛЬНИЦЬКІЙ ОБЛАСТІ                                                                                              178\n",
       "ХМЕЛЬНИЦЬКЕ ВІДДІЛЕННЯ ПОЛІЦІЇ МАЛИНОВСЬКОГО ВІДДІЛУ ПОЛІЦІЇ В МІСТІ ОДЕСІ ГУНП В ОДЕСЬКІЙ ОБЛАСТІ                                                            177\n",
       "ЦЕНТРАЛЬНО-МІСЬКИЙ РВ ГОРЛІВСЬКОГО МУ ГУМВСУ ДОНЕЦЬКОЇ ОБЛ                                                                                                    176\n",
       "КАЛУСЬКИЙ ВІДДІЛ ПОЛІЦІЇ ГУНП В ІВАНО-ФРАНКІВСЬКІЙ ОБЛАСТІ                                                                                                    175\n",
       "КРЕМЕНЕЦЬКИЙ ВІДДІЛ ПОЛІЦІЇ ГУНП В ТЕРНОПІЛЬСЬКІЙ ОБЛАСТІ                                                                                                     175\n",
       "БЕРДЯНСЬКИЙ ВІДДІЛ ПОЛІЦІЇ ГУНП В ЗАПОРІЗЬКІЙ ОБЛАСТІ                                                                                                         174\n",
       "ДЕРГАЧІВСЬКИЙ ВІДДІЛ ПОЛІЦІЇ ГУНП В ХАРКІВСЬКІЙ ОБЛАСТІ                                                                                                       172\n",
       "КІРОВСЬКИЙ РВ КМУ УМВС УКРАЇНИ В КІРОВОГРАДСЬКІЙ ОБЛАСТІ                                                                                                      171\n",
       "ГОЛОВНЕ УПРАВЛІННЯ НАЦІОНАЛЬНОЇ ПОЛІЦІЇ В ХЕРСОНСЬКІЙ ОБЛАСТІ                                                                                                 171\n",
       "ОЛЕКСАНДРІВСЬКЕ ВІДДІЛЕННЯ ПОЛІЦІЇ КРАМАТОРСЬКОГО ВІДДІЛУ ГУНП В ДОНЕЦЬКІЙ ОБЛ.                                                                               169\n",
       "КОЛОМИЙСЬКИЙ ВІДДІЛ ПОЛІЦІЇ ГУНП В ІВАНО-ФРАНКІВСЬКІЙ ОБЛАСТІ                                                                                                 169\n",
       "НІКОПОЛЬСЬКИЙ ВІДДІЛ ПОЛІЦІЇ ГУНП В ДНІПРОПЕТРОВСЬКІЙ ОБЛ.                                                                                                    168\n",
       "ФАСТІВСЬКЕ ВІДДІЛЕННЯ ПОЛІЦІЇ ВАСИЛЬКІВСЬКОГО ВІДДІЛУ ГУНП В КИЇВСЬКІЙ ОБЛАСТІ                                                                                165\n",
       "ГАГАРИНСЬКИЙ РВ СЕВАСТОПОЛЬСЬКОГО МУ                                                                                                                          164\n",
       "ПАВЛОГРАДСЬКИЙ ВІДДІЛ ПОЛІЦІЇ ГУНП В ДНІПРОПЕТРОВСЬКІЙ ОБЛ.                                                                                                   163\n",
       "КІЛІЙСЬКЕ ВІДДІЛЕННЯ ПОЛІЦІЇ ІЗМАЇЛЬСЬКОГО ВІДДІЛУ ГУНП В ОДЕСЬКІЙ ОБЛАСТІ                                                                                    163\n",
       "ПУСТОМИТІВСЬКИЙ ВІДДІЛ ПОЛІЦІЇ ГУНП У ЛЬВІВСЬКІЙ ОБЛАСТІ                                                                                                      162\n",
       "ПОКРОВСЬКЕ ВІДДІЛЕННЯ ПОЛІЦІЇ КРИВОРІЗЬКОГО ВІДДІЛУ ГУНП В ДНІПРОПЕТРОВСЬКІЙ ОБЛ.                                                                             162\n",
       "МИРНОГРАДСЬКЕ ВІДДІЛЕННЯ ПОЛІЦІЇ ПОКРОВСЬКОГО ВІДДІЛУ ГУНП В ДОНЕЦЬКІЙ ОБЛ.                                                                                   160\n",
       "ФЕОДОСІЙСЬКЕ МВ ГУ МВС УКРАЇНИ В АР КРИМ                                                                                                                      159\n",
       "РОЗДІЛЬНЯНСЬКИЙ ВІДДІЛ ПОЛІЦІЇ ГУНП В ОДЕСЬКІЙ ОБЛАСТІ                                                                                                        157\n",
       "СНОВСЬКЕ ВІДДІЛЕННЯ ПОЛІЦІЇ МЕНСЬКОГО ВІДДІЛУ ГУНП В ЧЕРНІГІВСЬКІЙ ОБЛАСТІ.                                                                                   156\n",
       "КІРОВСЬКИЙ РВ ДОНЕЦЬКОГО МУ ГУМВСУ В ДОНЕЦЬКІЙ ОБЛ.                                                                                                           154\n",
       "ГАДЯЦЬКИЙ ВІДДІЛ ПОЛІЦІЇ ГУНП В ПОЛТАВСЬКІЙ ОБЛАСТІ                                                                                                           153\n",
       "КАГАРЛИЦЬКЕ ВІДДІЛЕННЯ ПОЛІЦІЇ ОБУХІВСЬКОГО ВІДДІЛУ ГУНП В КИЇВСЬКІЙ ОБЛАСТІ                                                                                  153\n",
       "ЦЕНТРАЛЬНИЙ РВ СІМФЕРОПОЛЬСЬКОГО МВ ГУМВС УКРАЇНИ В АР КРИМ                                                                                                   153\n",
       "МЕТАЛУРГІЙНЕ ВІДДІЛЕННЯ ПОЛІЦІЇ КРИВОРІЗЬКОГО ВІДДІЛУ ГУНП В ДНІПРОПЕТРОВСЬКІЙ ОБЛ.                                                                           151\n",
       "ХАДЖИБЕЇВСЬКЕ ВІДДІЛЕННЯ ПОЛІЦІЇ СУВОРОВСЬКОГО ВІДДІЛУ ПОЛІЦІЇ В МІСТІ ОДЕСІ ГУНП В ОДЕСЬКІЙ ОБЛАСТІ                                                          150\n",
       "ЛИПОВЕЦЬКЕ ВІДДІЛЕННЯ ПОЛІЦІЇ НЕМИРІВСЬКОГО ВІДДІЛУ ГУНП У ВІННИЦЬКІЙ ОБЛАСТІ                                                                                 150\n",
       "(ВИКЛЮЧЕНО) ЦЕНТРАЛЬНЕ ВП ДНІПРОВСЬКОГО ВІДДІЛУ ГУНП В ДНІПРОПЕТРОВСЬКІЙ ОБЛ.                                                                                 149\n",
       "ХОРОЛЬСЬКИЙ ВІДДІЛ ПОЛІЦІЇ ГУНП В ПОЛТАВСЬКІЙ ОБЛАСТІ                                                                                                         148\n",
       "КОРОСТЕНСЬКИЙ ВІДДІЛ ПОЛІЦІЇ ГУНП В ЖИТОМИРСЬКІЙ ОБЛАСТІ                                                                                                      146\n",
       "СУМСЬКИЙ РАЙОННИЙ ВІДДІЛ ПОЛІЦІЇ ГУНП В СУМСЬКІЙ ОБЛАСТІ                                                                                                      145\n",
       "ТАЇРОВСЬКЕ ВІДДІЛЕННЯ ПОЛІЦІЇ КИЇВСЬКОГО ВІДДІЛУ ПОЛІЦІЇ В МІСТІ ОДЕСІ ГУНП В ОДЕСЬКІЙ ОБЛАСТІ                                                                141\n",
       "НОВОВОЛИНСЬКЕ ВІДДІЛЕННЯ ПОЛІЦІЇ ВОЛОДИМИР-ВОЛИНСЬКОГО ВІДДІЛУ ГУНП У ВОЛИНСЬКІЙ ОБЛАСТІ                                                                      140\n",
       "РІВНЕНСЬКЕ РАЙОННЕ ВІДДІЛЕННЯ ПОЛІЦІЇ РІВНЕНСЬКОГО ВІДДІЛУ ГУНП В РІВНЕНСЬКІЙ ОБЛ.                                                                            138\n",
       "СТАРГОРОДСЬКИЙ РВВС М. ВІННИЦІ ВІННИЦЬКОЇ ОБЛАСТІ                                                                                                             137\n",
       "ЕНЕРГОДАРСЬКИЙ ВІДДІЛ ПОЛІЦІЇ ГУНП В ЗАПОРІЗЬКІЙ ОБЛАСТІ                                                                                                      136\n",
       "РОМЕНСЬКИЙ ВІДДІЛ ПОЛІЦІЇ ГУНП В СУМСЬКІЙ ОБЛАСТІ                                                                                                             136\n",
       "ГОЛОВНЕ УПРАВЛІННЯ НАЦІОНАЛЬНОЇ ПОЛІЦІЇ В РІВНЕНСЬКІЙ ОБЛАСТІ                                                                                                 136\n",
       "ЛЕНІНСЬКИЙ РВ ГУМВС УКРАЇНИ В АР КРИМ                                                                                                                         136\n",
       "СЛАВУТИЦЬКЕ ВІДДІЛЕННЯ ПОЛІЦІЇ БРОВАРСЬКОГО ВІДДІЛУ ГУНП В КИЇВСЬКІЙ ОБЛАСТІ                                                                                  135\n",
       "ЛЮБЕШІВСЬКЕ ВІДДІЛЕННЯ ПОЛІЦІЇ КАМІНЬ-КАШИРСЬКОГО ВІДДІЛУ ГУНП У ВОЛИНСЬКІЙ ОБЛАСТІ                                                                           133\n",
       "ПРОЛЕТАРСЬКИЙ РВ ДОНЕЦЬКОГО МУ ГУМВСУ В ДОНЕЦЬКІЙ ОБЛ.                                                                                                        133\n",
       "СВІТЛОВОДСЬКИЙ ВІДДІЛ ПОЛІЦІЇ ГУНП В КІРОВОГРАДСЬКІЙ ОБЛАСТІ                                                                                                  132\n",
       "СОЛОНЯНСЬКЕ ВІДДІЛЕННЯ ПОЛІЦІЇ ДНІПРОВСЬКОГО ВІДДІЛУ ГУНП В ДНІПРОПЕТРОВСЬКІЙ ОБЛ.                                                                            131\n",
       "МАЛОВИСКІВСЬКИЙ ВІДДІЛ ПОЛІЦІЇ ГУНП В КІРОВОГРАДСЬКІЙ ОБЛАСТІ                                                                                                 130\n",
       "БОЛГРАДСЬКЕ ВІДДІЛЕННЯ ПОЛІЦІЇ ІЗМАЇЛЬСЬКОГО ВІДДІЛУ ГУНП В ОДЕСЬКІЙ ОБЛАСТІ                                                                                  129\n",
       "ЛЕНІНСЬКИЙ РВ КМУ УМВС УКРАЇНИ В КІРОВОГРАДСЬКІЙ ОБЛАСТІ                                                                                                      128\n",
       "ДЕБАЛЬЦЕВСЬКИЙ МВ ГУМВСУ В ДОНЕЦЬКІЙ ОБЛ.                                                                                                                     128\n",
       "СОЛОМЯНСЬКИЙ ТВМ М. КИЄВА                                                                                                                                     127\n",
       "КОРОЛЕВСЬКИЙ РВВС М.ЖИТОМИР ЖИТОМИРСКОЇ ОБЛ.                                                                                                                  127\n",
       "ТЯЧІВСЬКИЙ ВІДДІЛ ПОЛІЦІЇ ГУНП В ЗАКАРПАТСЬКІЙ ОБЛАСТІ                                                                                                        125\n",
       "ДНІПРОВСЬКИЙ ТВМ М. КИЄВА                                                                                                                                     125\n",
       "ПУТИВЛЬСЬКЕ ВІДДІЛЕННЯ ПОЛІЦІЇ ГЛУХІВСЬКОГО ВІДДІЛУ ГУНП В СУМСЬКІЙ ОБЛАСТІ                                                                                   124\n",
       "ЖИТОМИРСЬКЕ РАЙОННЕ ВІДДІЛЕННЯ ПОЛІЦІЇ ЖИТОМИРСЬКОГО ВІДДІЛУ ГУНП В ЖИТОМИРСЬКІЙ ОБЛАСТІ                                                                      124\n",
       "ЛВ НА СТАНЦІЇ СЛОВ’ЯНСЬК УМВСУ НА ДОНЕЦЬКІЙ ЗАЛІЗНИЦІ                                                                                                         124\n",
       "ГОЛОВНЕ УПРАВЛІННЯ НАЦІОНАЛЬНОЇ ПОЛІЦІЇ В ПОЛТАВСЬКІЙ ОБЛАСТІ                                                                                                 124\n",
       "ТУЛЬЧИНСЬКЕ ВІДДІЛЕННЯ ПОЛІЦІЇ НЕМИРІВСЬКОГО ВІДДІЛУ ГУНП У ВІННИЦЬКІЙ ОБЛАСТІ                                                                                124\n",
       "ОРІХІВСЬКЕ ВІДДІЛЕННЯ ПОЛІЦІЇ ПОЛОГІВСЬКОГО ВІДДІЛУ ГУНП В ЗАПОРІЗЬКІЙ ОБЛАСТІ                                                                                122\n",
       "ЗВЕНИГОРОДСЬКИЙ ВІДДІЛ ПОЛІЦІЇ ГУНП В ЧЕРКАСЬКІЙ ОБЛАСТІ.                                                                                                     122\n",
       "ДЖАНКОЛЙСЬКИЙ МРВ ГУМВС УКРАЇНИ В АР КРИМ                                                                                                                     122\n",
       "НАХІМОВСЬКИЙ РВ СЕВАСТОПОЛЬСЬКОГО МУ                                                                                                                          121\n",
       "ШЕПЕТІВСЬКИЙ ВІДДІЛ ПОЛІЦІЇ ГУНП В ХМЕЛЬНИЦЬКІЙ ОБЛАСТІ                                                                                                       120\n",
       "АРТЕМІВСЬКИЙ РВ ЛУГАНСЬКОГО МУ ГУМВСУ У ЛУГАНСЬКІЙ ОБЛ.                                                                                                       119\n",
       "КРАСНОКУТСЬКЕ ВІДДІЛЕННЯ ПОЛІЦІЇ БОГОДУХІВСЬКОГО ВІДДІЛУ ГУНП В ХАРКІВСЬКІЙ ОБЛАСТІ                                                                           119\n",
       "КОСІВСЬКИЙ ВІДДІЛ ПОЛІЦІЇ ГУНП В ІВАНО-ФРАНКІВСЬКІЙ ОБЛАСТІ                                                                                                   118\n",
       "ГОЛОВНЕ УПРАВЛІННЯ НАЦІОНАЛЬНОЇ ПОЛІЦІЇ В МИКОЛАЇВСЬКІЙ ОБЛАСТІ                                                                                               118\n",
       "КІРОВОГРАДСЬКЕ РАЙОННЕ ВІДДІЛЕННЯ ПОЛІЦІЇ КРОПИВНИЦЬКОГО ВІДДІЛУ ПОЛІЦІЇ ГУНП В КІРОВОГРАДСЬКІЙ ОБЛАСТІ                                                       117\n",
       "КЕРЧЕНСЬКЕ ГВ АР Крим                                                                                                                                         116\n",
       "ЗАЛІЗНИЧНИЙ РВ СІМФЕРОПОЛЬСЬКОГО МВ ГУМВС УКРАЇНИ В АР КРИМ                                                                                                   115\n",
       "РАТНІВСЬКИЙ ВІДДІЛ ПОЛІЦІЇ ГУНП У ВОЛИНСЬКІЙ ОБЛАСТІ                                                                                                          115\n",
       "ЯКИМІВСЬКЕ ВІДДІЛЕННЯ ПОЛІЦІЇ МЕЛІТОПОЛЬСЬКОГО ВІДДІЛУ ГУНП В ЗАПОРІЗЬКІЙ ОБЛАСТІ                                                                             114\n",
       "ЗІНКІВСЬКЕ ВІДДІЛЕННЯ ПОЛІЦІЇ ГАДЯЦЬКОГО ВІДДІЛУ ГУНП В ПОЛТАВСЬКІЙ ОБЛАСТІ                                                                                   113\n",
       "БАХМАЦЬКИЙ ВІДДІЛ ПОЛІЦІЇ ГУНП В ЧЕРНІГІВСЬКІЙ ОБЛАСТІ.                                                                                                       113\n",
       "ЧЕРКАСЬКЕ РАЙОННЕ ВІДДІЛЕННЯ ЧЕРКАСЬКОГО ВІДДІЛУ ПОЛІЦІЇ ГУНП В ЧЕРКАСЬКІЙ ОБЛАСТІ                                                                            112\n",
       "КОНОТОПСЬКИЙ ВІДДІЛ ПОЛІЦІЇ ГУНП В СУМСЬКІЙ ОБЛАСТІ                                                                                                           112\n",
       "КРЕМЕНЧУЦЬКЕ РАЙОННЕ ВІДДІЛЕННЯ ПОЛІЦІЇ КРЕМЕНЧУЦЬКОГО ВІДДІЛУ ГУНП В ПОЛТАВСЬКІЙ ОБЛАСТІ                                                                     112\n",
       "ГОЛОВНЕ УПРАВЛІННЯ НАЦІОНАЛЬНОЇ ПОЛІЦІЇ В ХМЕЛЬНИЦЬКІЙ ОБЛАСТІ                                                                                                112\n",
       "СТАВИЩЕНСЬКЕ ВІДДІЛЕННЯ ПОЛІЦІЇ СКВИРСЬКОГО ВІДДІЛУ ГУНП В КИЇВСЬКІЙ ОБЛАСТІ                                                                                  112\n",
       "КОРЮКІВСЬКЕ ВІДДІЛЕННЯ ПОЛІЦІЇ МЕНСЬКОГО ВІДДІЛУ ГУНП В ЧЕРНІГІВСЬКІЙ ОБЛАСТІ                                                                                 112\n",
       "ЛІТИНСЬКЕ ВІДДІЛЕННЯ ПОЛІЦІЇ КАЛИНІВСЬКОГО ВІДДІЛУ ГУНП У ВІННИЦЬКІЙ ОБЛАСТІ                                                                                  111\n",
       "НОВОКАХОВСЬКИЙ ВІДДІЛ ПОЛІЦІЇ ГУ НП В ХЕРСОНСЬКІЙ ОБЛАСТІ                                                                                                     111\n",
       "НОВОТРОЇЦЬКЕ ВІДДІЛЕННЯ ПОЛІЦІЇ ГЕНІЧЕСЬКОГО ВІДДІЛУ ГУ НП В ХЕРСОНСЬКІЙ ОБЛАСТІ                                                                              110\n",
       "БІЛОЗЕРСЬКЕ ВІДДІЛЕННЯ ПОЛІЦІЇ ХЕРСОНСЬКОГО ВІДДІЛУ ГУ НП В ХЕРСОНСЬКІЙ ОБЛАСТІ                                                                               109\n",
       "БУЧАЦЬКЕ ВІДДІЛЕННЯ ПОЛІЦІЇ ТЕРЕБОВЛЯНСЬКОГО ВІДДІЛУ ГУНП В ТЕРНОПІЛЬСЬКІЙ ОБЛАСТІ                                                                            109\n",
       "АРЦИЗЬКИЙ ВІДДІЛ ПОЛІЦІЇ ГУНП В ОДЕСЬКІЙ ОБЛАСТІ                                                                                                              109\n",
       "ЦЕНТРАЛЬНО-МІСЬКИЙ РВ МАКІЇВСЬКОГО МУ ГУМВСУ ДОНЕЦЬКОЇ ОБЛ.                                                                                                   108\n",
       "СІМФЕРОПОЛЬСЬКИЙ РВ ГУМВС УКРАЇНИ В АР КРИМ                                                                                                                   108\n",
       "БОГОДУХІВСЬКИЙ ВІДДІЛ ПОЛІЦІЇ ГУНП В ХАРКІВСЬКІЙ ОБЛАСТІ                                                                                                      108\n",
       "БОГУСЛАВСЬКЕ ВІДДІЛЕННЯ ПОЛІЦІЇ МИРОНІВСЬКОГО ВІДДІЛУ ГУНП В КИЇВСЬКІЙ ОБЛАСТІ                                                                                107\n",
       "АЛЧЕВСЬКИЙ МВ ГУМВСУ У ЛУГАНСЬКІЙ ОБЛ.                                                                                                                        106\n",
       "САМБІРСЬКИЙ ВІДДІЛ ПОЛІЦІЇ ГУНП У ЛЬВІВСЬКІЙ ОБЛАСТІ                                                                                                          104\n",
       "НАДВІРНЯНСЬКИЙ ВІДДІЛ ПОЛІЦІЇ ГУНП В ІВАНО-ФРАНКІВСЬКІЙ ОБЛАСТІ                                                                                               104\n",
       "ШЕВЧЕНКІВСЬКЕ ВІДДІЛЕННЯ ПОЛІЦІЇ ЧЕРНІВЕЦЬКОГО ВІДДІЛУ ГУНП В ЧЕРНІВЕЦЬКІЙ ОБЛАСТІ                                                                            104\n",
       "БЕРИСЛАВСЬКИЙ ВІДДІЛ ПОЛІЦІЇ ГУ НП В ХЕРСОНСЬКОЇ ОБЛАСТІ                                                                                                      104\n",
       "БАЛТСЬКИЙ ВІДДІЛ ПОЛІЦІЇ ГУНП В ОДЕСЬКІЙ ОБЛАСТІ                                                                                                              104\n",
       "КАХОВСЬКИЙ ВІДДІЛ ПОЛІЦІЇ ГУ НП В ХЕРСОНСЬКІЙ ОБЛАСТІ                                                                                                         103\n",
       "ЯРМОЛИНЕЦЬКИЙ ВІДДІЛ ПОЛІЦІЇ ГУНП В ХМЕЛЬНИЦЬКІЙ ОБЛАСТІ                                                                                                      103\n",
       "ОЛЕШКІВСЬКЕ ВІДДІЛЕННЯ ПОЛІЦІЇ НОВОКАХОВСЬКОГО ВІДДІЛУ ГУ НП В ХЕРСОНСЬКІЙ ОБЛАСТІ                                                                            103\n",
       "ГАЙСИНСЬКИЙ ВІДДІЛ ПОЛІЦІЇ ГУНП У ВІННИЦЬКІЙ ОБЛАСТІ                                                                                                          102\n",
       "ДУБЕНСЬКИЙ ВІДДІЛ ПОЛІЦІЇ ГУНП В РІВНЕНСЬКІЙ ОБЛ.                                                                                                             100\n",
       "АЛУШТИНСЬКИЙ МВ ГУМВС УКРАЇНИ АР КРИМ                                                                                                                         100\n",
       "КАМ`ЯНСЬКИЙ ВІДДІЛ ПОЛІЦІЇ ГУНП В ДНІПРОПЕТРОВСЬКІЙ ОБЛ.                                                                                                       99\n",
       "КУЙБИШЕВСЬКИЙ РВ ДОНЕЦЬКОГО МУ ГУМВСУ В ДОНЕЦЬКІЙ ОБЛ.                                                                                                         99\n",
       "КОБЕЛЯЦЬКИЙ ВІДДІЛ ПОЛІЦІЇ ГУНП В ПОЛТАВСЬКІЙ ОБЛАСТІ                                                                                                          99\n",
       "ТРОСТЯНЕЦЬКЕ ВІДДІЛЕННЯ ПОЛІЦІЇ ОХТИРСЬКОГО ВІДДІЛУ ГУНП В СУМСЬКІЙ ОБЛАСТІ                                                                                    99\n",
       "СЕМЕНІВСЬКЕ ВІДДІЛЕННЯ ПОЛІЦІЇ ХОРОЛЬСЬКОГО ВІДДІЛУ ГУНП В ПОЛТАВСЬКІЙ ОБЛАСТІ                                                                                 99\n",
       "МАНГУШСЬКЕ ВІДДІЛЕННЯ ПОЛІЦІЇ ЦЕНТРАЛЬНОГО ВІДДІЛУ ГУНП В ДОНЕЦЬКІЙ ОБЛ.                                                                                       98\n",
       "ПИРЯТИНСЬКЕ ВІДДІЛЕННЯ ПОЛІЦІЇ ГРЕБІНКІВСЬКОГО ВІДДІЛУ ГУНП В ПОЛТАВСЬКІЙ ОБЛАСТІ                                                                              98\n",
       "РЕШЕТИЛІВСЬКЕ ВІДДІЛЕННЯ ПОЛІЦІЇ ГЛОБИНСЬКОГО ВІДДІЛУ ГУНП В ПОЛТАВСЬКІЙ ОБЛАСТІ                                                                               98\n",
       "ДОЛИНСЬКЕ ВІДДІЛЕННЯ ПОЛІЦІЇ КАЛУСЬКОГО ВІДДІЛУ ГУНП В ІВАНО-ФРАНКІВСЬКІЙ ОБЛАСТІ                                                                              98\n",
       "КАЛИНІВСЬКИЙ ВІДДІЛ ПОЛІЦІЇ  ГУНП У ВІННИЦЬКІЙ ОБЛАСТІ                                                                                                         97\n",
       "РІПКИНСЬКЕ ВІДДІЛЕННЯ ПОЛІЦІЇ ЧЕРНІГІВСЬКОГО ВІДДІЛУ ГУНП В ЧЕРНІГІВСЬКІЙ ОБЛАСТІ.                                                                             96\n",
       "СУ ГУВД Г.КИЕВА                                                                                                                                                96\n",
       "КОРОСТИШІВСЬКИЙ ВІДДІЛ ПОЛІЦІЇ ГУНП В ЖИТОМИРСЬКІЙ ОБЛАСТІ                                                                                                     95\n",
       "АПАРАТ М.ЛЬВОВА                                                                                                                                                95\n",
       "ПЕРВОМАЙСЬКИЙ ВІДДІЛ ГУНП В ХАРКІВСЬКІЙ ОБЛАСТІ                                                                                                                94\n",
       "ЧЕРВОНОГРАДСЬКИЙ ВІДДІЛ ПОЛІЦІЇ ГУНП У ЛЬВІВСЬКІЙ ОБЛАСТІ                                                                                                      94\n",
       "БУДЬОНІВСЬКИЙ РВ ДОНЕЦЬКОГО МУ ГУМВСУ В ДОНЕЦЬКІЙ ОБЛ.                                                                                                         93\n",
       "ВІДДІЛЕННЯ 2 ЛЕНІНСЬКОГО РВВС М. ВІННИЦІ ВІННИЦЬКОЇ ОБЛАСТІ                                                                                                    93\n",
       "ШАРГОРОДСЬКЕ ВІДДІЛЕННЯ ПОЛІЦІЇ ЖМЕРИНСЬКОГО ВІДДІЛУ ГУНП У ВІННИЦЬКІЙ ОБЛАСТІ                                                                                 93\n",
       "ЛЕБЕДИНСЬКЕ ВІДДІЛЕННЯ ПОЛІЦІЇ СУМСЬКОГО РАЙОННОГО ВІДДІЛУ ПОЛІЦІЇ ГУНП В СУМСЬКІЙ ОБЛАСТІ                                                                     92\n",
       "ЛУЦЬКЕ РАЙОННЕ ВІДДІЛЕННЯ ПОЛІЦІЇ ЛУЦЬКОГО ВІДДІЛУ ГУНП У ВОЛИНСЬКІЙ ОБЛАСТІ                                                                                   92\n",
       "ТРОСТЯНЕЦЬКЕ ВІДДІЛЕННЯ ПОЛІЦІЇ БЕРШАДСЬКОГО ВІДДІЛУ ГУНП У ВІННИЦЬКІЙ ОБЛАСТІ                                                                                 91\n",
       "ОЛЕКСАНДРІВСЬКЕ ВІДДІЛЕННЯ ПОЛІЦІЇ ЗНАМ’ЯНСЬКОГО ВІДДІЛУ ГУНП В КІРОВОГРАДСЬКІЙ ОБЛАСТІ                                                                        90\n",
       "НОВОВОДОЛАЗЬКЕ ВІДДІЛЕННЯ ПОЛІЦІЇ ПЕРВОМАЙСЬКОГО ВІДДІЛУ ГУНП В ХАРКІВСЬКІЙ ОБЛАСТІ                                                                            90\n",
       "БІЛОПІЛЬСЬКЕ ВІДДІЛЕННЯ ПОЛІЦІЇ СУМСЬКОГО РАЙОННОГО ВІДДІЛУ ГУНП В СУМСЬКІЙ ОБЛАСТІ                                                                            89\n",
       "ГОРОХІВСЬКИЙ ВІДДІЛ ПОЛІЦІЇ ГУНП У ВОЛИНСЬКІЙ ОБЛАСТІ                                                                                                          89\n",
       "БРОДІВСЬКЕ ВІДДІЛЕННЯ ПОЛІЦІЇ ЗОЛОЧІВСЬКОГО ВІДДІЛУ ГУНП У ЛЬВІВСЬКІЙ ОБЛАСТІ                                                                                  89\n",
       "ТЕРНІВСЬКЕ ВІДДІЛЕННЯ ПОЛІЦІЇ КРИВОРІЗЬКОГО ВІДДІЛУ ГУНП В ДНІПРОПЕТРОВСЬКІЙ ОБЛ.                                                                              88\n",
       "ОВРУЦЬКЕ ВІДДІЛЕННЯ ПОЛІЦІЇ КОРОСТЕНСЬКОГО ВІДДІЛУ ГУНП В ЖИТОМИРСЬКІЙ ОБЛАСТІ                                                                                 87\n",
       "ХАРЦИЗЬКИЙ МВ ГУМВСУ В ДОНЕЦЬКІЙ ОБЛ.                                                                                                                          87\n",
       "ЄНАКІЄВСЬКИЙ МВ ГУМВСУ В ДОНЕЦЬКІЙ ОБЛ.                                                                                                                        87\n",
       "ЗОЛОТОНІСЬКИЙ ВІДДІЛ ПОЛІЦІЇ ГУНП В ЧЕРКАСЬКІЙ ОБЛАСТІ.                                                                                                        87\n",
       "КАРЛІВСЬКИЙ ВІДДІЛ ПОЛІЦІЇ ГУНП В ПОЛТАВСЬКІЙ ОБЛАСТІ                                                                                                          86\n",
       "РЕНІЙСЬКЕ ВІДДІЛЕННЯ ПОЛІЦІЇ ІЗМАЇЛЬСЬКОГО ВІДДІЛУ ГУНП В ОДЕСЬКІЙ ОБЛАСТІ                                                                                     86\n",
       "МЕЛІТОПОЛЬСЬКИЙ РОВД ЗАПОРІЗЬКОЇ ОБЛ.                                                                                                                          86\n",
       "САРАТСЬКЕ ВІДДІЛЕННЯ ПОЛІЦІЇ БІЛГОРОД-ДНІСТРОВСЬКОГО ВІДДІЛУ ПОЛІЦІЇ ГУНП В ОДЕСЬКІЙ ОБЛАСТІ                                                                   86\n",
       "ТАРУТИНСЬКЕ ВІДДІЛЕННЯ ПОЛІЦІЇ АРЦИЗЬКОГО ВІДДІЛУ ГУНП В ОДЕСЬКІЙ ОБЛАСТІ                                                                                      85\n",
       "ТОКМАЦЬКЕ ВІДДІЛЕННЯ ПОЛІЦІЇ ПОЛОГІВСЬКОГО ВІДДІЛУ ГУНП В ЗАПОРІЗЬКІЙ ОБЛАСТІ                                                                                  85\n",
       "ВЕЛИКОБУРЛУЦЬКЕ ВІДДІЛЕННЯ ПОЛІЦІЇ ВОВЧАНСЬКОГО ВІДДІЛУ ГУНП В ХАРКІВСЬКІЙ ОБЛАСТІ                                                                             85\n",
       "ТИСМЕНИЦЬКИЙ ВІДДІЛ ПОЛІЦІЇ ГУНП В ІВАНО-ФРАНКІВСЬКІЙ ОБЛАСТІ                                                                                                  85\n",
       "ЗМІЇВСЬКИЙ ВІДДІЛ ПОЛІЦІЇ ГУНП В ХАРКІВСЬКІЙ ОБЛАСТІ                                                                                                           84\n",
       "МЕНСЬКИЙ ВІДДІЛ ПОЛІЦІЇ ГУНП В ЧЕРНІГІВСЬКІЙ ОБЛАСТІ.                                                                                                          84\n",
       "РАДОМИШЛЬСЬКЕ ВІДДІЛЕННЯ ПОЛІЦІЇ КОРОСТИШІВСЬКОГО ВІДДІЛУ ГУНП В ЖИТОМИРСЬКІЙ ОБЛАСТІ                                                                          84\n",
       "НОВОМИРГОРОДСЬКЕ ВІДДІЛЕННЯ ПОЛІЦІЇ МАЛОВИСКІВСЬКОГО ВІДДІЛУ ГУНП В КІРОВОГРАДСЬКІЙ ОБЛАСТІ                                                                    83\n",
       "ОРЖИЦЬКЕ ВІДДІЛЕННЯ ПОЛІЦІЇ ЛУБЕНСЬКОГО ВІДДІЛУ ГУНП В ПОЛТАВСЬКІЙ ОБЛАСТІ                                                                                     83\n",
       "НОСІВСЬКЕ ВІДДІЛЕННЯ ПОЛІЦІЇ НІЖИНСЬКОГО ВІДДІЛУ ГУНП В ЧЕРНІГІВСЬКІЙ ОБЛАСТІ.                                                                                 82\n",
       "ГОЛОПРИСТАНСЬКЕ ВІДДІЛЕННЯ ПОЛІЦІЇ НОВОКАХОВСЬКОГО ВІДДІЛУ ГУ НП В ХЕРСОНСЬКІЙ ОБЛАСТІ                                                                         82\n",
       "ВИНОГРАДІВСЬКЕ ВІДДІЛЕННЯ ПОЛІЦІЇ БЕРЕГІВСЬКОГО ВІДДІЛУ ГУНП В ЗАКАРПАТСЬКІЙ ОБЛАСТІ                                                                           82\n",
       "КРОЛЕВЕЦЬКЕ ВІДДІЛЕННЯ ПОЛІЦІЇ ГЛУХІВСЬКОГО ВІДДІЛУ ГУНП В СУМСЬКІЙ ОБЛАСТІ                                                                                    81\n",
       "СТАРОКОСТЯНТИНІВСЬКИЙ ВІДДІЛ ПОЛІЦІЇ ГУНП В ХМЕЛЬНИЦЬКІЙ ОБЛАСТІ                                                                                               80\n",
       "КОСТОПІЛЬСЬКИЙ ВІДДІЛ ПОЛІЦІЇ ГУНП В РІВНЕНСЬКІЙ ОБЛ.                                                                                                          79\n",
       "(ОБЄДНАНИЙ З 134315) КІРОВСЬКИЙ РВ ГУМВС УКРАЇНИ В АР КРИМ                                                                                                     79\n",
       "ВЕЛИКОМИХАЙЛІВСЬКЕ ВІДДІЛЕННЯ ПОЛІЦІЇ РОЗДІЛЬНЯНСЬКОГО ВІДДІЛУ ПОЛІЦІЇ ГУНП В ОДЕСЬКІЙ ОБЛАСТІ                                                                 79\n",
       "СНЯТИНСЬКЕ ВІДДІЛЕННЯ ПОЛІЦІЇ КОСІВСЬКОГО ВІДДІЛУ ГУНП В ІВАНО-ФРАНКІВСЬКІЙ ОБЛАСТІ                                                                            79\n",
       "ЛЮБОМЛЬСЬКИЙ ВІДДІЛ ПОЛІЦІЇ ГУНП У ВОЛИНСЬКІЙ ОБЛАСТІ                                                                                                          79\n",
       "(ВИКЛЮЧЕНО) ЗАВОДСЬКЕ ВП КАМ`ЯНСЬКОГО ВІДДІЛУ ГУНП В ДНІПРОПЕТРОВСЬКІЙ ОБЛ.                                                                                    77\n",
       "ТЕРНОПІЛЬСЬКЕ РАЙОННЕ ВІДДІЛЕННЯ ПОЛІЦІЇ ТЕРНОПІЛЬСЬКОГО ВІДДІЛУ ГУНП В ТЕРНОПІЛЬСЬКІЙ ОБЛАСТІ                                                                 76\n",
       "ПІДВОЛОЧИСЬКИЙ ВІДДІЛ ПОЛІЦІЇ ГУНП В ТЕРНОПІЛЬСЬКІЙ ОБЛАСТІ                                                                                                    76\n",
       "ВОЛОДАРСЬКЕ ВІДДІЛЕННЯ ПОЛІЦІЇ СКВИРСЬКОГО ВІДДІЛУ ГУНП В КИЇВСЬКІЙ ОБЛАСТІ                                                                                    76\n",
       "НОВООДЕСЬКИЙ ВІДДІЛ ПОЛІЦІЇ ГУНП В МИКОЛАЇВСЬКІЙ ОБЛАСТІ                                                                                                       75\n",
       "КАМ’ЯНЕЦЬ-ПОДІЛЬСЬКЕ РАЙОННЕ ВІДДІЛЕННЯ ПОЛІЦІЇ КАМ’ЯНЕЦЬ-ПОДІЛЬСЬКОГО ВІДДІЛУ ГУНП В ХМЕЛЬНИЦЬКІЙ ОБЛАСТІ                                                     75\n",
       "РОКИТНІВСЬКЕ ВІДДІЛЕННЯ ПОЛІЦІЇ САРНЕНСЬКОГО ВІДДІЛУ ГУНП В РІВНЕНСЬКІЙ ОБЛ.                                                                                   75\n",
       "КРАСНОВГАРДІЙСЬКИЙ РВ ГУМВС УКРАЇНИ В АР КРИМ                                                                                                                  75\n",
       "КІВЕРЦІВСЬКИЙ ВІДДІЛ ПОЛІЦІЇ ГУНП У ВОЛИНСЬКІЙ ОБЛАСТІ                                                                                                         74\n",
       "ДОВГИНЦІВСЬКЕ ВІДДІЛЕННЯ ПОЛІЦІЇ КРИВОРІЗЬКОГО ВІДДІЛУ ГУНП В ДНІПРОПЕТРОВСЬКІЙ ОБЛ.                                                                           74\n",
       "МИХАЙЛІВСЬКЕ ВІДДІЛЕННЯ ПОЛІЦІЇ ВАСИЛІВСЬКОГО ВІДДІЛУ ГУНП В ЗАПОРІЗЬКІЙ ОБЛАСТІ                                                                               74\n",
       "ВІЛЬНЯНСЬКЕ ВІДДІЛЕННЯ ПОЛІЦІЇ ПОЛОГІВСЬКОГО ВІДДІЛУ ГУНП В ЗАПОРІЗЬКІЙ ОБЛАСТІ                                                                                73\n",
       "ДНІПРОВСЬКЕ ВІДДІЛЕННЯ ПОЛІЦІЇ КАМ`ЯНСЬКОГО ВІДДІЛУ ГУНП В ДНІПРОПЕТРОВСЬКІЙ ОБЛ.                                                                              73\n",
       "КОДИМСЬКЕ ВІДДІЛЕННЯ ПОЛІЦІЇ БАЛТСЬКОГО ВІДДІЛУ ГУНП В ОДЕСЬКІЙ ОБЛАСТІ                                                                                        73\n",
       "СИХІВСЬКИЙ ВІДДІЛ ПОЛІЦІЇ ГУНП У ЛЬВІВСЬКІЙ ОБЛАСТІ                                                                                                            72\n",
       "ПІВДЕННО-ЗАХІДНЕ ВІДДІЛЕННЯ ПОЛІЦІЇ ХМЕЛЬНИЦЬКОГО ВІДДІЛУ ГУНП В ХМЕЛЬНИЦЬКІЙ ОБЛАСТІ                                                                          72\n",
       "БАШТАНСЬКИЙ ВІДДІЛ ПОЛІЦІЇ ГУНП В МИКОЛАЇВСЬКІЙ ОБЛАСТІ                                                                                                        71\n",
       "БЕРЕЗАНСЬКЕ ВІДДІЛЕННЯ ПОЛІЦІЇ ОЧАКІВСЬКОГО ВІДДІЛУ ГУНП В МИКОЛАЇВСЬКІЙ ОБЛАСТІ                                                                               71\n",
       "НОВГОРОД-СІВЕРСЬКИЙ ВІДДІЛ ПОЛІЦІЇ ГУНП В ЧЕРНІГІВСЬКІЙ ОБЛАСТІ.                                                                                               71\n",
       "СКАДОВСЬКЕ ВІДДІЛЕННЯ ПОЛІЦІЇ НОВОКАХОВСЬКОГО ВІДДІЛУ ГУ НП В ХЕРСОНСЬКІЙ ОБЛАСТІ                                                                              70\n",
       "ВЕРХНЬОДНІПРОВСЬКЕ ВІДДІЛЕННЯ ПОЛІЦІЇ ЖОВТОВОДСЬКОГО ВІДДІЛУ ГУНП В ДНІПРОПЕТРОВСЬКІЙ ОБЛ.                                                                     70\n",
       "ВАСИЛІВСЬКИЙ ВІДДІЛ ПОЛІЦІЇ ГУНП В ЗАПОРІЗЬКІЙ ОБЛАСТІ                                                                                                         70\n",
       "ЗОЛОЧІВСЬКЕ ВІДДІЛЕННЯ ПОЛІЦІЇ ДЕРГАЧІВСЬКОГО ВІДДІЛУ ГУНП В ХАРКІВСЬКІЙ ОБЛАСТІ                                                                               69\n",
       "ВІТОВСЬКЕ ВІДДІЛЕННЯ ПОЛІЦІЇ КОРАБЕЛЬНОГО ВІДДІЛУ ГУНП В МИКОЛАЇВСЬКІЙ ОБЛАСТІ                                                                                 68\n",
       "ВУГЛЕДАРСЬКЕ ВІДДІЛЕННЯ ПОЛІЦІЇ ВОЛНОВАСЬКОГО ВІДДІЛУ ГУНП В ДОНЕЦЬКІЙ ОБЛ.                                                                                    67\n",
       "СНІЖНЯНСЬКИЙ МВ ГУМВСУ В ДОНЕЦЬКІЙ ОБЛ.                                                                                                                        67\n",
       "ІВАНІВСЬКЕ ВІДДІЛЕННЯ ПОЛІЦІЇ РОЗДІЛЬНЯНСЬКОГО ВІДДІЛУ ГУНП В ОДЕСЬКІЙ ОБЛАСТІ                                                                                 67\n",
       "УЖГОРОДСЬКЕ РАЙОННЕ ВІДДІЛЕННЯ ПОЛІЦІЇ УЖГОРОДСЬКОГО ВІДДІЛУ ГУНП В ЗАКАРПАТСЬКІЙ ОБЛАСТІ                                                                      66\n",
       "ТЕТІЇВСЬКЕ ВІДДІЛЕННЯ ПОЛІЦІЇ СКВИРСЬКОГО ВІДДІЛУ ГУНП В КИЇВСЬКІЙ ОБЛАСТІ                                                                                     66\n",
       "СЕРЕДИНО-БУДСЬКЕ ВІДДІЛЕННЯ ПОЛІЦІЇ ШОСТКИНСЬКОГО ВІДДІЛУ ГУНП В СУМСЬКІЙ ОБЛАСТІ                                                                              66\n",
       "ГОРОДЕНКІВСЬКЕ ВІДДІЛЕННЯ ПОЛІЦІЇ КОЛОМИЙСЬКОГО ВІДДІЛУ ГУНП В ІВАНО-ФРАНКІВСЬКІЙ ОБЛАСТІ                                                                      65\n",
       "ТОРЕЗЬКИЙ МВ ГУМВСУ В ДОНЕЦЬКІЙ ОБЛ.                                                                                                                           65\n",
       "ЖМЕРИНСЬКИЙ ВІДДІЛ ПОЛІЦІЇ ГУНП У ВІННИЦЬКІЙ ОБЛАСТІ                                                                                                           64\n",
       "ВІДДІЛИ ПОЛІЦІЇ В ТЕРНОПІЛЬСЬКІЙ ОБЛАСТІ                                                                                                                       64\n",
       "КАНІВСЬКЕ ВІДДІЛЕННЯ ПОЛІЦІЇ ЗОЛОТОНІСЬКОГО ВІДДІЛУ ГУНП В ЧЕРКАСЬКІЙ ОБЛАСТІ                                                                                  64\n",
       "ВІДДІЛЕННЯ ПОЛІЦІЇ №1(М.КОРСУНЬ-ШЕВЧЕНКІВСЬКИЙ) ЧЕРКАСЬКОГО РАЙОННОГО УПРАВЛІННЯ ПОЛІЦІЇ ГУНП В ЧЕРКАСЬКІЙ ОБЛАСТІ                                             64\n",
       "ТУРІЙСЬКЕ ВІДДІЛЕННЯ ПОЛІЦІЇ ВОЛОДИМИР-ВОЛИНСЬКОГО ВІДДІЛУ ГУНП У ВОЛИНСЬКІЙ ОБЛАСТІ                                                                           63\n",
       "КАМІНЬ-КАШИРСЬКИЙ ВІДДІЛ ПОЛІЦІЇ ГУНП У ВОЛИНСЬКІЙ ОБЛАСТІ                                                                                                     63\n",
       "СИНЕЛЬНИКІВСЬКИЙ ВІДДІЛ ПОЛІЦІЇ ГУНП В ДНІПРОПЕТРОВСЬКІЙ ОБЛАСТІ                                                                                               62\n",
       "БОРІВСЬКЕ ВІДДІЛЕННЯ ПОЛІЦІЇ ІЗЮМСЬКОГО ВІДДІЛУ ПОЛІЦІЇ ГУНП В ХАРКІВСЬКІЙ ОБЛАСТІ                                                                             62\n",
       "БОРИСЛАВСЬКЕ ВІДДІЛЕННЯ ПОЛІЦІЇ ДРОГОБИЦЬКОГО ВІДДІЛУ ГУНП У ЛЬВІВСЬКІЙ ОБЛАСТІ                                                                                62\n",
       "МИРОНІВСЬКИЙ ВІДДІЛ ПОЛІЦІЇ ГУНП В КИЇВСЬКІЙ ОБЛАСТІ                                                                                                           60\n",
       "САРНЕНСЬКИЙ ВІДДІЛ ПОЛІЦІЇ ГУНП В РІВНЕНСЬКІЙ ОБЛ.                                                                                                             60\n",
       "ШЕВЧЕНКІВСЬКЕ ВІДДІЛЕННЯ ПОЛІЦІЇ КУП’ЯНСЬКОГО ВІДДІЛУ ГУНП В ХАРКІВСЬКІЙ ОБЛАСТІ                                                                               60\n",
       "СУДАЦЬКИЙ МВ ГУМВС УКРАЇНИ В АР КРИМ                                                                                                                           60\n",
       "ПЕРЕВАЛЬСЬКИЙ РВ ГУМВСУ У ЛУГАНСЬКІЙ ОБЛ.                                                                                                                      60\n",
       "КРИЖОПІЛЬСЬКЕ ВІДДІЛЕННЯ ПОЛІЦІЇ БЕРШАДСЬКОГО ВІДДІЛУ ПОЛІЦІЇ ГУНП У ВІННИЦЬКІЙ ОБЛАСТІ                                                                        59\n",
       "МИКОЛАЇВСЬКЕ РАЙОННЕ ВІДДІЛЕННЯ ПОЛІЦІЇ ОЧАКІВСЬКОГО ВІДДІЛУ ГУНП В МИКОЛАЇВСЬКІЙ ОБЛАСТІ                                                                      58\n",
       "ЖОВКІВСЬКЕ ВІДДІЛЕННЯ ПОЛІЦІЇ КАМ’ЯНКА-БУЗЬКОГО ВІДДІЛУ ГУНП У ЛЬВІВСЬКІЙ ОБЛАСТІ                                                                              58\n",
       "КОЗЕЛЬЩИНСЬКЕ ВІДДІЛЕННЯ ПОЛІЦІЇ КОБЕЛЯЦЬКОГО ВІДДІЛУ ГУНП В ПОЛТАВСЬКІЙ ОБЛАСТІ                                                                               58\n",
       "СМІЛЯНСЬКИЙ ВІДДІЛ ПОЛІЦІЇ ГУНП В ЧЕРКАСЬКІЙ ОБЛАСТІ.                                                                                                          58\n",
       "СТАХАНОВСЬКИЙ МВ ГУМВСУ У ЛУГАНСЬКІЙ ОБЛ.                                                                                                                      58\n",
       "ПРИМОРСЬКЕ ВІДДІЛЕННЯ ПОЛІЦІЇ БЕРДЯНСЬКОГО ВІДДІЛУ ГУНП В ЗАПОРІЗЬКІЙ ОБЛАСТІ                                                                                  58\n",
       "ЗАХАРІВСЬКЕ ВІДДІЛЕННЯ ПОЛІЦІЇ РОЗДІЛЬНЯНСЬКОГО ВІДДІЛУ ГУНП В ОДЕСЬКІЙ ОБЛАСТІ                                                                                57\n",
       "СЛАВУТСЬКИЙ ВІДДІЛ ПОЛІЦІЇ ГУНП В ХМЕЛЬНИЦЬКІЙ ОБЛАСТІ                                                                                                         57\n",
       "БЕРЕЖАНСЬКИЙ ВІДДІЛ ПОЛІЦІЇ ГУНП В ТЕРНОПІЛЬСЬКІЙ ОБЛАСТІ                                                                                                      57\n",
       "ХУСТСЬКИЙ ВІДДІЛ ПОЛІЦІЇ ГУНП В ЗАКАРПАТСЬКІЙ ОБЛАСТІ                                                                                                          57\n",
       "ВІДДІЛЕННЯ ПОЛІЦІЇ №1 (С.БОЯРКА) ФАСТІВСЬКОГО РАЙОННОГО УПРАВЛІННЯ ПОЛІЦІЇ ГУНП В КИЇВСЬКІЙ ОБЛ.                                                               57\n",
       "ЧОРНОБАЇВСЬКЕ ВІДДІЛЕННЯ ПОЛІЦІЇ ЗОЛОТОНІСЬКОГО ВІДДІЛУ ГУНП В ЧЕРКАСЬКІЙ ОБЛАСТІ                                                                              57\n",
       "ПІВДЕННЕ ВІДДІЛЕННЯ ПОЛІЦІЇ КАМ`ЯНСЬКОГО ВІДДІЛУ ГУНП В ДНІПРОПЕТРОВСЬКІЙ ОБЛ.                                                                                 56\n",
       "ШИШАЦЬКЕ ВІДДІЛЕННЯ ПОЛІЦІЇ МИРГОРОДСЬКОГО ВІДДІЛУ ГУНП В ПОЛТАВСЬКІЙ ОБЛАСТІ                                                                                  56\n",
       "КАМ’ЯНСЬКО-ДНІПРОВСЬКЕ ВІДДІЛЕННЯ ПОЛІЦІЇ ЕНЕРГОДАРСЬКОГО ВІДДІЛУ ГУНП В ЗАПОРІЗЬКІЙ ОБЛАСТІ                                                                   56\n",
       "НОВОАРХАНГЕЛЬСЬКЕ ВІДДІЛЕННЯ ПОЛІЦІЇ ГОЛОВАНІВСЬКОГО ВІДДІЛУ ПОЛІЦІЇ ГУНП В КІРОВОГРАДСЬКІЙ ОБЛАСТІ                                                            56\n",
       "ЦАРИЧАНСЬКЕ ВІДДІЛЕННЯ ПОЛІЦІЇ НОВОМОСКОВСЬКОГО ВІДДІЛУ ГУНП В ДНІПРОПЕТРОВСЬКІЙ ОБЛ.                                                                          55\n",
       "МУКАЧІВСЬКЕ РАЙОННЕ ВІДДІЛЕННЯ ПОЛІЦІЇ МУКАЧІВСЬКОГО ВІДДІЛУ ГУНП В ЗАКАРПАТСЬКІЙ ОБЛАСТІ                                                                      55\n",
       "БАРСЬКЕ ВІДДІЛЕННЯ ПОЛІЦІЇ ЖМЕРИНСЬКОГО ВІДДІЛУ ГУНП У ВІННИЦЬКІЙ ОБЛАСТІ                                                                                      55\n",
       "ТРУСКАВЕЦЬКЕ ВІДДІЛЕННЯ ПОЛІЦІЇ ДРОГОБИЦЬКОГО ВІДДІЛУ ГУНП У ЛЬВІВСЬКІЙ ОБЛАСТІ                                                                                55\n",
       "ШАХТАРСЬКИЙ МВ ГУМВСУ В ДОНЕЦЬКІЙ ОБЛ.                                                                                                                         55\n",
       "УВС М. СИМФЕРОПОЛЬ АР КРИМ                                                                                                                                     54\n",
       "КАЛІНІНСЬКИЙ РВ ГОРЛІВСЬКОГО МУ ГУМВСУ В ДОНЕЦЬКІЙ ОБЛ.                                                                                                        54\n",
       "ЮЖНЕНСЬКЕ ВІДДІЛЕННЯ ПОЛІЦІЇ ЛИМАНСЬКОГО ВІДДІЛУ ГУНП В ОДЕСЬКІЙ ОБЛАСТІ                                                                                       54\n",
       "КАМ’ЯНОБРІДСЬКИЙ РВ ЛУГАНСЬКОГО МУ ГУМВСУ У ЛУГАНСЬКІЙ ОБЛ.                                                                                                    54\n",
       "ШЕВЧЕНКІВСЬКИЙ ТВМ №2 М. КИЄВА                                                                                                                                 53\n",
       "КІЦМАНСЬКИЙ ВІДДІЛ ПОЛІЦІЇ ГУНП В ЧЕРНІВЕЦЬКІЙ ОБЛАСТІ                                                                                                         53\n",
       "СТРИЙСЬКИЙ ВІДДІЛ ПОЛІЦІЇ ГУНП У ЛЬВІВСЬКІЙ ОБЛАСТІ                                                                                                            53\n",
       "ГРЕБІНКІВСЬКИЙ ВІДДІЛ ПОЛІЦІЇ ГУНП В ПОЛТАВСЬКІЙ ОБЛАСТІ                                                                                                       53\n",
       "УМАНСЬКЕ РАЙОННЕ ВІДДІЛЕННЯ ПОЛІЦІЇ УМАНСЬКОГО ВІДДІЛУ ГУНП В ЧЕРКАСЬКІЙ ОБЛАСТІ                                                                               53\n",
       "ГОРОДНЯНСЬКЕ ВІДДІЛЕННЯ ПОЛІЦІЇ МЕНСЬКОГО ВІДДІЛУ ГУНП В ЧЕРНІГІВСЬКІЙ ОБЛАСТІ                                                                                 53\n",
       "КРАСНОЛУЦЬКИЙ МВ ГУМВСУ У ЛУГАНСЬКІЙ ОБЛ.                                                                                                                      53\n",
       "КІРОВСЬКИЙ РВ ГУМВ С УКРАЇНИ В АР КРИМ                                                                                                                         53\n",
       "ДУБРОВИЦЬКЕ ВІДДІЛЕННЯ ПОЛІЦІЇ САРНЕНСЬКОГО ВІДДІЛУ ГУНП В РІВНЕНСЬКІЙ ОБЛ.                                                                                    53\n",
       "ВЕЛИКОБАГАЧАНСЬКЕ ВІДДІЛЕННЯ ПОЛІЦІЇ МИРГОРОДСЬКОГО ВІДДІЛУ ГУНП В ПОЛТАВСЬКІЙ ОБЛАСТІ                                                                         52\n",
       "ШИРЯЇВСЬКЕ ВІДДІЛЕННЯ ПОЛІЦІЇ РОЗДІЛЬНЯНСЬКОГО ВІДДІЛУ ГУНП В ОДЕСЬКІЙ ОБЛАСТІ                                                                                 52\n",
       "ПОПІЛЬНЯНСЬКЕ ВІДДІЛЕННЯ ПОЛІЦІЇ КОРОСТИШІВСЬКОГО ВІДДІЛУ ГУНП В ЖИТОМИРСЬКІЙ ОБЛАСТІ                                                                          52\n",
       "ОМ 1 Г.ЯЛТЫ АР КРЫМ                                                                                                                                            52\n",
       "ВАРАШСЬКИЙ ВІДДІЛ ПОЛІЦІЇ ГУНП В РІВНЕНСЬКІЙ ОБЛ.                                                                                                              52\n",
       "БЄЛОГІРСЬКИЙ РВ ГУМВС УКРАЇНИ В АР КРИМ                                                                                                                        51\n",
       "ПЕТРОВСЬКИЙ РВ ДОНЕЦЬКОГО МУ ГУМВСУ В ДОНЕЦЬКІЙ ОБЛ.                                                                                                           51\n",
       "ПЕТРИКІВСЬКЕ ВІДДІЛЕННЯ ПОЛІЦІЇ НОВОМОСКОВСЬКОГО ВІДДІЛУ ГУНП В ДНІПРОПЕТРОВСЬКІЙ ОБЛ.                                                                         51\n",
       "РОЖИЩЕНСЬКЕ ВІДДІЛЕННЯ ПОЛІЦІЇ КІВЕРЦІВСЬКОГО ВІДДІЛУ ГУНП У ВОЛИНСЬКІЙ ОБЛАСТІ                                                                                51\n",
       "МИКИТІВСЬКИЙ РВ ГОРЛІВСЬКОГО МУ ГУМВСУ В ДОНЕЦЬКІЙ ОБЛ.                                                                                                        51\n",
       "РАХІВСЬКЕ ВІДДІЛЕННЯ ПОЛІЦІЇ ТЯЧІВСЬКОГО ВІДДІЛУ ГУНП В ЗАКАРПАТСЬКІЙ ОБЛАСТІ                                                                                  51\n",
       "ГУЛЯЙПІЛЬСЬКЕ ВІДДІЛЕННЯ ПОЛІЦІЇ ПОЛОГІВСЬКОГО ВІДДІЛУ ГУНП В ЗАПОРІЗЬКІЙ ОБЛАСТІ                                                                              51\n",
       "АНТРАЦИТІВСЬКИЙ МВ ГУМВСУ У ЛУГАНСЬКІЙ ОБЛ.                                                                                                                    50\n",
       "КРИВОРІЗЬКЕ ВІДДІЛЕННЯ ПОЛІЦІЇ КРИВОРІЗЬКОГО ВІДДІЛУ ГУНП В ДНІПРОПЕТРОВСЬКІЙ ОБЛ.                                                                             50\n",
       "ЛЮБАШІВСЬКЕ ВІДДІЛЕННЯ ПОЛІЦІЇ БАЛТСЬКОГО ВІДДІЛУ ГУНП В ОДЕСЬКІЙ ОБЛАСТІ                                                                                      50\n",
       "МИКОЛАЇВСЬКЕ ВІДДІЛЕННЯ ПОЛІЦІЇ ПУСТОМИТІВСЬКОГО ВІДДІЛУ ПОЛІЦІЇ ГУНП У ЛЬВІВСЬКІЙ ОБЛАСТІ                                                                     50\n",
       "БЕРЕЗІВСЬКЕ ВІДДІЛЕННЯ ПОЛІЦІЇ ЛИМАНСЬКОГО ВІДДІЛУ ГУНП В ОДЕСЬКІЙ ОБЛАСТІ                                                                                     49\n",
       "КУЛИКІВСЬКЕ ВІДДІЛЕННЯ ПОЛІЦІЇ ЧЕРНІГІВСЬКОГО ВІДДІЛУ ГУНП В ЧЕРНІГІВСЬКІЙ ОБЛАСТІ.                                                                            49\n",
       "ТАТАРБУНАРСЬКЕ ВІДДІЛЕННЯ ПОЛІЦІЇ АРЦИЗЬКОГО ВІДДІЛУ ГУНП В ОДЕСЬКІЙ ОБЛАСТІ                                                                                   49\n",
       "ЛІВАДІЙСЬКИЙ РВ ГУМВС УКРАЇНИ В АР КРИМ                                                                                                                        49\n",
       "МИКОЛАЇВСЬКЕ ВІДДІЛЕННЯ ПОЛІЦІЇ ЛИМАНСЬКОГО ВІДДІЛУ ГУНП В ОДЕСЬКІЙ ОБЛАСТІ                                                                                    48\n",
       "ГОРОДОЦЬКЕ ВІДДІЛЕННЯ ПОЛІЦІЇ ЯВОРІВСЬКОГО ВІДДІЛУ ГУНП У ЛЬВІВСЬКІЙ ОБЛАСТІ                                                                                   48\n",
       "САКСЬКИЙ РВ ГУМВС УКРАЇНИ В АР КРИМ                                                                                                                            47\n",
       "ЗБОРІВСЬКЕ ВІДДІЛЕННЯ ПОЛІЦІЇ ТЕРНОПІЛЬСЬКОГО ВІДДІЛУ ГУНП В ТЕРНОПІЛЬСЬКІЙ ОБЛАСТІ                                                                            47\n",
       "ЗДОЛБУНІВСЬКЕ ВІДДІЛЕННЯ ПОЛІЦІЇ ОСТРОЗЬКОГО ВІДДІЛУ ГУНП В РІВНЕНСЬКІЙ ОБЛ.                                                                                   47\n",
       "КРИВООЗЕРСЬКЕ ВІДДІЛЕННЯ ПОЛІЦІЇ ВРАДІЇВСЬКОГО ВІДДІЛУ ГУНП В МИКОЛАЇВСЬКІЙ ОБЛАСТІ                                                                            46\n",
       "ЮЖНОУКРАЇНСЬКЕ ВІДДІЛЕННЯ ПОЛІЦІЇ ПЕРВОМАЙСЬКОГО ВІДДІЛУ ГУНП В МИКОЛАЇВСЬКІЙ ОБЛАСТІ                                                                          46\n",
       "ЗГУРІВСЬКЕ ВІДДІЛЕННЯ ПОЛІЦІЇ ПЕРЕЯСЛАВ-ХМЕЛЬНИЦЬКОГО ВІДДІЛУ ГУНП В КИЇВСЬКІЙ ОБЛАСТІ                                                                         46\n",
       "ЗАРІЧАНСЬКЕ ВІДДІЛЕННЯ ПОЛІЦІЇ ХМЕЛЬНИЦЬКОГО ВІДДІЛУ ГУНП В ХМЕЛЬНИЦЬКІЙ ОБЛАСТІ                                                                               46\n",
       "КРАСНОДОНСЬКИЙ МВ ГУМВСУ У ЛУГАНСЬКІЙ ОБЛ.                                                                                                                     46\n",
       "ГЛИБОЦЬКЕ ВІДДІЛЕННЯ ПОЛІЦІЇ СТОРОЖИНЕЦЬКОГО ВІДДІЛУ ГУНП В ЧЕРНІВЕЦЬКІЙ ОБЛАСТІ                                                                               46\n",
       "КОЗЯТИНСЬКЕ ВІДДІЛЕННЯ ПОЛІЦІЇ КАЛИНІВСЬКОГО ВІДДІЛУ ГУНП У ВІННИЦЬКІЙ ОБЛАСТІ                                                                                 46\n",
       "БОБРИНЕЦЬКЕ ВІДДІЛЕННЯ ПОЛІЦІЇ НОВОУКРАЇНСЬКОГО ВІДДІЛУ ГУНП В КІРОВОГРАДСЬКІЙ ОБЛАСТІ                                                                         45\n",
       "МАШІВСЬКЕ ВІДДІЛЕННЯ ПОЛІЦІЇ КАРЛІВСЬКОГО ВІДДІЛУ ГУНП В ПОЛТАВСЬКІЙ ОБЛАСТІ                                                                                   45\n",
       "ЦЕНТРАЛЬНИЙ ВІДДІЛ ХМЕЛЬНИЦЬКОГО МВ УМВС                                                                                                                       45\n",
       "БОГОРОДЧАНСЬКЕ ВІДДІЛЕННЯ ПОЛІЦІЇ НАДВІРНЯНСЬКОГО ВІДДІЛУ ГУНП В ІВАНО-ФРАНКІВСЬКІЙ ОБЛАСТІ                                                                    45\n",
       "ДИКАНСЬКЕ ВІДДІЛЕННЯ ПОЛІЦІЇ МИРГОРОДСЬКОГО ВІДДІЛУ ГУНП В ПОЛТАВСЬКІЙ ОБЛАСТІ                                                                                 45\n",
       "БАЛАКЛАВСЬКИЙ РВ СЕВАСТПОЛЬСЬКОГО МУ                                                                                                                           44\n",
       "ЖИДАЧІВСЬКЕ ВІДДІЛЕННЯ ПОЛІЦІЇ СТРИЙСЬКОГО ВІДДІЛУ ГУНП У ЛЬВІВСЬКІЙ ОБЛАСТІ                                                                                   44\n",
       "ГУМВС УКРАЇНИ В АР КРИМ                                                                                                                                        44\n",
       "ТАРАЩАНСЬКЕ ВІДДІЛЕННЯ ПОЛІЦІЇ МИРОНІВСЬКОГО ВІДДІЛУ ГУНП В КИЇВСЬКІЙ ОБЛАСТІ                                                                                  44\n",
       "МАЛИНСЬКЕ ВІДДІЛЕННЯ ПОЛІЦІЇ КОРОСТИШІВСЬКОГО ВІДДІЛУ ГУНП В ЖИТОМИРСЬКІЙ ОБЛАСТІ                                                                              44\n",
       "МОНАСТИРИЩЕНСЬКЕ ВІДДІЛЕННЯ ПОЛІЦІЇ УМАНСЬКОГО ВІДДІЛУ ГУНП В ЧЕРКАСЬКІЙ ОБЛАСТІ.                                                                              44\n",
       "ЧЕРНЯХІВСЬКЕ ВІДДІЛЕННЯ ПОЛІЦІЇ КОРОСТИШІВСЬКОГО ВІДДІЛУ ГУНП В ЖИТОМИРСЬКІЙ ОБЛАСТІ                                                                           43\n",
       "ЗБАРАЗЬКЕ ВІДДІЛЕННЯ ПОЛІЦІЇ ПІДВОЛОЧИСЬКОГО ВІДДІЛУ ГУНП В ТЕРНОПІЛЬСЬКІЙ ОБЛАСТІ                                                                             43\n",
       "БОРЗНЯНСЬКЕ ВІДДІЛЕННЯ ПОЛІЦІЇ БАХМАЦЬКОГО ВІДДІЛУ ГУНП В ЧЕРНІГІВСЬКІЙ ОБЛАСТІ.                                                                               43\n",
       "СНІГУРІВСЬКИЙ ВІДДІЛ ПОЛІЦІЇ ГУНП В МИКОЛАЇВСЬКІЙ ОБЛАСТІ                                                                                                      43\n",
       "КОТЕЛЕВСЬКЕ ВІДДІЛЕННЯ ПОЛІЦІЇ ГАДЯЦЬКОГО ВІДДІЛУ ГУНП В ПОЛТАВСЬКІЙ ОБЛАСТІ                                                                                   43\n",
       "КРАСНОПЕРЕКОПСЬКИЙ РВ ГУМВС УКРАЇНИ В АР КРИМ                                                                                                                  43\n",
       "ПОКРОВСЬКЕ ВІДДІЛЕННЯ ПОЛІЦІЇ СИНЕЛЬНИКІВСЬКОГО ВІДДІЛУ ГУНП В ДНІПРОПЕТРОВСЬКІЙ ОБЛ.                                                                          43\n",
       "БАРВІНКІВСЬКЕ ВІДДІЛЕННЯ ПОЛІЦІЇ БАЛАКЛІЙСЬКОГО ВІДДІЛУ ПОЛІЦІЇ ГУНП В ХАРКІВСЬКІЙ ОБЛАСТІ                                                                     43\n",
       "2 ВМ КЕРЧЕНСЬКОГО МУ ГУМВС УКРАЇНИ В АР КРИМ                                                                                                                   43\n",
       "ТЕРЕБОВЛЯНСЬКИЙ ВІДДІЛ ПОЛІЦІЇ ГУНП В ТЕРНОПІЛЬСЬКІЙ ОБЛАСТІ                                                                                                   42\n",
       "РОЖНЯТІВСЬКЕ ВІДДІЛЕННЯ ПОЛІЦІЇ КАЛУСЬКОГО ВІДДІЛУ ГУНП В ІВАНО-ФРАНКІВСЬКІЙ ОБЛАСТІ                                                                           42\n",
       "ДНІПРОРУДНЕНСЬКЕ ВІДДІЛЕННЯ ПОЛІЦІЇ ВАСИЛІВСЬКОГО ВІДДІЛУ ГУНП В ЗАПОРІЗЬКІЙ ОБЛАСТІ                                                                           42\n",
       "ШПОЛЯНСЬКЕ ВІДДІЛЕННЯ ПОЛІЦІЇ СМІЛЯНСЬКОГО ВІДДІЛУ ГУНП В ЧЕРКАСЬКІЙ ОБЛАСТІ.                                                                                  42\n",
       "ЖАШКІВСЬКЕ ВІДДІЛЕННЯ ПОЛІЦІЇ УМАНСЬКОГО ВІДДІЛУ ГУНП В ЧЕРКАСЬКІЙ ОБЛАСТІ.                                                                                    41\n",
       "ЯМПІЛЬСЬКЕ ВІДДІЛЕННЯ ПОЛІЦІЇ МОГИЛІВ-ПОДІЛЬСЬКОГО ВІДДІЛУ ГУНП У ВІННИЦЬКІЙ ОБЛАСТІ                                                                           41\n",
       "ХМЕЛЬНИЦЬКЕ РАЙОННЕ ВІДДІЛЕННЯ ПОЛІЦІЇ ХМЕЛЬНИЦЬКОГО ВІДДІЛУ ГУНП В ХМЕЛЬНИЦЬКІЙ ОБЛАСТІ                                                                       41\n",
       "ГНІВАНСЬКЕ ВІДДІЛЕННЯ ПОЛІЦІЇ ЖМЕРИНСЬКОГО ВІДДІЛУ ПОЛІЦІЇ ГУНП У ВІННИЦЬКІЙ ОБЛАСТІ                                                                           41\n",
       "ГАЛИЦЬКЕ ВІДДІЛЕННЯ ПОЛІЦІЇ ТИСМЕНИЦЬКОГО ВІДДІЛУ ГУНП В ІВАНО-ФРАНКІВСЬКІЙ ОБЛАСТІ                                                                            41\n",
       "ЧУТІВСЬКЕ ВІДДІЛЕННЯ ПОЛІЦІЇ КАРЛІВСЬКОГО ВІДДІЛУ ГУНП В ПОЛТАВСЬКІЙ ОБЛАСТІ                                                                                   40\n",
       "ТОМАКІВСЬКЕ ВІДДІЛЕННЯ ПОЛІЦІЇ НІКОПОЛЬСЬКОГО ВІДДІЛУ ГУНП В ДНІПРОПЕТРОВСЬКІЙ ОБЛ.                                                                            40\n",
       "БРОВАРСЬКИЙ МВ ГУМВСУ В КИЇВСЬКІЙ ОБЛАСТІ                                                                                                                      40\n",
       "КАМ’ЯНКА-БУЗЬКИЙ ВІДДІЛ ПОЛІЦІЇ ГУНП У ЛЬВІВСЬКІЙ ОБЛАСТІ                                                                                                      40\n",
       "СТОРОЖИНЕЦЬКИЙ ВІДДІЛ ПОЛІЦІЇ ГУНП В ЧЕРНІВЕЦЬКІЙ ОБЛАСТІ                                                                                                      40\n",
       "ЦЕНТРАЛЬНЕ ВІДДІЛЕННЯ ПОЛІЦІЇ КИЄВО-СВЯТОШИНСЬКОГО ВІДДІЛУ ГУНП В КИЇВСЬКІЙ ОБЛАСТІ                                                                            40\n",
       "КАЛАНЧАЦЬКЕ ВІДДІЛЕННЯ ПОЛІЦІЇ НОВОКАХОВСЬКОГО ВІДДІЛУ ГУ НП В ХЕРСОНСЬКІЙ ОБЛАСТІ                                                                             40\n",
       "ЧОРНОМОРСЬКИЙ РВ ГУМВС УКРАЇНИ В АР КРИМ                                                                                                                       40\n",
       "ЯСИНУВАТСЬКИЙ МВ ГУМВСУ В ДОНЕЦЬКІЙ ОБЛ.                                                                                                                       39\n",
       "КОРОПСЬКЕ ВІДДІЛЕННЯ ПОЛІЦІЇ БАХМАЦЬКОГО ВІДДІЛУ ГУНП В ЧЕРНІГІВСЬКІЙ ОБЛАСТІ.                                                                                 39\n",
       "МАНЕВИЦЬКИЙ ВІДДІЛ ПОЛІЦІЇ ГУНП У ВОЛИНСЬКІЙ ОБЛАСТІ                                                                                                           38\n",
       "ВИЖНИЦЬКЕ ВІДДІЛЕННЯ ПОЛІЦІЇ КІЦМАНСЬКОГО ВІДДІЛУ ГУНП В ЧЕРНІВЕЦЬКІЙ ОБЛАСТІ                                                                                  38\n",
       "ЧАПЛИНСЬКЕ ВІДДІЛЕННЯ ПОЛІЦІЇ ГЕНІЧЕСЬКОГО ВІДДІЛУ ГУ НП В ХЕРСОНСЬКІЙ ОБЛАСТІ                                                                                 38\n",
       "ГАЙВОРОНСЬКИЙ ВІДДІЛ ПОЛІЦІЇ ГУНП В КІРОВОГРАДСЬКІЙ ОБЛАСТІ                                                                                                    38\n",
       "ГОЛОВНЕ УПРАВЛІННЯ НАЦІОНАЛЬНОЇ ПОЛІЦІЇ У ВІННИЦЬКІЙ ОБЛАСТІ                                                                                                   38\n",
       "ГОЩАНСЬКЕ ВІДДІЛЕННЯ ПОЛІЦІЇ ОСТРОЗЬКОГО ВІДДІЛУ ГУНП В РІВНЕНСЬКІЙ ОБЛ.                                                                                       37\n",
       "П'ЯТИХАТСЬКЕ ВІДДІЛЕННЯ ПОЛІЦІЇ ЖОВТОВОДСЬКОГО ВІДДІЛУ ГУНП в ДНІПРОПЕТРОВСЬКІЙ ОБЛ.                                                                           37\n",
       "ТЕПЛИЦЬКЕ ВІДДІЛЕННЯ ПОЛІЦІЇ БЕРШАДСЬКОГО ВІДДІЛУ ГУНП У ВІННИЦЬКІЙ ОБЛАСТІ                                                                                    37\n",
       "ДУНАЄВЕЦЬКИЙ ВІДДІЛ ПОЛІЦІЇ ГУНП В ХМЕЛЬНИЦЬКІЙ ОБЛАСТІ                                                                                                        37\n",
       "БОРЩІВСЬКЕ ВІДДІЛЕННЯ ПОЛІЦІЇ ЧОРТКІВСЬКОГО ВІДДІЛУ ГУНП В ТЕРНОПІЛЬСЬКІЙ ОБЛАСТІ                                                                              36\n",
       "ОЛЕВСЬКЕ ВІДДІЛЕННЯ ПОЛІЦІЇ КОРОСТЕНСЬКОГО ВІДДІЛУ ГУНП В ЖИТОМИРСЬКІЙ ОБЛАСТІ                                                                                 36\n",
       "ДОБРОВЕЛИЧКІВСЬКЕ ВІДДІЛЕННЯ ПОЛІЦІЇ НОВОУКРАЇНСЬКОГО ВІДДІЛУ ГУНП В КІРОВОГРАДСЬКІЙ ОБЛАСТІ                                                                   36\n",
       "ІЧНЯНСЬКЕ ВІДДІЛЕННЯ ПРИЛУЦЬКОГО ВІДДІЛУ ПОЛІЦІЇ ГУНП В ЧЕРНІГІВСЬКІЙ ОБЛАСТІ.                                                                                 36\n",
       "СОВЄТСЬКИЙ РВ ГУМВС УКРАЇНИ В АР КРИМ                                                                                                                          36\n",
       "ТЕЛЬМАНІВСЬКИЙ РВ ГУМВСУ В ДОНЕЦЬКІЙ ОБЛ.                                                                                                                      36\n",
       "ЧОРНУХИНСЬКЕ ВІДДІЛЕННЯ ПОЛІЦІЇ ЛОХВИЦЬКОГО ВІДДІЛУ ГУНП В ПОЛТАВСЬКІЙ ОБЛАСТІ                                                                                 36\n",
       "КОМПАНІЇВСЬКЕ ВІДДІЛЕННЯ ПОЛІЦІЇ ДОЛИНСЬКОГО ВІДДІЛУ ПОЛІЦІЇ ГУНП В КІРОВОГРАДСЬКІЙ ОБЛАСТІ                                                                    36\n",
       "ЗАРІЧНЕНСЬКЕ ВІДДІЛЕННЯ ПОЛІЦІЇ ВАРАШСЬКОГО ВІДДІЛУ ГУНП В РІВНЕНСЬКІЙ ОБЛ.                                                                                    36\n",
       "КРАСНОПІЛЬСЬКЕ ВІДДІЛЕННЯ ПОЛІЦІЇ ОХТИРСЬКОГО ВІДДІЛУ ГУНП В СУМСЬКІЙ ОБЛАСТІ                                                                                  36\n",
       "ГОЛОВАНІВСЬКИЙ ВІДДІЛ ПОЛІЦІЇ ГУНП В КІРОВОГРАДСЬКІЙ ОБЛАСТІ                                                                                                   36\n",
       "НЕТІШИНСЬКЕ ВІДДІЛЕННЯ ПОЛІЦІЇ СЛАВУТСЬКОГО ВІДДІЛУ ГУНП В ХМЕЛЬНИЦЬКІЙ ОБЛАСТІ                                                                                36\n",
       "ШАЦЬКЕ ВІДДІЛЕННЯ ПОЛІЦІЇ ЛЮБОМЛЬСЬКОГО ВІДДІЛУ ГУНП У ВОЛИНСЬКІЙ ОБЛАСТІ                                                                                      36\n",
       "ЯМПІЛЬСЬКЕ ВІДДІЛЕННЯ ПОЛІЦІЇ ШОСТКИНСЬКОГО ВІДДІЛУ ГУНП В СУМСЬКІЙ ОБЛАСТІ                                                                                    36\n",
       "ЯРЕМЧАНСЬКЕ ВІДДІЛЕННЯ ПОЛІЦІЇ НАДВІРНЯНСЬКОГО ВІДДІЛУ ГУНП В ІВАНО-ФРАНКІВСЬКІЙ ОБЛАСТІ                                                                       36\n",
       "ЗАЛІЩИЦЬКЕ ВІДДІЛЕННЯ ПОЛІЦІЇ ЧОРТКІВСЬКОГО ВІДДІЛУ ГУНП В ТЕРНОПІЛЬСЬКІЙ ОБЛАСТІ                                                                              35\n",
       "ЧЕРВОНОГВАРДІЙСЬКИЙ РВ МАКІЇВСЬКОГО МУ ГУМВСУ ДОНЕЦЬКОЇ ОБЛ.                                                                                                   35\n",
       "СВАЛЯВСЬКЕ ВІДДІЛЕННЯ ПОЛІЦІЇ МУКАЧІВСЬКОГО ВІДДІЛУ ГУНП В ЗАКАРПАТСЬКІЙ ОБЛАСТІ                                                                               35\n",
       "АЛУПКИНСЬКИЙ МВ ГУМВС УКРАЇНИ В АР КРИМ                                                                                                                        35\n",
       "ЛЮБОТИНСЬКЕ ВІДДІЛЕННЯ ПОЛІЦІЇ ХАРКІВСЬКОГО ВІДДІЛУ ГУНП В ХАРКІВСЬКІЙ ОБЛАСТІ                                                                                 34\n",
       "АРТЕМІВСЬКИЙ РВВС ДОНЕЦЬКІЙ ОБЛ.                                                                                                                               34\n",
       "ДОКУЧАЄВСЬКИЙ МВ ГУМВСУ В ДОНЕЦЬКІЙ ОБЛ.                                                                                                                       34\n",
       "МЛИНІВСЬКЕ ВІДДІЛЕННЯ ПОЛІЦІЇ ДУБЕНСЬКОГО ВІДДІЛУ ГУНП В РІВНЕНСЬКІЙ ОБЛ.                                                                                      34\n",
       "ВЕСЕЛІВСЬКЕ ВІДДІЛЕННЯ ПОЛІЦІЇ МЕЛІТОПОЛЬСЬКОГО ВІДДІЛУ ГУНП В ЗАПОРІЗЬКІЙ ОБЛАСТІ                                                                             33\n",
       "САДГІРСЬКЕ ВІДДІЛЕННЯ ПОЛІЦІЇ ЧЕРНІВЕЦЬКОГО ВІДДІЛУ ГУНП В ЧЕРНІВЕЦЬКІЙ ОБЛАСТІ                                                                                33\n",
       "МОНАСТИРИСЬКЕ ВІДДІЛЕННЯ ПОЛІЦІЇ ТЕРЕБОВЛЯНСЬКОГО ВІДДІЛУ ГУНП В ТЕРНОПІЛЬСЬКІЙ ОБЛАСТІ                                                                        33\n",
       "ВИШНІВСЬКЕ ВІДДІЛЕННЯ ПОЛІЦІЇ КИЄВО-СВЯТОШИНСЬКОГО ВІДДІЛУ ГУНП В КИЇВСЬКІЙ ОБЛАСТІ                                                                            33\n",
       "НОВОАЗОВСЬКИЙ РВ ГУМВСУ В ДОНЕЦЬКІЙ ОБЛ.                                                                                                                       32\n",
       "ЧЕРНІГІВСЬКЕ ВІДДІЛЕННЯ ПОЛІЦІЇ БЕРДЯНСЬКОГО ВІДДІЛУ ГУНП В ЗАПОРІЗЬКІЙ ОБЛАСТІ                                                                                32\n",
       "РОКИТНЯНСЬКЕ ВІДДІЛЕННЯ ПОЛІЦІЇ  МИРОНІВСЬКОГО ВІДДІЛУ ГУНП В КИЇВСЬКІЙ ОБЛАСТІ                                                                                32\n",
       "ПУЛИНСЬКЕ ВІДДІЛЕННЯ ПОЛІЦІЇ НОВОГРАД-ВОЛИНСЬКОГО ВІДДІЛУ ГУНП В ЖИТОМИРСЬКІЙ ОБЛАСТІ                                                                          32\n",
       "ЧУДНІВСЬКЕ ВІДДІЛЕННЯ ПОЛІЦІЇ БЕРДИЧІВСЬКОГО ВІДДІЛУ ГУНП В ЖИТОМИРСЬКІЙ ОБЛАСТІ                                                                               32\n",
       "АПОСТОЛІВСЬКЕ ВІДДІЛЕННЯ ПОЛІЦІЇ НІКОПОЛЬСЬКОГО ВІДДІЛУ ГУНП В ДНІПРОПЕТРОВСЬКІЙ ОБЛ.                                                                          32\n",
       "АНАНЬЇВСЬКЕ ВІДДІЛЕННЯ ПОЛІЦІЇ КОТОВСЬКОГО ВІДДІЛУ ГУНП В ОДЕСЬКІЙ ОБЛАСТІ                                                                                     31\n",
       "АМВРОСІЇВСЬКИЙ РВ ГУМВСУ В ДОНЕЦЬКІЙ ОБЛ.                                                                                                                      31\n",
       "БАХЧИСАРАЙСЬКИЙ РВ ГУМВС УКРАЇНИ В АР КРИМ                                                                                                                     31\n",
       "БУРИНСЬКЕ ВІДДІЛЕННЯ ПОЛІЦІЇ КОНОТОПСЬКОГО ВІДДІЛУ ГУНП В СУМСЬКІЙ ОБЛАСТІ                                                                                     31\n",
       "КОЗІВСЬКЕ ВІДДІЛЕННЯ ПОЛІЦІЇ БЕРЕЖАНСЬКОГО ВІДДІЛУ ГУНП В ТЕРНОПІЛЬСЬКІЙ ОБЛАСТІ                                                                               31\n",
       "ХОРОШІВСЬКЕ ВІДДІЛЕННЯ ПОЛІЦІЇ КОРОСТИШІВСЬКОГО ВІДДІЛУ ГУНП В ЖИТОМИРСЬКІЙ ОБЛАСТІ                                                                            31\n",
       "ХРИСТИНІВСЬКЕ ВІДДІЛЕННЯ ПОЛІЦІЇ УМАНСЬКОГО ВІДДІЛУ ГУНП В ЧЕРКАСЬКІЙ ОБЛАСТІ.                                                                                 31\n",
       "ДОНЕЦЬКЕ МУ ГУМВСУ В ДОНЕЦЬКІЙ ОБЛ.                                                                                                                            31\n",
       "ЄМІЛЬЧИНСЬКЕ ВІДДІЛЕННЯ ПОЛІЦІЇ НОВОГРАД-ВОЛИНСЬКОГО ВІДДІЛУ ГУНП В ЖИТОМИРСЬКІЙ ОБЛАСТІ                                                                       31\n",
       "ПОГРЕБИЩЕНСЬКЕ ВІДДІЛЕННЯ ПОЛІЦІЇ КАЛИНІВСЬКОГО ВІДДІЛУ ГУНП У ВІННИЦЬКІЙ ОБЛАСТІ                                                                              30\n",
       "ПЕРВОМАЙСЬКИЙ МВ ГУМВСУ У ЛУГАНСЬКІЙ ОБЛ.                                                                                                                      30\n",
       "КРАСНООКНЯНСЬКЕ ВІДДІЛЕННЯ ПОЛІЦІЇ КОТОВСЬКОГО ВІДДІЛУ ГУНП В ОДЕСЬКІЙ ОБЛАСТІ                                                                                 30\n",
       "РОГАТИНСЬКЕ ВІДДІЛЕННЯ ПОЛІЦІЇ ТИСМЕНИЦЬКОГО ВІДДІЛУ ГУНП В ІВАНО-ФРАНКІВСЬКІЙ ОБЛАСТІ                                                                         30\n",
       "СТАРОБЕШІВСЬКИЙ РВ ГУМВСУ В ДОНЕЦЬКІЙ ОБЛ.                                                                                                                     30\n",
       "ІНГУЛЕЦЬКЕ ВІДДІЛЕННЯ ПОЛІЦІЇ КРИВОРІЗЬКОГО ВІДДІЛУ ГУНП В ДНІПРОПЕТРОВСЬКІЙ ОБЛ.                                                                              30\n",
       "ЛУГИНСЬКЕ ВІДДІЛЕННЯ ПОЛІЦІЇ КОРОСТЕНСЬКОГО ВІДДІЛУ ГУНП В ЖИТОМИРСЬКІЙ ОБЛАСТІ                                                                                30\n",
       "СЛОВ’ЯНОСЕРБСЬКИЙ РВ ГУМВСУ У ЛУГАНСЬКІЙ ОБЛ.                                                                                                                  29\n",
       "БІЛЬМАЦЬКЕ ВІДДІЛЕННЯ ПОЛІЦІЇ БЕРДЯНСЬКОГО ВІДДІЛУ ГУНП В ЗАПОРІЗЬКІЙ ОБЛАСТІ                                                                                  29\n",
       "МОСТИСЬКЕ ВІДДІЛЕННЯ ПОЛІЦІЇ ЯВОРІВСЬКОГО ВІДДІЛУ ГУНП У ЛЬВІВСЬКІЙ ОБЛАСТІ                                                                                    29\n",
       "РУЖИНСЬКЕ ВІДДІЛЕННЯ ПОЛІЦІЇ БЕРДИЧІВСЬКОГО ВІДДІЛУ ГУНП В ЖИТОМИРСЬКІЙ ОБЛАСТІ                                                                                29\n",
       "ЧИГИРИНСЬКЕ ВІДДІЛЕННЯ ПОЛІЦІЇ СМІЛЯНСЬКОГО ВІДДІЛУ ГУНП В ЧЕРКАСЬКІЙ ОБЛАСТІ.                                                                                 29\n",
       "ВАСИЛЬКІВСЬКЕ ВІДДІЛЕННЯ ПОЛІЦІЇ СИНЕЛЬНИКІВСЬКОГО ВІДДІЛУ ГУНП В ДНІПРОПЕТРОВСЬКІЙ ОБЛ.                                                                       28\n",
       "БЕРЕГІВСЬКИЙ ВІДДІЛ ПОЛІЦІЇ ГУНП В ЗАКАРПАТСЬКІЙ ОБЛАСТІ                                                                                                       28\n",
       "КАТЕРИНОПІЛЬСЬКЕ ВІДДІЛЕННЯ ПОЛІЦІЇ ЗВЕНИГОРОДСЬКОГО ВІДДІЛУ ГУНП В ЧЕРКАСЬКІЙ ОБЛАСТІ.                                                                        28\n",
       "ДВОРІЧАНСЬКЕ ВІДДІЛЕННЯ ПОЛІЦІЇ КУП’ЯНСЬКОГО ВІДДІЛУ ГУНП В ХАРКІВСЬКІЙ ОБЛАСТІ                                                                                28\n",
       "АНДРУШІВСЬКЕ ВІДДІЛЕННЯ ПОЛІЦІЇ БЕРДИЧІВСЬКОГО ВІДДІЛУ ГУНП В ЖИТОМИРСЬКІЙ ОБЛАСТІ                                                                             28\n",
       "ВІДДІЛЕННЯ ПОЛІЦІЇ № 1 ПОПАСНЯНСЬКОГО ВІДДІЛУ ГУНП В ЛУГАНСЬКІЙ ОБЛАСТІ                                                                                        28\n",
       "НОВОСЕЛИЦЬКЕ ВІДДІЛЕННЯ ПОЛІЦІЇ СТОРОЖИНЕЦЬКОГО ВІДДІЛУ ГУНП В ЧЕРНІВЕЦЬКІЙ ОБЛАСТІ                                                                            28\n",
       "ВЕСЕЛИНІВСЬКЕ ВІДДІЛЕННЯ ПОЛІЦІЇ ВОЗНЕСЕНСЬКОГО ВІДДІЛУ ГУНП В МИКОЛАЇВСЬКІЙ ОБЛАСТІ                                                                           28\n",
       "БУСЬКЕ ВІДДІЛЕННЯ ПОЛІЦІЇ КАМ’ЯНКА-БУЗЬКОГО ВІДДІЛУ ГУНП У ЛЬВІВСЬКІЙ ОБЛАСТІ                                                                                  28\n",
       "ПЕТРІВСЬКЕ ВІДДІЛЕННЯ ПОЛІЦІЇ ДОЛИНСЬКОГО ВІДДІЛУ ГУНП В КІРОВОГРАДСЬКІЙ ОБЛАСТІ                                                                               27\n",
       "ВРАДІЇВСЬКИЙ ВІДДІЛ ПОЛІЦІЇ ГУНП В МИКОЛАЇВСЬКІЙ ОБЛАСТІ                                                                                                       27\n",
       "КЕЛЬМЕНЕЦЬКИЙ ВІДДІЛ ПОЛІЦІЇ ГУНП В ЧЕРНІВЕЦЬКІЙ ОБЛАСТІ                                                                                                       27\n",
       "ПЕРШОТРАВЕНСЬКЕ ВІДДІЛЕННЯ ПОЛІЦІЇ ПАВЛОГРАДСЬКОГО ВІДДІЛУ ГУНП В ДНІПРОПЕТРОВСЬКІЙ ОБЛ.                                                                       27\n",
       "БЕРЕЗНІВСЬКЕ ВІДДІЛЕННЯ ПОЛІЦІЇ CАРНЕНСЬКОГО ВІДДІЛУ ГУНП В РІВНЕНСЬКІЙ ОБЛ.                                                                                   27\n",
       "НИЖНЬОГІРСЬКИЙ РВ ГУМВС УКРАЇНИ В АР КРИМ                                                                                                                      27\n",
       "БІЛОЦЕРКІВСЬКИЙ РВВС КИЇВСЬКОЇ ОБЛАСТІ                                                                                                                         27\n",
       "ПОЛОГІВСЬКИЙ ВІДДІЛ ПОЛІЦІЇ ГУНП В ЗАПОРІЗЬКІЙ ОБЛАСТІ                                                                                                         26\n",
       "БАРАНІВСЬКЕ ВІДДІЛЕННЯ ПОЛІЦІЇ НОВОГРАД-ВОЛИНСЬКОГО ВІДДІЛУ ГУНП В ЖИТОМИРСЬКІЙ ОБЛАСТІ                                                                        26\n",
       "СЕМЕНІВСЬКЕ ВІДДІЛЕННЯ ПОЛІЦІЇ  НОВГОРОД-СІВЕРСЬКОГО ВІДДІЛУ ГУНП В ЧЕРНІГІВСЬКІЙ ОБЛАСТІ                                                                      26\n",
       "РАДЕХІВСЬКЕ ВІДДІЛЕННЯ ПОЛІЦІЇ ЧЕРВОНОГРАДСЬКОГО ВІДДІЛУ ГУНП У ЛЬВІВСЬКІЙ ОБЛАСТІ                                                                             26\n",
       "ПОКРОВСЬКЕ ВІДДІЛЕННЯ ПОЛІЦІЇ НІКОПОЛЬСЬКОГО ВІДДІЛУ ГУНП В ДНІПРОПЕТРОВСЬКІЙ ОБЛ.                                                                             26\n",
       "ГОРНОСТАЇВСЬКЕ ВІДДІЛЕННЯ ПОЛІЦІЇ КАХОВСЬКОГО ВІДДІЛУ ГУ НП В ХЕРСОНСЬКІЙ ОБЛАСТІ                                                                              26\n",
       "ЛАНОВЕЦЬКЕ ВІДДІЛЕННЯ ПОЛІЦІЇ КРЕМЕНЕЦЬКОГО ВІДДІЛУ ГУНП В ТЕРНОПІЛЬСЬКІЙ ОБЛАСТІ                                                                              26\n",
       "ВЕРХОВИНСЬКЕ ВІДДІЛЕННЯ ПОЛІЦІЇ КОСІВСЬКОГО ВІДДІЛУ ГУНП В ІВАНО-ФРАНКІВСЬКІЙ ОБЛАСТІ                                                                          26\n",
       "ПРИАЗОВСЬКЕ ВІДДІЛЕННЯ ПОЛІЦІЇ МЕЛІТОПОЛЬСЬКОГО ВІДДІЛУ ГУНП В ЗАПОРІЗЬКІЙ ОБЛАСТІ                                                                             26\n",
       "ВІЛЬНОГІРСЬКЕ ВІДДІЛЕННЯ ПОЛІЦІЇ ЖОВТОВОДСЬКОГО ВІДДІЛУ ГУНП В ДНІПРОПЕТРОВСЬКІЙ ОБЛ.                                                                          25\n",
       "МІЖГІРСЬКЕ ВІДДІЛЕННЯ ПОЛІЦІЇ ХУСТСЬКОГО ВІДДІЛУ ГУНП В ЗАКАРПАТСЬКІЙ ОБЛАСТІ                                                                                  25\n",
       "ВИСОКОПІЛЬСЬКЕ ВІДДІЛЕННЯ ПОЛІЦІЇ БЕРИСЛАВСЬКОГО ВІДДІЛУ ГУ НП В ХЕРСОНСЬКІЙ ОБЛАСТІ                                                                           25\n",
       "ВАРВИНСЬКЕ ВІДДІЛЕННЯ ПОЛІЦІЇ ПРИЛУЦЬКОГО ВІДДІЛУ ГУНП В ЧЕРНІГІВСЬКІЙ ОБЛАСТІ.                                                                                25\n",
       "ПОЛТАВСЬКЕ МУ УМВСУ В ПОЛТАВСЬКІЙ ОБЛ.                                                                                                                         25\n",
       "1 ВМ КЕРЧЕНСЬКОГО МУ ГУ МВС УКРАЇНИ В АР КРИМ                                                                                                                  25\n",
       "БРЯНКІВСЬКИЙ МВ ГУМВСУ У ЛУГАНСЬКІЙ ОБЛ.                                                                                                                       25\n",
       "ГОРОДИЩЕНСЬКЕ ВІДДІЛЕННЯ ПОЛІЦІЇ СМІЛЯНСЬКОГО ВІДДІЛУ ГУНП В ЧЕРКАСЬКІЙ ОБЛАСТІ.                                                                               25\n",
       "УСАТІВСЬКЕ ВІДДІЛЕННЯ ПОЛІЦІЇ  БІЛЯЇВСЬКОГО ВІДДІЛУ ГУНП ОДЕСЬКІЙ ОБЛАСТІ                                                                                      25\n",
       "ВЕЛИКОБЕРЕЗНЯНСЬКЕ ВІДДІЛЕННЯ ПОЛІЦІЇ УЖГОРОДСЬКОГО ВІДДІЛУ ГУНП В ЗАКАРПАТСЬКІЙ ОБЛАСТІ                                                                       25\n",
       "МУРОВАНОКУРИЛОВЕЦЬКЕ ВІДДІЛЕННЯ ПОЛІЦІЇ МОГИЛІВ-ПОДІЛЬСЬКОГО ВІДДІЛУ ГУНП У ВІННИЦЬКІЙ ОБЛАСТІ                                                                 25\n",
       "СТАРОСАМБІРСЬКЕ ВІДДІЛЕННЯ ПОЛІЦІЇ САМБІРСЬКОГО ВІДДІЛУ ГУНП У ЛЬВІВСЬКІЙ ОБЛАСТІ                                                                              25\n",
       "ГОРОДОЦЬКИЙ ВІДДІЛ ПОЛІЦІЇ ГУНП В ХМЕЛЬНИЦЬКІЙ ОБЛАСТІ                                                                                                         24\n",
       "ГІРНИЦЬКИЙ РВ МАКІЇВСЬКОГО МУ ГУМВСУ В ДОНЕЦЬКІЙ ОБЛ.                                                                                                          24\n",
       "МАРГАНЕЦЬКЕ ВІДДІЛЕННЯ ПОЛІЦІЇ НІКОПОЛЬСЬКОГО ВІДДІЛУ ГУНП В ДНІПРОПЕТРОВСЬКІЙ ОБЛ.                                                                            24\n",
       "БРАТСЬКИЙ ВІДДІЛ ПОЛІЦІЇ ГУНП В МИКОЛАЇВСЬКІЙ ОБЛАСТІ                                                                                                          24\n",
       "ТЛУМАЦЬКЕ ВІДДІЛЕННЯ ПОЛІЦІЇ КОЛОМИЙСЬКОГО ВІДДІЛУ ГУНП В ІВАНО-ФРАНКІВСЬКІЙ ОБЛАСТІ                                                                           24\n",
       "БРУСИЛІВСЬКЕ ВІДДІЛЕННЯ ПОЛІЦІЇ КОРОСТИШІВСЬКОГО ВІДДІЛУ ГУНП В ЖИТОМИРСЬКІЙ ОБЛАСТІ                                                                           24\n",
       "ЛІВОБЕРЕЖНЕ ВІДДІЛЕННЯ ПОЛІЦІЇ ВІННИЦЬКОГО ВІДДІЛУ ГУНП У ВІННИЦЬКІЙ ОБЛАСТІ                                                                                   24\n",
       "УМВДУ В ХАРКІВСЬКІЙ ОБЛ.                                                                                                                                       24\n",
       "ЧЕМЕРОВЕЦЬКЕ ВІДДІЛЕННЯ ПОЛІЦІЇ ГОРОДОЦЬКОГО ВІДДІЛУ ГУНП В ХМЕЛЬНИЦЬКІЙ ОБЛАСТІ                                                                               23\n",
       "НОВОУКРАЇНСЬКИЙ ВІДДІЛ ПОЛІЦІЇ ГУНП В КІРОВОГРАДСЬКІЙ ОБЛАСТІ                                                                                                  23\n",
       "СТАРОВИЖІВСЬКЕ ВІДДІЛЕННЯ ПОЛІЦІЇ РАТНІВСЬКОГО ВІДДІЛУ ПОЛІЦІЇ ГУНП У ВОЛИНСЬКІЙ ОБЛАСТІ                                                                       23\n",
       "ЛУТУГИНСЬКИЙ РВ ГУМВСУ У ЛУГАНСЬКІЙ ОБЛ.                                                                                                                       23\n",
       "ЛАДИЖИНСЬКЕ ВІДДІЛЕННЯ ПОЛІЦІЇ БЕРШАДСЬКОГО ВІДДІЛУ ГУНП У ВІННИЦЬКІЙ ОБЛАСТІ                                                                                  23\n",
       "ОРАТІВСЬКЕ ВІДДІЛЕННЯ ПОЛІЦІЇ ГАЙСИНСЬКОГО ВІДДІЛУ ГУНП У ВІННИЦЬКІЙ ОБЛАСТІ                                                                                   22\n",
       "(ВИКЛ)ДНІПРОПЕТРОВСЬКЕ МУ ГУМВСУ В ДНІПРОПЕТРОВСЬКІЙ ОБЛ.                                                                                                      22\n",
       "СОВЄТСЬКИЙ РВ МАКІЇВСЬКОГО МУ ГУМВСУ В ДОНЕЦЬКІЙ ОБЛ.                                                                                                          22\n",
       "НИЖНЬОСІРОГОСЬКЕ ВІДДІЛЕННЯ ПОЛІЦІЇ КАХОВСЬКОГО ВІДДІЛУ ГУ НП В ХЕРСОНСЬКІЙ ОБЛАСТІ                                                                            22\n",
       "САВРАНСЬКЕ ВІДДІЛЕННЯ ПОЛІЦІЇ БАЛТСЬКОГО ВІДДІЛУ ГУНП В ОДЕСЬКІЙ ОБЛАСТІ                                                                                       22\n",
       "ОСТРОЗЬКИЙ ВІДДІЛ ПОЛІЦІЇ ГУНП В РІВНЕНСЬКІЙ ОБЛ.                                                                                                              22\n",
       "НЕДРИГАЙЛІВСЬКЕ ВІДДІЛЕННЯ ПОЛІЦІЇ РОМЕНСЬКОГО ВІДДІЛУ ГУНП В СУМСЬКІЙ ОБЛАСТІ                                                                                 22\n",
       "ІВАНІВСЬКЕ ВІДДІЛЕННЯ ПОЛІЦІЇ КАХОВСЬКОГО ВІДДІЛУ ГУ НП В ХЕРСОНСЬКІЙ ОБЛАСТІ                                                                                  22\n",
       "ІВАНИЧІВСЬКЕ ВІДДІЛЕННЯ ПОЛІЦІЇ ГОРОХІВСЬКОГО ВІДДІЛУ ГУНП В ВОЛИНСЬКІЙ ОБЛАСТІ                                                                                22\n",
       "КРИНИЧАНСЬКЕ ВІДДІЛЕННЯ ПОЛІЦІЇ КАМ'ЯНСЬКОГО ВІДДІЛУ ГУНП В ДНІПРОПЕТРОВСЬКІЙ ОБЛ.                                                                             21\n",
       "КРАСНОДОНСЬКИЙ РВ ГУМВСУ У ЛУГАНСЬКІЙ ОБЛ.                                                                                                                     21\n",
       "ЧЕЧЕЛЬНИЦЬКЕ ВІДДІЛЕННЯ ПОЛІЦІЇ БЕРШАДСЬКОГО ВІДДІЛУ ГУНП У ВІННИЦЬКІЙ ОБЛАСТІ                                                                                 21\n",
       "УБОЗ УМВС В ПОЛТАВСЬКІЙ ОБЛ.                                                                                                                                   21\n",
       "СОФІЇВСЬКЕ ВІДДІЛЕННЯ ПОЛІЦІЇ ЖОВТОВОДСЬКОГО ВІДДІЛУ ГУНП В ДНІПРОПЕТРОВСЬКІЙ ОБЛ.                                                                             21\n",
       "СОСНИЦЬКЕ ВІДДІЛЕННЯ ПОЛІЦІЇ  МЕНСЬКОГО ВІДДІЛУ ГУНП В ЧЕРНІГІВСЬКІЙ ОБЛАСТІ                                                                                   21\n",
       "КІРОВСЬКИЙ МВ ГУМВСУ В ДОНЕЦЬКІЙ ОБЛ.                                                                                                                          21\n",
       "ДРОГОБИЦЬКИЙ РВВС У ЛЬВІВСЬКІЙ ОБЛ.                                                                                                                            21\n",
       "ТОМАШПІЛЬСЬКЕ ВІДДІЛЕННЯ ПОЛІЦІЇ МОГИЛІВ-ПОДІЛЬСЬКОГО ВІДДІЛУ ГУНП У ВІННИЦЬКІЙ ОБЛАСТІ                                                                        20\n",
       "ПЕРЕМИШЛЯНСЬКЕ ВІДДІЛЕННЯ ПОЛІЦІЇ ЗОЛОЧІВСЬКОГО ВІДДІЛУ ГУНП У ЛЬВІВСЬКІЙ ОБЛАСТІ                                                                              20\n",
       "ІРШАВСЬКЕ ВІДДІЛЕННЯ ПОЛІЦІЇ ХУСТСЬКОГО ВІДДІЛУ ГУНП В ЗАКАРПАТСЬКІЙ ОБЛАСТІ                                                                                   19\n",
       "НОВОБУЗЬКИЙ ВІДДІЛ ПОЛІЦІЇ ГУНП В МИКОЛАЇВСЬКІЙ ОБЛАСТІ                                                                                                        19\n",
       "ПЕТРОПАВЛІВСЬКЕ ВІДДІЛЕННЯ ПОЛІЦІЇ ПАВЛОГРАДСЬКОГО ВІДДІЛУ ГУНП В ДНІПРОПЕТРОВСЬКІЙ ОБЛ.                                                                       19\n",
       "ОНУФРІЇВСЬКЕ ВІДДІЛЕННЯ ПОЛІЦІЇ ОЛЕКСАНДРІЙСЬКОГО ВІДДІЛУ ПОЛІЦІЇ ГУНП В КІРОВОГРАДСЬКІЙ ОБЛАСТІ                                                               19\n",
       "НОВГОРОДКІВСЬКЕ ВІДДІЛЕННЯ ПОЛІЦІЇ ДОЛИНСЬКОГО ВІДДІЛУ ГУНП В КІРОВОГРАДСЬКІЙ ОБЛАСТІ                                                                          19\n",
       "АРМЯНСЬКИЙ ПВМ ГУМВС УКРАЇНИ В АР КРИМ                                                                                                                         18\n",
       "ТИВРІВСЬКЕ ВІДДІЛЕННЯ ПОЛІЦІЇ ЖМЕРИНСЬКОГО ВІДДІЛУ ГУНП У ВІННИЦЬКІЙ ОБЛАСТІ                                                                                   18\n",
       "АРБУЗИНСЬКЕ ВІДДІЛЕННЯ ПОЛІЦІЇ БРАТСЬКОГО ВІДДІЛУ ГУНП В МИКОЛАЇВСЬКІЙ ОБЛАСТІ                                                                                 18\n",
       "НОВОВОРОНЦОВСЬКЕ ВІДДІЛЕННЯ ПОЛІЦІЇ БЕРИСЛАВСЬКОГО ВІДДІЛУ ГУ НП В ХЕРСОНСЬКІЙ ОБЛАСТІ                                                                         18\n",
       "КІРОВСЬКИЙ РВ МАКІЇВСЬКОГО МУ ГУМВСУ В ДОНЕЦЬКІЙ ОБЛ.                                                                                                          18\n",
       "ЗОЛОЧІВСЬКИЙ ВІДДІЛ ПОЛІЦІЇ ГУНП У ЛЬВІВСЬКІЙ ОБЛАСТІ                                                                                                          18\n",
       "НАРОДИЦЬКЕ ВІДДІЛЕННЯ ПОЛІЦІЇ КОРОСТЕНСЬКОГО ВІДДІЛУ ГУНП В ЖИТОМИРСЬКІЙ ОБЛАСТІ                                                                               18\n",
       "ЛИПОВОДОЛИНСЬКЕ ВІДДІЛЕННЯ ПОЛІЦІЇ РОМЕНСЬКОГО ВІДДІЛУ ГУНП В СУМСЬКІЙ ОБЛАСТІ                                                                                 18\n",
       "ПЕРШОМАЙСЬКИЙ РВ ГУМВС УКРАЇНИ В АР КРИМ                                                                                                                       18\n",
       "ДЕРАЖНЯНСЬКЕ ВІДДІЛЕННЯ ПОЛІЦІЇ ЛЕТИЧІВСЬКОГО ВІДДІЛУ ГУНП В ХМЕЛЬНИЦЬКІЙ ОБЛАСТІ                                                                              18\n",
       "ПЕРЕЧИНСЬКЕ ВІДДІЛЕННЯ ПОЛІЦІЇ УЖГОРОДСЬКОГО ВІДДІЛУ ГУНП В ЗАКАРПАТСЬКІЙ ОБЛАСТІ                                                                              17\n",
       "БЛАГОВІЩЕНСЬКЕ ВІДДІЛЕННЯ ПОЛІЦІЇ ГАЙВОРОНСЬКОГО ВІДДІЛУ ПОЛІЦІЇ ГУНП В КІРОВОГРАДСЬКІЙ ОБЛАСТІ                                                                17\n",
       "КОРЕЦЬКЕ ВІДДІЛЕННЯ ПОЛІЦІЇ КОСТОПІЛЬСЬКОГО ВІДДІЛУ ГУНП В РІВНЕНСЬКІЙ ОБЛ.                                                                                    17\n",
       "ШУМСЬКЕ ВІДДІЛЕННЯ ПОЛІЦІЇ КРЕМЕНЕЦЬКОГО ВІДДІЛУ ГУНП В ТЕРНОПІЛЬСЬКІЙ ОБЛАСТІ                                                                                 17\n",
       "ІЛЛІНЕЦЬКЕ ВІДДІЛЕННЯ ПОЛІЦІЇ ГАЙСИНСЬКОГО ВІДДІЛУ ГУНП У ВІННИЦЬКІЙ ОБЛАСТІ                                                                                   17\n",
       "ЖОВТОВОДСЬКИЙ ВІДДІЛ ПОЛІЦІЇ ГУНП В ДНІПРОПЕТРОВСЬКІЙ ОБЛ.                                                                                                     17\n",
       "ПІЩАНСЬКЕ ВІДДІЛЕННЯ ПОЛІЦІЇ БЕРШАДСЬКОГО ВІДДІЛУ ПОЛІЦІЇ ГУНП У ВІННИЦЬКІЙ ОБЛАСТІ                                                                            17\n",
       "ДОЛИНСЬКИЙ ВІДДІЛ ПОЛІЦІЇ ГУНП В КІРОВОГРАДСЬКІЙ ОБЛАСТІ                                                                                                       16\n",
       "ЛИСЯНСЬКЕ ВІДДІЛЕННЯ ПОЛІЦІЇ ЗВЕНИГОРОДСЬКОГО ВІДДІЛУ ГУНП В ЧЕРКАСЬКІЙ ОБЛАСТІ                                                                                16\n",
       "БЕРЕЗНЕГУВАТСЬКЕ ВІДДІЛЕННЯ ПОЛІЦІЇ СНІГУРІВСЬКОГО ВІДДІЛУ ГУНП В МИКОЛАЇВСЬКІЙ ОБЛАСТІ                                                                        16\n",
       "ЛЮБАРСЬКЕ ВІДДІЛЕННЯ ПОЛІЦІЇ БЕРДИЧІВСЬКОГО ВІДДІЛУ ГУНП В ЖИТОМИРСЬКІЙ ОБЛАСТІ                                                                                16\n",
       "ЗАСТАВНІВСЬКЕ ВІДДІЛЕННЯ ПОЛІЦІЇ КІЦМАНСЬКОГО ВІДДІЛУ ГУНП В ЧЕРНІВЕЦЬКІЙ ОБЛАСТІ                                                                              16\n",
       "ЄЛАНЕЦЬКЕ ВІДДІЛЕННЯ ПОЛІЦІЇ НОВООДЕСЬКОГО ВІДДІЛУ ГУНП В МИКОЛАЇВСЬКІЙ ОБЛАСТІ                                                                                16\n",
       "НОВОМИКОЛАЇВСЬКЕ ВІДДІЛЕННЯ ПОЛІЦІЇ ПОЛОГІВСЬКОГО ВІДДІЛУ ГУНП В ЗАПОРІЗЬКІЙ ОБЛАСТІ                                                                           16\n",
       "ВОЛОЧИСЬКЕ ВІДДІЛЕННЯ ПОЛІЦІЇ ГОРОДОЦЬКОГО ВІДДІЛУ ГУНП В ХМЕЛЬНИЦЬКІЙ ОБЛАСТІ                                                                                 16\n",
       "ПЕЧЕНІЗЬКЕ ВІДДІЛЕННЯ ПОЛІЦІЇ ЧУГУЇВСЬКОГО ВІДДІЛУ ГУНП В ХАРКІВСЬКІЙ ОБЛАСТІ                                                                                  15\n",
       "КРАСИЛІВСЬКИЙ ВІДДІЛ ПОЛІЦІЇ ГУНП В ХМЕЛЬНИЦЬКІЙ ОБЛАСТІ                                                                                                       15\n",
       "КРАСНОАРМІЙСЬКИЙ РВВС ДОНЕЦЬКІЙ ОБЛ.                                                                                                                           15\n",
       "СКОЛІВСЬКЕ ВІДДІЛЕННЯ ПОЛІЦІЇ СТРИЙСЬКОГО ВІДДІЛУ ГУНП У ЛЬВІВСЬКІЙ ОБЛАСТІ                                                                                    15\n",
       "РОЗІВСЬКЕ ВІДДІЛЕННЯ ПОЛІЦІЇ БЕРДЯНСЬКОГО ВІДДІЛУ ГУНП В ЗАПОРІЗЬКІЙ ОБЛАСТІ                                                                                   15\n",
       "НОВОМОСКОВСЬКИЙ РВВС ДНІПРОПЕТРОВСЬКОЇ ОБЛ.                                                                                                                    15\n",
       "ХОТИНСЬКЕ ВІДДІЛЕННЯ ПОЛІЦІЇ КЕЛЬМЕНЕЦЬКОГО ВІДДІЛУ ГУНП В ЧЕРНІВЕЦЬКІЙ ОБЛАСТІ                                                                                15\n",
       "ВЕЛИКОЛЕПЕТИСЬКЕ ВІДДІЛЕННЯ ПОЛІЦІЇ КАХОВСЬКОГО ВІДДІЛУ ГУ НП В ХЕРСОНСЬКІЙ ОБЛАСТІ                                                                            15\n",
       "ВЕЛИКОБІЛОЗЕРСЬКЕ ВІДДІЛЕННЯ ПОЛІЦІЇ ЕНЕРГОДАРСЬКОГО ВІДДІЛУ ГУНП В ЗАПОРІЗЬКІЙ ОБЛАСТІ                                                                        15\n",
       "АНТРАЦИТІВСЬКИЙ РВ ГУМВСУ У ЛУГАНСЬКІЙ ОБЛ.                                                                                                                    14\n",
       "ГЕРЦАЇВСЬКЕ ВІДДІЛЕННЯ ПОЛІЦІЇ СТОРОЖИНЕЦЬКОГО ВІДДІЛУ ГУНП В ЧЕРНІВЕЦЬКІЙ ОБЛАСТІ                                                                             14\n",
       "БЕРДЯНСЬКИЙ РОВД ЗАПОРІЗЬКОЇ ОБЛ.                                                                                                                              14\n",
       "ДРАБІВСЬКЕ ВІДДІЛЕННЯ ПОЛІЦІЇ ЗОЛОТОНІСЬКОГО ВІДДІЛУ ГУНП В ЧЕРКАСЬКІЙ ОБЛАСТІ.                                                                                14\n",
       "МАГДАЛИНІВСЬКЕ ВІДДІЛЕННЯ ПОЛІЦІЇ НОВОМОСКОВСЬКОГО ВІДДІЛУ ГУНП В ДНІПРОПЕТРОВСЬКІЙ ОБЛ.                                                                       14\n",
       "ВІНЬКОВЕЦЬКЕ ВІДДІЛЕННЯ ПОЛІЦІЇ ЯРМОЛИНЕЦЬКОГО ВІДДІЛУ ГУНП В ХМЕЛЬНИЦЬКІЙ ОБЛАСТІ                                                                             14\n",
       "ЖДАНОВСЬКИЙ МВВС ДОНЕЦЬКОЇ ОБЛ.                                                                                                                                14\n",
       "ІЗЯСЛАВСЬКЕ ВІДДІЛЕННЯ ПОЛІЦІЇ СЛАВУТСЬКОГО ВІДДІЛУ ГУНП В ХМЕЛЬНИЦЬКІЙ ОБЛАСТІ                                                                                14\n",
       "ПОЛОНСЬКЕ ВІДДІЛЕННЯ ПОЛІЦІЇ ШЕПЕТІВСЬКОГО ВІДДІЛУ ГУНП В ХМЕЛЬНИЦЬКІЙ ОБЛАСТІ                                                                                 14\n",
       "БІЛОГІРСЬКЕ ВІДДІЛЕННЯ ПОЛІЦІЇ КРАСИЛІВСЬКОГО ВІДДІЛУ ГУНП В ХМЕЛЬНИЦЬКІЙ ОБЛАСТІ                                                                              13\n",
       "ЛВ НА СТАНЦІЇ ІЛОВАЙСЬК УМВСУ НА ДОНЕЦЬКІЙ ЗАЛІЗНИЦІ                                                                                                           13\n",
       "ЯЛТИНСЬКЕ МУ СІМФЕРОПОЛЬСЬКОГО МВ ГУМВС УКРАЇНИ В АР КИМ                                                                                                       13\n",
       "КІРОВСЬКИЙ МВ ГУМВСУ У ЛУГАНСЬКІЙ ОБЛ.                                                                                                                         13\n",
       "ПРИЛУЦЬКИЙ РВВС ЧЕРНІГІВСЬОЇ ОБЛ.                                                                                                                              13\n",
       "СЛОВ’ЯНСЬКИЙ РВВС ДОНЕЦЬКІЙ ОБЛ.                                                                                                                               13\n",
       "ТУРКІВСЬКЕ ВІДДІЛЕННЯ ПОЛІЦІЇ САМБІРСЬКОГО ВІДДІЛУ ГУНП У ЛЬВІВСЬКІЙ ОБЛАСТІ                                                                                   13\n",
       "ДУБІВСЬКЕ ВІДДІЛЕННЯ ПОЛІЦІЇ ТЯЧІВСЬКОГО ВІДДІЛУ ГУНП В ЗАКАРПАТСЬКІЙ ОБЛАСТІ                                                                                  13\n",
       "КАЗАНКІВСЬКЕ ВІДДІЛЕННЯ ПОЛІЦІЇ НОВОБУЗЬКОГО ВІДДІЛУ ГУНП В МИКОЛАЇВСЬКІЙ ОБЛАСТІ                                                                              12\n",
       "ПІДГАЄЦЬКЕ ВІДДІЛЕННЯ ПОЛІЦІЇ БЕРЕЖАНСЬКОГО ВІДДІЛУ ГУНП В ТЕРНОПІЛЬСЬКІЙ ОБЛАСТІ                                                                              12\n",
       "САХНОВЩИНСЬКИЙ ВІДДІЛ ПОЛІЦІЇ ГУНП В ХАРКІВСЬКІЙ ОБЛАСТІ                                                                                                       12\n",
       "МЕЖІВСЬКЕ ВІДДІЛЕННЯ ПОЛІЦІЇ СИНЕЛЬНИКІВСЬКОГО ВІДДІЛУ ГУНП В ДНІПРОПЕТРОВСЬКІЙ ОБЛ.                                                                           12\n",
       "ВЕЛИКООЛЕКСАНДРІВСЬКЕ ВІДДІЛЕННЯ ПОЛІЦІЇ БЕРИСЛАВСЬКОГО ВІДДІЛУ ГУ НП В ХЕРСОНСЬКІЙ ОБЛАСТІ                                                                    12\n",
       "ТАЛЬНІВСЬКЕ ВІДДІЛЕННЯ ПОЛІЦІЇ ЗВЕНИГОРОДСЬКОГО ВІДДІЛУ ГУНП В ЧЕРКАСЬКІЙ ОБЛАСТІ.                                                                             12\n",
       "РАДИВИЛІВСЬКЕ ВІДДІЛЕННЯ ПОЛІЦІЇ ДУБЕНСЬКОГО ВІДДІЛУ ГУНП В РІВНЕНСЬКІЙ ОБЛ.                                                                                   12\n",
       "УСТИНІВСЬКЕ ВІДДІЛЕННЯ ПОЛІЦІЇ ДОЛИНСЬКОГО ВІДДІЛУ ПОЛІЦІЇ ГУНП В КІРОВОГРАДСЬКІЙ ОБЛАСТІ                                                                      12\n",
       "ПУТИЛЬСЬКЕ ВІДДІЛЕННЯ ПОЛІЦІЇ КІЦМАНСЬКОГО ВІДДІЛУ ГУНП В ЧЕРНІВЕЦЬКІЙ ОБЛАСТІ                                                                                 12\n",
       "ЧАБАНІВСЬКЕ ВІДДІЛЕННЯ ПОЛІЦІЇ КИЄВО-СВЯТОШИНСЬКОГО ВІДДІЛУ ГУНП В КИЇВСЬКІЙ ОБЛАСТІ                                                                           12\n",
       "ВОЛОВЕЦЬКЕ ВІДДІЛЕННЯ ПОЛІЦІЇ МУКАЧІВСЬКОГО ВІДДІЛУ ГУНП В ЗАКАРПАТСЬКІЙ ОБЛАСТІ                                                                               12\n",
       "РОЗДОЛЬНЕНСЬКИЙ РВ ГУМВС УКРАЇНИ В АР КРИМ                                                                                                                     11\n",
       "ВОЛОДИМИРЕЦЬКЕ ВІДДІЛЕННЯ ПОЛІЦІЇ ВАРАШСЬКОГО ВІДДІЛУ ГУНП В РІВНЕНСЬКІЙ ОБЛ.                                                                                  11\n",
       "ТЕРНІВСЬКЕ ВІДДІЛЕННЯ ПОЛІЦІЇ ПАВЛОГРАДСЬКОГО ВІДДІЛУ ГУНП В ДНІПРОПЕТРОВСЬКІЙ ОБЛ.                                                                            11\n",
       "(ВИКЛЮЧЕНО) ПАВЛОГРАДСЬКЕ ВП ПАВЛОГРАДСЬКОГО ВІДДІЛУ ГУНП В ДНІПРОПЕТРОВСЬКІЙ ОБЛАСТІ                                                                          11\n",
       "РОМАНІВСЬКЕ ВІДДІЛЕННЯ ПОЛІЦІЇ НОВОГРАД-ВОЛИНСЬКОГО ВІДДІЛУ ГУНП В ЖИТОМИРСЬКІЙ ОБЛАСТІ                                                                        11\n",
       "ЗАЧЕПИЛІВСЬКЕ ВІДДІЛЕННЯ ПОЛІЦІЇ КРАСНОГРАДСЬКОГО ВІДДІЛУ ГУНП В ХАРКІВСЬКІЙ ОБЛАСТІ                                                                           11\n",
       "МАНЬКІВСЬКЕ ВІДДІЛЕННЯ ПОЛІЦІЇ УМАНСЬКОГО ВІДДІЛУ ГУНП В ЧЕРКАСЬКІЙ ОБЛАСТІ.                                                                                   11\n",
       "ДОМАНІВСЬКЕ ВІДДІЛЕННЯ ПОЛІЦІЇ ВОЗНЕСЕНСЬКОГО ВІДДІЛУ ГУНП В МИКОЛАЇВСЬКІЙ ОБЛАСТІ                                                                             10\n",
       "СІМЕІЗСЬКИЙ ПВМ РЕСПУБЛІКИ КРИМ                                                                                                                                10\n",
       "МАРКОВСЬКИЙ ВІДДІЛ СТАРОБІЛЬСЬКОЇ МІСЦЕВОЇ ПР-РИ ЛУГАНСЬКОЇ ОБЛ.                                                                                               10\n",
       "КАМ’ЯНСЬКЕ ВІДДІЛЕННЯ ПОЛІЦІЇ СМІЛЯНСЬКОГО ВІДДІЛУ ГУНП В ЧЕРКАСЬКІЙ ОБЛАСТІ.                                                                                  10\n",
       "СОКИРЯНСЬКЕ ВІДДІЛЕННЯ ПОЛІЦІЇ КЕЛЬМЕНЕЦЬКОГО ВІДДІЛУ ГУНП В ЧЕРНІВЕЦЬКІЙ ОБЛАСТІ                                                                              10\n",
       "ЛВ НА СТ. АРТЕМІВСЬК (МИКИТІВКА) УМВСУ НА ДОНЕЦЬКІЙ ЗАЛ.                                                                                                       10\n",
       "УПРАВЛІННЯ ПОЛІЦІЇ В МЕТРОПОЛІТЕНІ ГУНП В М. КИЄВІ                                                                                                              9\n",
       "ШАХТЕРСЬКИЙ РВВС ДОНЕЦЬКІЙ ОБЛ.                                                                                                                                 9\n",
       "ГУСЯТИНСЬКЕ ВІДДІЛЕННЯ ПОЛІЦІЇ ПІДВОЛОЧИСЬКОГО ВІДДІЛУ ГУНП В ТЕРНОПІЛЬСЬКІЙ ОБЛАСТІ                                                                            9\n",
       "ЗАПОРІЗЬКЕ МУ ГУМВСУ В ЗАПОРІЗЬКІЙ ОБЛ.(ЛИКВИД)                                                                                                                 9\n",
       "УБОЗ УМВС В ЗАПОРІЗЬКІЙ ОБЛАСТІ                                                                                                                                 9\n",
       "ПАСИЧНЯНСЬКИЙ МВМ УМВС М.ІВАНО-ФРАНКОІВСЬКА                                                                                                                     9\n",
       "СРІБНЯНСЬКЕ ВІДДІЛЕННЯ ПОЛІЦІЇ ПРИЛУЦЬКОГО ВІДДІЛУ ГУНП В ЧЕРНІГІВСЬКІЙ ОБЛАСТІ.                                                                                9\n",
       "ВІДДІЛЕННЯ ПОЛІЦІЇ В АЕРОПОРТУ БОРИСПІЛЬ БОРИСПІЛЬСЬКОГО ВІДДІЛУ ГУНП В КИЇВСЬКІЙ ОБЛАСТІ                                                                       9\n",
       "ШИРОКІВСЬКЕ ВІДДІЛЕННЯ ПОЛІЦІЇ КРИВОРІЗЬКОГО ВІДДІЛУ ГУНП В ДНІПРОПЕТРОВСЬКІЙ ОБЛ.                                                                              8\n",
       "ЛЕТИЧІВСЬКИЙ ВІДДІЛ ПОЛІЦІЇ ГУНП В ХМЕЛЬНИЦЬКІЙ ОБЛАСТІ                                                                                                         8\n",
       "КОСТЯНТИНІВСЬКИЙ РВВС ДОНЕЦЬКІЙ ОБЛ.                                                                                                                            8\n",
       "КИРИЛІВСЬКЕ ВІДДІЛЕННЯ ПОЛІЦІЇ МЕЛІТОПОЛЬСЬКОГО ВІДДІЛУ ГУНП В ЗАПОРІЗЬКІЙ ОБЛАСТІ                                                                              8\n",
       "КЕГИЧІВСЬКЕ ВІДДІЛЕННЯ ПОЛІЦІЇ САХНОВЩИНСЬКОГО ВІДДІЛУ ГУНП В ХАРКІВСЬКІЙ ОБЛАСТІ                                                                               8\n",
       "НОВОУШИЦЬКЕ ВІДДІЛЕННЯ ПОЛІЦІЇ ДУНАЄВЕЦЬКОГО ВІДДІЛУ ГУНП В ХМЕЛЬНИЦЬКІЙ ОБЛАСТІ                                                                                8\n",
       "ВАТУТИНСКИЙ ГОВД ЧЕРКАССКОЙ ОБЛ.                                                                                                                                8\n",
       "ЛОКАЧИНСЬКЕ ВІДДІЛЕННЯ ПОЛІЦІЇ ГОРОХІВСЬКОГО ВІДДІЛУ ГУНП У ВОЛИНСЬКІЙ ОБЛАСТІ                                                                                  8\n",
       "ВОВЧИНЕЦЬКИЙ МВМ УМВС М.ІВАНО-ФРАНКІВСЬКА                                                                                                                       7\n",
       "ВЕРХНЬОРОГАЧИЦЬКЕ ВІДДІЛЕННЯ ПОЛІЦІЇ КАХОВСЬКОГО ВІДДІЛУ ГУ НП В ХЕРСОНСЬКІЙ ОБЛАСТІ                                                                            7\n",
       "ЧЕРНІВЕЦЬКЕ ВІДДІЛЕННЯ ПОЛІЦІЇ МОГИЛІВ-ПОДІЛЬСЬКОГО ВІДДІЛУ ГУНП У ВІННИЦЬКІЙ ОБЛАСТІ                                                                           7\n",
       "ВІЛЬШАНСЬКЕ ВІДДІЛЕННЯ ПОЛІЦІЇ ГОЛОВАНІВСЬКОГО ВІДДІЛУ ГУНП В КІРОВОГРАДСЬКІЙ ОБЛАСТІ                                                                           7\n",
       "НІКОПОЛЬСЬКИЙ РВВС ДНІПРОПЕТРОВСЬКОЇ ОБЛ.                                                                                                                       7\n",
       "ОДЕСЬКЕ МУ ГУМВСУ В ОДЕСЬКІЙ ОБЛ.                                                                                                                               7\n",
       "СУ УМВС РІВНЕНСЬКІЙ ОБЛ.                                                                                                                                        7\n",
       "ОЛЕКСАНДРІЙСЬКЕ РАЙОННЕ ВІДДІЛЕННЯ ПОЛІЦІЇ ОЛЕКСАНДРІЙСЬКОГО ВІДДІЛУ ГУНП В КІРОВОГРАДСЬКІЙ ОБЛАСТІ                                                             7\n",
       "ТАЛАЛАЇВСЬКЕ ВІДДІЛЕННЯ ПОЛІЦІЇ ПРИЛУЦЬКОГО ВІДДІЛУ ГУНП В ЧЕРНІГІВСЬКІЙ ОБЛАСТІ.                                                                               6\n",
       "БІЛОКУРАКИНСЬКИЙ ВІДДІЛ СТАРОБІЛЬСЬКОЇ МІСЦЕВОЇ ПР-РИ ЛУГАНСЬКОЇ ОБЛ                                                                                            6\n",
       "СТАРОСИНЯВСЬКЕ ВІДДІЛЕННЯ ПОЛІЦІЇ СТАРОКОСТЯНТИНІВСЬКОГО ВІДДІЛУ ГУНП В ХМЕЛЬНИЦЬКІЙ ОБЛАСТІ                                                                    6\n",
       "ВИШЕНСЬКЕ ВІДДІЛЕННЯ ПОЛІЦІЇ ВІННИЦЬКОГО ВІДДІЛУ ГУНП У ВІННИЦЬКІЙ ОБЛАСТІ                                                                                      6\n",
       "ЯСИНОВАТСЬКИЙ РВВС ДОНЕЦЬКІЙ ОБЛ.                                                                                                                               6\n",
       "ВІДДІЛЕННЯ ПОЛІЦІЇ № 1 НОВОАЙДАРСЬКОГО ВІДДІЛУ ГУНП В ЛУГАНСЬКІЙ ОБЛАСТІ                                                                                        5\n",
       "НІЖИНСЬКИЙ РВВС ЧЕРНІГІВСЬКОЇ ОБЛ.                                                                                                                              5\n",
       "ГОЛОВНЕ УПРАВЛІННЯ НАЦІОНАЛЬНОЇ ПОЛІЦІЇ В ЧЕРНІВЕЦЬКІЙ ОБЛАСТІ                                                                                                  5\n",
       "П-РА ПОЛТАВСЬКОЇ ОБЛ.                                                                                                                                           4\n",
       "                                                                                                                                                                4\n",
       "ВЕЛИКОПИСАРІВСЬКЕ ВІДДІЛЕННЯ ПОЛІЦІЇ ОХТИРСЬКОГО ВІДДІЛУ ГУНП В СУМСЬКІЙ ОБЛАСТІ                                                                                4\n",
       "РУБЕЖАНСЬКИЙ ВІДДІЛ СЄВЄРОДОНЕЦЬКОЇ МІСЦЕВОЇ ПР-РИ ЛУГАНСЬКОЇ ОБЛ.                                                                                              4\n",
       "СТРИЙСЬКИЙ РВВС У ЛЬВІВСЬКІЙ ОБЛАСТІ                                                                                                                            4\n",
       "КОЛОМАЦЬКЕ ВІДДІЛЕННЯ ПОЛІЦІЇ ВАЛКІВСЬКОГО ВІДДІЛУ ГУНП В ХАРКІВСЬКІЙ ОБЛАСТІ                                                                                   3\n",
       "КИЇВСЬКЕ ВІДДІЛЕННЯ ПОЛІЦІЇ ВІННИЦЬКОГО ВІДДІЛУ ГУНП У ВІННИЦЬКІЙ ОБЛАСТІ                                                                                       3\n",
       "ДЕМИДІВСЬКЕ ВІДДІЛЕННЯ ПОЛІЦІЇ ДУБЕНСЬКОГО ВІДДІЛУ ГУНП В РІВНЕНСЬКІЙ ОБЛ.                                                                                      3\n",
       "ЛВ НА СТ. КИЇВ-ПАСАЖИРСЬКИЙ УМВСУ НА ПІВД.-ЗАХ. ЗАЛІЗНИЦІ                                                                                                       3\n",
       "ЛВ НА СТ. СТРИЙ УМВСУ НА ЛЬВІВСЬКІЙ ЗАЛІЗНИЦІ                                                                                                                   3\n",
       "ЧАЙКІВСЬКЕ ВІДДІЛЕННЯ ПОЛІЦІЇ КИЄВО-СВЯТОШИНСЬКОГО ВІДДІЛУ ГУНП В КИЇВСЬКІЙ ОБЛАСТІ                                                                             3\n",
       "ЮР`ЇВСЬКЕ ВІДДІЛЕННЯ ПОЛІЦІЇ ПАВЛОГРАДСЬКОГО ВІДДІЛУ ГУНП В ДНІПРОПЕТРОВСЬКІЙ ОБЛ.                                                                              3\n",
       "ЛВ НА СТАНЦІЇ ХАРКІВ-ПАСАЖИРСЬКИЙ УМВСУ ПІВДЕННОЇ ЗАЛІЗНИЦІ                                                                                                     3\n",
       "БЛИЗНЮКІВСЬКЕ ВІДДІЛЕННЯ ПОЛІЦІЇ ЛОЗІВСЬКОГО ВІДДІЛУ ПОЛІЦІЇ ГУНП В ХАРКІВСЬКІЙ ОБЛАСТІ                                                                         3\n",
       "(ВИКЛЮЧЕНО) КАЛИНІВСЬКЕ ВІДДІЛЕННЯ ПОЛІЦІЇ ВАСИЛЬКІВСЬКОГО ВІДДІЛУ ГУНП В КИЇВСЬКІЙ ОБЛАСТІ                                                                     3\n",
       "ГУБОЗ ГУМВС УКРАЇНИ В М. КИЄВІ                                                                                                                                  3\n",
       "ТЕОФІПОЛЬСЬКЕ ВІДДІЛЕННЯ ПОЛІЦІЇ КРАСИЛІВСЬКОГО ВІДДІЛУ ГУНП В ХМЕЛЬНИЦЬКІЙ ОБЛАСТІ                                                                             3\n",
       "УУР УМВС ДНІПРОПЕТРОВСЬКОЇ ОБЛ.                                                                                                                                 3\n",
       "УБОЗ ЛЬВІВСЬКОЇ ОБЛ.                                                                                                                                            3\n",
       "ПОДАТКОВА МІЛІЦІЯ ГОЛОСІЇВСЬКОГО РАЙОНУ М. КИЄВА                                                                                                                2\n",
       "СВАТОВСКИЙ ВЗВОД ДПС ЛУГАНСЬКІЙ ОБЛ                                                                                                                             2\n",
       "ВІДДІЛ ПОЛІЦІЇ В РІЧКОВОМУ ПОРТУ КИЇВ ГУНП В М. КИЄВІ                                                                                                           2\n",
       "ВІДДІЛ СПЕЦІАЛЬНОЇ ПОЛІЦІЇ ГУНП В ХАРКІВСЬКІЙ ОБЛАСТІ                                                                                                           2\n",
       "УБОЗ ГУМВС УКРАЇНИ В ОДЕСЬКІЙ ОБЛАСТІ                                                                                                                           2\n",
       "ГОРЛІВСЬКЕ МУ ГУМВСУ В ДОНЕЦЬКІЙ ОБЛ.                                                                                                                           2\n",
       "ГУРЗУФСЬКИЙ МВМ РЕСПУБЛІКИ КРИМ                                                                                                                                 2\n",
       "ДАІ ЛЬВІВСЬКОЇ ОБЛ.                                                                                                                                             2\n",
       "ДЖАНКОЙСЬКИЙ РВ ГУМВС УКРАЇНИ В АР КРИМ                                                                                                                         2\n",
       "КРЕМІНСЬКІЙ ВІДДІЛ СЄВЄРОДОНЕЦЬКОЇ  МІСЦЕВОЇ ПР-РИ ЛУГАНСЬКОЇ ОБЛ.                                                                                              2\n",
       "ЛВ НА СТ. ЛЬВІВ УМВСУ НА ЛЬВІВСЬКІЙ ЗАЛІЗНИЦІ                                                                                                                   2\n",
       "ОТДЕЛ 43 МИЛИЦИИ ДНЕПРОПЕТРОВСКОЙ ОБЛ.                                                                                                                          2\n",
       "ЛВ НА СТАНЦІЇ ОСНОВА УМВСУ НА ПІВДЕННІЙ ЗАЛІЗНИЦІ                                                                                                               2\n",
       "ЛВ НА СТАНЦІЇ СІМФЕРОПОЛЬ УМВСУ ПРИДНІПРОВСЬКОЇ ЗАЛІЗНИЦІ                                                                                                       2\n",
       "ОВД НА СТ.НЕЖИН ЮЗУВДТ                                                                                                                                          2\n",
       "НОВОГРОДОВСЬКИЙ МВВС ДОНЕЦЬКОЇ ОБЛ.                                                                                                                             2\n",
       "ВІДДІЛЕННЯ ПОЛІЦІЇ № 1 ЛИСИЧАНСЬКОГО ВІДДІЛУ ГУНП В ЛУГАНСЬКІЙ ОБЛАСТІ                                                                                          1\n",
       "НОВОДНІСТРОВСЬКЕ ВІДДІЛЕННЯ ПОЛІЦІЇ КЕЛЬМЕНЕЦЬКОГО ВІДДІЛУ ГУНП В ЧЕРНІВЕЦЬКІЙ ОБЛАСТІ                                                                          1\n",
       "ВОЛИНСЬКИЙ ПУНКТ ТИМЧАСОВОГО ПЕРЕБУВАННЯ ІНОЗЕМЦІВ                                                                                                              1\n",
       "НОВОПСКОВСЬКИЙ ВІДДІЛ СТАРОБІЛЬСЬКОЇ МІСЦЕВОЇ ПР-РИ ЛУГАНСЬКОЇ ОБЛ.                                                                                             1\n",
       "ПРОКУРАТУРА ГОЩАНСЬКОГО РАЙОНА                                                                                                                                  1\n",
       "ПРОКУРАТУРА ДНІПРОВСЬКОГО РАЙОНУ                                                                                                                                1\n",
       "ПРОКУРАТУРА ДОНЕЦЬКОЇ ОБЛ.                                                                                                                                      1\n",
       "ПРОКУРАТУРА МАНЬКІВСЬКОГО РАЙОНУ ЧЕРКАСЬКОЇ ОБЛАСТІ.                                                                                                            1\n",
       "ПРОКУРАТУРА ПЕЧЕРСЬКОГО РАЙОНУ                                                                                                                                  1\n",
       "ВІЙСЬКОВА ПРОКУРАТУРА МИКОЛАЇВСЬКОЇ ОБЛАСТІ                                                                                                                     1\n",
       "ВІЙСЬКОВА ПРОКУРАТУРА ЖИТОМИРСЬКОГО ГАРНІЗОНУ                                                                                                                   1\n",
       "ВІЙСЬКОВА ПРОКУРАТУРА ДОНЕЦЬКОГО ГАРНІЗОНУ                                                                                                                      1\n",
       "ВІДДІЛИ ПОЛІЦІЇ В ЛУГАНСЬКІЙ ОБЛАСТІ                                                                                                                            1\n",
       "СБУ В ЧЕРКАСЬКІЙ ОБЛАСТІ.                                                                                                                                       1\n",
       "ЛИСИЧАНСЬКА МІСЦЕВА ПРОКУРАТУРА  ЛУГАНСЬКІЙ ОБЛАСТІ                                                                                                             1\n",
       "ПРОКУРАТУРА ГОЛОСІЇВСЬКОГО РАЙОНУ                                                                                                                               1\n",
       "ВІДДІЛ СПЕЦМІЛІЦІЇ КИЇВСЬКОЇ ОБЛАСТІ                                                                                                                            1\n",
       "ХМВ УМВСУ В ХАРКІВСЬКІЙ ОБЛАСТІ                                                                                                                                 1\n",
       "ВІДДІЛ ПОЛІЦІЇ НА СТАНЦІЯХ ЗАЛІЗНИЧНОГО ТРАНСПОРТУ ГУНП В М. КИЄВІ                                                                                              1\n",
       "ВІДДІЛ ПОЛІЦІЇ НА СТАНЦІЇ КИЇВ-ПАСАЖИРСЬКИЙ СОЛОМ'ЯНСЬКОГО УПРАВЛІННЯ ГУНП В М. КИЄВІ                                                                           1\n",
       "ТРОЇЦЬКИЙ ВІДДІЛ СТАРОБІЛЬСЬКОЇ МІСЦЕВОЇ ПР-РИ ЛУГАНСЬКОЇ ОБЛ.                                                                                                  1\n",
       "НОВОРОЗДІЛЬСЬКЕ ВІДДІЛЕННЯ ПОЛІЦІЇ ПУСТОМИТІВСЬКОГО ВІДДІЛУ ПОЛІЦІЇ ГУНП У ЛЬВІВСЬКІЙ ОБЛАСТІ                                                                   1\n",
       "ОВД НА СТ.МИРОНОВКА ЮЗУВДТ                                                                                                                                      1\n",
       "БЕРЕЗАНСЬКЕ ВІДДІЛЕННЯ ПОЛІЦІЇ ПЕРЕЯСЛАВ-ХМЕЛЬНИЦЬКОГО ВІДДІЛУ ГУНП В КИЇВСЬКІЙ ОБЛАСТІ                                                                         1\n",
       "СВЕРДЛОВСЬКИЙ МВМ 2 М.СВЕРДЛОВСЬКА ЛУГАНСЬКІЙ ОБЛ                                                                                                               1\n",
       "6227                                                                                                                                                            1\n",
       "(ВИКЛЮЧЕНО) ПОЛІСЬКЕ ВІДДІЛЕННЯ ПОЛІЦІЇ ВИШГОРОДСЬКОГО ВІДДІЛУ ГУНП В КИЇВСЬКІЙ ОБЛАСТІ                                                                         1\n",
       "(ВИКЛЮЧЕНО) МАРІУПОЛЬСЬКИЙ ВІДДІЛ ПОЛІЦІЇ ГУНП В ДОНЕЦЬКІЙ ОБЛ.                                                                                                 1\n",
       "СЕКТОР ПОЛІЦЕЙСЬКОЇ ДІЯЛЬНОСТІ №1 (СМТ ЧОРНОМОРСЬКЕ) ВІДДІЛУ ПОЛІЦІЇ №1 (СМТ ДОБРОСЛАВ) ОДЕСЬКОГО РАЙОННОГО УПРАВЛІННЯ ПОЛІЦІЇ №2 ГУНП ОДЕСЬКІЙ ОБЛАСТІ         1\n",
       "СУ МИКОЛАЇВСЬКОГО МІСЬКОГО УПРАВЛІННЯ                                                                                                                           1\n",
       "ВІДДІЛЕННЯ ПОЛІЦІЇ У ПОРТУ ХЕРСОН ХЕРСОНСЬКОГО ВІДДІЛУ ГУ НП В ХЕРСОНСЬКІЙ ОБЛАСТІ                                                                              1\n",
       "НОВОАЙДАРСЬКИЙ ВІДДІЛ СЄВЄРОДОНЕЦЬКОЇ МІСЦЕВОЇ ПР-РИ ЛУГАНСЬКОЇ ОБЛ.                                                                                            1\n",
       "ЛИСИЧАНСКО-РУБЕЖАНСКАЯ МЕЖРАЙОННАЯ ПР.-ОХР. ПР-РА ЛУГАНСЬКІЙ ОБЛ                                                                                                1\n",
       "ПОДАТКОВА МІЛІЦІЯ СВЯТОШИНСЬКОГО РАЙОНУ М. КИЄВА                                                                                                                1\n",
       "ЛВМ СТ. ЖИТОМИР ЖИТОМИРСЬКОЇ ОБЛ.                                                                                                                               1\n",
       "ЛВМ МІСТА МИКОЛАЇВ                                                                                                                                              1\n",
       "ЛОВС В ПОРТУ М.ЯЛТА                                                                                                                                             1\n",
       "УУР УМВД ЗАПОРІЗЬКОЇ ОБЛ.                                                                                                                                       1\n",
       "ЛВ НА СТАНЦІЇ ПОМІЧНА УМВСУ НА ОДЕСЬКІЙ ЗАЛІЗНИЦІ                                                                                                               1\n",
       "УУРЗ УМВД ЗАПОРІЗЬКОЇ ОБЛ.                                                                                                                                      1\n",
       "ЛУГАНСЬКА МІСЦЕВА ПРОКУРАТУРА  №1 ЛУГАНСЬКІЙ ОБЛ.                                                                                                               1\n",
       "ЛВ НА СТАНЦІЇ ЛОЗОВА УМВСУ НА ПІВДЕННІЙ ЗАЛІЗНИЦІ                                                                                                               1\n",
       "ЛВ НА СТАНЦІЇ КРАСНИЙ ЛИМАН УМВСУ НА ДОНЕЦЬКІЙ ЗАЛІЗНИЦІ                                                                                                        1\n",
       "ЛВ НА СТАНЦІЇ ЗАПОРІЖЖЯ УМВСУ НА ПРИДНІПРОВСЬКІЙ ЗАЛІЗНИЦІ                                                                                                      1\n",
       "ЛВ НА СТАНЦІЇ ДОНЕЦЬК УМВСУ НА ДОНЕЦЬКІЙ ЗАЛІЗНИЦІ                                                                                                              1\n",
       "ЛВ НА СТАНЦІЇ ДАРНИЦЯ УМВСУ НА ПІВДЕННО-ЗАХІДНІЙ ЗАЛІЗНИЦІ                                                                                                      1\n",
       "ЛВ НА СТ. ЧЕРНІВЦІ УМВСУ НА ЛЬВІВСЬКІЙ ЗАЛІЗНИЦІ                                                                                                                1\n",
       "П-РА БРОДІВСЬКОГО Р-НУ ЛЬВІВСЬКОЇ ОБЛ.                                                                                                                          1\n",
       "ЛВ НА СТ. УЖГОРОД УМВСУ НА ЛЬВІВСЬКІЙ ЗАЛІЗНИЦІ                                                                                                                 1\n",
       "ЛВ НА СТ. ТЕРНОПІЛЬ УМВСУ НА ЛЬВІВСЬКІЙ ЗАЛІЗНИЦІ                                                                                                               1\n",
       "П-РА ЖОВКІВСЬКОГО Р-НУ ЛЬВІВСЬКОЇ ОБЛ.                                                                                                                          1\n",
       "ЛВ НА СТ. НИЖНЬОДНІПРОВСЬК-ВУЗОЛ УМВСУ НА ПРИДНІПР.ЗАЛІЗНИЦІ                                                                                                    1\n",
       "МАКІЇВСЬКЕ МУ ГУМВСУ В ДОНЕЦЬКІЙ ОБЛ.                                                                                                                           1\n",
       "ЛВ НА СТ. КРИВИЙ РІГ-ГОЛОВНИЙ УМВСУ НА ПРИДНІПР.ЗАЛІЗНИЦІ                                                                                                       1\n",
       "П-РА М.БОРИСЛАВА ЛЬВІВСЬКОЇ ОБЛ.                                                                                                                                1\n",
       "ЛВ НА СТ. ДНІПРОПЕТРОВСЬК УМВСУ НА ПРИДНІПРОВСЬКІЙ ЗАЛІЗНИЦІ                                                                                                    1\n",
       "МИКОЛАЇВСЬКЕ МУ УМВСУ В МИКОЛАЇВСЬКІЙ ОБЛ.                                                                                                                      1\n",
       "ОВД НА СТ.БАХМАЧ ЮЗУВДТ                                                                                                                                         1\n",
       "ПОДАТКОВА МІЛІЦІЯ ДЕСНЯНСЬКОГО РАЙОНУ М. КИЄВА                                                                                                                  1\n",
       "УВС М.ІВАНО-ФРАНКІВСЬК                                                                                                                                          1\n",
       "ПОДАТКОВА МІЛІЦІЯ ПЕЧЕРСЬКОГО РАЙОНУ М. КИЄВА                                                                                                                   1\n",
       "ПОДАТКОВА МІЛІЦІЯ ПОДІЛЬСЬКОГО РАЙОНУ М. КИЄВА                                                                                                                  1\n",
       "ОВСУ НА ЛЬВІВСЬКІЙ ЗАЛІЗНИЦІ                                                                                                                                    1\n",
       "ОВД НА СТ.ЛЮБОТИН ЮЖНОГО УВДТ                                                                                                                                   1\n",
       "Name: organunit, dtype: int64"
      ]
     },
     "execution_count": 28,
     "metadata": {},
     "output_type": "execute_result"
    }
   ],
   "source": [
    "# Looking through number of occurences of values in the \"reasonsearch\" column\n",
    "df['organunit'].value_counts()"
   ]
  },
  {
   "cell_type": "code",
   "execution_count": 29,
   "id": "9493d752",
   "metadata": {
    "code_folding": [
     0
    ]
   },
   "outputs": [
    {
     "data": {
      "text/html": [
       "<div>\n",
       "<style scoped>\n",
       "    .dataframe tbody tr th:only-of-type {\n",
       "        vertical-align: middle;\n",
       "    }\n",
       "\n",
       "    .dataframe tbody tr th {\n",
       "        vertical-align: top;\n",
       "    }\n",
       "\n",
       "    .dataframe thead th {\n",
       "        text-align: right;\n",
       "    }\n",
       "</style>\n",
       "<table border=\"1\" class=\"dataframe\">\n",
       "  <thead>\n",
       "    <tr style=\"text-align: right;\">\n",
       "      <th></th>\n",
       "      <th>weaponnumber</th>\n",
       "      <th>weaponkind</th>\n",
       "      <th>organunit</th>\n",
       "      <th>report</th>\n",
       "      <th>insertdate</th>\n",
       "      <th>theftdate</th>\n",
       "    </tr>\n",
       "  </thead>\n",
       "  <tbody>\n",
       "    <tr>\n",
       "      <th>13990</th>\n",
       "      <td></td>\n",
       "      <td>ПІСТОЛЕТ ГАЗОВИЙ</td>\n",
       "      <td></td>\n",
       "      <td>Loss</td>\n",
       "      <td>2009-08-17</td>\n",
       "      <td>2009-08-14</td>\n",
       "    </tr>\n",
       "    <tr>\n",
       "      <th>15077</th>\n",
       "      <td>XA00302</td>\n",
       "      <td>РЕВОЛЬВЕР ПІД ГУМОВУ КУЛЮ</td>\n",
       "      <td></td>\n",
       "      <td>Theft</td>\n",
       "      <td>2010-03-18</td>\n",
       "      <td>NaT</td>\n",
       "    </tr>\n",
       "    <tr>\n",
       "      <th>16502</th>\n",
       "      <td>154837</td>\n",
       "      <td>РУШНИЦЯ МИСЛИВСЬКА</td>\n",
       "      <td></td>\n",
       "      <td>Loss</td>\n",
       "      <td>2011-01-17</td>\n",
       "      <td>NaT</td>\n",
       "    </tr>\n",
       "    <tr>\n",
       "      <th>32162</th>\n",
       "      <td>01344</td>\n",
       "      <td>ПІСТОЛЕТ ГАЗОВИЙ</td>\n",
       "      <td></td>\n",
       "      <td>Theft</td>\n",
       "      <td>2010-09-18</td>\n",
       "      <td>NaT</td>\n",
       "    </tr>\n",
       "  </tbody>\n",
       "</table>\n",
       "</div>"
      ],
      "text/plain": [
       "      weaponnumber                 weaponkind organunit report insertdate  \\\n",
       "13990                        ПІСТОЛЕТ ГАЗОВИЙ             Loss 2009-08-17   \n",
       "15077      XA00302  РЕВОЛЬВЕР ПІД ГУМОВУ КУЛЮ            Theft 2010-03-18   \n",
       "16502       154837         РУШНИЦЯ МИСЛИВСЬКА             Loss 2011-01-17   \n",
       "32162        01344           ПІСТОЛЕТ ГАЗОВИЙ            Theft 2010-09-18   \n",
       "\n",
       "       theftdate  \n",
       "13990 2009-08-14  \n",
       "15077        NaT  \n",
       "16502        NaT  \n",
       "32162        NaT  "
      ]
     },
     "execution_count": 29,
     "metadata": {},
     "output_type": "execute_result"
    }
   ],
   "source": [
    "# Checking records with missing \"organunit\" values\n",
    "df[df['organunit']=='']"
   ]
  },
  {
   "cell_type": "code",
   "execution_count": 30,
   "id": "e144d47e",
   "metadata": {
    "code_folding": [
     0
    ]
   },
   "outputs": [
    {
     "data": {
      "text/html": [
       "<div>\n",
       "<style scoped>\n",
       "    .dataframe tbody tr th:only-of-type {\n",
       "        vertical-align: middle;\n",
       "    }\n",
       "\n",
       "    .dataframe tbody tr th {\n",
       "        vertical-align: top;\n",
       "    }\n",
       "\n",
       "    .dataframe thead th {\n",
       "        text-align: right;\n",
       "    }\n",
       "</style>\n",
       "<table border=\"1\" class=\"dataframe\">\n",
       "  <thead>\n",
       "    <tr style=\"text-align: right;\">\n",
       "      <th></th>\n",
       "      <th>weaponnumber</th>\n",
       "      <th>weaponkind</th>\n",
       "      <th>organunit</th>\n",
       "      <th>report</th>\n",
       "      <th>insertdate</th>\n",
       "      <th>theftdate</th>\n",
       "    </tr>\n",
       "  </thead>\n",
       "  <tbody>\n",
       "  </tbody>\n",
       "</table>\n",
       "</div>"
      ],
      "text/plain": [
       "Empty DataFrame\n",
       "Columns: [weaponnumber, weaponkind, organunit, report, insertdate, theftdate]\n",
       "Index: []"
      ]
     },
     "execution_count": 30,
     "metadata": {},
     "output_type": "execute_result"
    }
   ],
   "source": [
    "# Removing records with \"organunit\" values missing\n",
    "df.drop(index=df[df['organunit']==''].index, inplace=True)\n",
    "df[df['organunit']=='']"
   ]
  },
  {
   "cell_type": "markdown",
   "id": "515284b9",
   "metadata": {},
   "source": [
    "The _\"organunit\"_ values add a lot of unnecessary complexity, so it would be more straightforward to stick to the administrative centers' names only."
   ]
  },
  {
   "cell_type": "markdown",
   "id": "98d4046c-7740-41d0-a7ea-e323c7e46b1f",
   "metadata": {},
   "source": [
    "### (NEW) region"
   ]
  },
  {
   "cell_type": "code",
   "execution_count": 31,
   "id": "86006316",
   "metadata": {
    "code_folding": [
     0
    ],
    "scrolled": true
   },
   "outputs": [
    {
     "data": {
      "text/plain": [
       "'МАНГУШСЬКЕ ВІДДІЛЕННЯ ПОЛІЦІЇ ЦЕНТРАЛЬНОГО ВІДДІЛУ ГУНП В ДОНЕЦЬКІЙ ОБЛ.'"
      ]
     },
     "execution_count": 31,
     "metadata": {},
     "output_type": "execute_result"
    }
   ],
   "source": [
    "df['organunit'].head(1)[0]"
   ]
  },
  {
   "cell_type": "code",
   "execution_count": 32,
   "id": "55dc6aeb-e370-419c-8aab-3c152655c44b",
   "metadata": {},
   "outputs": [],
   "source": [
    "# Casting \"organunit\" to str and storing the output in the temporary variable\n",
    "tmp_region = df['organunit'].astype(str)"
   ]
  },
  {
   "cell_type": "code",
   "execution_count": 33,
   "id": "fdbc7345-635f-40c1-a4b7-3a0dcfeecff9",
   "metadata": {
    "scrolled": true,
    "tags": []
   },
   "outputs": [],
   "source": [
    "# Creating dictionary with oblasts names (keys) and their respective regular expressions (values)\n",
    "regx_oblasts = {\n",
    "    'Uzhhorod': r'(?i)\\bЗАКАРПАТ\\w{0,6}.{1,5}\\bобл',\n",
    "    'Lviv': r'(?i)\\bЛЬВ[іо]ВС\\w{0,1}К\\w{0,6}.{1,5}\\bобл',\n",
    "    'Ivano-Frankivsk': r'(?i)\\b[іи]В\\w{0,3}[.\\-]ФР\\w{0,10}.{1,5}\\bобл',\n",
    "    'Chernivtsi': r'(?i)\\bЧЕРН[іо]В\\w{0,1}Ц\\w{0,6}.{1,5}\\bобл',\n",
    "    'Ternopil': r'(?i)\\bТЕРНОП[іо]ЛЬС\\w{0,6}.{1,5}\\bобл',\n",
    "    'Lutsk': r'(?i)\\bВОЛ\\w{1,2}Н\\w{0,6}.{1,5}\\bобл',\n",
    "    'Rivne': r'(?i)\\bР[іо]ВНЕНС\\w{0,6}.{1,5}\\bобл',\n",
    "    'Zhytomyr': r'(?i)\\bЖИТОМИРС\\w{0,6}.{1,5}\\bобл',\n",
    "    'Khmelnytskyi': r'(?i)\\bХМЕЛЬНИЦ\\w{0,6}.{1,5}\\bобл',\n",
    "    'Vinnytsia': r'(?i)\\bВ[іи]ННИЦ\\w{0,6}.{1,5}\\bобл',\n",
    "    'Kyiv': r'(?i)\\bКИ[їе]В\\w{0,6}.{1,5}\\bобл',\n",
    "    'Cherkasy': r'(?i)\\bЧЕРКАC\\w{0,6}.{1,5}\\bобл',\n",
    "    'Kropyvnytskyi': r'(?i)\\bК[іи]РОВОГРАДС\\w{0,6}.{1,5}\\bобл',\n",
    "    'Odesa': r'(?i)\\bОДЕС\\w{0,6}.{1,5}\\bобл',\n",
    "    'Mykolaiv': r'(?i)\\b[мн]ИКОЛА[їеє]ВС\\w{0,6}.{1,5}\\bобл',\n",
    "    'Kherson': r'(?i)\\bХЕРСОНС\\w{0,6}.{1,5}\\bобл',\n",
    "    'Simferopol': r'(?i)\\bКР\\w{1,2}М\\b|\\bСЕВАСТ\\w{0,1}ПОЛ\\w{1,10}\\b|\\bЯЛТ\\w{1,10}|\\bАР\\b|\\bС[іи]МФЕРОПОЛ\\w{1,10}\\b',\n",
    "    'Zaporizhzhia': r'(?i)\\bЗАПОР[іо]\\w{0,6}.{1,5}\\bобл',\n",
    "    'Dnipro': r'(?i)\\bДН[іе]ПРОПЕТРОВС\\w{0,6}.{1,5}\\bобл',\n",
    "    'Poltava': r'(?i)\\bПОЛТАВС\\w{0,6}.{1,5}\\bобл',\n",
    "    'Chernihiv': r'(?i)\\bЧЕРН[іи]Г[іо]В\\w{0,6}.{1,5}\\bобл',\n",
    "    'Sumy': r'(?i)\\bСУМ\\w{0,6}.{1,5}\\bобл',\n",
    "    'Kharkiv': r'(?i)\\bХАР\\w{0,1}К[іо]В\\w{0,6}.{1,5}\\bобл',\n",
    "    'Luhansk': r'(?i)\\bЛУГАНС\\w{0,6}.{1,5}\\bобл',\n",
    "    'Donetsk': r'(?i)\\bДОНЕЦ\\w{0,6}.{1,5}\\bобл'\n",
    "}"
   ]
  },
  {
   "cell_type": "code",
   "execution_count": 34,
   "id": "02eae5cf-aa8d-401a-84f5-ae263e9656d0",
   "metadata": {
    "tags": []
   },
   "outputs": [],
   "source": [
    "# Creating dictionary with administrative centers' names (keys) and their respective regular expressions (values)\n",
    "regx_acenters = {\n",
    "    'Uzhhorod': r'(?i)\\bУЖГОРОД\\w{0,6}\\b',\n",
    "    'Lviv': r'(?i)\\bЛЬВ[іо]В\\w{0,6}\\b',\n",
    "    'Ivano-Frankivsk': r'(?i)\\b[іи]В\\w{0,3}[.\\-]ФРАНК\\w{0,3}ВС\\w{0,6}\\b',\n",
    "    'Chernivtsi': r'(?i)\\bЧЕРН[іо]В\\w{0,1}Ц\\w{0,6}\\b',\n",
    "    'Ternopil': r'(?i)\\bТЕРНОП[іо]ЛЬ\\w{0,6}\\b',\n",
    "    'Lutsk': r'(?i)\\bВОЛ\\w{1,2}Н\\w{0,6}\\b|\\bЛУЦ\\w{0,1}К\\w{0,6}\\b',\n",
    "    'Rivne': r'(?i)\\bР[іо]ВН[ео]\\w{0,6}\\b|\\bГОЩАНС\\w{0,5}\\b',\n",
    "    'Zhytomyr': r'(?i)\\bЖИТОМИР\\w{0,6}\\b',\n",
    "    'Khmelnytskyi': r'(?i)\\bХМЕЛЬНИЦ\\w{0,6}\\b',\n",
    "    'Vinnytsia': r'(?i)\\bВ[іи]ННИЦ\\w{0,6}\\b',\n",
    "    'Kyiv': r'(?i)\\bКИ[їеє]В\\w{0,6}\\b|\\bПЕЧЕРСЬК\\w{0,6}\\b|\\bГОЛОСІЇВ\\w{0,6}\\b',\n",
    "    'Cherkasy': r'(?i)\\bЧЕРКАС\\w{0,6}\\b',\n",
    "    'Kropyvnytskyi': r'(?i)\\bК[іи]РОВОГРАД\\w{0,6}\\b|\\bКРОПИВНИЦ\\w{0,6}\\b',\n",
    "    'Odesa': r'(?i)\\bОДЕС\\w{0,6}\\b',\n",
    "    'Mykolaiv': r'(?i)\\b[мн]ИКОЛА[їеє]В\\w{0,6}\\b',\n",
    "    'Kherson': r'(?i)\\bХЕРСОН\\w{0,6}\\b',\n",
    "    'Simferopol': r'(?i)\\bКР\\w{1,2}М\\b|\\bСЕВАСТ\\w{0,1}ПОЛ\\w{1,10}\\b|\\bЯЛТ\\w{1,10}|\\bАР\\b|\\bС[іи]МФЕРОПОЛ\\w{1,10}\\b',\n",
    "    'Zaporizhzhia': r'(?i)\\bЗАПОР[іо]\\w{0,6}\\b',\n",
    "    'Dnipro': r'(?i)\\bДН[іе]ПР\\w{0,10}\\b|\\bДН[іе]ПРОПЕТРОВС\\w{0,6}\\b|\\bКРИВ\\w{0,3}\\W{0,5}Р\\w{1,6}\\b',\n",
    "    'Poltava': r'(?i)\\bПОЛТАВ\\w{0,6}\\b',\n",
    "    'Chernihiv': r'(?i)\\bЧЕРН[іи]Г[іо]В\\w{0,6}\\b|\\bН[іе]ЖИН\\w{0,6}\\b|\\bБАХМА\\w{0,6}\\b',\n",
    "    'Sumy': r'(?i)\\bСУМ\\w{0,6}\\b|\\bЛЮБОТ\\w{1,6}\\b',\n",
    "    'Kharkiv': r'(?i)\\bХАР\\w{0,1}К[іо]В\\w{0,6}\\b|\\bЛОЗОВ\\w{0,6}\\b|\\bОСНОВ\\w{0,6}\\b',\n",
    "    'Luhansk': r'(?i)\\bЛУГАНС\\w{0,6}\\b',\n",
    "    'Donetsk': r'(?i)\\bДОНЕЦ\\w{0,6}\\b'\n",
    "}"
   ]
  },
  {
   "cell_type": "code",
   "execution_count": 35,
   "id": "15b7f2a7-249f-4799-9002-f6a445c134fa",
   "metadata": {
    "tags": []
   },
   "outputs": [
    {
     "data": {
      "text/plain": [
       "5959       САДГІРСЬКЕ ВІДДІЛЕННЯ ПОЛІЦІЇ ЧЕРНІВЕЦЬКОГО ВІДДІЛУ ГУНП В ЧЕРНІВЕЦЬКІЙ ОБЛАСТІ\n",
       "5960    ШЕВЧЕНКІВСЬКЕ ВІДДІЛЕННЯ ПОЛІЦІЇ ЧЕРНІВЕЦЬКОГО ВІДДІЛУ ГУНП В ЧЕРНІВЕЦЬКІЙ ОБЛАСТІ\n",
       "5961                             СТОРОЖИНЕЦЬКИЙ ВІДДІЛ ПОЛІЦІЇ ГУНП В ЧЕРНІВЕЦЬКІЙ ОБЛАСТІ\n",
       "5962                                КІЦМАНСЬКИЙ ВІДДІЛ ПОЛІЦІЇ ГУНП В ЧЕРНІВЕЦЬКІЙ ОБЛАСТІ\n",
       "5986         ВИЖНИЦЬКЕ ВІДДІЛЕННЯ ПОЛІЦІЇ КІЦМАНСЬКОГО ВІДДІЛУ ГУНП В ЧЕРНІВЕЦЬКІЙ ОБЛАСТІ\n",
       "Name: organunit, dtype: object"
      ]
     },
     "execution_count": 35,
     "metadata": {},
     "output_type": "execute_result"
    }
   ],
   "source": [
    "tmp_region[tmp_region.str.contains(regx_oblasts['Chernivtsi'])].head()"
   ]
  },
  {
   "cell_type": "code",
   "execution_count": 36,
   "id": "778c0ab3-b435-46b1-a2b9-1dc83d55c514",
   "metadata": {
    "tags": []
   },
   "outputs": [],
   "source": [
    "# 1st Searching for oblasts in \"tmp_region\" and replacing them with their respective region names from \"regx_oblasts\"\n",
    "for k,v in regx_oblasts.items(): \n",
    "    tmp_region[tmp_region.str.contains(regx_oblasts[k])]= str(k)\n",
    "\n",
    "# 2nd Searching for cities, districts, towns, etc., in \"tmp_region\" and replacing them with their respective region names from \"regx_acenters\"\n",
    "for k,v in regx_acenters.items(): \n",
    "    tmp_region[tmp_region.str.contains(regx_acenters[k])]= str(k)"
   ]
  },
  {
   "cell_type": "code",
   "execution_count": 37,
   "id": "f5b55003",
   "metadata": {
    "code_folding": [
     0
    ]
   },
   "outputs": [
    {
     "data": {
      "text/plain": [
       "'region'"
      ]
     },
     "execution_count": 37,
     "metadata": {},
     "output_type": "execute_result"
    }
   ],
   "source": [
    " tmp_region.rename('region', inplace=True).name"
   ]
  },
  {
   "cell_type": "code",
   "execution_count": 38,
   "id": "99dff4ad-6fc5-41f7-8494-1b7b6125f9f4",
   "metadata": {},
   "outputs": [
    {
     "data": {
      "text/plain": [
       "((487927, 6), (487927,))"
      ]
     },
     "execution_count": 38,
     "metadata": {},
     "output_type": "execute_result"
    }
   ],
   "source": [
    "# Shape before join\n",
    "df.shape, tmp_region.shape"
   ]
  },
  {
   "cell_type": "code",
   "execution_count": 39,
   "id": "d46d15ff",
   "metadata": {
    "code_folding": [
     0
    ]
   },
   "outputs": [
    {
     "data": {
      "text/html": [
       "<div>\n",
       "<style scoped>\n",
       "    .dataframe tbody tr th:only-of-type {\n",
       "        vertical-align: middle;\n",
       "    }\n",
       "\n",
       "    .dataframe tbody tr th {\n",
       "        vertical-align: top;\n",
       "    }\n",
       "\n",
       "    .dataframe thead th {\n",
       "        text-align: right;\n",
       "    }\n",
       "</style>\n",
       "<table border=\"1\" class=\"dataframe\">\n",
       "  <thead>\n",
       "    <tr style=\"text-align: right;\">\n",
       "      <th></th>\n",
       "      <th>weaponnumber</th>\n",
       "      <th>weaponkind</th>\n",
       "      <th>organunit</th>\n",
       "      <th>report</th>\n",
       "      <th>insertdate</th>\n",
       "      <th>theftdate</th>\n",
       "      <th>region</th>\n",
       "    </tr>\n",
       "  </thead>\n",
       "  <tbody>\n",
       "    <tr>\n",
       "      <th>0</th>\n",
       "      <td>36</td>\n",
       "      <td>РЕВОЛЬВЕР</td>\n",
       "      <td>МАНГУШСЬКЕ ВІДДІЛЕННЯ ПОЛІЦІЇ ЦЕНТРАЛЬНОГО ВІДДІЛУ ГУНП В ДОНЕЦЬКІЙ ОБЛ.</td>\n",
       "      <td>Theft</td>\n",
       "      <td>1978-03-09</td>\n",
       "      <td>1978-03-09</td>\n",
       "      <td>Donetsk</td>\n",
       "    </tr>\n",
       "  </tbody>\n",
       "</table>\n",
       "</div>"
      ],
      "text/plain": [
       "  weaponnumber weaponkind  \\\n",
       "0           36  РЕВОЛЬВЕР   \n",
       "\n",
       "                                                                  organunit  \\\n",
       "0  МАНГУШСЬКЕ ВІДДІЛЕННЯ ПОЛІЦІЇ ЦЕНТРАЛЬНОГО ВІДДІЛУ ГУНП В ДОНЕЦЬКІЙ ОБЛ.   \n",
       "\n",
       "  report insertdate  theftdate   region  \n",
       "0  Theft 1978-03-09 1978-03-09  Donetsk  "
      ]
     },
     "execution_count": 39,
     "metadata": {},
     "output_type": "execute_result"
    }
   ],
   "source": [
    "# Joining \"region\" column to the original dataframe\n",
    "df = df.join( \n",
    "    tmp_region, \n",
    "    how='left') # joins on index by default\n",
    "df.head(1)"
   ]
  },
  {
   "cell_type": "code",
   "execution_count": 40,
   "id": "1616ca3b-753e-4446-973d-ac3956242bf1",
   "metadata": {},
   "outputs": [
    {
     "data": {
      "text/plain": [
       "(487927, 7)"
      ]
     },
     "execution_count": 40,
     "metadata": {},
     "output_type": "execute_result"
    }
   ],
   "source": [
    "# Shape after join\n",
    "df.shape"
   ]
  },
  {
   "cell_type": "code",
   "execution_count": 41,
   "id": "fee9f1ae",
   "metadata": {
    "code_folding": [
     0
    ]
   },
   "outputs": [
    {
     "data": {
      "text/plain": [
       "Simferopol                                                      122678\n",
       "Donetsk                                                          91726\n",
       "Luhansk                                                          58880\n",
       "Kyiv                                                             55197\n",
       "Zaporizhzhia                                                     27607\n",
       "Kharkiv                                                          19405\n",
       "Odesa                                                            15355\n",
       "Sumy                                                             12444\n",
       "Dnipro                                                           12179\n",
       "Kherson                                                           8572\n",
       "Chernihiv                                                         7439\n",
       "Mykolaiv                                                          7112\n",
       "Poltava                                                           6563\n",
       "Lviv                                                              6041\n",
       "Vinnytsia                                                         5516\n",
       "Lutsk                                                             5222\n",
       "Zhytomyr                                                          4050\n",
       "Ivano-Frankivsk                                                   3832\n",
       "Cherkasy                                                          3613\n",
       "Ternopil                                                          3479\n",
       "Uzhhorod                                                          2919\n",
       "Kropyvnytskyi                                                     2822\n",
       "Rivne                                                             2126\n",
       "Khmelnytskyi                                                      1633\n",
       "Chernivtsi                                                        1049\n",
       "НАЦІОНАЛЬНА ПОЛІЦІЯ УКРАЇНИ                                        464\n",
       "6227                                                                 1\n",
       "ЛВ НА СТ. НИЖНЬОДНІПРОВСЬК-ВУЗОЛ УМВСУ НА ПРИДНІПР.ЗАЛІЗНИЦІ         1\n",
       "ЛВ НА СТАНЦІЇ ДАРНИЦЯ УМВСУ НА ПІВДЕННО-ЗАХІДНІЙ ЗАЛІЗНИЦІ           1\n",
       "ОВД НА СТ.МИРОНОВКА ЮЗУВДТ                                           1\n",
       "Name: region, dtype: int64"
      ]
     },
     "execution_count": 41,
     "metadata": {},
     "output_type": "execute_result"
    }
   ],
   "source": [
    "# Checking whether all values were replaced\n",
    "df['region'].value_counts()"
   ]
  },
  {
   "cell_type": "code",
   "execution_count": 42,
   "id": "de30e748",
   "metadata": {
    "code_folding": [
     0
    ]
   },
   "outputs": [
    {
     "data": {
      "text/plain": [
       "Simferopol                                                      0.251427\n",
       "Donetsk                                                         0.187991\n",
       "Luhansk                                                         0.120674\n",
       "Kyiv                                                            0.113126\n",
       "Zaporizhzhia                                                    0.056580\n",
       "Kharkiv                                                         0.039770\n",
       "Odesa                                                           0.031470\n",
       "Sumy                                                            0.025504\n",
       "Dnipro                                                          0.024961\n",
       "Kherson                                                         0.017568\n",
       "Chernihiv                                                       0.015246\n",
       "Mykolaiv                                                        0.014576\n",
       "Poltava                                                         0.013451\n",
       "Lviv                                                            0.012381\n",
       "Vinnytsia                                                       0.011305\n",
       "Lutsk                                                           0.010702\n",
       "Zhytomyr                                                        0.008300\n",
       "Ivano-Frankivsk                                                 0.007854\n",
       "Cherkasy                                                        0.007405\n",
       "Ternopil                                                        0.007130\n",
       "Uzhhorod                                                        0.005982\n",
       "Kropyvnytskyi                                                   0.005784\n",
       "Rivne                                                           0.004357\n",
       "Khmelnytskyi                                                    0.003347\n",
       "Chernivtsi                                                      0.002150\n",
       "НАЦІОНАЛЬНА ПОЛІЦІЯ УКРАЇНИ                                     0.000951\n",
       "6227                                                            0.000002\n",
       "ЛВ НА СТ. НИЖНЬОДНІПРОВСЬК-ВУЗОЛ УМВСУ НА ПРИДНІПР.ЗАЛІЗНИЦІ    0.000002\n",
       "ЛВ НА СТАНЦІЇ ДАРНИЦЯ УМВСУ НА ПІВДЕННО-ЗАХІДНІЙ ЗАЛІЗНИЦІ      0.000002\n",
       "ОВД НА СТ.МИРОНОВКА ЮЗУВДТ                                      0.000002\n",
       "Name: region, dtype: float64"
      ]
     },
     "execution_count": 42,
     "metadata": {},
     "output_type": "execute_result"
    }
   ],
   "source": [
    "# Percentage of each of the values in the dataframe\n",
    "df['region'].value_counts(dropna=False,normalize=True)"
   ]
  },
  {
   "cell_type": "code",
   "execution_count": 43,
   "id": "de0d62ef",
   "metadata": {
    "code_folding": [
     0
    ]
   },
   "outputs": [
    {
     "data": {
      "text/plain": [
       "Simferopol         122678\n",
       "Donetsk             91726\n",
       "Luhansk             58880\n",
       "Kyiv                55197\n",
       "Zaporizhzhia        27607\n",
       "Kharkiv             19405\n",
       "Odesa               15355\n",
       "Sumy                12444\n",
       "Dnipro              12179\n",
       "Kherson              8572\n",
       "Chernihiv            7439\n",
       "Mykolaiv             7112\n",
       "Poltava              6563\n",
       "Lviv                 6041\n",
       "Vinnytsia            5516\n",
       "Lutsk                5222\n",
       "Zhytomyr             4050\n",
       "Ivano-Frankivsk      3832\n",
       "Cherkasy             3613\n",
       "Ternopil             3479\n",
       "Uzhhorod             2919\n",
       "Kropyvnytskyi        2822\n",
       "Rivne                2126\n",
       "Khmelnytskyi         1633\n",
       "Chernivtsi           1049\n",
       "Name: region, dtype: int64"
      ]
     },
     "execution_count": 43,
     "metadata": {},
     "output_type": "execute_result"
    }
   ],
   "source": [
    "# Some ambiguous values (\"НАЦІОНАЛЬНА ПОЛІЦІЯ УКРАЇНИ\", \"6227\", etc.) make up a total of ~0.1% of all values,\n",
    "#therefore can be ommited\n",
    "df = df[df['region'].isin(regx_acenters.keys())]\n",
    "df['region'].value_counts()"
   ]
  },
  {
   "cell_type": "code",
   "execution_count": 44,
   "id": "595da0cc-54cb-433a-9294-1a4cc0880dbe",
   "metadata": {},
   "outputs": [
    {
     "name": "stdout",
     "output_type": "stream",
     "text": [
      "<class 'pandas.core.frame.DataFrame'>\n",
      "Int64Index: 487459 entries, 0 to 496747\n",
      "Data columns (total 7 columns):\n",
      " #   Column        Non-Null Count   Dtype         \n",
      "---  ------        --------------   -----         \n",
      " 0   weaponnumber  487459 non-null  category      \n",
      " 1   weaponkind    487459 non-null  category      \n",
      " 2   organunit     487459 non-null  category      \n",
      " 3   report        487459 non-null  category      \n",
      " 4   insertdate    487459 non-null  datetime64[ns]\n",
      " 5   theftdate     486862 non-null  datetime64[ns]\n",
      " 6   region        487459 non-null  object        \n",
      "dtypes: category(4), datetime64[ns](2), object(1)\n",
      "memory usage: 70.0 MB\n"
     ]
    }
   ],
   "source": [
    "df.info(memory_usage='deep', show_counts=True)"
   ]
  },
  {
   "cell_type": "code",
   "execution_count": 45,
   "id": "67006de8",
   "metadata": {
    "code_folding": [
     0
    ]
   },
   "outputs": [],
   "source": [
    "# Removing \"organunit\" column\n",
    "df.drop(columns=['organunit'], inplace=True)"
   ]
  },
  {
   "cell_type": "code",
   "execution_count": 46,
   "id": "9a7a8265",
   "metadata": {
    "code_folding": [
     0
    ]
   },
   "outputs": [],
   "source": [
    "# Casting values to category data type\n",
    "df['region'] = df['region'].astype('category')"
   ]
  },
  {
   "cell_type": "markdown",
   "id": "2233e737",
   "metadata": {},
   "source": [
    "***\n",
    "### weaponkind"
   ]
  },
  {
   "cell_type": "code",
   "execution_count": 47,
   "id": "c137832c",
   "metadata": {
    "code_folding": [
     0
    ],
    "scrolled": true
   },
   "outputs": [
    {
     "data": {
      "text/plain": [
       "РУШНИЦЯ МИСЛИВСЬКА                  127061\n",
       "АВТОМАТ                             101093\n",
       "ПІСТОЛЕТ                             76955\n",
       "ПІСТОЛЕТ ГАЗОВИЙ                     47352\n",
       "ПІСТОЛЕТ ПІД ГУМОВУ КУЛЮ             44797\n",
       "КАРАБІН                              32429\n",
       "РЕВОЛЬВЕР ГАЗОВИЙ                    15244\n",
       "КУЛЕМЕТ                               7978\n",
       "ГРАНАТОМЕТ                            6971\n",
       "РЕВОЛЬВЕР ПІД ГУМОВУ КУЛЮ             5253\n",
       "ГВИНТІВКА                             3701\n",
       "ПІСТОЛЕТ СИГНАЛЬНИЙ                   2489\n",
       "РЕВОЛЬВЕР                             1646\n",
       "НІЖ МИСЛИВСЬКИЙ                       1367\n",
       "ШТИК НІЖ                              1330\n",
       "КОРТИК                                1255\n",
       "ГВИНТІВКА ПНЕВМАТИЧНА                 1250\n",
       "АВТОМАТ УЧБОВИЙ                       1244\n",
       "РАКЕТНИЦЯ                             1090\n",
       "ПІСТОЛЕТ ПНЕВМАТИЧНИЙ                  994\n",
       "ГВИНТІВКА МК                           975\n",
       "НІЖ                                    848\n",
       "ПІСТОЛЕТ КУЛЕМЕТ                       471\n",
       "ІНШІ ДЕТАЛІ ЗБРОЇ                      432\n",
       "СТВОЛ ДЕТАЛЬ                           330\n",
       "ПІСТОЛЕТ УЧБОВИЙ                       285\n",
       "РУШНИЦЯ ПОМПОВА                        202\n",
       "ПІСТОЛЕТ МК                            197\n",
       "КУЛЕМЕТ СТАНКОВИЙ                      184\n",
       "ПТРК                                   184\n",
       "ПРИЦІЛ ОПТИЧНИЙ                        164\n",
       "ПЗРК                                   159\n",
       "РЕВОЛЬВЕР ПНЕВМАТИЧНИЙ                 130\n",
       "ПІСТОЛЕТ СТАРТОВИЙ                     130\n",
       "РЕВОЛЬВЕР ПІД ПАТРОН ФЛОБЕРА           124\n",
       "РУШНИЦЯ ЗБІРНА                          99\n",
       "РУШНИЦЯ                                 93\n",
       "ПІСТОЛЕТ ПІД ПАТРОН ФЛОБЕРА             90\n",
       "ЗАТВОР ДЕТАЛЬ                           89\n",
       "ГВИНТІВКА УЧБОВА                        82\n",
       "ОБРІЗ РУШНИЦІ                           62\n",
       "АРБАЛЕТ                                 60\n",
       "КУЛЕМЕТ УЧБОВИЙ                         59\n",
       "ГАРМАТА АВТОМАТИЧНА                     51\n",
       "КАРАБІН УЧБОВИЙ                         50\n",
       "КИНДЖАЛ                                 47\n",
       "МІНОМЕТ                                 37\n",
       "РЕВОЛЬВЕР СТАРТОВИЙ                     34\n",
       "ШАШКА                                   32\n",
       "ШАБЛЯ                                   24\n",
       "ШТИК                                    23\n",
       "ГРАНАТА                                 23\n",
       "ОБРІЗ ГВИНТІВКИ                         22\n",
       "ЗАПАЛ                                   22\n",
       "ЗЕНІТНА УСТАНОВКА                       18\n",
       "МАГАЗИН ПІСТОЛЕТНИЙ                     17\n",
       "РЕВОЛЬВЕР СИГНАЛЬНИЙ                    14\n",
       "РУШНИЦЯ ПРОТИТАНКОВА                    14\n",
       "РУШНИЦЯ ДЛЯ ПІДВОДНОГО ПОЛЮВАННЯ        13\n",
       "НАБОЇ БОЄВІ                             12\n",
       "МЕЧ                                     12\n",
       "РЕВОЛЬВЕР ГАЗОВОДРОБОВИЙ                 8\n",
       "СТВОЛЬНА КОРОБКА ДЕТАЛЬ                  6\n",
       "СНАРЯД                                   5\n",
       "ПІСТОЛЕТ САМОРОБНИЙ                      4\n",
       "ПУСКОВІ УСТАНОВКИ                        3\n",
       "ОБРІЗ КАРАБІНА                           3\n",
       "ПІСТОЛЕТ МОНТАЖНИЙ                       2\n",
       "ОБРІЗ ГВИНТІВКИ МК                       2\n",
       "КАРАБІН ПІД ПАТРОН ФЛОБЕРА               2\n",
       "ДЕТАЛІ                                   2\n",
       "ГАРМАТА                                  2\n",
       "                                         1\n",
       "РАМКА ДЕТАЛЬ                             1\n",
       "РАКЕТА                                   1\n",
       "МАГАЗИН                                  1\n",
       "КИСТЕНЬ                                  1\n",
       "ВИБУХОВІ РЕЧОВИНИ                        1\n",
       "ПІСТОЛЕТ АВТОРУЧКА                       1\n",
       "Name: weaponkind, dtype: int64"
      ]
     },
     "execution_count": 47,
     "metadata": {},
     "output_type": "execute_result"
    }
   ],
   "source": [
    "# Checking number of unique values in \"weaponkind\" column\n",
    "df['weaponkind'].value_counts()"
   ]
  },
  {
   "cell_type": "code",
   "execution_count": 48,
   "id": "1ae855d6",
   "metadata": {
    "code_folding": [
     0
    ]
   },
   "outputs": [
    {
     "data": {
      "text/html": [
       "<div>\n",
       "<style scoped>\n",
       "    .dataframe tbody tr th:only-of-type {\n",
       "        vertical-align: middle;\n",
       "    }\n",
       "\n",
       "    .dataframe tbody tr th {\n",
       "        vertical-align: top;\n",
       "    }\n",
       "\n",
       "    .dataframe thead th {\n",
       "        text-align: right;\n",
       "    }\n",
       "</style>\n",
       "<table border=\"1\" class=\"dataframe\">\n",
       "  <thead>\n",
       "    <tr style=\"text-align: right;\">\n",
       "      <th></th>\n",
       "      <th>weaponnumber</th>\n",
       "      <th>weaponkind</th>\n",
       "      <th>report</th>\n",
       "      <th>insertdate</th>\n",
       "      <th>theftdate</th>\n",
       "      <th>region</th>\n",
       "    </tr>\n",
       "  </thead>\n",
       "  <tbody>\n",
       "    <tr>\n",
       "      <th>117664</th>\n",
       "      <td>14960</td>\n",
       "      <td></td>\n",
       "      <td>Loss</td>\n",
       "      <td>2016-10-13</td>\n",
       "      <td>2016-10-07</td>\n",
       "      <td>Kyiv</td>\n",
       "    </tr>\n",
       "  </tbody>\n",
       "</table>\n",
       "</div>"
      ],
      "text/plain": [
       "       weaponnumber weaponkind report insertdate  theftdate region\n",
       "117664        14960              Loss 2016-10-13 2016-10-07   Kyiv"
      ]
     },
     "execution_count": 48,
     "metadata": {},
     "output_type": "execute_result"
    }
   ],
   "source": [
    "# Checking empty records in \"weaponkind\"\n",
    "df[df['weaponkind']=='']"
   ]
  },
  {
   "cell_type": "code",
   "execution_count": 49,
   "id": "b7a0d087",
   "metadata": {
    "code_folding": [
     0
    ]
   },
   "outputs": [
    {
     "data": {
      "text/html": [
       "<div>\n",
       "<style scoped>\n",
       "    .dataframe tbody tr th:only-of-type {\n",
       "        vertical-align: middle;\n",
       "    }\n",
       "\n",
       "    .dataframe tbody tr th {\n",
       "        vertical-align: top;\n",
       "    }\n",
       "\n",
       "    .dataframe thead th {\n",
       "        text-align: right;\n",
       "    }\n",
       "</style>\n",
       "<table border=\"1\" class=\"dataframe\">\n",
       "  <thead>\n",
       "    <tr style=\"text-align: right;\">\n",
       "      <th></th>\n",
       "      <th>weaponnumber</th>\n",
       "      <th>weaponkind</th>\n",
       "      <th>report</th>\n",
       "      <th>insertdate</th>\n",
       "      <th>theftdate</th>\n",
       "      <th>region</th>\n",
       "    </tr>\n",
       "  </thead>\n",
       "  <tbody>\n",
       "  </tbody>\n",
       "</table>\n",
       "</div>"
      ],
      "text/plain": [
       "Empty DataFrame\n",
       "Columns: [weaponnumber, weaponkind, report, insertdate, theftdate, region]\n",
       "Index: []"
      ]
     },
     "execution_count": 49,
     "metadata": {},
     "output_type": "execute_result"
    }
   ],
   "source": [
    "# Removing record with missing \"weaponkind\" value\n",
    "df.drop(index=df[df['weaponkind']==''].index, inplace=True)\n",
    "df[df['weaponkind']=='']"
   ]
  },
  {
   "cell_type": "code",
   "execution_count": 50,
   "id": "543e4ece",
   "metadata": {
    "code_folding": [
     0
    ]
   },
   "outputs": [],
   "source": [
    "# Casting values to category data type\n",
    "df['weaponkind'] = df['weaponkind'].astype('category')"
   ]
  },
  {
   "cell_type": "markdown",
   "id": "e1f868e5",
   "metadata": {},
   "source": [
    "### (NEW) weaponcategory"
   ]
  },
  {
   "cell_type": "markdown",
   "id": "a15c6c41-9e06-4a7d-bf78-d3ffcdd5edb5",
   "metadata": {},
   "source": [
    "All the weapons from the **weaponkind** variable can be broken down into several categories, facilitating further analysis."
   ]
  },
  {
   "cell_type": "code",
   "execution_count": 51,
   "id": "37a43daa-7c4f-480e-8232-9865414b6af3",
   "metadata": {
    "tags": []
   },
   "outputs": [
    {
     "data": {
      "text/plain": [
       "{'ІНШІ ДЕТАЛІ ЗБРОЇ',\n",
       " 'АВТОМАТ',\n",
       " 'АВТОМАТ УЧБОВИЙ',\n",
       " 'АРБАЛЕТ',\n",
       " 'ВИБУХОВІ РЕЧОВИНИ',\n",
       " 'ГАРМАТА',\n",
       " 'ГАРМАТА АВТОМАТИЧНА',\n",
       " 'ГВИНТІВКА',\n",
       " 'ГВИНТІВКА МК',\n",
       " 'ГВИНТІВКА ПНЕВМАТИЧНА',\n",
       " 'ГВИНТІВКА УЧБОВА',\n",
       " 'ГРАНАТА',\n",
       " 'ГРАНАТОМЕТ',\n",
       " 'ДЕТАЛІ',\n",
       " 'ЗАПАЛ',\n",
       " 'ЗАТВОР ДЕТАЛЬ',\n",
       " 'ЗЕНІТНА УСТАНОВКА',\n",
       " 'КАРАБІН',\n",
       " 'КАРАБІН ПІД ПАТРОН ФЛОБЕРА',\n",
       " 'КАРАБІН УЧБОВИЙ',\n",
       " 'КИНДЖАЛ',\n",
       " 'КИСТЕНЬ',\n",
       " 'КОРТИК',\n",
       " 'КУЛЕМЕТ',\n",
       " 'КУЛЕМЕТ СТАНКОВИЙ',\n",
       " 'КУЛЕМЕТ УЧБОВИЙ',\n",
       " 'МІНОМЕТ',\n",
       " 'МАГАЗИН',\n",
       " 'МАГАЗИН ПІСТОЛЕТНИЙ',\n",
       " 'МЕЧ',\n",
       " 'НІЖ',\n",
       " 'НІЖ МИСЛИВСЬКИЙ',\n",
       " 'НАБОЇ БОЄВІ',\n",
       " 'ОБРІЗ ГВИНТІВКИ',\n",
       " 'ОБРІЗ ГВИНТІВКИ МК',\n",
       " 'ОБРІЗ КАРАБІНА',\n",
       " 'ОБРІЗ РУШНИЦІ',\n",
       " 'ПІСТОЛЕТ',\n",
       " 'ПІСТОЛЕТ АВТОРУЧКА',\n",
       " 'ПІСТОЛЕТ ГАЗОВИЙ',\n",
       " 'ПІСТОЛЕТ КУЛЕМЕТ',\n",
       " 'ПІСТОЛЕТ МК',\n",
       " 'ПІСТОЛЕТ МОНТАЖНИЙ',\n",
       " 'ПІСТОЛЕТ ПІД ГУМОВУ КУЛЮ',\n",
       " 'ПІСТОЛЕТ ПІД ПАТРОН ФЛОБЕРА',\n",
       " 'ПІСТОЛЕТ ПНЕВМАТИЧНИЙ',\n",
       " 'ПІСТОЛЕТ САМОРОБНИЙ',\n",
       " 'ПІСТОЛЕТ СИГНАЛЬНИЙ',\n",
       " 'ПІСТОЛЕТ СТАРТОВИЙ',\n",
       " 'ПІСТОЛЕТ УЧБОВИЙ',\n",
       " 'ПЗРК',\n",
       " 'ПРИЦІЛ ОПТИЧНИЙ',\n",
       " 'ПТРК',\n",
       " 'ПУСКОВІ УСТАНОВКИ',\n",
       " 'РАКЕТА',\n",
       " 'РАКЕТНИЦЯ',\n",
       " 'РАМКА ДЕТАЛЬ',\n",
       " 'РЕВОЛЬВЕР',\n",
       " 'РЕВОЛЬВЕР ГАЗОВИЙ',\n",
       " 'РЕВОЛЬВЕР ГАЗОВОДРОБОВИЙ',\n",
       " 'РЕВОЛЬВЕР ПІД ГУМОВУ КУЛЮ',\n",
       " 'РЕВОЛЬВЕР ПІД ПАТРОН ФЛОБЕРА',\n",
       " 'РЕВОЛЬВЕР ПНЕВМАТИЧНИЙ',\n",
       " 'РЕВОЛЬВЕР СИГНАЛЬНИЙ',\n",
       " 'РЕВОЛЬВЕР СТАРТОВИЙ',\n",
       " 'РУШНИЦЯ',\n",
       " 'РУШНИЦЯ ДЛЯ ПІДВОДНОГО ПОЛЮВАННЯ',\n",
       " 'РУШНИЦЯ ЗБІРНА',\n",
       " 'РУШНИЦЯ МИСЛИВСЬКА',\n",
       " 'РУШНИЦЯ ПОМПОВА',\n",
       " 'РУШНИЦЯ ПРОТИТАНКОВА',\n",
       " 'СНАРЯД',\n",
       " 'СТВОЛ ДЕТАЛЬ',\n",
       " 'СТВОЛЬНА КОРОБКА ДЕТАЛЬ',\n",
       " 'ШАБЛЯ',\n",
       " 'ШАШКА',\n",
       " 'ШТИК',\n",
       " 'ШТИК НІЖ'}"
      ]
     },
     "execution_count": 51,
     "metadata": {},
     "output_type": "execute_result"
    }
   ],
   "source": [
    "# Looking through unique values of a \"weaponkind\" variable\n",
    "set(df['weaponkind'])"
   ]
  },
  {
   "cell_type": "code",
   "execution_count": 52,
   "id": "119edddd-43ee-47f3-83da-20f7fa3484b2",
   "metadata": {
    "tags": []
   },
   "outputs": [],
   "source": [
    "# Temporary Series objects below will be later used to populate DataFrame \n",
    "bladed = pd.Series([\n",
    "    'КИНДЖАЛ',\n",
    "    'КОРТИК',\n",
    "    'МЕЧ',\n",
    "    'НІЖ МИСЛИВСЬКИЙ',\n",
    "    'НІЖ',\n",
    "    'ШАБЛЯ',\n",
    "    'ШАШКА',\n",
    "    'ШТИК НІЖ',\n",
    "    'ШТИК'\n",
    "])\n",
    "handguns = pd.Series([\n",
    "    'ПІСТОЛЕТ ГАЗОВИЙ', \n",
    "    'ПІСТОЛЕТ КУЛЕМЕТ',\n",
    "    'ПІСТОЛЕТ МК',\n",
    "    'ПІСТОЛЕТ ПІД ГУМОВУ КУЛЮ',\n",
    "    'ПІСТОЛЕТ САМОРОБНИЙ',\n",
    "    'ПІСТОЛЕТ СИГНАЛЬНИЙ',\n",
    "    'ПІСТОЛЕТ СТАРТОВИЙ',\n",
    "    'ПІСТОЛЕТ',\n",
    "    'РЕВОЛЬВЕР ГАЗОВИЙ',\n",
    "    'РЕВОЛЬВЕР ГАЗОВОДРОБОВИЙ',\n",
    "    'РЕВОЛЬВЕР ПІД ГУМОВУ КУЛЮ',\n",
    "    'РЕВОЛЬВЕР СИГНАЛЬНИЙ',\n",
    "    'РЕВОЛЬВЕР СТАРТОВИЙ',\n",
    "    'РЕВОЛЬВЕР',\n",
    "    'ПІСТОЛЕТ АВТОРУЧКА'\n",
    "])\n",
    "lfirearms = pd.Series([\n",
    "    'АВТОМАТ',\n",
    "    'ГВИНТІВКА МК',\n",
    "    'ГВИНТІВКА',\n",
    "    'КАРАБІН',\n",
    "    'ОБРІЗ ГВИНТІВКИ МК',\n",
    "    'ОБРІЗ ГВИНТІВКИ',\n",
    "    'ОБРІЗ КАРАБІНА',\n",
    "    'ОБРІЗ РУШНИЦІ',\n",
    "    'РУШНИЦЯ ЗБІРНА',\n",
    "    'РУШНИЦЯ МИСЛИВСЬКА',\n",
    "    'РУШНИЦЯ ПОМПОВА',\n",
    "    'РУШНИЦЯ'\n",
    "])\n",
    "hfirearms = pd.Series([\n",
    "    'ГАРМАТА АВТОМАТИЧНА',\n",
    "    'ГАРМАТА',\n",
    "    'КУЛЕМЕТ СТАНКОВИЙ',\n",
    "    'КУЛЕМЕТ',\n",
    "    'РУШНИЦЯ ПРОТИТАНКОВА'\n",
    "])\n",
    "pneaumaticflob = pd.Series([\n",
    "    'ГВИНТІВКА ПНЕВМАТИЧНА',\n",
    "    'КАРАБІН ПІД ПАТРОН ФЛОБЕРА',\n",
    "    'ПІСТОЛЕТ ПІД ПАТРОН ФЛОБЕРА',\n",
    "    'ПІСТОЛЕТ ПНЕВМАТИЧНИЙ',\n",
    "    'РЕВОЛЬВЕР ПІД ПАТРОН ФЛОБЕРА',\n",
    "    'РЕВОЛЬВЕР ПНЕВМАТИЧНИЙ'\n",
    "]) \n",
    "artillery = pd.Series([\n",
    "    'ГРАНАТОМЕТ',\n",
    "    'МІНОМЕТ',\n",
    "    'ПЗРК',\n",
    "    'ПТРК',\n",
    "    'РАКЕТНИЦЯ',\n",
    "    'ПУСКОВІ УСТАНОВКИ',\n",
    "    'ЗЕНІТНА УСТАНОВКА'\n",
    "])\n",
    "explosives = pd.Series([\n",
    "    'ВИБУХОВІ РЕЧОВИНИ',\n",
    "    'ГРАНАТА',\n",
    "    'РАКЕТА',\n",
    "    'СНАРЯД'\n",
    "])\n",
    "other = pd.Series([\n",
    "    'ДЕТАЛІ',\n",
    "    'ЗАПАЛ',\n",
    "    'ЗАТВОР ДЕТАЛЬ',\n",
    "    'ІНШІ ДЕТАЛІ ЗБРОЇ',\n",
    "    'МАГАЗИН ПІСТОЛЕТНИЙ',\n",
    "    'МАГАЗИН',\n",
    "    'НАБОЇ БОЄВІ',\n",
    "    'ПРИЦІЛ ОПТИЧНИЙ',\n",
    "    'РАМКА ДЕТАЛЬ',\n",
    "    'СТВОЛ ДЕТАЛЬ',\n",
    "    'СТВОЛЬНА КОРОБКА ДЕТАЛЬ',\n",
    "    'АРБАЛЕТ',\n",
    "    'РУШНИЦЯ ДЛЯ ПІДВОДНОГО ПОЛЮВАННЯ',\n",
    "    'АВТОМАТ УЧБОВИЙ',\n",
    "    'ГВИНТІВКА УЧБОВА',\n",
    "    'КАРАБІН УЧБОВИЙ',\n",
    "    'КУЛЕМЕТ УЧБОВИЙ',\n",
    "    'ПІСТОЛЕТ МОНТАЖНИЙ',\n",
    "    'ПІСТОЛЕТ УЧБОВИЙ',\n",
    "    'КИСТЕНЬ'\n",
    "])"
   ]
  },
  {
   "cell_type": "code",
   "execution_count": 53,
   "id": "d4cdbb50-5ba3-47d8-90c6-5aa0ffa45cb5",
   "metadata": {},
   "outputs": [
    {
     "data": {
      "text/html": [
       "<div>\n",
       "<style scoped>\n",
       "    .dataframe tbody tr th:only-of-type {\n",
       "        vertical-align: middle;\n",
       "    }\n",
       "\n",
       "    .dataframe tbody tr th {\n",
       "        vertical-align: top;\n",
       "    }\n",
       "\n",
       "    .dataframe thead th {\n",
       "        text-align: right;\n",
       "    }\n",
       "</style>\n",
       "<table border=\"1\" class=\"dataframe\">\n",
       "  <thead>\n",
       "    <tr style=\"text-align: right;\">\n",
       "      <th></th>\n",
       "      <th>Bladed</th>\n",
       "      <th>Handguns</th>\n",
       "      <th>Light firearms</th>\n",
       "      <th>Heavy firearms</th>\n",
       "      <th>Pneumatic&amp;Flobert</th>\n",
       "      <th>Artillery</th>\n",
       "      <th>Explosives</th>\n",
       "      <th>Other</th>\n",
       "    </tr>\n",
       "  </thead>\n",
       "  <tbody>\n",
       "    <tr>\n",
       "      <th>0</th>\n",
       "      <td>КИНДЖАЛ</td>\n",
       "      <td>ПІСТОЛЕТ ГАЗОВИЙ</td>\n",
       "      <td>АВТОМАТ</td>\n",
       "      <td>ГАРМАТА АВТОМАТИЧНА</td>\n",
       "      <td>ГВИНТІВКА ПНЕВМАТИЧНА</td>\n",
       "      <td>ГРАНАТОМЕТ</td>\n",
       "      <td>ВИБУХОВІ РЕЧОВИНИ</td>\n",
       "      <td>ДЕТАЛІ</td>\n",
       "    </tr>\n",
       "    <tr>\n",
       "      <th>1</th>\n",
       "      <td>КОРТИК</td>\n",
       "      <td>ПІСТОЛЕТ КУЛЕМЕТ</td>\n",
       "      <td>ГВИНТІВКА МК</td>\n",
       "      <td>ГАРМАТА</td>\n",
       "      <td>КАРАБІН ПІД ПАТРОН ФЛОБЕРА</td>\n",
       "      <td>МІНОМЕТ</td>\n",
       "      <td>ГРАНАТА</td>\n",
       "      <td>ЗАПАЛ</td>\n",
       "    </tr>\n",
       "    <tr>\n",
       "      <th>2</th>\n",
       "      <td>МЕЧ</td>\n",
       "      <td>ПІСТОЛЕТ МК</td>\n",
       "      <td>ГВИНТІВКА</td>\n",
       "      <td>КУЛЕМЕТ СТАНКОВИЙ</td>\n",
       "      <td>ПІСТОЛЕТ ПІД ПАТРОН ФЛОБЕРА</td>\n",
       "      <td>ПЗРК</td>\n",
       "      <td>РАКЕТА</td>\n",
       "      <td>ЗАТВОР ДЕТАЛЬ</td>\n",
       "    </tr>\n",
       "    <tr>\n",
       "      <th>3</th>\n",
       "      <td>НІЖ МИСЛИВСЬКИЙ</td>\n",
       "      <td>ПІСТОЛЕТ ПІД ГУМОВУ КУЛЮ</td>\n",
       "      <td>КАРАБІН</td>\n",
       "      <td>КУЛЕМЕТ</td>\n",
       "      <td>ПІСТОЛЕТ ПНЕВМАТИЧНИЙ</td>\n",
       "      <td>ПТРК</td>\n",
       "      <td>СНАРЯД</td>\n",
       "      <td>ІНШІ ДЕТАЛІ ЗБРОЇ</td>\n",
       "    </tr>\n",
       "    <tr>\n",
       "      <th>4</th>\n",
       "      <td>НІЖ</td>\n",
       "      <td>ПІСТОЛЕТ САМОРОБНИЙ</td>\n",
       "      <td>ОБРІЗ ГВИНТІВКИ МК</td>\n",
       "      <td>РУШНИЦЯ ПРОТИТАНКОВА</td>\n",
       "      <td>РЕВОЛЬВЕР ПІД ПАТРОН ФЛОБЕРА</td>\n",
       "      <td>РАКЕТНИЦЯ</td>\n",
       "      <td>NaN</td>\n",
       "      <td>МАГАЗИН ПІСТОЛЕТНИЙ</td>\n",
       "    </tr>\n",
       "    <tr>\n",
       "      <th>5</th>\n",
       "      <td>ШАБЛЯ</td>\n",
       "      <td>ПІСТОЛЕТ СИГНАЛЬНИЙ</td>\n",
       "      <td>ОБРІЗ ГВИНТІВКИ</td>\n",
       "      <td>NaN</td>\n",
       "      <td>РЕВОЛЬВЕР ПНЕВМАТИЧНИЙ</td>\n",
       "      <td>ПУСКОВІ УСТАНОВКИ</td>\n",
       "      <td>NaN</td>\n",
       "      <td>МАГАЗИН</td>\n",
       "    </tr>\n",
       "    <tr>\n",
       "      <th>6</th>\n",
       "      <td>ШАШКА</td>\n",
       "      <td>ПІСТОЛЕТ СТАРТОВИЙ</td>\n",
       "      <td>ОБРІЗ КАРАБІНА</td>\n",
       "      <td>NaN</td>\n",
       "      <td>NaN</td>\n",
       "      <td>ЗЕНІТНА УСТАНОВКА</td>\n",
       "      <td>NaN</td>\n",
       "      <td>НАБОЇ БОЄВІ</td>\n",
       "    </tr>\n",
       "    <tr>\n",
       "      <th>7</th>\n",
       "      <td>ШТИК НІЖ</td>\n",
       "      <td>ПІСТОЛЕТ</td>\n",
       "      <td>ОБРІЗ РУШНИЦІ</td>\n",
       "      <td>NaN</td>\n",
       "      <td>NaN</td>\n",
       "      <td>NaN</td>\n",
       "      <td>NaN</td>\n",
       "      <td>ПРИЦІЛ ОПТИЧНИЙ</td>\n",
       "    </tr>\n",
       "    <tr>\n",
       "      <th>8</th>\n",
       "      <td>ШТИК</td>\n",
       "      <td>РЕВОЛЬВЕР ГАЗОВИЙ</td>\n",
       "      <td>РУШНИЦЯ ЗБІРНА</td>\n",
       "      <td>NaN</td>\n",
       "      <td>NaN</td>\n",
       "      <td>NaN</td>\n",
       "      <td>NaN</td>\n",
       "      <td>РАМКА ДЕТАЛЬ</td>\n",
       "    </tr>\n",
       "    <tr>\n",
       "      <th>9</th>\n",
       "      <td>NaN</td>\n",
       "      <td>РЕВОЛЬВЕР ГАЗОВОДРОБОВИЙ</td>\n",
       "      <td>РУШНИЦЯ МИСЛИВСЬКА</td>\n",
       "      <td>NaN</td>\n",
       "      <td>NaN</td>\n",
       "      <td>NaN</td>\n",
       "      <td>NaN</td>\n",
       "      <td>СТВОЛ ДЕТАЛЬ</td>\n",
       "    </tr>\n",
       "    <tr>\n",
       "      <th>10</th>\n",
       "      <td>NaN</td>\n",
       "      <td>РЕВОЛЬВЕР ПІД ГУМОВУ КУЛЮ</td>\n",
       "      <td>РУШНИЦЯ ПОМПОВА</td>\n",
       "      <td>NaN</td>\n",
       "      <td>NaN</td>\n",
       "      <td>NaN</td>\n",
       "      <td>NaN</td>\n",
       "      <td>СТВОЛЬНА КОРОБКА ДЕТАЛЬ</td>\n",
       "    </tr>\n",
       "    <tr>\n",
       "      <th>11</th>\n",
       "      <td>NaN</td>\n",
       "      <td>РЕВОЛЬВЕР СИГНАЛЬНИЙ</td>\n",
       "      <td>РУШНИЦЯ</td>\n",
       "      <td>NaN</td>\n",
       "      <td>NaN</td>\n",
       "      <td>NaN</td>\n",
       "      <td>NaN</td>\n",
       "      <td>АРБАЛЕТ</td>\n",
       "    </tr>\n",
       "    <tr>\n",
       "      <th>12</th>\n",
       "      <td>NaN</td>\n",
       "      <td>РЕВОЛЬВЕР СТАРТОВИЙ</td>\n",
       "      <td>NaN</td>\n",
       "      <td>NaN</td>\n",
       "      <td>NaN</td>\n",
       "      <td>NaN</td>\n",
       "      <td>NaN</td>\n",
       "      <td>РУШНИЦЯ ДЛЯ ПІДВОДНОГО ПОЛЮВАННЯ</td>\n",
       "    </tr>\n",
       "    <tr>\n",
       "      <th>13</th>\n",
       "      <td>NaN</td>\n",
       "      <td>РЕВОЛЬВЕР</td>\n",
       "      <td>NaN</td>\n",
       "      <td>NaN</td>\n",
       "      <td>NaN</td>\n",
       "      <td>NaN</td>\n",
       "      <td>NaN</td>\n",
       "      <td>АВТОМАТ УЧБОВИЙ</td>\n",
       "    </tr>\n",
       "    <tr>\n",
       "      <th>14</th>\n",
       "      <td>NaN</td>\n",
       "      <td>ПІСТОЛЕТ АВТОРУЧКА</td>\n",
       "      <td>NaN</td>\n",
       "      <td>NaN</td>\n",
       "      <td>NaN</td>\n",
       "      <td>NaN</td>\n",
       "      <td>NaN</td>\n",
       "      <td>ГВИНТІВКА УЧБОВА</td>\n",
       "    </tr>\n",
       "    <tr>\n",
       "      <th>15</th>\n",
       "      <td>NaN</td>\n",
       "      <td>NaN</td>\n",
       "      <td>NaN</td>\n",
       "      <td>NaN</td>\n",
       "      <td>NaN</td>\n",
       "      <td>NaN</td>\n",
       "      <td>NaN</td>\n",
       "      <td>КАРАБІН УЧБОВИЙ</td>\n",
       "    </tr>\n",
       "    <tr>\n",
       "      <th>16</th>\n",
       "      <td>NaN</td>\n",
       "      <td>NaN</td>\n",
       "      <td>NaN</td>\n",
       "      <td>NaN</td>\n",
       "      <td>NaN</td>\n",
       "      <td>NaN</td>\n",
       "      <td>NaN</td>\n",
       "      <td>КУЛЕМЕТ УЧБОВИЙ</td>\n",
       "    </tr>\n",
       "    <tr>\n",
       "      <th>17</th>\n",
       "      <td>NaN</td>\n",
       "      <td>NaN</td>\n",
       "      <td>NaN</td>\n",
       "      <td>NaN</td>\n",
       "      <td>NaN</td>\n",
       "      <td>NaN</td>\n",
       "      <td>NaN</td>\n",
       "      <td>ПІСТОЛЕТ МОНТАЖНИЙ</td>\n",
       "    </tr>\n",
       "    <tr>\n",
       "      <th>18</th>\n",
       "      <td>NaN</td>\n",
       "      <td>NaN</td>\n",
       "      <td>NaN</td>\n",
       "      <td>NaN</td>\n",
       "      <td>NaN</td>\n",
       "      <td>NaN</td>\n",
       "      <td>NaN</td>\n",
       "      <td>ПІСТОЛЕТ УЧБОВИЙ</td>\n",
       "    </tr>\n",
       "    <tr>\n",
       "      <th>19</th>\n",
       "      <td>NaN</td>\n",
       "      <td>NaN</td>\n",
       "      <td>NaN</td>\n",
       "      <td>NaN</td>\n",
       "      <td>NaN</td>\n",
       "      <td>NaN</td>\n",
       "      <td>NaN</td>\n",
       "      <td>КИСТЕНЬ</td>\n",
       "    </tr>\n",
       "  </tbody>\n",
       "</table>\n",
       "</div>"
      ],
      "text/plain": [
       "             Bladed                   Handguns      Light firearms  \\\n",
       "0           КИНДЖАЛ           ПІСТОЛЕТ ГАЗОВИЙ             АВТОМАТ   \n",
       "1            КОРТИК           ПІСТОЛЕТ КУЛЕМЕТ        ГВИНТІВКА МК   \n",
       "2               МЕЧ                ПІСТОЛЕТ МК           ГВИНТІВКА   \n",
       "3   НІЖ МИСЛИВСЬКИЙ   ПІСТОЛЕТ ПІД ГУМОВУ КУЛЮ             КАРАБІН   \n",
       "4               НІЖ        ПІСТОЛЕТ САМОРОБНИЙ  ОБРІЗ ГВИНТІВКИ МК   \n",
       "5             ШАБЛЯ        ПІСТОЛЕТ СИГНАЛЬНИЙ     ОБРІЗ ГВИНТІВКИ   \n",
       "6             ШАШКА         ПІСТОЛЕТ СТАРТОВИЙ      ОБРІЗ КАРАБІНА   \n",
       "7          ШТИК НІЖ                   ПІСТОЛЕТ       ОБРІЗ РУШНИЦІ   \n",
       "8              ШТИК          РЕВОЛЬВЕР ГАЗОВИЙ      РУШНИЦЯ ЗБІРНА   \n",
       "9               NaN   РЕВОЛЬВЕР ГАЗОВОДРОБОВИЙ  РУШНИЦЯ МИСЛИВСЬКА   \n",
       "10              NaN  РЕВОЛЬВЕР ПІД ГУМОВУ КУЛЮ     РУШНИЦЯ ПОМПОВА   \n",
       "11              NaN       РЕВОЛЬВЕР СИГНАЛЬНИЙ             РУШНИЦЯ   \n",
       "12              NaN        РЕВОЛЬВЕР СТАРТОВИЙ                 NaN   \n",
       "13              NaN                  РЕВОЛЬВЕР                 NaN   \n",
       "14              NaN         ПІСТОЛЕТ АВТОРУЧКА                 NaN   \n",
       "15              NaN                        NaN                 NaN   \n",
       "16              NaN                        NaN                 NaN   \n",
       "17              NaN                        NaN                 NaN   \n",
       "18              NaN                        NaN                 NaN   \n",
       "19              NaN                        NaN                 NaN   \n",
       "\n",
       "          Heavy firearms             Pneumatic&Flobert          Artillery  \\\n",
       "0    ГАРМАТА АВТОМАТИЧНА         ГВИНТІВКА ПНЕВМАТИЧНА         ГРАНАТОМЕТ   \n",
       "1                ГАРМАТА    КАРАБІН ПІД ПАТРОН ФЛОБЕРА            МІНОМЕТ   \n",
       "2      КУЛЕМЕТ СТАНКОВИЙ   ПІСТОЛЕТ ПІД ПАТРОН ФЛОБЕРА               ПЗРК   \n",
       "3                КУЛЕМЕТ         ПІСТОЛЕТ ПНЕВМАТИЧНИЙ               ПТРК   \n",
       "4   РУШНИЦЯ ПРОТИТАНКОВА  РЕВОЛЬВЕР ПІД ПАТРОН ФЛОБЕРА          РАКЕТНИЦЯ   \n",
       "5                    NaN        РЕВОЛЬВЕР ПНЕВМАТИЧНИЙ  ПУСКОВІ УСТАНОВКИ   \n",
       "6                    NaN                           NaN  ЗЕНІТНА УСТАНОВКА   \n",
       "7                    NaN                           NaN                NaN   \n",
       "8                    NaN                           NaN                NaN   \n",
       "9                    NaN                           NaN                NaN   \n",
       "10                   NaN                           NaN                NaN   \n",
       "11                   NaN                           NaN                NaN   \n",
       "12                   NaN                           NaN                NaN   \n",
       "13                   NaN                           NaN                NaN   \n",
       "14                   NaN                           NaN                NaN   \n",
       "15                   NaN                           NaN                NaN   \n",
       "16                   NaN                           NaN                NaN   \n",
       "17                   NaN                           NaN                NaN   \n",
       "18                   NaN                           NaN                NaN   \n",
       "19                   NaN                           NaN                NaN   \n",
       "\n",
       "           Explosives                             Other  \n",
       "0   ВИБУХОВІ РЕЧОВИНИ                            ДЕТАЛІ  \n",
       "1             ГРАНАТА                             ЗАПАЛ  \n",
       "2              РАКЕТА                     ЗАТВОР ДЕТАЛЬ  \n",
       "3              СНАРЯД                 ІНШІ ДЕТАЛІ ЗБРОЇ  \n",
       "4                 NaN               МАГАЗИН ПІСТОЛЕТНИЙ  \n",
       "5                 NaN                           МАГАЗИН  \n",
       "6                 NaN                       НАБОЇ БОЄВІ  \n",
       "7                 NaN                   ПРИЦІЛ ОПТИЧНИЙ  \n",
       "8                 NaN                      РАМКА ДЕТАЛЬ  \n",
       "9                 NaN                      СТВОЛ ДЕТАЛЬ  \n",
       "10                NaN           СТВОЛЬНА КОРОБКА ДЕТАЛЬ  \n",
       "11                NaN                           АРБАЛЕТ  \n",
       "12                NaN  РУШНИЦЯ ДЛЯ ПІДВОДНОГО ПОЛЮВАННЯ  \n",
       "13                NaN                   АВТОМАТ УЧБОВИЙ  \n",
       "14                NaN                  ГВИНТІВКА УЧБОВА  \n",
       "15                NaN                   КАРАБІН УЧБОВИЙ  \n",
       "16                NaN                   КУЛЕМЕТ УЧБОВИЙ  \n",
       "17                NaN                ПІСТОЛЕТ МОНТАЖНИЙ  \n",
       "18                NaN                  ПІСТОЛЕТ УЧБОВИЙ  \n",
       "19                NaN                           КИСТЕНЬ  "
      ]
     },
     "execution_count": 53,
     "metadata": {},
     "output_type": "execute_result"
    }
   ],
   "source": [
    "wps_df = pd.DataFrame({\n",
    "    'Bladed':bladed,\n",
    "    'Handguns':handguns,\n",
    "    'Light firearms':lfirearms,\n",
    "    'Heavy firearms':hfirearms,\n",
    "    'Pneumatic&Flobert':pneaumaticflob,\n",
    "    'Artillery':artillery,\n",
    "    'Explosives':explosives,\n",
    "    'Other':other\n",
    "})\n",
    "wps_df"
   ]
  },
  {
   "cell_type": "code",
   "execution_count": 54,
   "id": "62b4122b",
   "metadata": {
    "code_folding": [
     0
    ]
   },
   "outputs": [
    {
     "data": {
      "text/html": [
       "<div>\n",
       "<style scoped>\n",
       "    .dataframe tbody tr th:only-of-type {\n",
       "        vertical-align: middle;\n",
       "    }\n",
       "\n",
       "    .dataframe tbody tr th {\n",
       "        vertical-align: top;\n",
       "    }\n",
       "\n",
       "    .dataframe thead th {\n",
       "        text-align: right;\n",
       "    }\n",
       "</style>\n",
       "<table border=\"1\" class=\"dataframe\">\n",
       "  <thead>\n",
       "    <tr style=\"text-align: right;\">\n",
       "      <th></th>\n",
       "      <th>weaponcategory</th>\n",
       "      <th>weaponkind</th>\n",
       "    </tr>\n",
       "  </thead>\n",
       "  <tbody>\n",
       "    <tr>\n",
       "      <th>0</th>\n",
       "      <td>Bladed</td>\n",
       "      <td>КИНДЖАЛ</td>\n",
       "    </tr>\n",
       "  </tbody>\n",
       "</table>\n",
       "</div>"
      ],
      "text/plain": [
       "  weaponcategory weaponkind\n",
       "0         Bladed    КИНДЖАЛ"
      ]
     },
     "execution_count": 54,
     "metadata": {},
     "output_type": "execute_result"
    }
   ],
   "source": [
    "# Unpivoted DataFrame\n",
    "melted_df = wps_df.melt(var_name='weaponcategory', value_name='weaponkind').dropna()\n",
    "melted_df.head(1)"
   ]
  },
  {
   "cell_type": "code",
   "execution_count": 55,
   "id": "e1f4fe06",
   "metadata": {
    "code_folding": [
     0
    ]
   },
   "outputs": [
    {
     "data": {
      "text/html": [
       "<div>\n",
       "<style scoped>\n",
       "    .dataframe tbody tr th:only-of-type {\n",
       "        vertical-align: middle;\n",
       "    }\n",
       "\n",
       "    .dataframe tbody tr th {\n",
       "        vertical-align: top;\n",
       "    }\n",
       "\n",
       "    .dataframe thead th {\n",
       "        text-align: right;\n",
       "    }\n",
       "</style>\n",
       "<table border=\"1\" class=\"dataframe\">\n",
       "  <thead>\n",
       "    <tr style=\"text-align: right;\">\n",
       "      <th></th>\n",
       "      <th>weaponnumber</th>\n",
       "      <th>weaponkind</th>\n",
       "      <th>report</th>\n",
       "      <th>insertdate</th>\n",
       "      <th>theftdate</th>\n",
       "      <th>region</th>\n",
       "      <th>weaponcategory</th>\n",
       "    </tr>\n",
       "  </thead>\n",
       "  <tbody>\n",
       "    <tr>\n",
       "      <th>0</th>\n",
       "      <td>36</td>\n",
       "      <td>РЕВОЛЬВЕР</td>\n",
       "      <td>Theft</td>\n",
       "      <td>1978-03-09</td>\n",
       "      <td>1978-03-09</td>\n",
       "      <td>Donetsk</td>\n",
       "      <td>Handguns</td>\n",
       "    </tr>\n",
       "  </tbody>\n",
       "</table>\n",
       "</div>"
      ],
      "text/plain": [
       "  weaponnumber weaponkind report insertdate  theftdate   region weaponcategory\n",
       "0           36  РЕВОЛЬВЕР  Theft 1978-03-09 1978-03-09  Donetsk       Handguns"
      ]
     },
     "execution_count": 55,
     "metadata": {},
     "output_type": "execute_result"
    }
   ],
   "source": [
    "# Adding a newly created column to the main dataframe\n",
    "mid_df = df.merge(\n",
    "    right=melted_df,\n",
    "    how='left',\n",
    "    on='weaponkind'\n",
    ")\n",
    "mid_df.head(1)"
   ]
  },
  {
   "cell_type": "code",
   "execution_count": 56,
   "id": "81c71bfa-25c4-4ca4-807a-9f6a982446cd",
   "metadata": {},
   "outputs": [
    {
     "name": "stdout",
     "output_type": "stream",
     "text": [
      "<class 'pandas.core.frame.DataFrame'>\n",
      "Int64Index: 487458 entries, 0 to 487457\n",
      "Data columns (total 7 columns):\n",
      " #   Column          Non-Null Count   Dtype         \n",
      "---  ------          --------------   -----         \n",
      " 0   weaponnumber    487458 non-null  category      \n",
      " 1   weaponkind      487458 non-null  object        \n",
      " 2   report          487458 non-null  category      \n",
      " 3   insertdate      487458 non-null  datetime64[ns]\n",
      " 4   theftdate       486861 non-null  datetime64[ns]\n",
      " 5   region          487458 non-null  category      \n",
      " 6   weaponcategory  487458 non-null  object        \n",
      "dtypes: category(3), datetime64[ns](2), object(2)\n",
      "memory usage: 133.4 MB\n"
     ]
    }
   ],
   "source": [
    "mid_df.info(memory_usage='deep', show_counts=True)"
   ]
  },
  {
   "cell_type": "code",
   "execution_count": 57,
   "id": "b94f0d3d",
   "metadata": {
    "code_folding": [
     0
    ]
   },
   "outputs": [],
   "source": [
    "# Casting values to category data type\n",
    "mid_df['weaponcategory'] = mid_df['weaponcategory'].astype('category')\n",
    "mid_df['weaponkind'] = mid_df['weaponkind'].str.capitalize().astype('category')"
   ]
  },
  {
   "cell_type": "code",
   "execution_count": 58,
   "id": "3bee5fc3-7328-4188-9a23-f02269ffe1bb",
   "metadata": {},
   "outputs": [
    {
     "data": {
      "text/plain": [
       "True"
      ]
     },
     "execution_count": 58,
     "metadata": {},
     "output_type": "execute_result"
    }
   ],
   "source": [
    "# Check for new weapon kinds, i.e. those records which do not have any weaponcategory value\n",
    "mid_df['weaponcategory'].count() == mid_df['region'].count()"
   ]
  },
  {
   "cell_type": "code",
   "execution_count": 59,
   "id": "a0c0d6da-d115-41ef-a79f-f1a217159e3c",
   "metadata": {},
   "outputs": [],
   "source": [
    "## Print weaponkinds with no respective weaponcategory\n",
    "# if mid_df['weaponcategory'].count() != mid_df['region'].count():\n",
    "#     new_weapons=set()\n",
    "#     for r in df['weaponkind'].values:\n",
    "#         if r not in pd.concat([bladed,handguns,lfirearms,hfirearms,pneaumaticflob,artillery,explosives,other], axis=0).values:\n",
    "#             new_weapons.add(r)\n",
    "#     print(new_weapons)\n",
    "# elif mid_df['weaponcategory'].count() == mid_df['region'].count():\n",
    "#     print('There are no new weapons.')"
   ]
  },
  {
   "cell_type": "markdown",
   "id": "00b783ee",
   "metadata": {},
   "source": [
    "***\n",
    "### weaponnumber  "
   ]
  },
  {
   "cell_type": "code",
   "execution_count": 60,
   "id": "269543a1",
   "metadata": {
    "code_folding": [
     0
    ]
   },
   "outputs": [
    {
     "data": {
      "text/plain": [
       "387    49\n",
       "181    47\n",
       "382    47\n",
       "145    46\n",
       "103    43\n",
       "Name: weaponnumber, dtype: int64"
      ]
     },
     "execution_count": 60,
     "metadata": {},
     "output_type": "execute_result"
    }
   ],
   "source": [
    "# Checking whether \"weaponnumber\" values are unique\n",
    "mid_df['weaponnumber'].value_counts().head()"
   ]
  },
  {
   "cell_type": "code",
   "execution_count": 61,
   "id": "b05f9eff",
   "metadata": {
    "code_folding": [
     0
    ]
   },
   "outputs": [
    {
     "data": {
      "text/html": [
       "<div>\n",
       "<style scoped>\n",
       "    .dataframe tbody tr th:only-of-type {\n",
       "        vertical-align: middle;\n",
       "    }\n",
       "\n",
       "    .dataframe tbody tr th {\n",
       "        vertical-align: top;\n",
       "    }\n",
       "\n",
       "    .dataframe thead th {\n",
       "        text-align: right;\n",
       "    }\n",
       "</style>\n",
       "<table border=\"1\" class=\"dataframe\">\n",
       "  <thead>\n",
       "    <tr style=\"text-align: right;\">\n",
       "      <th></th>\n",
       "      <th>weaponnumber</th>\n",
       "      <th>weaponkind</th>\n",
       "      <th>report</th>\n",
       "      <th>insertdate</th>\n",
       "      <th>theftdate</th>\n",
       "      <th>region</th>\n",
       "      <th>weaponcategory</th>\n",
       "    </tr>\n",
       "  </thead>\n",
       "  <tbody>\n",
       "    <tr>\n",
       "      <th>2184</th>\n",
       "      <td>387</td>\n",
       "      <td>Пістолет мк</td>\n",
       "      <td>Theft</td>\n",
       "      <td>2005-12-09</td>\n",
       "      <td>1992-12-18</td>\n",
       "      <td>Poltava</td>\n",
       "      <td>Handguns</td>\n",
       "    </tr>\n",
       "    <tr>\n",
       "      <th>10184</th>\n",
       "      <td>387</td>\n",
       "      <td>Пістолет газовий</td>\n",
       "      <td>Loss</td>\n",
       "      <td>2007-12-05</td>\n",
       "      <td>2007-12-04</td>\n",
       "      <td>Kyiv</td>\n",
       "      <td>Handguns</td>\n",
       "    </tr>\n",
       "    <tr>\n",
       "      <th>15559</th>\n",
       "      <td>387</td>\n",
       "      <td>Револьвер під гумову кулю</td>\n",
       "      <td>Loss</td>\n",
       "      <td>2010-07-20</td>\n",
       "      <td>2009-08-26</td>\n",
       "      <td>Kharkiv</td>\n",
       "      <td>Handguns</td>\n",
       "    </tr>\n",
       "    <tr>\n",
       "      <th>19665</th>\n",
       "      <td>387</td>\n",
       "      <td>Пістолет газовий</td>\n",
       "      <td>Loss</td>\n",
       "      <td>2012-03-12</td>\n",
       "      <td>2011-07-01</td>\n",
       "      <td>Luhansk</td>\n",
       "      <td>Handguns</td>\n",
       "    </tr>\n",
       "    <tr>\n",
       "      <th>24279</th>\n",
       "      <td>387</td>\n",
       "      <td>Гвинтівка</td>\n",
       "      <td>Loss</td>\n",
       "      <td>2013-04-30</td>\n",
       "      <td>2008-12-02</td>\n",
       "      <td>Kyiv</td>\n",
       "      <td>Light firearms</td>\n",
       "    </tr>\n",
       "  </tbody>\n",
       "</table>\n",
       "</div>"
      ],
      "text/plain": [
       "      weaponnumber                 weaponkind report insertdate  theftdate  \\\n",
       "2184           387                Пістолет мк  Theft 2005-12-09 1992-12-18   \n",
       "10184          387           Пістолет газовий   Loss 2007-12-05 2007-12-04   \n",
       "15559          387  Револьвер під гумову кулю   Loss 2010-07-20 2009-08-26   \n",
       "19665          387           Пістолет газовий   Loss 2012-03-12 2011-07-01   \n",
       "24279          387                  Гвинтівка   Loss 2013-04-30 2008-12-02   \n",
       "\n",
       "        region  weaponcategory  \n",
       "2184   Poltava        Handguns  \n",
       "10184     Kyiv        Handguns  \n",
       "15559  Kharkiv        Handguns  \n",
       "19665  Luhansk        Handguns  \n",
       "24279     Kyiv  Light firearms  "
      ]
     },
     "execution_count": 61,
     "metadata": {},
     "output_type": "execute_result"
    }
   ],
   "source": [
    "# Records with same \"weaponnumber\" value\n",
    "mid_df[mid_df['weaponnumber']=='387'].head()"
   ]
  },
  {
   "cell_type": "markdown",
   "id": "e719bef9",
   "metadata": {},
   "source": [
    "The __\"weaponnumber\"__ column cannot serve as an \"id\" column (records here are different despite having the same __\"weaponnumber\"__ value). Therefore, such variable will not contribute to further analysis."
   ]
  },
  {
   "cell_type": "code",
   "execution_count": 62,
   "id": "17bc0d5b",
   "metadata": {
    "code_folding": [
     0
    ]
   },
   "outputs": [
    {
     "data": {
      "text/html": [
       "<div>\n",
       "<style scoped>\n",
       "    .dataframe tbody tr th:only-of-type {\n",
       "        vertical-align: middle;\n",
       "    }\n",
       "\n",
       "    .dataframe tbody tr th {\n",
       "        vertical-align: top;\n",
       "    }\n",
       "\n",
       "    .dataframe thead th {\n",
       "        text-align: right;\n",
       "    }\n",
       "</style>\n",
       "<table border=\"1\" class=\"dataframe\">\n",
       "  <thead>\n",
       "    <tr style=\"text-align: right;\">\n",
       "      <th></th>\n",
       "      <th>weaponkind</th>\n",
       "      <th>report</th>\n",
       "      <th>insertdate</th>\n",
       "      <th>theftdate</th>\n",
       "      <th>region</th>\n",
       "      <th>weaponcategory</th>\n",
       "    </tr>\n",
       "  </thead>\n",
       "  <tbody>\n",
       "    <tr>\n",
       "      <th>487453</th>\n",
       "      <td>Рушниця мисливська</td>\n",
       "      <td>Loss</td>\n",
       "      <td>2022-10-24</td>\n",
       "      <td>2022-10-24</td>\n",
       "      <td>Kyiv</td>\n",
       "      <td>Light firearms</td>\n",
       "    </tr>\n",
       "    <tr>\n",
       "      <th>487454</th>\n",
       "      <td>Рушниця мисливська</td>\n",
       "      <td>Loss</td>\n",
       "      <td>2022-10-24</td>\n",
       "      <td>2022-10-24</td>\n",
       "      <td>Mykolaiv</td>\n",
       "      <td>Light firearms</td>\n",
       "    </tr>\n",
       "    <tr>\n",
       "      <th>487455</th>\n",
       "      <td>Рушниця мисливська</td>\n",
       "      <td>Loss</td>\n",
       "      <td>2022-10-24</td>\n",
       "      <td>2022-10-24</td>\n",
       "      <td>Kyiv</td>\n",
       "      <td>Light firearms</td>\n",
       "    </tr>\n",
       "    <tr>\n",
       "      <th>487456</th>\n",
       "      <td>Автомат</td>\n",
       "      <td>Loss</td>\n",
       "      <td>2022-10-25</td>\n",
       "      <td>2022-10-24</td>\n",
       "      <td>Sumy</td>\n",
       "      <td>Light firearms</td>\n",
       "    </tr>\n",
       "    <tr>\n",
       "      <th>487457</th>\n",
       "      <td>Автомат</td>\n",
       "      <td>Loss</td>\n",
       "      <td>2022-10-25</td>\n",
       "      <td>2022-10-24</td>\n",
       "      <td>Sumy</td>\n",
       "      <td>Light firearms</td>\n",
       "    </tr>\n",
       "  </tbody>\n",
       "</table>\n",
       "</div>"
      ],
      "text/plain": [
       "                weaponkind report insertdate  theftdate    region  \\\n",
       "487453  Рушниця мисливська   Loss 2022-10-24 2022-10-24      Kyiv   \n",
       "487454  Рушниця мисливська   Loss 2022-10-24 2022-10-24  Mykolaiv   \n",
       "487455  Рушниця мисливська   Loss 2022-10-24 2022-10-24      Kyiv   \n",
       "487456             Автомат   Loss 2022-10-25 2022-10-24      Sumy   \n",
       "487457             Автомат   Loss 2022-10-25 2022-10-24      Sumy   \n",
       "\n",
       "        weaponcategory  \n",
       "487453  Light firearms  \n",
       "487454  Light firearms  \n",
       "487455  Light firearms  \n",
       "487456  Light firearms  \n",
       "487457  Light firearms  "
      ]
     },
     "execution_count": 62,
     "metadata": {},
     "output_type": "execute_result"
    }
   ],
   "source": [
    "# Removing \"weaponnumber\" column\n",
    "mid_df = mid_df.drop('weaponnumber', axis=1).copy()\n",
    "mid_df = mid_df.reset_index(drop=True)\n",
    "mid_df.tail()"
   ]
  },
  {
   "cell_type": "code",
   "execution_count": 63,
   "id": "e904ea50-ba78-4583-8ca0-a7dbadf27719",
   "metadata": {},
   "outputs": [
    {
     "name": "stdout",
     "output_type": "stream",
     "text": [
      "<class 'pandas.core.frame.DataFrame'>\n",
      "RangeIndex: 487458 entries, 0 to 487457\n",
      "Data columns (total 6 columns):\n",
      " #   Column          Non-Null Count   Dtype         \n",
      "---  ------          --------------   -----         \n",
      " 0   weaponkind      487458 non-null  category      \n",
      " 1   report          487458 non-null  category      \n",
      " 2   insertdate      487458 non-null  datetime64[ns]\n",
      " 3   theftdate       486861 non-null  datetime64[ns]\n",
      " 4   region          487458 non-null  category      \n",
      " 5   weaponcategory  487458 non-null  category      \n",
      "dtypes: category(4), datetime64[ns](2)\n",
      "memory usage: 9.3 MB\n"
     ]
    }
   ],
   "source": [
    "mid_df.info()"
   ]
  },
  {
   "cell_type": "markdown",
   "id": "48bc7dc6",
   "metadata": {
    "tags": []
   },
   "source": [
    "***\n",
    "### date columns"
   ]
  },
  {
   "cell_type": "markdown",
   "id": "3db242f8",
   "metadata": {},
   "source": [
    "Considering that analysis requires only _theft / loss_ dates, rather than dates when a record appeared in the database, and that differences between __\"theftdate\"__ and __\"insertdate\"__ are mostly insignificant, missing values in __\"theftdate\"__ can be substituted with the corresponding __\"insertdate\"__ ones."
   ]
  },
  {
   "cell_type": "code",
   "execution_count": 64,
   "id": "8ab0d657-b749-446f-9af3-43965382bdb4",
   "metadata": {},
   "outputs": [
    {
     "data": {
      "text/html": [
       "<div>\n",
       "<style scoped>\n",
       "    .dataframe tbody tr th:only-of-type {\n",
       "        vertical-align: middle;\n",
       "    }\n",
       "\n",
       "    .dataframe tbody tr th {\n",
       "        vertical-align: top;\n",
       "    }\n",
       "\n",
       "    .dataframe thead th {\n",
       "        text-align: right;\n",
       "    }\n",
       "</style>\n",
       "<table border=\"1\" class=\"dataframe\">\n",
       "  <thead>\n",
       "    <tr style=\"text-align: right;\">\n",
       "      <th></th>\n",
       "      <th>weaponkind</th>\n",
       "      <th>report</th>\n",
       "      <th>insertdate</th>\n",
       "      <th>theftdate</th>\n",
       "      <th>region</th>\n",
       "      <th>weaponcategory</th>\n",
       "    </tr>\n",
       "  </thead>\n",
       "  <tbody>\n",
       "  </tbody>\n",
       "</table>\n",
       "</div>"
      ],
      "text/plain": [
       "Empty DataFrame\n",
       "Columns: [weaponkind, report, insertdate, theftdate, region, weaponcategory]\n",
       "Index: []"
      ]
     },
     "execution_count": 64,
     "metadata": {},
     "output_type": "execute_result"
    }
   ],
   "source": [
    "# Checking if any \"insertdate\" values don't have a proper format\n",
    "mid_df[~mid_df['insertdate'].astype('str').str.contains(r'\\d{4}-\\d{2}-\\d{2}')]"
   ]
  },
  {
   "cell_type": "code",
   "execution_count": 65,
   "id": "eaa5b41b",
   "metadata": {
    "code_folding": [
     0
    ]
   },
   "outputs": [],
   "source": [
    "# Substituting missing values with those from the adjacent column\n",
    "mid_df['theftdate'] = mid_df['theftdate'].combine_first(mid_df['insertdate'])"
   ]
  },
  {
   "cell_type": "code",
   "execution_count": 66,
   "id": "79462c2c",
   "metadata": {
    "code_folding": [
     0
    ]
   },
   "outputs": [],
   "source": [
    "# Dropping \"insertdate\" column since it is no longer needed\n",
    "mid_df = mid_df.drop('insertdate', axis=1)"
   ]
  },
  {
   "cell_type": "code",
   "execution_count": 67,
   "id": "8342a867",
   "metadata": {
    "code_folding": [
     0
    ]
   },
   "outputs": [],
   "source": [
    "# Renaming column to \"date\"\n",
    "mid_df = mid_df.rename(columns={'theftdate':'date'})"
   ]
  },
  {
   "cell_type": "code",
   "execution_count": 68,
   "id": "14fcbf6f",
   "metadata": {
    "code_folding": [
     0
    ],
    "tags": []
   },
   "outputs": [
    {
     "data": {
      "text/plain": [
       "count                           487458\n",
       "mean     2016-03-18 01:08:53.377644800\n",
       "min                1919-02-15 00:00:00\n",
       "25%                2014-05-31 00:00:00\n",
       "50%                2017-02-21 00:00:00\n",
       "75%                2020-06-17 00:00:00\n",
       "max                2022-11-28 00:00:00\n",
       "Name: date, dtype: object"
      ]
     },
     "execution_count": 68,
     "metadata": {},
     "output_type": "execute_result"
    }
   ],
   "source": [
    "mid_df['date'].describe(datetime_is_numeric=True)"
   ]
  },
  {
   "cell_type": "code",
   "execution_count": 69,
   "id": "310a0db2-78b4-42d4-a013-d32f5ef732b6",
   "metadata": {},
   "outputs": [
    {
     "data": {
      "image/png": "[encoded data removed]",
      "text/plain": [
       "<Figure size 3000x500 with 3 Axes>"
      ]
     },
     "metadata": {},
     "output_type": "display_data"
    }
   ],
   "source": [
    "f, (ax1, ax2, ax3) = plt.subplots(1, 3, figsize=(30, 5))\n",
    "\n",
    "ax1.hist(mid_df['date'], bins='rice')\n",
    "ax1.set_title('full daterange')\n",
    "\n",
    "ax2.hist(mid_df[mid_df['date']<'1991']['date'], bins='rice')\n",
    "ax2.set_title('daterange < 1991')\n",
    "\n",
    "ax3.hist(mid_df[mid_df['date']>='1991']['date'], bins='rice')\n",
    "ax3.set_title('daterange >= 1991');\n",
    "\n",
    "plt.show()"
   ]
  },
  {
   "cell_type": "markdown",
   "id": "44eb8de6-a811-4193-90b3-5bbfca47df18",
   "metadata": {},
   "source": [
    "Ukraine declared its independence on **August 24th, 1991**. Therefore, all records before that date should be excluded."
   ]
  },
  {
   "cell_type": "code",
   "execution_count": 70,
   "id": "d6e06fca",
   "metadata": {
    "code_folding": [
     0
    ],
    "scrolled": true,
    "tags": []
   },
   "outputs": [
    {
     "data": {
      "text/html": [
       "<div>\n",
       "<style scoped>\n",
       "    .dataframe tbody tr th:only-of-type {\n",
       "        vertical-align: middle;\n",
       "    }\n",
       "\n",
       "    .dataframe tbody tr th {\n",
       "        vertical-align: top;\n",
       "    }\n",
       "\n",
       "    .dataframe thead th {\n",
       "        text-align: right;\n",
       "    }\n",
       "</style>\n",
       "<table border=\"1\" class=\"dataframe\">\n",
       "  <thead>\n",
       "    <tr style=\"text-align: right;\">\n",
       "      <th></th>\n",
       "      <th>weaponkind</th>\n",
       "      <th>report</th>\n",
       "      <th>date</th>\n",
       "      <th>region</th>\n",
       "      <th>weaponcategory</th>\n",
       "    </tr>\n",
       "  </thead>\n",
       "  <tbody>\n",
       "    <tr>\n",
       "      <th>0</th>\n",
       "      <td>Револьвер</td>\n",
       "      <td>Theft</td>\n",
       "      <td>1991-08-26</td>\n",
       "      <td>Lviv</td>\n",
       "      <td>Handguns</td>\n",
       "    </tr>\n",
       "  </tbody>\n",
       "</table>\n",
       "</div>"
      ],
      "text/plain": [
       "  weaponkind report       date region weaponcategory\n",
       "0  Револьвер  Theft 1991-08-26   Lviv       Handguns"
      ]
     },
     "execution_count": 70,
     "metadata": {},
     "output_type": "execute_result"
    }
   ],
   "source": [
    "# Excluding Ukrainian SSR records from DataFrame\n",
    "mid_df = mid_df[mid_df['date'] >= '1991-08-24'].sort_values(by='date').reset_index(drop=True)\n",
    "mid_df.head(1)"
   ]
  },
  {
   "cell_type": "markdown",
   "id": "34243cf7-dd0d-49c1-af10-ff8f707199c0",
   "metadata": {},
   "source": [
    "#### date - crimean data"
   ]
  },
  {
   "cell_type": "markdown",
   "id": "91d1772d-9aaa-4a25-881c-390eab8b1bfa",
   "metadata": {
    "jp-MarkdownHeadingCollapsed": true,
    "tags": []
   },
   "source": [
    "Historical info:\n",
    ">* Russia invaded Crimea on **February 27, 2014**. \n",
    ">* On **March 24, 2014**, the Ukrainian government ordered the full withdrawal of its armed forces from Crimea, de facto losing control over all MIA records of registered weapons in the region. \n",
    ">* Based on the previous statement, all registered weapons on the Crimean peninsula are probably treated as lost or stolen. Moreover, another assumption can be made that data may have been uploaded in bulk, thus introducing some extreme outliers seen on the histograms further above."
   ]
  },
  {
   "cell_type": "code",
   "execution_count": 71,
   "id": "2ab3d5e7-6b14-49b6-b189-fccb4a15eea7",
   "metadata": {
    "tags": []
   },
   "outputs": [],
   "source": [
    "# Filtered DataFrame\n",
    "crimea = mid_df[\n",
    "    (mid_df['region']=='Simferopol')&\n",
    "    (mid_df['date']>='2014')]"
   ]
  },
  {
   "cell_type": "code",
   "execution_count": 72,
   "id": "450c91a4-2927-4359-86d8-b5c2780d1322",
   "metadata": {
    "tags": []
   },
   "outputs": [
    {
     "data": {
      "text/html": [
       "<div>\n",
       "<style scoped>\n",
       "    .dataframe tbody tr th:only-of-type {\n",
       "        vertical-align: middle;\n",
       "    }\n",
       "\n",
       "    .dataframe tbody tr th {\n",
       "        vertical-align: top;\n",
       "    }\n",
       "\n",
       "    .dataframe thead th {\n",
       "        text-align: right;\n",
       "    }\n",
       "</style>\n",
       "<table border=\"1\" class=\"dataframe\">\n",
       "  <thead>\n",
       "    <tr style=\"text-align: right;\">\n",
       "      <th></th>\n",
       "      <th>date</th>\n",
       "      <th>report</th>\n",
       "      <th>0</th>\n",
       "    </tr>\n",
       "  </thead>\n",
       "  <tbody>\n",
       "    <tr>\n",
       "      <th>0</th>\n",
       "      <td>2014-12-31</td>\n",
       "      <td>Loss</td>\n",
       "      <td>93048</td>\n",
       "    </tr>\n",
       "    <tr>\n",
       "      <th>1</th>\n",
       "      <td>2014-12-31</td>\n",
       "      <td>Theft</td>\n",
       "      <td>26426</td>\n",
       "    </tr>\n",
       "    <tr>\n",
       "      <th>2</th>\n",
       "      <td>2015-12-31</td>\n",
       "      <td>Loss</td>\n",
       "      <td>0</td>\n",
       "    </tr>\n",
       "    <tr>\n",
       "      <th>3</th>\n",
       "      <td>2015-12-31</td>\n",
       "      <td>Theft</td>\n",
       "      <td>0</td>\n",
       "    </tr>\n",
       "    <tr>\n",
       "      <th>4</th>\n",
       "      <td>2016-12-31</td>\n",
       "      <td>Loss</td>\n",
       "      <td>0</td>\n",
       "    </tr>\n",
       "    <tr>\n",
       "      <th>5</th>\n",
       "      <td>2016-12-31</td>\n",
       "      <td>Theft</td>\n",
       "      <td>0</td>\n",
       "    </tr>\n",
       "    <tr>\n",
       "      <th>6</th>\n",
       "      <td>2017-12-31</td>\n",
       "      <td>Loss</td>\n",
       "      <td>0</td>\n",
       "    </tr>\n",
       "    <tr>\n",
       "      <th>7</th>\n",
       "      <td>2017-12-31</td>\n",
       "      <td>Theft</td>\n",
       "      <td>47</td>\n",
       "    </tr>\n",
       "  </tbody>\n",
       "</table>\n",
       "</div>"
      ],
      "text/plain": [
       "        date report      0\n",
       "0 2014-12-31   Loss  93048\n",
       "1 2014-12-31  Theft  26426\n",
       "2 2015-12-31   Loss      0\n",
       "3 2015-12-31  Theft      0\n",
       "4 2016-12-31   Loss      0\n",
       "5 2016-12-31  Theft      0\n",
       "6 2017-12-31   Loss      0\n",
       "7 2017-12-31  Theft     47"
      ]
     },
     "execution_count": 72,
     "metadata": {},
     "output_type": "execute_result"
    }
   ],
   "source": [
    "crimea.groupby([pd.Grouper(key='date', freq='Y'), 'report']).size().reset_index()"
   ]
  },
  {
   "cell_type": "code",
   "execution_count": 73,
   "id": "133250db-f954-4665-9519-81223fd186cd",
   "metadata": {
    "tags": []
   },
   "outputs": [
    {
     "data": {
      "text/html": [
       "<div>\n",
       "<style scoped>\n",
       "    .dataframe tbody tr th:only-of-type {\n",
       "        vertical-align: middle;\n",
       "    }\n",
       "\n",
       "    .dataframe tbody tr th {\n",
       "        vertical-align: top;\n",
       "    }\n",
       "\n",
       "    .dataframe thead th {\n",
       "        text-align: right;\n",
       "    }\n",
       "</style>\n",
       "<table border=\"1\" class=\"dataframe\">\n",
       "  <thead>\n",
       "    <tr style=\"text-align: right;\">\n",
       "      <th></th>\n",
       "      <th>date</th>\n",
       "      <th>report</th>\n",
       "      <th>0</th>\n",
       "    </tr>\n",
       "  </thead>\n",
       "  <tbody>\n",
       "    <tr>\n",
       "      <th>0</th>\n",
       "      <td>2014-01-31</td>\n",
       "      <td>Loss</td>\n",
       "      <td>9</td>\n",
       "    </tr>\n",
       "    <tr>\n",
       "      <th>1</th>\n",
       "      <td>2014-01-31</td>\n",
       "      <td>Theft</td>\n",
       "      <td>9</td>\n",
       "    </tr>\n",
       "    <tr>\n",
       "      <th>2</th>\n",
       "      <td>2014-02-28</td>\n",
       "      <td>Loss</td>\n",
       "      <td>3</td>\n",
       "    </tr>\n",
       "    <tr>\n",
       "      <th>3</th>\n",
       "      <td>2014-02-28</td>\n",
       "      <td>Theft</td>\n",
       "      <td>5</td>\n",
       "    </tr>\n",
       "    <tr>\n",
       "      <th>4</th>\n",
       "      <td>2014-03-31</td>\n",
       "      <td>Loss</td>\n",
       "      <td>2489</td>\n",
       "    </tr>\n",
       "    <tr>\n",
       "      <th>5</th>\n",
       "      <td>2014-03-31</td>\n",
       "      <td>Theft</td>\n",
       "      <td>18489</td>\n",
       "    </tr>\n",
       "    <tr>\n",
       "      <th>6</th>\n",
       "      <td>2014-04-30</td>\n",
       "      <td>Loss</td>\n",
       "      <td>0</td>\n",
       "    </tr>\n",
       "    <tr>\n",
       "      <th>7</th>\n",
       "      <td>2014-04-30</td>\n",
       "      <td>Theft</td>\n",
       "      <td>789</td>\n",
       "    </tr>\n",
       "    <tr>\n",
       "      <th>8</th>\n",
       "      <td>2014-05-31</td>\n",
       "      <td>Loss</td>\n",
       "      <td>90547</td>\n",
       "    </tr>\n",
       "    <tr>\n",
       "      <th>9</th>\n",
       "      <td>2014-05-31</td>\n",
       "      <td>Theft</td>\n",
       "      <td>7134</td>\n",
       "    </tr>\n",
       "  </tbody>\n",
       "</table>\n",
       "</div>"
      ],
      "text/plain": [
       "        date report      0\n",
       "0 2014-01-31   Loss      9\n",
       "1 2014-01-31  Theft      9\n",
       "2 2014-02-28   Loss      3\n",
       "3 2014-02-28  Theft      5\n",
       "4 2014-03-31   Loss   2489\n",
       "5 2014-03-31  Theft  18489\n",
       "6 2014-04-30   Loss      0\n",
       "7 2014-04-30  Theft    789\n",
       "8 2014-05-31   Loss  90547\n",
       "9 2014-05-31  Theft   7134"
      ]
     },
     "execution_count": 73,
     "metadata": {},
     "output_type": "execute_result"
    }
   ],
   "source": [
    "crimea.groupby([pd.Grouper(key='date', freq='M'), 'report']).size().reset_index().head(10)"
   ]
  },
  {
   "cell_type": "code",
   "execution_count": 74,
   "id": "070824e9-0207-404a-aa03-c99577a4632e",
   "metadata": {
    "tags": []
   },
   "outputs": [
    {
     "data": {
      "text/html": [
       "<div>\n",
       "<style scoped>\n",
       "    .dataframe tbody tr th:only-of-type {\n",
       "        vertical-align: middle;\n",
       "    }\n",
       "\n",
       "    .dataframe tbody tr th {\n",
       "        vertical-align: top;\n",
       "    }\n",
       "\n",
       "    .dataframe thead th {\n",
       "        text-align: right;\n",
       "    }\n",
       "</style>\n",
       "<table border=\"1\" class=\"dataframe\">\n",
       "  <thead>\n",
       "    <tr style=\"text-align: right;\">\n",
       "      <th></th>\n",
       "      <th>date</th>\n",
       "      <th>report</th>\n",
       "      <th>0</th>\n",
       "    </tr>\n",
       "  </thead>\n",
       "  <tbody>\n",
       "    <tr>\n",
       "      <th>123</th>\n",
       "      <td>2014-03-03</td>\n",
       "      <td>Theft</td>\n",
       "      <td>1</td>\n",
       "    </tr>\n",
       "    <tr>\n",
       "      <th>128</th>\n",
       "      <td>2014-03-06</td>\n",
       "      <td>Loss</td>\n",
       "      <td>1</td>\n",
       "    </tr>\n",
       "    <tr>\n",
       "      <th>132</th>\n",
       "      <td>2014-03-08</td>\n",
       "      <td>Loss</td>\n",
       "      <td>1</td>\n",
       "    </tr>\n",
       "    <tr>\n",
       "      <th>138</th>\n",
       "      <td>2014-03-11</td>\n",
       "      <td>Loss</td>\n",
       "      <td>1</td>\n",
       "    </tr>\n",
       "    <tr>\n",
       "      <th>176</th>\n",
       "      <td>2014-03-30</td>\n",
       "      <td>Loss</td>\n",
       "      <td>1</td>\n",
       "    </tr>\n",
       "    <tr>\n",
       "      <th>178</th>\n",
       "      <td>2014-03-31</td>\n",
       "      <td>Loss</td>\n",
       "      <td>2485</td>\n",
       "    </tr>\n",
       "    <tr>\n",
       "      <th>179</th>\n",
       "      <td>2014-03-31</td>\n",
       "      <td>Theft</td>\n",
       "      <td>18488</td>\n",
       "    </tr>\n",
       "    <tr>\n",
       "      <th>181</th>\n",
       "      <td>2014-04-01</td>\n",
       "      <td>Theft</td>\n",
       "      <td>789</td>\n",
       "    </tr>\n",
       "    <tr>\n",
       "      <th>300</th>\n",
       "      <td>2014-05-31</td>\n",
       "      <td>Loss</td>\n",
       "      <td>90547</td>\n",
       "    </tr>\n",
       "    <tr>\n",
       "      <th>301</th>\n",
       "      <td>2014-05-31</td>\n",
       "      <td>Theft</td>\n",
       "      <td>7134</td>\n",
       "    </tr>\n",
       "    <tr>\n",
       "      <th>2453</th>\n",
       "      <td>2017-05-11</td>\n",
       "      <td>Theft</td>\n",
       "      <td>47</td>\n",
       "    </tr>\n",
       "  </tbody>\n",
       "</table>\n",
       "</div>"
      ],
      "text/plain": [
       "           date report      0\n",
       "123  2014-03-03  Theft      1\n",
       "128  2014-03-06   Loss      1\n",
       "132  2014-03-08   Loss      1\n",
       "138  2014-03-11   Loss      1\n",
       "176  2014-03-30   Loss      1\n",
       "178  2014-03-31   Loss   2485\n",
       "179  2014-03-31  Theft  18488\n",
       "181  2014-04-01  Theft    789\n",
       "300  2014-05-31   Loss  90547\n",
       "301  2014-05-31  Theft   7134\n",
       "2453 2017-05-11  Theft     47"
      ]
     },
     "execution_count": 74,
     "metadata": {},
     "output_type": "execute_result"
    }
   ],
   "source": [
    "# Grouped days, after 2014-02-27, where record counts are > 0\n",
    "crimea = crimea.groupby([pd.Grouper(key='date', freq='D'), 'report']).size().reset_index()\n",
    "crimea[\n",
    "    (crimea['date']>='2014-03-01')&\n",
    "    (crimea.iloc[:,-1]!=0)\n",
    "].head(20)"
   ]
  },
  {
   "cell_type": "markdown",
   "id": "8c466136-250d-44ee-9749-9ee005c42002",
   "metadata": {},
   "source": [
    "While presence of records for **2014** can by justified by the fact that 'registered weapons' data was still updating, records for **2017** (3 years after annexation) seem odd. "
   ]
  },
  {
   "cell_type": "code",
   "execution_count": 75,
   "id": "d6a28b5b-0cd0-4e6c-af0d-5108bf84bea1",
   "metadata": {
    "tags": []
   },
   "outputs": [],
   "source": [
    "# Filtered DataFrame with raw records\n",
    "crimea = pre_df[pre_df['organunit'].str.contains(regx_acenters['Simferopol'])].copy()\n",
    "crimea['theftdate'] = pd.to_datetime(crimea['theftdate'],utc=True)\n",
    "crimea['insertdate'] = pd.to_datetime(crimea['insertdate'],utc=True)"
   ]
  },
  {
   "cell_type": "code",
   "execution_count": 76,
   "id": "ebe18425-85c1-4921-a772-a75a6fcca304",
   "metadata": {
    "tags": []
   },
   "outputs": [
    {
     "data": {
      "text/html": [
       "<div>\n",
       "<style scoped>\n",
       "    .dataframe tbody tr th:only-of-type {\n",
       "        vertical-align: middle;\n",
       "    }\n",
       "\n",
       "    .dataframe tbody tr th {\n",
       "        vertical-align: top;\n",
       "    }\n",
       "\n",
       "    .dataframe thead th {\n",
       "        text-align: right;\n",
       "    }\n",
       "</style>\n",
       "<table border=\"1\" class=\"dataframe\">\n",
       "  <thead>\n",
       "    <tr style=\"text-align: right;\">\n",
       "      <th></th>\n",
       "      <th>weaponnumber</th>\n",
       "      <th>weaponkind</th>\n",
       "      <th>organunit</th>\n",
       "      <th>reasonsearch</th>\n",
       "      <th>insertdate</th>\n",
       "      <th>theftdate</th>\n",
       "    </tr>\n",
       "  </thead>\n",
       "  <tbody>\n",
       "    <tr>\n",
       "      <th>383164</th>\n",
       "      <td>3089</td>\n",
       "      <td>ПІСТОЛЕТ</td>\n",
       "      <td>ГОЛОВНЕ УПРАВЛІННЯ НАЦІОНАЛЬНОЇ ПОЛІЦІЇ В АВТОНОМНІЙ РЕСПУБЛІЦІ КРИМ ТА М. СЕВАСТОПОЛІ</td>\n",
       "      <td>ВИКРАДЕННЯ</td>\n",
       "      <td>2020-12-21 00:00:00+00:00</td>\n",
       "      <td>2017-05-11 00:00:00+00:00</td>\n",
       "    </tr>\n",
       "    <tr>\n",
       "      <th>383165</th>\n",
       "      <td>3297</td>\n",
       "      <td>ПІСТОЛЕТ</td>\n",
       "      <td>ГОЛОВНЕ УПРАВЛІННЯ НАЦІОНАЛЬНОЇ ПОЛІЦІЇ В АВТОНОМНІЙ РЕСПУБЛІЦІ КРИМ ТА М. СЕВАСТОПОЛІ</td>\n",
       "      <td>ВИКРАДЕННЯ</td>\n",
       "      <td>2020-12-21 00:00:00+00:00</td>\n",
       "      <td>2017-05-11 00:00:00+00:00</td>\n",
       "    </tr>\n",
       "    <tr>\n",
       "      <th>384732</th>\n",
       "      <td>2309</td>\n",
       "      <td>ПІСТОЛЕТ</td>\n",
       "      <td>ГОЛОВНЕ УПРАВЛІННЯ НАЦІОНАЛЬНОЇ ПОЛІЦІЇ В АВТОНОМНІЙ РЕСПУБЛІЦІ КРИМ ТА М. СЕВАСТОПОЛІ</td>\n",
       "      <td>ВИКРАДЕННЯ</td>\n",
       "      <td>2020-12-21 00:00:00+00:00</td>\n",
       "      <td>2017-05-11 00:00:00+00:00</td>\n",
       "    </tr>\n",
       "    <tr>\n",
       "      <th>385539</th>\n",
       "      <td>3087</td>\n",
       "      <td>ПІСТОЛЕТ</td>\n",
       "      <td>ГОЛОВНЕ УПРАВЛІННЯ НАЦІОНАЛЬНОЇ ПОЛІЦІЇ В АВТОНОМНІЙ РЕСПУБЛІЦІ КРИМ ТА М. СЕВАСТОПОЛІ</td>\n",
       "      <td>ВИКРАДЕННЯ</td>\n",
       "      <td>2020-12-21 00:00:00+00:00</td>\n",
       "      <td>2017-05-11 00:00:00+00:00</td>\n",
       "    </tr>\n",
       "    <tr>\n",
       "      <th>381770</th>\n",
       "      <td>3051</td>\n",
       "      <td>ПІСТОЛЕТ</td>\n",
       "      <td>ГОЛОВНЕ УПРАВЛІННЯ НАЦІОНАЛЬНОЇ ПОЛІЦІЇ В АВТОНОМНІЙ РЕСПУБЛІЦІ КРИМ ТА М. СЕВАСТОПОЛІ</td>\n",
       "      <td>ВИКРАДЕННЯ</td>\n",
       "      <td>2020-12-22 00:00:00+00:00</td>\n",
       "      <td>2017-05-11 00:00:00+00:00</td>\n",
       "    </tr>\n",
       "    <tr>\n",
       "      <th>381772</th>\n",
       "      <td>0033</td>\n",
       "      <td>ПІСТОЛЕТ</td>\n",
       "      <td>ГОЛОВНЕ УПРАВЛІННЯ НАЦІОНАЛЬНОЇ ПОЛІЦІЇ В АВТОНОМНІЙ РЕСПУБЛІЦІ КРИМ ТА М. СЕВАСТОПОЛІ</td>\n",
       "      <td>ВИКРАДЕННЯ</td>\n",
       "      <td>2020-12-22 00:00:00+00:00</td>\n",
       "      <td>2017-05-11 00:00:00+00:00</td>\n",
       "    </tr>\n",
       "    <tr>\n",
       "      <th>381773</th>\n",
       "      <td>4582</td>\n",
       "      <td>ПІСТОЛЕТ</td>\n",
       "      <td>ГОЛОВНЕ УПРАВЛІННЯ НАЦІОНАЛЬНОЇ ПОЛІЦІЇ В АВТОНОМНІЙ РЕСПУБЛІЦІ КРИМ ТА М. СЕВАСТОПОЛІ</td>\n",
       "      <td>ВИКРАДЕННЯ</td>\n",
       "      <td>2020-12-22 00:00:00+00:00</td>\n",
       "      <td>2017-05-11 00:00:00+00:00</td>\n",
       "    </tr>\n",
       "    <tr>\n",
       "      <th>381774</th>\n",
       "      <td>3130</td>\n",
       "      <td>ПІСТОЛЕТ</td>\n",
       "      <td>ГОЛОВНЕ УПРАВЛІННЯ НАЦІОНАЛЬНОЇ ПОЛІЦІЇ В АВТОНОМНІЙ РЕСПУБЛІЦІ КРИМ ТА М. СЕВАСТОПОЛІ</td>\n",
       "      <td>ВИКРАДЕННЯ</td>\n",
       "      <td>2020-12-22 00:00:00+00:00</td>\n",
       "      <td>2017-05-11 00:00:00+00:00</td>\n",
       "    </tr>\n",
       "    <tr>\n",
       "      <th>381775</th>\n",
       "      <td>4827</td>\n",
       "      <td>ПІСТОЛЕТ</td>\n",
       "      <td>ГОЛОВНЕ УПРАВЛІННЯ НАЦІОНАЛЬНОЇ ПОЛІЦІЇ В АВТОНОМНІЙ РЕСПУБЛІЦІ КРИМ ТА М. СЕВАСТОПОЛІ</td>\n",
       "      <td>ВИКРАДЕННЯ</td>\n",
       "      <td>2020-12-22 00:00:00+00:00</td>\n",
       "      <td>2017-05-11 00:00:00+00:00</td>\n",
       "    </tr>\n",
       "    <tr>\n",
       "      <th>381776</th>\n",
       "      <td>4957</td>\n",
       "      <td>ПІСТОЛЕТ</td>\n",
       "      <td>ГОЛОВНЕ УПРАВЛІННЯ НАЦІОНАЛЬНОЇ ПОЛІЦІЇ В АВТОНОМНІЙ РЕСПУБЛІЦІ КРИМ ТА М. СЕВАСТОПОЛІ</td>\n",
       "      <td>ВИКРАДЕННЯ</td>\n",
       "      <td>2020-12-22 00:00:00+00:00</td>\n",
       "      <td>2017-05-11 00:00:00+00:00</td>\n",
       "    </tr>\n",
       "  </tbody>\n",
       "</table>\n",
       "</div>"
      ],
      "text/plain": [
       "       weaponnumber weaponkind  \\\n",
       "383164         3089   ПІСТОЛЕТ   \n",
       "383165         3297   ПІСТОЛЕТ   \n",
       "384732         2309   ПІСТОЛЕТ   \n",
       "385539         3087   ПІСТОЛЕТ   \n",
       "381770         3051   ПІСТОЛЕТ   \n",
       "381772         0033   ПІСТОЛЕТ   \n",
       "381773         4582   ПІСТОЛЕТ   \n",
       "381774         3130   ПІСТОЛЕТ   \n",
       "381775         4827   ПІСТОЛЕТ   \n",
       "381776         4957   ПІСТОЛЕТ   \n",
       "\n",
       "                                                                                     organunit  \\\n",
       "383164  ГОЛОВНЕ УПРАВЛІННЯ НАЦІОНАЛЬНОЇ ПОЛІЦІЇ В АВТОНОМНІЙ РЕСПУБЛІЦІ КРИМ ТА М. СЕВАСТОПОЛІ   \n",
       "383165  ГОЛОВНЕ УПРАВЛІННЯ НАЦІОНАЛЬНОЇ ПОЛІЦІЇ В АВТОНОМНІЙ РЕСПУБЛІЦІ КРИМ ТА М. СЕВАСТОПОЛІ   \n",
       "384732  ГОЛОВНЕ УПРАВЛІННЯ НАЦІОНАЛЬНОЇ ПОЛІЦІЇ В АВТОНОМНІЙ РЕСПУБЛІЦІ КРИМ ТА М. СЕВАСТОПОЛІ   \n",
       "385539  ГОЛОВНЕ УПРАВЛІННЯ НАЦІОНАЛЬНОЇ ПОЛІЦІЇ В АВТОНОМНІЙ РЕСПУБЛІЦІ КРИМ ТА М. СЕВАСТОПОЛІ   \n",
       "381770  ГОЛОВНЕ УПРАВЛІННЯ НАЦІОНАЛЬНОЇ ПОЛІЦІЇ В АВТОНОМНІЙ РЕСПУБЛІЦІ КРИМ ТА М. СЕВАСТОПОЛІ   \n",
       "381772  ГОЛОВНЕ УПРАВЛІННЯ НАЦІОНАЛЬНОЇ ПОЛІЦІЇ В АВТОНОМНІЙ РЕСПУБЛІЦІ КРИМ ТА М. СЕВАСТОПОЛІ   \n",
       "381773  ГОЛОВНЕ УПРАВЛІННЯ НАЦІОНАЛЬНОЇ ПОЛІЦІЇ В АВТОНОМНІЙ РЕСПУБЛІЦІ КРИМ ТА М. СЕВАСТОПОЛІ   \n",
       "381774  ГОЛОВНЕ УПРАВЛІННЯ НАЦІОНАЛЬНОЇ ПОЛІЦІЇ В АВТОНОМНІЙ РЕСПУБЛІЦІ КРИМ ТА М. СЕВАСТОПОЛІ   \n",
       "381775  ГОЛОВНЕ УПРАВЛІННЯ НАЦІОНАЛЬНОЇ ПОЛІЦІЇ В АВТОНОМНІЙ РЕСПУБЛІЦІ КРИМ ТА М. СЕВАСТОПОЛІ   \n",
       "381776  ГОЛОВНЕ УПРАВЛІННЯ НАЦІОНАЛЬНОЇ ПОЛІЦІЇ В АВТОНОМНІЙ РЕСПУБЛІЦІ КРИМ ТА М. СЕВАСТОПОЛІ   \n",
       "\n",
       "       reasonsearch                insertdate                 theftdate  \n",
       "383164   ВИКРАДЕННЯ 2020-12-21 00:00:00+00:00 2017-05-11 00:00:00+00:00  \n",
       "383165   ВИКРАДЕННЯ 2020-12-21 00:00:00+00:00 2017-05-11 00:00:00+00:00  \n",
       "384732   ВИКРАДЕННЯ 2020-12-21 00:00:00+00:00 2017-05-11 00:00:00+00:00  \n",
       "385539   ВИКРАДЕННЯ 2020-12-21 00:00:00+00:00 2017-05-11 00:00:00+00:00  \n",
       "381770   ВИКРАДЕННЯ 2020-12-22 00:00:00+00:00 2017-05-11 00:00:00+00:00  \n",
       "381772   ВИКРАДЕННЯ 2020-12-22 00:00:00+00:00 2017-05-11 00:00:00+00:00  \n",
       "381773   ВИКРАДЕННЯ 2020-12-22 00:00:00+00:00 2017-05-11 00:00:00+00:00  \n",
       "381774   ВИКРАДЕННЯ 2020-12-22 00:00:00+00:00 2017-05-11 00:00:00+00:00  \n",
       "381775   ВИКРАДЕННЯ 2020-12-22 00:00:00+00:00 2017-05-11 00:00:00+00:00  \n",
       "381776   ВИКРАДЕННЯ 2020-12-22 00:00:00+00:00 2017-05-11 00:00:00+00:00  "
      ]
     },
     "execution_count": 76,
     "metadata": {},
     "output_type": "execute_result"
    }
   ],
   "source": [
    "crimea = crimea[\n",
    "    (crimea['theftdate']>'2014')|\n",
    "    (crimea['insertdate']>'2014')\n",
    "].sort_values(['theftdate','insertdate'])\n",
    "crimea.nlargest(10,'theftdate')"
   ]
  },
  {
   "cell_type": "markdown",
   "id": "6cd9ab0c-612b-42a7-bc6b-9f0fd88be8a6",
   "metadata": {},
   "source": [
    "It appears that **2017** records may have been a part of another update.<br>Therefore, since 'date' values after **March 24, 2014** are merely indicators of when the updates occured, all 'update' dates can be replaced with **March 24, 2014**."
   ]
  },
  {
   "cell_type": "code",
   "execution_count": 77,
   "id": "ba073b3c-6ec6-4498-a075-f82c069c58e9",
   "metadata": {},
   "outputs": [],
   "source": [
    "del crimea"
   ]
  },
  {
   "cell_type": "code",
   "execution_count": 78,
   "id": "7a37bb55-703f-4b2f-9bf7-5347757e35fe",
   "metadata": {},
   "outputs": [
    {
     "data": {
      "text/plain": [
       "58855"
      ]
     },
     "execution_count": 78,
     "metadata": {},
     "output_type": "execute_result"
    }
   ],
   "source": [
    "# Storing 'argwhere' arrays in a variable\n",
    "cond_args = np.argwhere([(mid_df.loc[:,'region']=='Simferopol') & (mid_df.loc[:,'date']>='2014-03-25')])\n",
    "cond_args[0][1]"
   ]
  },
  {
   "cell_type": "code",
   "execution_count": 79,
   "id": "2ac0c266-a1c8-4bb1-8095-5cf0c1e11a9c",
   "metadata": {},
   "outputs": [
    {
     "data": {
      "text/plain": [
       "Timestamp('2014-03-30 00:00:00')"
      ]
     },
     "execution_count": 79,
     "metadata": {},
     "output_type": "execute_result"
    }
   ],
   "source": [
    "mid_df.loc[cond_args[0][1], 'date']"
   ]
  },
  {
   "cell_type": "code",
   "execution_count": 80,
   "id": "495a652d-820f-4f4f-bf4f-16f945f3784d",
   "metadata": {},
   "outputs": [],
   "source": [
    "# Overwriting main dataframe values with '2014-03-24', using 'cond_args' indexes\n",
    "for _, index in cond_args:\n",
    "    mid_df.loc[index, 'date'] = pd.to_datetime('2014-03-24')"
   ]
  },
  {
   "cell_type": "code",
   "execution_count": 81,
   "id": "6f3f4f8d-932a-44b3-83eb-748ac91a2f5f",
   "metadata": {},
   "outputs": [
    {
     "data": {
      "text/plain": [
       "Timestamp('2014-03-24 00:00:00')"
      ]
     },
     "execution_count": 81,
     "metadata": {},
     "output_type": "execute_result"
    }
   ],
   "source": [
    "mid_df.loc[cond_args[0][1], 'date']"
   ]
  },
  {
   "cell_type": "code",
   "execution_count": 82,
   "id": "4dbe458d-0a9f-42ce-aab1-dd18392cd59c",
   "metadata": {},
   "outputs": [
    {
     "data": {
      "text/html": [
       "<div>\n",
       "<style scoped>\n",
       "    .dataframe tbody tr th:only-of-type {\n",
       "        vertical-align: middle;\n",
       "    }\n",
       "\n",
       "    .dataframe tbody tr th {\n",
       "        vertical-align: top;\n",
       "    }\n",
       "\n",
       "    .dataframe thead th {\n",
       "        text-align: right;\n",
       "    }\n",
       "</style>\n",
       "<table border=\"1\" class=\"dataframe\">\n",
       "  <thead>\n",
       "    <tr style=\"text-align: right;\">\n",
       "      <th></th>\n",
       "      <th>date</th>\n",
       "      <th>report</th>\n",
       "      <th>0</th>\n",
       "    </tr>\n",
       "  </thead>\n",
       "  <tbody>\n",
       "    <tr>\n",
       "      <th>16487</th>\n",
       "      <td>2014-03-22</td>\n",
       "      <td>Theft</td>\n",
       "      <td>0</td>\n",
       "    </tr>\n",
       "    <tr>\n",
       "      <th>16488</th>\n",
       "      <td>2014-03-23</td>\n",
       "      <td>Loss</td>\n",
       "      <td>0</td>\n",
       "    </tr>\n",
       "    <tr>\n",
       "      <th>16489</th>\n",
       "      <td>2014-03-23</td>\n",
       "      <td>Theft</td>\n",
       "      <td>0</td>\n",
       "    </tr>\n",
       "    <tr>\n",
       "      <th>16490</th>\n",
       "      <td>2014-03-24</td>\n",
       "      <td>Loss</td>\n",
       "      <td>93033</td>\n",
       "    </tr>\n",
       "    <tr>\n",
       "      <th>16491</th>\n",
       "      <td>2014-03-24</td>\n",
       "      <td>Theft</td>\n",
       "      <td>26458</td>\n",
       "    </tr>\n",
       "  </tbody>\n",
       "</table>\n",
       "</div>"
      ],
      "text/plain": [
       "            date report      0\n",
       "16487 2014-03-22  Theft      0\n",
       "16488 2014-03-23   Loss      0\n",
       "16489 2014-03-23  Theft      0\n",
       "16490 2014-03-24   Loss  93033\n",
       "16491 2014-03-24  Theft  26458"
      ]
     },
     "execution_count": 82,
     "metadata": {},
     "output_type": "execute_result"
    }
   ],
   "source": [
    "mid_df[mid_df['region']=='Simferopol'].groupby([pd.Grouper(key='date', freq='D'), 'report']).size().reset_index().tail()"
   ]
  },
  {
   "cell_type": "code",
   "execution_count": 83,
   "id": "8c7d0336-5024-4bb8-8efc-60cea5a7e5e6",
   "metadata": {},
   "outputs": [
    {
     "data": {
      "text/html": [
       "<div>\n",
       "<style scoped>\n",
       "    .dataframe tbody tr th:only-of-type {\n",
       "        vertical-align: middle;\n",
       "    }\n",
       "\n",
       "    .dataframe tbody tr th {\n",
       "        vertical-align: top;\n",
       "    }\n",
       "\n",
       "    .dataframe thead th {\n",
       "        text-align: right;\n",
       "    }\n",
       "</style>\n",
       "<table border=\"1\" class=\"dataframe\">\n",
       "  <thead>\n",
       "    <tr style=\"text-align: right;\">\n",
       "      <th></th>\n",
       "      <th>weaponkind</th>\n",
       "      <th>report</th>\n",
       "      <th>date</th>\n",
       "      <th>region</th>\n",
       "      <th>weaponcategory</th>\n",
       "    </tr>\n",
       "  </thead>\n",
       "  <tbody>\n",
       "    <tr>\n",
       "      <th>0</th>\n",
       "      <td>Револьвер</td>\n",
       "      <td>Theft</td>\n",
       "      <td>1991-08-26</td>\n",
       "      <td>Lviv</td>\n",
       "      <td>Handguns</td>\n",
       "    </tr>\n",
       "  </tbody>\n",
       "</table>\n",
       "</div>"
      ],
      "text/plain": [
       "  weaponkind report       date region weaponcategory\n",
       "0  Револьвер  Theft 1991-08-26   Lviv       Handguns"
      ]
     },
     "execution_count": 83,
     "metadata": {},
     "output_type": "execute_result"
    }
   ],
   "source": [
    "mid_df.head(1)"
   ]
  },
  {
   "cell_type": "markdown",
   "id": "7752e0d4",
   "metadata": {},
   "source": [
    "***\n",
    "### Making final changes"
   ]
  },
  {
   "cell_type": "code",
   "execution_count": 84,
   "id": "81e46836",
   "metadata": {},
   "outputs": [],
   "source": [
    "# Rearranging and sorting columns\n",
    "end_df = mid_df.loc[:,['date','region', 'report', 'weaponcategory']].sort_values(by=['date','region']).reset_index(drop=True).copy()"
   ]
  },
  {
   "cell_type": "code",
   "execution_count": 85,
   "id": "664df3b8-f4e0-42f0-bbf7-d00c69504029",
   "metadata": {},
   "outputs": [
    {
     "data": {
      "text/html": [
       "<div>\n",
       "<style scoped>\n",
       "    .dataframe tbody tr th:only-of-type {\n",
       "        vertical-align: middle;\n",
       "    }\n",
       "\n",
       "    .dataframe tbody tr th {\n",
       "        vertical-align: top;\n",
       "    }\n",
       "\n",
       "    .dataframe thead th {\n",
       "        text-align: right;\n",
       "    }\n",
       "</style>\n",
       "<table border=\"1\" class=\"dataframe\">\n",
       "  <thead>\n",
       "    <tr style=\"text-align: right;\">\n",
       "      <th></th>\n",
       "      <th>date</th>\n",
       "      <th>region</th>\n",
       "      <th>report</th>\n",
       "      <th>weaponcategory</th>\n",
       "    </tr>\n",
       "  </thead>\n",
       "  <tbody>\n",
       "    <tr>\n",
       "      <th>0</th>\n",
       "      <td>1991-08-26</td>\n",
       "      <td>Lviv</td>\n",
       "      <td>Theft</td>\n",
       "      <td>Handguns</td>\n",
       "    </tr>\n",
       "    <tr>\n",
       "      <th>1</th>\n",
       "      <td>1991-08-27</td>\n",
       "      <td>Kyiv</td>\n",
       "      <td>Loss</td>\n",
       "      <td>Light firearms</td>\n",
       "    </tr>\n",
       "    <tr>\n",
       "      <th>2</th>\n",
       "      <td>1991-08-27</td>\n",
       "      <td>Simferopol</td>\n",
       "      <td>Theft</td>\n",
       "      <td>Light firearms</td>\n",
       "    </tr>\n",
       "    <tr>\n",
       "      <th>3</th>\n",
       "      <td>1991-08-27</td>\n",
       "      <td>Simferopol</td>\n",
       "      <td>Theft</td>\n",
       "      <td>Light firearms</td>\n",
       "    </tr>\n",
       "    <tr>\n",
       "      <th>4</th>\n",
       "      <td>1991-08-27</td>\n",
       "      <td>Simferopol</td>\n",
       "      <td>Theft</td>\n",
       "      <td>Pneumatic&amp;Flobert</td>\n",
       "    </tr>\n",
       "  </tbody>\n",
       "</table>\n",
       "</div>"
      ],
      "text/plain": [
       "        date      region report     weaponcategory\n",
       "0 1991-08-26        Lviv  Theft           Handguns\n",
       "1 1991-08-27        Kyiv   Loss     Light firearms\n",
       "2 1991-08-27  Simferopol  Theft     Light firearms\n",
       "3 1991-08-27  Simferopol  Theft     Light firearms\n",
       "4 1991-08-27  Simferopol  Theft  Pneumatic&Flobert"
      ]
     },
     "execution_count": 85,
     "metadata": {},
     "output_type": "execute_result"
    }
   ],
   "source": [
    "end_df.head()"
   ]
  },
  {
   "cell_type": "code",
   "execution_count": 86,
   "id": "28f88b7d",
   "metadata": {
    "scrolled": true
   },
   "outputs": [
    {
     "name": "stdout",
     "output_type": "stream",
     "text": [
      "<class 'pandas.core.frame.DataFrame'>\n",
      "RangeIndex: 485097 entries, 0 to 485096\n",
      "Data columns (total 4 columns):\n",
      " #   Column          Non-Null Count   Dtype         \n",
      "---  ------          --------------   -----         \n",
      " 0   date            485097 non-null  datetime64[ns]\n",
      " 1   region          485097 non-null  category      \n",
      " 2   report          485097 non-null  category      \n",
      " 3   weaponcategory  485097 non-null  category      \n",
      "dtypes: category(3), datetime64[ns](1)\n",
      "memory usage: 5.1 MB\n"
     ]
    }
   ],
   "source": [
    "end_df.info(show_counts=True, memory_usage='deep')"
   ]
  },
  {
   "cell_type": "markdown",
   "id": "9bdfa4b0-e915-41fb-bce4-79b97e1e1de5",
   "metadata": {},
   "source": [
    "## Export"
   ]
  },
  {
   "cell_type": "markdown",
   "id": "829d3260-53e7-4a26-b2f0-e9a9ee9c8afc",
   "metadata": {},
   "source": [
    "### .csv"
   ]
  },
  {
   "cell_type": "code",
   "execution_count": 87,
   "id": "1707ade1",
   "metadata": {
    "code_folding": [
     0
    ]
   },
   "outputs": [],
   "source": [
    "#(optional .csv export)\n",
    "#end_df.to_csv('data/ua-mia-weapons.csv', index=False)"
   ]
  },
  {
   "cell_type": "markdown",
   "id": "1d638e38-92fe-493c-ad54-c56918854976",
   "metadata": {},
   "source": [
    "### .parquet "
   ]
  },
  {
   "cell_type": "code",
   "execution_count": 88,
   "id": "ff0f3331-ac46-4621-8b3e-5d560c3f6bbe",
   "metadata": {},
   "outputs": [],
   "source": [
    "#(optional parquet export)\n",
    "#end_df.to_parquet('data/ua-mia-weapons.parquet.gzip', engine='pyarrow', compression='gzip', index=False)"
   ]
  }
 ],
 "metadata": {
  "kernelspec": {
   "display_name": "Python 3 (ipykernel)",
   "language": "python",
   "name": "python3"
  },
  "language_info": {
   "codemirror_mode": {
    "name": "ipython",
    "version": 3
   },
   "file_extension": ".py",
   "mimetype": "text/x-python",
   "name": "python",
   "nbconvert_exporter": "python",
   "pygments_lexer": "ipython3",
   "version": "3.10.8"
  }
 },
 "nbformat": 4,
 "nbformat_minor": 5
}
